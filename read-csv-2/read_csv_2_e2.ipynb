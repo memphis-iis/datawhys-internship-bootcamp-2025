{
 "cells": [
  {
   "cell_type": "markdown",
   "id": "828645bb",
   "metadata": {
    "deletable": false,
    "editable": false
   },
   "source": [
    "### User Activity (read csv2)\n"
   ]
  },
  {
   "cell_type": "markdown",
   "id": "75835a0b",
   "metadata": {
    "deletable": false,
    "editable": false
   },
   "source": [
    "In our activity, we have this dataset about books called `goodreadsbooks.csv`. We want to explore more about the dataset and know about its features. \n",
    "\n",
    "For this task, we read the dataset data into a dataframe named `df`. \n",
    "\n",
    "For next steps, we want to achieve the following tasks:\n",
    "- know about the columns in `df`\n",
    "- know about the shape of `df`\n",
    "- select the `BookName` column from `book_data`\n",
    "- select the `AuthorName`,`Score` columns from `df`\n",
    "- select the first 5 rows from `df`"
   ]
  },
  {
   "cell_type": "markdown",
   "id": "fcbc35ff",
   "metadata": {
    "deletable": false,
    "editable": false
   },
   "source": [
    "### Import pandas library"
   ]
  },
  {
   "cell_type": "markdown",
   "id": "13cd044c",
   "metadata": {
    "deletable": false,
    "editable": false
   },
   "source": [
    "- Create variable &nbsp;`pd`\n",
    "- `import pandas as pd`"
   ]
  },
  {
   "cell_type": "markdown",
   "id": "41cf0daf",
   "metadata": {
    "deletable": false,
    "editable": false
   },
   "source": [
    "<br>\n",
    "<details>\n",
    "    <summary>Blockly Hints (Click the triangle to expand)</summary>\n",
    "    <ul>\n",
    "        <li>Blocks\n",
    "            <ul>\n",
    "                <li>\n",
    "                    <code>import .. as ..</code>\n",
    "                    <ul>\n",
    "                        <li>The <code>import .. as ..</code> block is found under IMPORT.</li> \n",
    "                        <li>A variable must have been created before it will appear in the dropdown.</li>\n",
    "                    </ul>\n",
    "                </li>\n",
    "            </ul>\n",
    "        </li>\n",
    "    </ul>\n",
    "</details>"
   ]
  },
  {
   "cell_type": "code",
   "execution_count": null,
   "id": "7d197fa0",
   "metadata": {
    "datawhys": {
     "response_id": 1,
     "student_response": true
    },
    "deletable": false,
    "editable": true
   },
   "outputs": [],
   "source": []
  },
  {
   "cell_type": "markdown",
   "id": "32655326",
   "metadata": {
    "deletable": false,
    "editable": false
   },
   "source": [
    "### Read CSV data into the dataframe"
   ]
  },
  {
   "cell_type": "markdown",
   "id": "5ae3edab",
   "metadata": {
    "deletable": false,
    "editable": false
   },
   "source": [
    "- Create variable &nbsp;`df`\n",
    "- `set df to` &nbsp;:&nbsp; `with pd do read_csv using` &nbsp;<-&nbsp; `\" datasets/goodreadsbooks.csv \"`"
   ]
  },
  {
   "cell_type": "markdown",
   "id": "b08a63a8",
   "metadata": {
    "deletable": false,
    "editable": false
   },
   "source": [
    "<br><details><summary>Blockly Hints (Click the triangle to expand)</summary><ul><li>Notation<ul><li><code>A</code> &nbsp;:&nbsp; <code>B</code>&nbsp; means snap blocks A and B together.</li><li><code>A</code> &nbsp;&lt;-&nbsp; <code>B</code>&nbsp; means insert block B into the hole in block A.</li></ul></li><li>Blocks<ul><li><code>set .. to</code><ul><li>The <code>set .. to</code> block is found under VARIABLES.</li> <li>A variable must have been created before it will appear in the dropdown.</li></ul></li><li><code>with .. do .. using ..</code><ul><li>The <code>with .. do .. using ..</code> block is found under VARIABLES.</li> <li>If <code>do</code> dropdown says \"!Not populated until you execute code\", click anywhere in the notebook tab, then click try \"Run All Above Selected Cell\" from the \"Run\" menu.</li> <li>If <code>with .. do .. using ..</code> block does not want to snap together nicely with the <code>set .. to</code> block, try dragging the <code>set .. to</code> block instead.</li></ul></li><li><code>\" .. \"</code><ul><li>The <code>\" .. \"</code> block is found under TEXT.</li></ul></li></ul></li></ul></details>"
   ]
  },
  {
   "cell_type": "code",
   "execution_count": null,
   "id": "17468ec7",
   "metadata": {
    "datawhys": {
     "response_id": 2,
     "student_response": true
    },
    "deletable": false,
    "editable": true
   },
   "outputs": [],
   "source": []
  },
  {
   "cell_type": "markdown",
   "id": "09082493",
   "metadata": {
    "deletable": false,
    "editable": false
   },
   "source": [
    "### View the dataframe"
   ]
  },
  {
   "cell_type": "markdown",
   "id": "5dcd9560",
   "metadata": {
    "deletable": false,
    "editable": false
   },
   "source": [
    "- variable &nbsp;`df`"
   ]
  },
  {
   "cell_type": "markdown",
   "id": "1cc41944",
   "metadata": {
    "deletable": false,
    "editable": false
   },
   "source": [
    "<br><details><summary>Blockly Hints (Click the triangle to expand)</summary><ul><li>Blocks<ul><li>variable<ul><li>After it is created, each variable has its own block at the end of the VARIABLES menu.</li></ul></li></ul></li></ul></details>"
   ]
  },
  {
   "cell_type": "code",
   "execution_count": null,
   "id": "d4203c8b",
   "metadata": {
    "datawhys": {
     "response_id": 3,
     "student_response": true
    },
    "deletable": false,
    "editable": true
   },
   "outputs": [],
   "source": []
  },
  {
   "cell_type": "markdown",
   "id": "28539e9c",
   "metadata": {
    "deletable": false,
    "editable": false
   },
   "source": [
    "### Columns(features) in `df`"
   ]
  },
  {
   "cell_type": "markdown",
   "id": "2963e8c4",
   "metadata": {
    "deletable": false,
    "editable": false
   },
   "source": [
    "- &nbsp;`from df get columns`"
   ]
  },
  {
   "cell_type": "markdown",
   "id": "7d6eb03b",
   "metadata": {
    "deletable": false,
    "editable": false
   },
   "source": [
    "<br><details><summary>Blockly Hints (Click the triangle to expand)</summary><li>Blocks<ul><li><code>from .. get ..</code><ul><li>The <code>from .. get .. </code> block is found under VARIABLES.</li> <li>If <code>get</code> dropdown says \"!Not populated until you execute code\", click anywhere in the notebook tab, then click try \"Run All Above Selected Cell\" from the \"Run\" menu.</li> </ul></li></ul></details>"
   ]
  },
  {
   "cell_type": "code",
   "execution_count": null,
   "id": "49181517",
   "metadata": {
    "datawhys": {
     "response_id": 4,
     "student_response": true
    },
    "deletable": false,
    "editable": true
   },
   "outputs": [],
   "source": []
  },
  {
   "cell_type": "markdown",
   "id": "a21a50b5",
   "metadata": {
    "deletable": false,
    "editable": false
   },
   "source": [
    "### Size of dataset"
   ]
  },
  {
   "cell_type": "markdown",
   "id": "5c2e5429",
   "metadata": {
    "deletable": false,
    "editable": false
   },
   "source": [
    "- variable &nbsp;`from df get shape`"
   ]
  },
  {
   "cell_type": "markdown",
   "id": "cf2847df",
   "metadata": {
    "deletable": false,
    "editable": false
   },
   "source": [
    "<details>\n",
    "<summary> Blockly hints(click triangle to expand) </summary>\n",
    "<br>\n",
    "\n",
    "- `from .. get .. ` can be found in VARIABLES menu.\n",
    "- A variable must have been created before it will appear in the dropdown.\n",
    "- If dropdown says \"!Not populated until you execute code\", click anywhere in the notebook tab, then click try \"Run All Above Selected Cell\" from the \"Run\" menu.\n",
    "\n",
    "</details>"
   ]
  },
  {
   "cell_type": "code",
   "execution_count": null,
   "id": "a896f94b",
   "metadata": {
    "datawhys": {
     "response_id": 5,
     "student_response": true
    },
    "deletable": false,
    "editable": true
   },
   "outputs": [],
   "source": []
  },
  {
   "cell_type": "markdown",
   "id": "1c0bb6e7",
   "metadata": {
    "deletable": false,
    "editable": false
   },
   "source": [
    "### Selecting column 'BookName' in `df`"
   ]
  },
  {
   "cell_type": "markdown",
   "id": "cc7e3ced",
   "metadata": {
    "deletable": false,
    "editable": false
   },
   "source": [
    "`df [ .. ]` &nbsp;<-&nbsp; `create list with` &nbsp;:\n",
    "  - `\"BookName\"`"
   ]
  },
  {
   "cell_type": "markdown",
   "id": "53e50773",
   "metadata": {
    "deletable": false,
    "editable": false
   },
   "source": [
    "<details><summary>Blockly Hints (Click the triangle to expand)</summary><ul><li>Notation<ul><li><code>A</code> &nbsp;:&nbsp; <code>B</code>&nbsp; means snap blocks A and B together.</li><li><code>A</code> &nbsp;&lt;-&nbsp; <code>B</code>&nbsp; means insert block B into the hole in block A.</li></ul></li><li>Blocks<ul><li><code>{dictVariable} [ .. ]</code><ul><li>The <code>{dictVariable} [ .. ]</code> block is found under LISTS.</li></ul></li><li><code>create list with</code><ul><li>The <code>create list with</code> block is found under LISTS.</li> <li>You can use the <code>+ -</code> controls on the block to change the number of notches. Unless specifically instructed, the block should not have any empty notches when you click Blocks to Code. </li></ul></li><li><code>\" .. \"</code><ul><li>The <code>\" .. \"</code> block is found under TEXT.</li></ul></li></ul></li></ul></details>    "
   ]
  },
  {
   "cell_type": "code",
   "execution_count": null,
   "id": "0547810f",
   "metadata": {
    "datawhys": {
     "response_id": 6,
     "student_response": true
    },
    "deletable": false,
    "editable": true
   },
   "outputs": [],
   "source": []
  },
  {
   "cell_type": "markdown",
   "id": "b0b71f22",
   "metadata": {
    "deletable": false,
    "editable": false
   },
   "source": [
    "### Selecting columns 'AuthorName' and 'Score' from `df`"
   ]
  },
  {
   "cell_type": "markdown",
   "id": "b2dc1edb",
   "metadata": {
    "deletable": false,
    "editable": false
   },
   "source": [
    "`df [ .. ]` &nbsp;<-&nbsp; `create list with` &nbsp;:\n",
    "  - `\"AuthorName\"`\n",
    "  - `\"Score\"`"
   ]
  },
  {
   "cell_type": "markdown",
   "id": "8a9f3ecc",
   "metadata": {
    "deletable": false,
    "editable": false
   },
   "source": [
    "<details><summary>Blockly Hints (Click the triangle to expand)</summary><ul><li>Notation<ul><li><code>A</code> &nbsp;:&nbsp; <code>B</code>&nbsp; means snap blocks A and B together.</li><li><code>A</code> &nbsp;&lt;-&nbsp; <code>B</code>&nbsp; means insert block B into the hole in block A.</li></ul></li><li>Blocks<ul><li><code>{dictVariable} [ .. ]</code><ul><li>The <code>{dictVariable} [ .. ]</code> block is found under LISTS.</li></ul></li><li><code>create list with</code><ul><li>The <code>create list with</code> block is found under LISTS.</li> <li>You can use the <code>+ -</code> controls on the block to change the number of notches. Unless specifically instructed, the block should not have any empty notches when you click Blocks to Code. </li></ul></li><li><code>\" .. \"</code><ul><li>The <code>\" .. \"</code> block is found under TEXT.</li></ul></li></ul></li></ul></details> \n"
   ]
  },
  {
   "cell_type": "code",
   "execution_count": null,
   "id": "3d55288f",
   "metadata": {
    "datawhys": {
     "response_id": 7,
     "student_response": true
    },
    "deletable": false,
    "editable": true
   },
   "outputs": [],
   "source": []
  },
  {
   "cell_type": "markdown",
   "id": "37219b0e",
   "metadata": {
    "deletable": false,
    "editable": false
   },
   "source": [
    "### Selecting only first 5 rows from `df`"
   ]
  },
  {
   "cell_type": "markdown",
   "id": "2c753652",
   "metadata": {
    "deletable": false,
    "editable": false
   },
   "source": [
    "- variable &nbsp;`in list df get sub-list from first to` <- `5`"
   ]
  },
  {
   "cell_type": "markdown",
   "id": "256c85f5",
   "metadata": {
    "deletable": false,
    "editable": false
   },
   "source": [
    "<details>\n",
    "    <summary>Blockly Hints (Click the triangle to expand)\n",
    "    </summary>\n",
    "    <ul>\n",
    "        <li>Notation\n",
    "            <ul>\n",
    "                <li>\n",
    "                <code>A</code> &nbsp;:&nbsp; <code>B</code>&nbsp; means snap blocks A and B together.\n",
    "                </li>\n",
    "                <li>\n",
    "                <code>A</code> &nbsp;&lt;-&nbsp; <code>B</code>&nbsp; means insert block B into the hole in block A.\n",
    "                </li>\n",
    "            </ul>\n",
    "        </li>\n",
    "        <li>Blocks\n",
    "            <ul>\n",
    "                <li>\n",
    "                    <code> in list {listVariable} get sub-list from #[..] to # [..]</code>\n",
    "                    <ul>\n",
    "                        <li>\n",
    "                            The <code>in list {listVariable} get sub-list from # [..]to # [..]</code> block is found under LISTS.\n",
    "                        </li>\n",
    "                    </ul>\n",
    "                </li>\n",
    "                <li>\n",
    "                    <code>123</code>\n",
    "                    <ul>\n",
    "                        <li>\n",
    "                            The <code>123</code> block is found under MATH.\n",
    "                        </li> \n",
    "                    </ul>\n",
    "                </li>\n",
    "                <li>\n",
    "                    If <code>{listVariable}</code>  dropdown says \"!Not populated until you execute code\", click anywhere in the notebook tab, then click try \"Run All Above Selected Cell\" from the \"Run\" menu.</li>\n",
    "            </ul>\n",
    "        </li>\n",
    "    </ul>\n",
    "</details> "
   ]
  },
  {
   "cell_type": "code",
   "execution_count": null,
   "id": "5724534b",
   "metadata": {
    "datawhys": {
     "response_id": 8,
     "student_response": true
    },
    "deletable": false,
    "editable": true
   },
   "outputs": [],
   "source": []
  }
 ],
 "metadata": {
  "kernelspec": {
   "display_name": "Python 3 (ipykernel)",
   "language": "python",
   "name": "python3"
  },
  "language_info": {
   "codemirror_mode": {
    "name": "ipython",
    "version": 3
   },
   "file_extension": ".py",
   "mimetype": "text/x-python",
   "name": "python",
   "nbconvert_exporter": "python",
   "pygments_lexer": "ipython3",
   "version": "3.12.6"
  }
 },
 "nbformat": 4,
 "nbformat_minor": 5
}
