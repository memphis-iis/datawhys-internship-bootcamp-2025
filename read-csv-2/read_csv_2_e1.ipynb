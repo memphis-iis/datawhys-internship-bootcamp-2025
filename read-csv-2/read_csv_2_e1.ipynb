{
 "cells": [
  {
   "attachments": {},
   "cell_type": "markdown",
   "id": "ec5e194b",
   "metadata": {
    "deletable": false,
    "editable": false
   },
   "source": [
    "# Exploring Dataset (Exercise 1)"
   ]
  },
  {
   "attachments": {},
   "cell_type": "markdown",
   "id": "0246713d",
   "metadata": {
    "deletable": false,
    "editable": false
   },
   "source": [
    "## Question 1. &nbsp;&nbsp; What are the columns in the dataset?"
   ]
  },
  {
   "attachments": {},
   "cell_type": "markdown",
   "id": "0960a305",
   "metadata": {
    "deletable": false,
    "editable": false
   },
   "source": [
    "Dataset:  This is a dataset describing (almost) every aspect of residential homes in Ames, Iowa. This dataset was compiled by Dean De Cock for use in data science education.\n",
    "\n",
    "Our file is called `house_price.csv` and it is in the `datasets` folder.\n",
    "\n"
   ]
  },
  {
   "attachments": {},
   "cell_type": "markdown",
   "id": "74bb0a8b",
   "metadata": {
    "deletable": false,
    "editable": false
   },
   "source": [
    "## Pre-programming Discussion"
   ]
  },
  {
   "attachments": {},
   "cell_type": "markdown",
   "id": "bb942316",
   "metadata": {
    "deletable": false,
    "editable": false
   },
   "source": [
    "<div class=\"alert alert-block alert-danger\">\n",
    "Q1. Which library did we use previously to read csv?",
    "\n</div>"
   ]
  },
  {
   "attachments": {},
   "cell_type": "markdown",
   "id": "9cc4dd31",
   "metadata": {
    "datawhys": {
     "response_id": 1,
     "student_response": true
    },
    "deletable": false,
    "editable": true
   },
   "source": [
    "<div class=\"alert alert-block alert-info\">\n",
    "<!-- YOUR ANSWER BEGIN -->\n",
    "\n",
    "\n",
    "\n",
    "\n",
    "\n",
    "<!-- YOUR ANSWER END -->\n",
    "</div>"
   ]
  },
  {
   "attachments": {},
   "cell_type": "markdown",
   "id": "fd453e75",
   "metadata": {
    "deletable": false,
    "editable": false
   },
   "source": [
    "<div class=\"alert alert-block alert-danger\">\n",
    "Q2. Our dataset `house_price.csv` is located in the `datasets` folder. What should be the **path** from this notebook (the one you're reading) to the dataset?",
    "\n</div>"
   ]
  },
  {
   "attachments": {},
   "cell_type": "markdown",
   "id": "acef9dc0",
   "metadata": {
    "datawhys": {
     "response_id": 2,
     "student_response": true
    },
    "deletable": false,
    "editable": true
   },
   "source": [
    "<div class=\"alert alert-block alert-info\">\n",
    "<!-- YOUR ANSWER BEGIN -->\n",
    "\n",
    "\n",
    "\n",
    "\n",
    "\n",
    "<!-- YOUR ANSWER END -->\n",
    "</div>"
   ]
  },
  {
   "attachments": {},
   "cell_type": "markdown",
   "id": "33c43f5c",
   "metadata": {
    "deletable": false,
    "editable": false
   },
   "source": [
    "## Programming Activity: Finding the columns of a dataset"
   ]
  },
  {
   "attachments": {},
   "cell_type": "markdown",
   "id": "1e98abab",
   "metadata": {
    "deletable": false,
    "editable": false
   },
   "source": [
    "<span><h3>\n",
    " Step 1. &nbsp;&nbsp;&nbsp; Read CSV Data into Pandas Dataframe",
    "\n</h3></span>"
   ]
  },
  {
   "attachments": {},
   "cell_type": "markdown",
   "id": "177ebf3a",
   "metadata": {
    "deletable": false,
    "editable": false
   },
   "source": [
    "<span><h4>\n",
    " Substep. &nbsp;&nbsp; Import Pandas Library",
    "\n</h4></span>"
   ]
  },
  {
   "attachments": {},
   "cell_type": "markdown",
   "id": "f9d5a019",
   "metadata": {
    "deletable": false,
    "editable": false
   },
   "source": [
    "- Create variable &nbsp;`pd`\n",
    "- `import pandas as pd`"
   ]
  },
  {
   "attachments": {},
   "cell_type": "markdown",
   "id": "e4325a7c",
   "metadata": {
    "deletable": false,
    "editable": false
   },
   "source": [
    "<br>\n",
    "<details>\n",
    "    <summary>Blockly Hints (Click the triangle to expand)</summary>\n",
    "    <ul>\n",
    "        <li>Blocks\n",
    "            <ul>\n",
    "                <li>\n",
    "                    <code>import .. as ..</code>\n",
    "                    <ul>\n",
    "                        <li>The <code>import .. as ..</code> block is found under IMPORT.</li> \n",
    "                        <li>A variable must have been created before it will appear in the dropdown.</li>\n",
    "                    </ul>\n",
    "                </li>\n",
    "            </ul>\n",
    "        </li>\n",
    "    </ul>\n",
    "</details>"
   ]
  },
  {
   "cell_type": "code",
   "execution_count": null,
   "id": "45a53573",
   "metadata": {
    "datawhys": {
     "response_id": 3,
     "student_response": true
    },
    "deletable": false,
    "editable": true
   },
   "outputs": [],
   "source": []
  },
  {
   "attachments": {},
   "cell_type": "markdown",
   "id": "f74a5201",
   "metadata": {
    "deletable": false,
    "editable": false
   },
   "source": [
    "<span><h4>\n",
    " Substep. &nbsp;&nbsp; Read CSV data and Save in Variable",
    "\n</h4></span>"
   ]
  },
  {
   "attachments": {},
   "cell_type": "markdown",
   "id": "f31cd1e7",
   "metadata": {
    "deletable": false,
    "editable": false
   },
   "source": [
    "- Create variable &nbsp;`df`\n",
    "- `set df to` &nbsp;:&nbsp; `with pd do read_csv using` &nbsp;<-&nbsp; `\" datasets/house_price.csv \"`"
   ]
  },
  {
   "attachments": {},
   "cell_type": "markdown",
   "id": "9f5c2fa1",
   "metadata": {
    "deletable": false,
    "editable": false
   },
   "source": [
    "<br><details><summary>Blockly Hints (Click the triangle to expand)</summary><ul><li>Notation<ul><li><code>A</code> &nbsp;:&nbsp; <code>B</code>&nbsp; means snap blocks A and B together.</li><li><code>A</code> &nbsp;&lt;-&nbsp; <code>B</code>&nbsp; means insert block B into the hole in block A.</li></ul></li><li>Blocks<ul><li><code>set .. to</code><ul><li>The <code>set .. to</code> block is found under VARIABLES.</li> <li>A variable must have been created before it will appear in the dropdown.</li></ul></li><li><code>with .. do .. using ..</code><ul><li>The <code>with .. do .. using ..</code> block is found under VARIABLES.</li> <li>If <code>do</code> dropdown says \"!Not populated until you execute code\", click anywhere in the notebook tab, then click try \"Run All Above Selected Cell\" from the \"Run\" menu.</li> <li>If <code>with .. do .. using ..</code> block does not want to snap together nicely with the <code>set .. to</code> block, try dragging the <code>set .. to</code> block instead.</li></ul></li><li><code>\" .. \"</code><ul><li>The <code>\" .. \"</code> block is found under TEXT.</li></ul></li></ul></li></ul></details>"
   ]
  },
  {
   "cell_type": "code",
   "execution_count": null,
   "id": "a446af41",
   "metadata": {
    "datawhys": {
     "response_id": 4,
     "student_response": true
    },
    "deletable": false,
    "editable": true
   },
   "outputs": [],
   "source": []
  },
  {
   "attachments": {},
   "cell_type": "markdown",
   "id": "04ae414c",
   "metadata": {
    "deletable": false,
    "editable": false
   },
   "source": [
    "<span><h3>\n",
    " Step 2. &nbsp;&nbsp;&nbsp; Display Dataframe Contents",
    "\n</h3></span>"
   ]
  },
  {
   "attachments": {},
   "cell_type": "markdown",
   "id": "35c61d8f",
   "metadata": {
    "deletable": false,
    "editable": false
   },
   "source": [
    "- variable &nbsp;`df`"
   ]
  },
  {
   "attachments": {},
   "cell_type": "markdown",
   "id": "9aff09dd",
   "metadata": {
    "deletable": false,
    "editable": false
   },
   "source": [
    "<br><details><summary>Blockly Hints (Click the triangle to expand)</summary><ul><li>Blocks<ul><li>variable<ul><li>After it is created, each variable has its own block at the end of the VARIABLES menu.</li></ul></li></ul></li></ul></details>"
   ]
  },
  {
   "cell_type": "code",
   "execution_count": null,
   "id": "02c9d558",
   "metadata": {
    "datawhys": {
     "response_id": 5,
     "student_response": true
    },
    "deletable": false,
    "editable": true
   },
   "outputs": [],
   "source": []
  },
  {
   "attachments": {},
   "cell_type": "markdown",
   "id": "151a8364",
   "metadata": {
    "deletable": false,
    "editable": false
   },
   "source": [
    "##### Notice \"...\" in the displayed dataframe content (both in column and row)"
   ]
  },
  {
   "attachments": {},
   "cell_type": "markdown",
   "id": "2455b04b",
   "metadata": {
    "deletable": false,
    "editable": false
   },
   "source": [
    "If the dataset is too large then notebook doesn't show all of it's content"
   ]
  },
  {
   "attachments": {},
   "cell_type": "markdown",
   "id": "a2e63e02",
   "metadata": {
    "deletable": false,
    "editable": false
   },
   "source": [
    "<span><h3>\n",
    " Step3. &nbsp;&nbsp;&nbsp; Find All the Column Names",
    "\n</h3></span>"
   ]
  },
  {
   "attachments": {},
   "cell_type": "markdown",
   "id": "ed13f896",
   "metadata": {
    "deletable": false,
    "editable": false
   },
   "source": [
    "- &nbsp;`from df get columns`"
   ]
  },
  {
   "attachments": {},
   "cell_type": "markdown",
   "id": "2438d1aa",
   "metadata": {
    "deletable": false,
    "editable": false
   },
   "source": [
    "<br><details><summary>Blockly Hints (Click the triangle to expand)</summary><li>Blocks<ul><li><code>from .. get ..</code><ul><li>The <code>from .. get .. </code> block is found under VARIABLES.</li> <li>If <code>get</code> dropdown says \"!Not populated until you execute code\", click anywhere in the notebook tab, then click try \"Run All Above Selected Cell\" from the \"Run\" menu.</li> </ul></li></ul></details>"
   ]
  },
  {
   "cell_type": "code",
   "execution_count": null,
   "id": "2d742608",
   "metadata": {
    "datawhys": {
     "response_id": 6,
     "student_response": true
    },
    "deletable": false,
    "editable": true
   },
   "outputs": [],
   "source": []
  },
  {
   "attachments": {},
   "cell_type": "markdown",
   "id": "84284d27",
   "metadata": {
    "deletable": false,
    "editable": false
   },
   "source": [
    "### Question 2. &nbsp;&nbsp; Show the size(total number of rows and columns) of the dataset."
   ]
  },
  {
   "attachments": {},
   "cell_type": "markdown",
   "id": "7fba6ad0",
   "metadata": {
    "deletable": false,
    "editable": false
   },
   "source": [
    "- variable &nbsp;`from df get shape`"
   ]
  },
  {
   "attachments": {},
   "cell_type": "markdown",
   "id": "b38bbdeb",
   "metadata": {
    "deletable": false,
    "editable": false
   },
   "source": [
    "<details>\n",
    "<summary> Blockly hints(click triangle to expand) </summary>\n",
    "<br>\n",
    "\n",
    "- `from .. get .. ` can be found in VARIABLES menu.\n",
    "- A variable must have been created before it will appear in the dropdown.\n",
    "- If dropdown says \"!Not populated until you execute code\", click anywhere in the notebook tab, then click try \"Run All Above Selected Cell\" from the \"Run\" menu.\n",
    "\n",
    "</details>"
   ]
  },
  {
   "cell_type": "code",
   "execution_count": null,
   "id": "1c495879",
   "metadata": {
    "datawhys": {
     "response_id": 7,
     "student_response": true
    },
    "deletable": false,
    "editable": true
   },
   "outputs": [],
   "source": []
  },
  {
   "attachments": {},
   "cell_type": "markdown",
   "id": "00bc63b0",
   "metadata": {
    "deletable": false,
    "editable": false
   },
   "source": [
    "### Question 3. &nbsp;&nbsp; Show only \"HouseStyle\" and \"GarageArea\" columns in the dataset."
   ]
  },
  {
   "attachments": {},
   "cell_type": "markdown",
   "id": "9004ddb7",
   "metadata": {
    "deletable": false,
    "editable": false
   },
   "source": [
    "`df [ .. ]` &nbsp;<-&nbsp; `create list with` &nbsp;:\n",
    "  - `\"HouseStyle\"`\n",
    "  - `\"GarageArea\"`"
   ]
  },
  {
   "attachments": {},
   "cell_type": "markdown",
   "id": "f67962d0",
   "metadata": {
    "deletable": false,
    "editable": false
   },
   "source": [
    "<details><summary>Blockly Hints (Click the triangle to expand)</summary><ul><li>Notation<ul><li><code>A</code> &nbsp;:&nbsp; <code>B</code>&nbsp; means snap blocks A and B together.</li><li><code>A</code> &nbsp;&lt;-&nbsp; <code>B</code>&nbsp; means insert block B into the hole in block A.</li></ul></li><li>Blocks<ul><li><code>{dictVariable} [ .. ]</code><ul><li>The <code>{dictVariable} [ .. ]</code> block is found under LISTS.</li></ul></li><li><code>create list with</code><ul><li>The <code>create list with</code> block is found under LISTS.</li> <li>You can use the <code>+ -</code> controls on the block to change the number of notches. Unless specifically instructed, the block should not have any empty notches when you click Blocks to Code. </li></ul></li><li><code>\" .. \"</code><ul><li>The <code>\" .. \"</code> block is found under TEXT.</li></ul></li></ul></li></ul></details>  "
   ]
  },
  {
   "cell_type": "code",
   "execution_count": null,
   "id": "49e984ed",
   "metadata": {
    "datawhys": {
     "response_id": 8,
     "student_response": true
    },
    "deletable": false,
    "editable": true
   },
   "outputs": [],
   "source": []
  },
  {
   "attachments": {},
   "cell_type": "markdown",
   "id": "6971f39f",
   "metadata": {
    "deletable": false,
    "editable": false
   },
   "source": [
    "### Question 4. &nbsp;&nbsp; Show only the first 5 rows of the dataset."
   ]
  },
  {
   "attachments": {},
   "cell_type": "markdown",
   "id": "12a5195a",
   "metadata": {
    "deletable": false,
    "editable": false
   },
   "source": [
    "- variable &nbsp;`in list df get sub-list from first to` <- `5`"
   ]
  },
  {
   "attachments": {},
   "cell_type": "markdown",
   "id": "20426610",
   "metadata": {
    "deletable": false,
    "editable": false
   },
   "source": [
    "<details>\n",
    "    <summary>Blockly Hints (Click the triangle to expand)\n",
    "    </summary>\n",
    "    <ul>\n",
    "        <li>Notation\n",
    "            <ul>\n",
    "                <li>\n",
    "                <code>A</code> &nbsp;:&nbsp; <code>B</code>&nbsp; means snap blocks A and B together.\n",
    "                </li>\n",
    "                <li>\n",
    "                <code>A</code> &nbsp;&lt;-&nbsp; <code>B</code>&nbsp; means insert block B into the hole in block A.\n",
    "                </li>\n",
    "            </ul>\n",
    "        </li>\n",
    "        <li>Blocks\n",
    "            <ul>\n",
    "                <li>\n",
    "                    <code> in list {listVariable} get sub-list from #[..] to # [..]</code>\n",
    "                    <ul>\n",
    "                        <li>\n",
    "                            The <code>in list {listVariable} get sub-list from # [..]to # [..]</code> block is found under LISTS.\n",
    "                        </li>\n",
    "                    </ul>\n",
    "                </li>\n",
    "                <li>\n",
    "                    <code>123</code>\n",
    "                    <ul>\n",
    "                        <li>\n",
    "                            The <code>123</code> block is found under MATH.\n",
    "                        </li> \n",
    "                    </ul>\n",
    "                </li>\n",
    "                <li>\n",
    "                    If <code>{listVariable}</code>  dropdown says \"!Not populated until you execute code\", click anywhere in the notebook tab, then click try \"Run All Above Selected Cell\" from the \"Run\" menu.</li>\n",
    "            </ul>\n",
    "        </li>\n",
    "    </ul>\n",
    "</details> "
   ]
  },
  {
   "cell_type": "code",
   "execution_count": null,
   "id": "a650cd5a",
   "metadata": {
    "datawhys": {
     "response_id": 9,
     "student_response": true
    },
    "deletable": false,
    "editable": true
   },
   "outputs": [],
   "source": []
  }
 ],
 "metadata": {
  "kernelspec": {
   "display_name": "Python 3 (ipykernel)",
   "language": "python",
   "name": "python3"
  },
  "language_info": {
   "codemirror_mode": {
    "name": "ipython",
    "version": 3
   },
   "file_extension": ".py",
   "mimetype": "text/x-python",
   "name": "python",
   "nbconvert_exporter": "python",
   "pygments_lexer": "ipython3",
   "version": "3.12.6"
  }
 },
 "nbformat": 4,
 "nbformat_minor": 5
}
