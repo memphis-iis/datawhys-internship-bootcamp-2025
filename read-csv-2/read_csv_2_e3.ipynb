{
 "cells": [
  {
   "cell_type": "markdown",
   "id": "a37f749d",
   "metadata": {
    "deletable": false,
    "editable": false
   },
   "source": [
    "# Exploring Dataset\n",
    "\n"
   ]
  },
  {
   "cell_type": "markdown",
   "id": "82eaa621",
   "metadata": {
    "deletable": false,
    "editable": false
   },
   "source": [
    "Lets go into further analysis for our dataset. First as a review, lets read the `gre_data.csv` from previous day and view the stored data. "
   ]
  },
  {
   "cell_type": "markdown",
   "id": "81513414",
   "metadata": {
    "deletable": false,
    "editable": false
   },
   "source": [
    "## Read CSV Data into Pandas Dataframe"
   ]
  },
  {
   "cell_type": "markdown",
   "id": "7ab2944f",
   "metadata": {
    "deletable": false,
    "editable": false
   },
   "source": [
    "### Import Pandas Library"
   ]
  },
  {
   "cell_type": "markdown",
   "id": "690c9046",
   "metadata": {
    "deletable": false,
    "editable": false
   },
   "source": [
    "- Create variable &nbsp;`pd`\n",
    "- `import pandas as pd`"
   ]
  },
  {
   "cell_type": "markdown",
   "id": "a2ac9b16",
   "metadata": {
    "deletable": false,
    "editable": false
   },
   "source": [
    "Here's how:\n",
    "\n",
    "1. From IMPORT, grab `import .. as ..`\n",
    "2. Replace text `some library` with `pandas`\n",
    "3. From VARIABLES, click `Create Variable...`, enter `pd`, click OK\n",
    "4. Select `pd` from `variable name` dropdown in `import .. as ..`\n",
    "5. Click Blocks to Code and run cell"
   ]
  },
  {
   "cell_type": "markdown",
   "id": "ea6d88d3",
   "metadata": {
    "deletable": false,
    "editable": false
   },
   "source": [
    "<br><details><summary>Blockly Hints(Click on triangle to expand)</summary><ul><li>Blocks<ul><li><code>import .. as ..</code><ul><li>The <code>import .. as ..</code> block is found under IMPORT.</li> <li>A variable must have been created before it will appear in the dropdown.</li></ul></li></ul></li></ul></details>"
   ]
  },
  {
   "cell_type": "code",
   "execution_count": null,
   "id": "d303bfd0",
   "metadata": {
    "datawhys": {
     "response_id": 1,
     "student_response": true
    },
    "deletable": false,
    "editable": true
   },
   "outputs": [],
   "source": []
  },
  {
   "cell_type": "markdown",
   "id": "242c5d79",
   "metadata": {
    "deletable": false,
    "editable": false
   },
   "source": [
    "<span><h3>\n",
    " Substep: Read CSV data and Save in Variable",
    "\n</h3></span>"
   ]
  },
  {
   "cell_type": "markdown",
   "id": "60a2599f",
   "metadata": {
    "deletable": false,
    "editable": false
   },
   "source": [
    "- Create variable &nbsp;`gredata`\n",
    "- `set gredata to` &nbsp;:&nbsp; `with pd do read_csv using` &nbsp;<-&nbsp; `\" datasets/gre_data.csv \"`"
   ]
  },
  {
   "cell_type": "markdown",
   "id": "0a2f80e5",
   "metadata": {
    "deletable": false,
    "editable": false
   },
   "source": [
    "Here's how:\n",
    "\n",
    "1. From VARIABLES, grab `with .. do .. using ..`\n",
    "2. Make sure `gredata` is selected in dropdown after with\n",
    "3. Select `read_csv` from dropdown after do\n",
    "4. From TEXT, grab `\" .. \"`\n",
    "5. Type `datasets/gre_data.csv` into `\" .. \"`\n",
    "6. Drag the `\" .. \"` into the space after using in `with .. do .. using ..`\n",
    "7. From VARIABLES, click `Create Variable...`, enter `gredata`, click OK\n",
    "8. From VARIABLES, grab `set .. to`\n",
    "9. Change dropdown after set to `gredata`\n",
    "10. Connect `set .. to` and `with .. do .. using ..`\n",
    "11. Click Blocks to Code and run cell"
   ]
  },
  {
   "cell_type": "markdown",
   "id": "e032bbf1",
   "metadata": {
    "deletable": false,
    "editable": false
   },
   "source": [
    "<br><details><summary>Blockly Hints( click on triangle to expand)</summary><ul><li>Notation<ul><li><code>A</code> &nbsp;:&nbsp; <code>B</code>&nbsp; means snap blocks A and B together.</li><li><code>A</code> &nbsp;&lt;-&nbsp; <code>B</code>&nbsp; means insert block B into the hole in block A.</li></ul></li><li>Blocks<ul><li><code>set .. to</code><ul><li>The <code>set .. to</code> block is found under VARIABLES.</li> <li>A variable must have been created before it will appear in the dropdown.</li></ul></li><li><code>with .. do .. using ..</code><ul><li>The <code>with .. do .. using ..</code> block is found under VARIABLES.</li> <li>If <code>do</code> dropdown says \"!Not populated until you execute code\", click anywhere in the notebook tab, then click try \"Run All Above Selected Cell\" from the \"Run\" menu.</li> <li>If <code>with .. do .. using ..</code> block does not want to snap together nicely with the <code>set .. to</code> block, try dragging the <code>set .. to</code> block instead.</li></ul></li><li><code>\" .. \"</code><ul><li>The <code>\" .. \"</code> block is found under TEXT.</li></ul></li></ul></li></ul></details>"
   ]
  },
  {
   "cell_type": "code",
   "execution_count": null,
   "id": "0a02b063",
   "metadata": {
    "datawhys": {
     "response_id": 2,
     "student_response": true
    },
    "deletable": false,
    "editable": true
   },
   "outputs": [],
   "source": []
  },
  {
   "cell_type": "markdown",
   "id": "51084208",
   "metadata": {
    "deletable": false,
    "editable": false
   },
   "source": [
    "### Display Dataframe Contents"
   ]
  },
  {
   "cell_type": "markdown",
   "id": "0f017ff4",
   "metadata": {
    "deletable": false,
    "editable": false
   },
   "source": [
    "- variable &nbsp;`gredata`"
   ]
  },
  {
   "cell_type": "markdown",
   "id": "48fc3861",
   "metadata": {
    "deletable": false,
    "editable": false
   },
   "source": [
    "Here's how:\n",
    "\n",
    "1. From VARIABLES, grab `gredata`\n",
    "2. Click Blocks to Code and run cell"
   ]
  },
  {
   "cell_type": "markdown",
   "id": "0800fca5",
   "metadata": {
    "deletable": false,
    "editable": false
   },
   "source": [
    "<br>\n",
    "<details>\n",
    "    <summary>Blockly Hints (Click on triangle to expand) </summary>\n",
    "    <ul>\n",
    "        <li>Blocks\n",
    "            <ul>\n",
    "                <li>variable\n",
    "                    <ul>\n",
    "                        <li>After it is created, each variable has its own block at the end of the VARIABLES menu.</li>\n",
    "                    </ul>\n",
    "                </li>\n",
    "            </ul>\n",
    "        </li>\n",
    "    </ul>\n",
    "</details>"
   ]
  },
  {
   "cell_type": "code",
   "execution_count": null,
   "id": "776ed475",
   "metadata": {
    "datawhys": {
     "response_id": 3,
     "student_response": true
    },
    "deletable": false,
    "editable": true
   },
   "outputs": [],
   "source": []
  },
  {
   "cell_type": "markdown",
   "id": "c3aadc2c",
   "metadata": {
    "deletable": false,
    "editable": false
   },
   "source": [
    "## Know the dataset\n",
    "### Find the Columns(features) in the dataset\n"
   ]
  },
  {
   "cell_type": "markdown",
   "id": "74647b71",
   "metadata": {
    "deletable": false,
    "editable": false
   },
   "source": [
    "Usually, before starting working in a dataset, we need to know the features (columns) in it. To know the columns, we do the following: "
   ]
  },
  {
   "cell_type": "markdown",
   "id": "7c759ba0",
   "metadata": {
    "deletable": false,
    "editable": false
   },
   "source": [
    "- variable &nbsp;`from gredata get columns`"
   ]
  },
  {
   "cell_type": "markdown",
   "id": "dd5adcff",
   "metadata": {
    "deletable": false,
    "editable": false
   },
   "source": [
    "Here's how:\n",
    "\n",
    "1. From VARIABLES, grab `from .. get .. `\n",
    "2. Make sure `gredata` is selected in dropdown after `from`\n",
    "3. Select `columns` from dropdown after `get`\n",
    "4. Click on \"Blocks to Code\" at the bottom of the blockly palette.\n",
    "5. Run the python code cell."
   ]
  },
  {
   "cell_type": "markdown",
   "id": "6955b4f0",
   "metadata": {
    "deletable": false,
    "editable": false
   },
   "source": [
    "<details>\n",
    "<summary> Blockly Instructions(click triangle to expand) </summary>\n",
    "<br>\n",
    "                       \n",
    "- `from.. get..` block can be found in VARIABLES menu of Blockly palette.\n",
    "- A variable must have been created before it will appear in the dropdown.\n",
    "- If dropdown says \"!Not populated until you execute code\", click anywhere in the notebook tab, then click try \"Run All Above Selected Cell\" from the \"Run\" menu.\n",
    "\n",
    "</details>\n",
    "\n"
   ]
  },
  {
   "cell_type": "code",
   "execution_count": null,
   "id": "a0be31e3",
   "metadata": {
    "datawhys": {
     "response_id": 4,
     "student_response": true
    },
    "deletable": false,
    "editable": true
   },
   "outputs": [],
   "source": []
  },
  {
   "cell_type": "markdown",
   "id": "30dc6e95",
   "metadata": {
    "deletable": false,
    "editable": false
   },
   "source": [
    "### Find the size of the dataset\n"
   ]
  },
  {
   "cell_type": "markdown",
   "id": "b3c72ba4",
   "metadata": {
    "deletable": false,
    "editable": false
   },
   "source": [
    "Sometimes, we need to know the size (number of rows and columns) of the dataset for analysis convenience. We can know the size of the dataset (rows and columns) by using the `shape` method."
   ]
  },
  {
   "cell_type": "markdown",
   "id": "210653f5",
   "metadata": {
    "deletable": false,
    "editable": false
   },
   "source": [
    "- variable &nbsp;`from gredata get shape`"
   ]
  },
  {
   "cell_type": "markdown",
   "id": "37f9cc89",
   "metadata": {
    "deletable": false,
    "editable": false
   },
   "source": [
    "Here's how:\n",
    "\n",
    "1. From VARIABLES, grab `from .. get .. `\n",
    "2. Make sure `gredata` is selected in dropdown after `from`\n",
    "3. Select `shape` from dropdown after `get`\n",
    "4. Click on \"Blocks to Code\" at the bottom of the blockly palette.\n",
    "5. Run the python code cell."
   ]
  },
  {
   "cell_type": "markdown",
   "id": "cc1fe23f",
   "metadata": {
    "deletable": false,
    "editable": false
   },
   "source": [
    "<details>\n",
    "<summary> Blockly hints(click triangle to expand) </summary>\n",
    "<br>\n",
    "\n",
    "- A variable must have been created before it will appear in the dropdown.\n",
    "- If dropdown says \"!Not populated until you execute code\", click anywhere in the notebook tab, then click try \"Run All Above Selected Cell\" from the \"Run\" menu.\n",
    "\n",
    "</details>"
   ]
  },
  {
   "cell_type": "code",
   "execution_count": null,
   "id": "2a364f65",
   "metadata": {
    "datawhys": {
     "response_id": 5,
     "student_response": true
    },
    "deletable": false,
    "editable": true
   },
   "outputs": [],
   "source": []
  },
  {
   "cell_type": "markdown",
   "id": "2a6e77e6",
   "metadata": {
    "deletable": false,
    "editable": false
   },
   "source": [
    "### Selecting specific data in a dataset\n",
    "\n",
    "We can use the dataframe data mainly in 2 ways\n",
    " - Row wise\n",
    " - Column wise   \n",
    " "
   ]
  },
  {
   "cell_type": "markdown",
   "id": "024a50b1",
   "metadata": {
    "deletable": false,
    "editable": false
   },
   "source": [
    "#### Row access\n",
    "In some cases, we might need to access some range of row data but not all the rows. In order to access the row wise data using the blockly palette, we use the following steps:"
   ]
  },
  {
   "cell_type": "markdown",
   "id": "fd214335",
   "metadata": {
    "deletable": false,
    "editable": false
   },
   "source": [
    "- variable &nbsp;`in list gredata get sub-list from first to` <- `3`"
   ]
  },
  {
   "cell_type": "markdown",
   "id": "93f2e668",
   "metadata": {
    "deletable": false,
    "editable": false
   },
   "source": [
    "Here's how:\n",
    "\n",
    "1. From LISTS, grab `in list {listVariable} get sub-list from #[..] to #[..]`\n",
    "2. Next Click on the `{listVariable}` drpdown and change it to `gredata`\n",
    "3. Click on the first `#` drpdown which is located after `get sub-list from` and change it to `first`\n",
    "4. From MATH menu, grab a number block `123` and put in the the empty block `[..]` which is located after the second`#`\n",
    "5. Change the value of the number block `123` to `3`\n",
    "6. Click on \"Blocks to Code\" at the bottom of the blockly palette.\n",
    "7. Run the python code cell.\n"
   ]
  },
  {
   "cell_type": "markdown",
   "id": "6b700044",
   "metadata": {
    "deletable": false,
    "editable": false
   },
   "source": [
    "<details>\n",
    "    <summary>Blockly Hints (Click the triangle to expand)\n",
    "    </summary>\n",
    "    <ul>\n",
    "        <li>Notation\n",
    "            <ul>\n",
    "                <li>\n",
    "                <code>A</code> &nbsp;:&nbsp; <code>B</code>&nbsp; means snap blocks A and B together.\n",
    "                </li>\n",
    "                <li>\n",
    "                <code>A</code> &nbsp;&lt;-&nbsp; <code>B</code>&nbsp; means insert block B into the hole in block A.\n",
    "                </li>\n",
    "            </ul>\n",
    "        </li>\n",
    "        <li>Blocks\n",
    "            <ul>\n",
    "                <li>\n",
    "                    <code> in list {listVariable} get sub-list from #[..] to # [..]</code>\n",
    "                    <ul>\n",
    "                        <li>\n",
    "                            The <code>in list {listVariable} get sub-list from # [..]to # [..]</code> block is found under LISTS.\n",
    "                        </li>\n",
    "                    </ul>\n",
    "                </li>\n",
    "                <li>\n",
    "                    <code>123</code>\n",
    "                    <ul>\n",
    "                        <li>\n",
    "                            The <code>123</code> block is found under MATH.\n",
    "                        </li> \n",
    "                    </ul>\n",
    "                </li>\n",
    "                <li>\n",
    "                    If <code>{listVariable}</code>  dropdown says \"!Not populated until you execute code\", click anywhere in the notebook tab, then click try \"Run All Above Selected Cell\" from the \"Run\" menu.</li>\n",
    "            </ul>\n",
    "        </li>\n",
    "    </ul>\n",
    "</details> "
   ]
  },
  {
   "cell_type": "code",
   "execution_count": null,
   "id": "b9cdc262",
   "metadata": {
    "datawhys": {
     "response_id": 6,
     "student_response": true
    },
    "deletable": false,
    "editable": true
   },
   "outputs": [],
   "source": []
  },
  {
   "cell_type": "markdown",
   "id": "1eabb93c",
   "metadata": {
    "deletable": false,
    "editable": false
   },
   "source": [
    "As you can see, the output is only the first 3 row of the dataframe (index 0,1,2)."
   ]
  },
  {
   "cell_type": "markdown",
   "id": "b5d85d8e",
   "metadata": {
    "deletable": false,
    "editable": false
   },
   "source": [
    "#### Selecting a single column from dataframe"
   ]
  },
  {
   "cell_type": "markdown",
   "id": "063c3f85",
   "metadata": {
    "deletable": false,
    "editable": false
   },
   "source": [
    "Unlike rows, dataset columns have their own names(see the column names above). The values under a column are presented as a list. So we can think of a column as a list of values.\n",
    "\n",
    "First , lets create a list by using blockly."
   ]
  },
  {
   "cell_type": "markdown",
   "id": "4cdc2d75",
   "metadata": {
    "deletable": false,
    "editable": false
   },
   "source": [
    "`gredata [ .. ]` &nbsp;<-&nbsp; `create list with` &nbsp;:\n",
    "  - `\"GPA\"`"
   ]
  },
  {
   "cell_type": "markdown",
   "id": "018012e2",
   "metadata": {
    "deletable": false,
    "editable": false
   },
   "source": [
    "Here's how:\n",
    "1. Using the LISTS menu in the Blockly palette, click on `create empty list`.\n",
    "2. Then click on the + sign of `create empty list` which will change it into `+ - create list with` \n",
    "3. To add an element to the list, drag a text block `\"..\"` from the TEXT menu and connect it after `+ - create list with`block.\n",
    "4. Inside the text block , write `GPA`.\n",
    "5. Using the LISTS menu in the Blockly palette, grab `{dictVariable}[..]` block and connect it by putting it before the `+ - create list with \"GPA\"` block\n",
    "6. Click on the dropdown `{dictVariable}` and change `{dictVariable}` to `gredata`\n",
    "7. Click on \"Blocks to Code\" at the bottom of the blockly palette.    \n",
    "8. Run the python code cell.    "
   ]
  },
  {
   "cell_type": "markdown",
   "id": "40c58d0d",
   "metadata": {
    "deletable": false,
    "editable": false
   },
   "source": [
    "<details><summary>Blockly Hints (Click the triangle to expand)</summary><ul><li>Notation<ul><li><code>A</code> &nbsp;:&nbsp; <code>B</code>&nbsp; means snap blocks A and B together.</li><li><code>A</code> &nbsp;&lt;-&nbsp; <code>B</code>&nbsp; means insert block B into the hole in block A.</li></ul></li><li>Blocks<ul><li><code>\\{dictVariable\\} [ .. ]</code><ul><li>The <code>\\{dictVariable\\} [ .. ]</code> block is found under LISTS.</li></ul></li><li><code>create list with</code><ul><li>The <code>create list with</code> block is found under LISTS.</li> <li>You can use the <code>+ -</code> controls on the block to change the number of notches. Unless specifically instructed, the block should not have any empty notches when you click Blocks to Code. </li></ul></li><li><code>\" .. \"</code><ul><li>The <code>\" .. \"</code> block is found under TEXT.</li></ul></li></ul></li></ul></details> "
   ]
  },
  {
   "cell_type": "code",
   "execution_count": null,
   "id": "9cdb55d5",
   "metadata": {
    "datawhys": {
     "response_id": 7,
     "student_response": true
    },
    "deletable": false,
    "editable": true
   },
   "outputs": [],
   "source": []
  },
  {
   "cell_type": "markdown",
   "id": "a0510faa",
   "metadata": {
    "deletable": false,
    "editable": false
   },
   "source": [
    "#### Selecting multiple columns from dataframe "
   ]
  },
  {
   "cell_type": "markdown",
   "id": "a218b263",
   "metadata": {
    "deletable": false,
    "editable": false
   },
   "source": [
    "Just like selecting multiple rows, we can also select multiple columns from a datframe.\n",
    "\n",
    "For selecting multiple columns, we follow the same process as selecting a single column."
   ]
  },
  {
   "cell_type": "markdown",
   "id": "77944201",
   "metadata": {
    "deletable": false,
    "editable": false
   },
   "source": [
    "`gredata [ .. ]` &nbsp;<-&nbsp; `create list with` &nbsp;:\n",
    "  - `\"GPA\"`\n",
    "  - `\"GRE\"`"
   ]
  },
  {
   "cell_type": "markdown",
   "id": "1a81c4d4",
   "metadata": {
    "deletable": false,
    "editable": false
   },
   "source": [
    "Here's how:\n",
    "1. Using the LISTS menu in the Blockly palette, click on `create empty list`.\n",
    "2. Then click twice on the + sign of `create empty list` which will change it into `+ - create list with` \n",
    "3. To add two element to the list, drag two text blocks `\"..\"` from the TEXT menu and connect each of them after `+ - create list with`block.\n",
    "4. Inside one text block \"..\" , write `GPA` and write `GRE` for the other\n",
    "5. Using the LISTS menu in the Blockly palette, grab `{dictVariable}[..]` block and connect it by putting it before the `+ - create list with \"GPA\" \"GRE\"` block\n",
    "6. Click on the dropdown `{dictVariable}` and change `{dictVariable}` to `gredata`\n",
    "7. Click on \"Blocks to Code\" at the bottom of the blockly palette.    \n",
    "8. Run the python code cell."
   ]
  },
  {
   "cell_type": "markdown",
   "id": "ce59e5d8",
   "metadata": {
    "deletable": false,
    "editable": false
   },
   "source": [
    "<details><summary>Blockly Hints (Click the triangle to expand)</summary><ul><li>Notation<ul><li><code>A</code> &nbsp;:&nbsp; <code>B</code>&nbsp; means snap blocks A and B together.</li><li><code>A</code> &nbsp;&lt;-&nbsp; <code>B</code>&nbsp; means insert block B into the hole in block A.</li></ul></li><li>Blocks<ul><li><code>\\{dictVariable\\} [ .. ]</code><ul><li>The <code>\\{dictVariable\\} [ .. ]</code> block is found under LISTS.</li></ul></li><li><code>create list with</code><ul><li>The <code>create list with</code> block is found under LISTS.</li> <li>You can use the <code>+ -</code> controls on the block to change the number of notches. Unless specifically instructed, the block should not have any empty notches when you click Blocks to Code. </li></ul></li><li><code>\" .. \"</code><ul><li>The <code>\" .. \"</code> block is found under TEXT.</li></ul></li></ul></li></ul></details> \n"
   ]
  },
  {
   "cell_type": "code",
   "execution_count": null,
   "id": "1128a52f",
   "metadata": {
    "datawhys": {
     "response_id": 8,
     "student_response": true
    },
    "deletable": false,
    "editable": true
   },
   "outputs": [],
   "source": []
  },
  {
   "cell_type": "code",
   "execution_count": null,
   "id": "ea1f6390",
   "metadata": {
    "deletable": false,
    "editable": false
   },
   "outputs": [],
   "source": []
  }
 ],
 "metadata": {
  "kernelspec": {
   "display_name": "Python 3 (ipykernel)",
   "language": "python",
   "name": "python3"
  },
  "language_info": {
   "codemirror_mode": {
    "name": "ipython",
    "version": 3
   },
   "file_extension": ".py",
   "mimetype": "text/x-python",
   "name": "python",
   "nbconvert_exporter": "python",
   "pygments_lexer": "ipython3",
   "version": "3.12.6"
  }
 },
 "nbformat": 4,
 "nbformat_minor": 5
}
