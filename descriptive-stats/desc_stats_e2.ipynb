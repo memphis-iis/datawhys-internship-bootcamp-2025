{
 "cells": [
  {
   "cell_type": "markdown",
   "id": "9a6a0531",
   "metadata": {
    "deletable": false,
    "editable": false
   },
   "source": [
    "# Descriptive Statistics Activity 2"
   ]
  },
  {
   "cell_type": "markdown",
   "id": "a6052d8f",
   "metadata": {
    "deletable": false,
    "editable": false
   },
   "source": [
    "Dataset: Data containing informations on car's name, origin, model, model year, cylinders etc.\n",
    "\n",
    "Columns:\n",
    "- mpg,\n",
    "- cylinders,\n",
    "- displacement,\n",
    "- horsepower,\n",
    "- weight,\n",
    "- acceleration,\n",
    "- model_year,\n",
    "- origin,\n",
    "- name"
   ]
  },
  {
   "cell_type": "markdown",
   "id": "adb4ada4",
   "metadata": {
    "deletable": false,
    "editable": false
   },
   "source": [
    "## Import libraries\n",
    "\n",
    "We can calculate measures of central tendency and spread using `pandas dataframes`.\n",
    "\n",
    "First thing you need to do is import `pandas` below."
   ]
  },
  {
   "cell_type": "markdown",
   "id": "7dab37f9",
   "metadata": {
    "deletable": false,
    "editable": false
   },
   "source": [
    "<span><h3>\n",
    " Step 1. &nbsp;&nbsp;&nbsp; Read CSV Data into Pandas Dataframe",
    "\n</h3></span>"
   ]
  },
  {
   "cell_type": "markdown",
   "id": "fd00f537",
   "metadata": {
    "deletable": false,
    "editable": false
   },
   "source": [
    "- Create variable &nbsp;`pd`\n",
    "- `import pandas as pd`"
   ]
  },
  {
   "cell_type": "markdown",
   "id": "8c9db017",
   "metadata": {
    "deletable": false,
    "editable": false
   },
   "source": [
    "<br><details><summary>Blockly Hints</summary><ul><li>Blocks<ul><li><code>import .. as ..</code><ul><li>The <code>import .. as ..</code> block is found under IMPORT.</li> <li>A variable must have been created before it will appear in the dropdown.</li></ul></li></ul></li></ul></details>"
   ]
  },
  {
   "cell_type": "code",
   "execution_count": null,
   "id": "a3c1d24f",
   "metadata": {
    "datawhys": {
     "response_id": 1,
     "student_response": true
    },
    "deletable": false,
    "editable": true
   },
   "outputs": [],
   "source": []
  },
  {
   "cell_type": "markdown",
   "id": "74a87755",
   "metadata": {
    "deletable": false,
    "editable": false
   },
   "source": [
    "<span><h4>\n",
    " Substep. &nbsp;&nbsp; Read CSV data and Save in Variable\n\nWe're going to work with data on cars. \n\nLoad the CSV file `\"datasets/mpg-na-hidden.csv\"` into a dataframe and display it.",
    "\n</h4></span>"
   ]
  },
  {
   "cell_type": "markdown",
   "id": "98464719",
   "metadata": {
    "deletable": false,
    "editable": false
   },
   "source": [
    "<details>\n",
    "  <summary>Blockly Hints</summary>\n",
    "  <ol>\n",
    "    <li>Variable <code>dataframe</code> must be created under VARIABLES before it can be used</li>\n",
    "    <li><code>set .. to</code> block found under VARIABLES</li>\n",
    "    <li><code>with .. do .. using</code> block found under VARIABLES</li>\n",
    "    <li>If <code>do</code> dropdown in <code>with .. do .. using</code> block will not populate, try \"Run All Above Selected Cell\" from the \"Run\" menu in top-left.</li>\n",
    "    <li>You need a <code>\"..\"</code> block found under TEXT to fill in the <code>using</code> part of the <code>with .. do .. using</code> block</li>\n",
    "    <li>If <code>with .. do .. using</code> block does not want to snap together nicely with the <code>set .. to</code> block, try dragging the <code>set .. to</code> block instead.</li>\n",
    "      <li>From <code>VARIABLES</code>, get the <code>dataframe</code> block</li>\n",
    "  </ol>\n",
    "</details>"
   ]
  },
  {
   "cell_type": "code",
   "execution_count": null,
   "id": "aeb2d76f",
   "metadata": {
    "datawhys": {
     "response_id": 2,
     "student_response": true
    },
    "deletable": false,
    "editable": true
   },
   "outputs": [],
   "source": []
  },
  {
   "cell_type": "code",
   "execution_count": null,
   "id": "c30d9644-810b-4f64-9d9d-4466bc3d81c3",
   "metadata": {
    "datawhys": {
     "response_id": 3,
     "student_response": true
    },
    "deletable": false,
    "editable": true
   },
   "outputs": [],
   "source": []
  },
  {
   "cell_type": "markdown",
   "id": "bdbc9f86",
   "metadata": {
    "deletable": false,
    "editable": false
   },
   "source": [
    "## Car mean/median/mode\n",
    "\n",
    "In the next three cells, use the dataframe to calculate the mean, median, and mode values for the `mpg`, `cylinders`, `weight` and `acceleration` columns."
   ]
  },
  {
   "cell_type": "markdown",
   "id": "0acff50d",
   "metadata": {
    "deletable": false,
    "editable": false
   },
   "source": [
    "<span><h4>\n",
    " Substep. Compute the mean  \n",
    "\n</h4></span>"
   ]
  },
  {
   "cell_type": "markdown",
   "id": "ba1f3ed2",
   "metadata": {
    "deletable": false,
    "editable": false
   },
   "source": [
    "Blockly Hints:\n",
    "- create variable `mean_comp`\n",
    "- `Set mean_comp to` : `dataframe[ .. ]` <- `create list with`:\n",
    "    - \"mpg\"\n",
    "    - \"cylinders\"\n",
    "    - \"weight\"\n",
    "    - \"acceleration\"\n"
   ]
  },
  {
   "cell_type": "code",
   "execution_count": null,
   "id": "788e8de1",
   "metadata": {
    "datawhys": {
     "response_id": 4,
     "student_response": true
    },
    "deletable": false,
    "editable": true
   },
   "outputs": [],
   "source": []
  },
  {
   "cell_type": "markdown",
   "id": "e602b070-fc02-47f5-9d9f-4c4f373b3a2e",
   "metadata": {
    "deletable": false,
    "editable": false
   },
   "source": [
    "Blockly Hints:\n",
    "- `with mean_comp do mode using`"
   ]
  },
  {
   "cell_type": "code",
   "execution_count": null,
   "id": "bc509ae9-b2ec-4210-bf29-5ca130483d5b",
   "metadata": {
    "datawhys": {
     "response_id": 5,
     "student_response": true
    },
    "deletable": false,
    "editable": true
   },
   "outputs": [],
   "source": []
  },
  {
   "cell_type": "markdown",
   "id": "d83445fc",
   "metadata": {
    "deletable": false,
    "editable": false
   },
   "source": [
    "### QUESTIONS:\n",
    "\n",
    "### We have 9 observations of GRE scores.  314, 312, 300, 304, 323, 308, 316, 320, 298. What is the mean GRE score ?"
   ]
  },
  {
   "cell_type": "markdown",
   "id": "a14eb0e3",
   "metadata": {
    "datawhys": {
     "response_id": 6,
     "student_response": true
    },
    "deletable": false,
    "editable": true
   },
   "source": [
    "<div class=\"alert alert-block alert-info\">\n",
    "<!-- YOUR ANSWER BEGIN -->\n",
    "\n",
    "\n",
    "\n",
    "\n",
    "\n",
    "<!-- YOUR ANSWER END -->\n",
    "</div>"
   ]
  },
  {
   "cell_type": "markdown",
   "id": "27fd79ee",
   "metadata": {
    "deletable": false,
    "editable": false
   },
   "source": [
    "### In what scenario, the mean and mode of a variable will be same? Think deeply and give your answer. "
   ]
  },
  {
   "cell_type": "markdown",
   "id": "b14c1a5d",
   "metadata": {
    "datawhys": {
     "response_id": 7,
     "student_response": true
    },
    "deletable": false,
    "editable": true
   },
   "source": [
    "<div class=\"alert alert-block alert-info\">\n",
    "<!-- YOUR ANSWER BEGIN -->\n",
    "\n",
    "\n",
    "\n",
    "\n",
    "\n",
    "<!-- YOUR ANSWER END -->\n",
    "</div>"
   ]
  },
  {
   "cell_type": "markdown",
   "id": "106f2c3e",
   "metadata": {
    "deletable": false,
    "editable": false
   },
   "source": [
    "<span><h4>\n",
    " Substep. Compute the median  \n\nUsing the same approach, compute the median. \n",
    "\n</h4></span>"
   ]
  },
  {
   "cell_type": "markdown",
   "id": "bc457ab4",
   "metadata": {
    "deletable": false,
    "editable": false
   },
   "source": [
    "Blockly Hints:\n",
    "- create variable `median_comp`\n",
    "- `Set median_comp to` : `dataframe[ .. ]` <- `create list with`:\n",
    "    - \"mpg\"\n",
    "    - \"cylinders\"\n",
    "    - \"weight\"\n",
    "    - \"acceleration\"\n"
   ]
  },
  {
   "cell_type": "code",
   "execution_count": null,
   "id": "0ce2465a-6d2a-439b-9ca0-937327c9b633",
   "metadata": {
    "datawhys": {
     "response_id": 8,
     "student_response": true
    },
    "deletable": false,
    "editable": true
   },
   "outputs": [],
   "source": []
  },
  {
   "cell_type": "markdown",
   "id": "ca5b3a29-257f-4f5e-8599-71156b627da0",
   "metadata": {
    "deletable": false,
    "editable": false
   },
   "source": [
    "Blockly Hints:\n",
    "\n",
    "- `with median_comp do mode using`"
   ]
  },
  {
   "cell_type": "code",
   "execution_count": null,
   "id": "f0526472-8000-4e59-8564-56f4efae56ad",
   "metadata": {
    "datawhys": {
     "response_id": 9,
     "student_response": true
    },
    "deletable": false,
    "editable": true
   },
   "outputs": [],
   "source": []
  },
  {
   "cell_type": "markdown",
   "id": "01bc4e32",
   "metadata": {
    "deletable": false,
    "editable": false
   },
   "source": [
    "### QUESTIONS:\n",
    "\n",
    "### What does the median value of cylinder means according to you? Explain briefly."
   ]
  },
  {
   "cell_type": "markdown",
   "id": "26ed6304",
   "metadata": {
    "datawhys": {
     "response_id": 10,
     "student_response": true
    },
    "deletable": false,
    "editable": true
   },
   "source": [
    "<div class=\"alert alert-block alert-info\">\n",
    "<!-- YOUR ANSWER BEGIN -->\n",
    "\n",
    "\n",
    "\n",
    "\n",
    "\n",
    "<!-- YOUR ANSWER END -->\n",
    "</div>"
   ]
  },
  {
   "cell_type": "markdown",
   "id": "c56a3dba",
   "metadata": {
    "deletable": false,
    "editable": false
   },
   "source": [
    "### For a variable, what percentile value does its the median value refers to?"
   ]
  },
  {
   "cell_type": "markdown",
   "id": "f63113a9",
   "metadata": {
    "datawhys": {
     "response_id": 11,
     "student_response": true
    },
    "deletable": false,
    "editable": true
   },
   "source": [
    "<div class=\"alert alert-block alert-info\">\n",
    "<!-- YOUR ANSWER BEGIN -->\n",
    "\n",
    "\n",
    "\n",
    "\n",
    "\n",
    "<!-- YOUR ANSWER END -->\n",
    "</div>"
   ]
  },
  {
   "cell_type": "markdown",
   "id": "5e4f10ce",
   "metadata": {
    "deletable": false,
    "editable": false
   },
   "source": [
    "<span><h4>\n",
    " Substep. Compute the mode  \n\nUsing the same approach, compute the mode. ",
    "\n</h4></span>"
   ]
  },
  {
   "cell_type": "markdown",
   "id": "43bcce30",
   "metadata": {
    "deletable": false,
    "editable": false
   },
   "source": [
    "Blockly Hints:\n",
    "- create variable `mode_comp`\n",
    "- `Set mode_comp to` : `dataframe[ .. ]` <- `create list with`:\n",
    "    - \"mpg\"\n",
    "    - \"cylinders\"\n",
    "    - \"weight\"\n",
    "    - \"acceleration\"\n"
   ]
  },
  {
   "cell_type": "code",
   "execution_count": null,
   "id": "4da91092-c286-4a3b-bbf8-c3c688903b5c",
   "metadata": {
    "datawhys": {
     "response_id": 12,
     "student_response": true
    },
    "deletable": false,
    "editable": true
   },
   "outputs": [],
   "source": []
  },
  {
   "cell_type": "markdown",
   "id": "d56084df-f3bb-41f2-987f-cd7274a32319",
   "metadata": {
    "deletable": false,
    "editable": false
   },
   "source": [
    "Blockly Hints:\n",
    "- `with mode_comp do mode using`"
   ]
  },
  {
   "cell_type": "code",
   "execution_count": null,
   "id": "d98adfea-5bb8-4ca9-afe2-8a7e75648035",
   "metadata": {
    "datawhys": {
     "response_id": 13,
     "student_response": true
    },
    "deletable": false,
    "editable": true
   },
   "outputs": [],
   "source": []
  },
  {
   "cell_type": "markdown",
   "id": "e9cecb98",
   "metadata": {
    "deletable": false,
    "editable": false
   },
   "source": [
    "### QUESTIONS:\n",
    "\n",
    "### Suppose we have a variable 'Age'. It has 50 values. We find its  mode value is 26. What does that mean? Briefly Explain."
   ]
  },
  {
   "cell_type": "markdown",
   "id": "e8569e16",
   "metadata": {
    "datawhys": {
     "response_id": 14,
     "student_response": true
    },
    "deletable": false,
    "editable": true
   },
   "source": [
    "<div class=\"alert alert-block alert-info\">\n",
    "<!-- YOUR ANSWER BEGIN -->\n",
    "\n",
    "\n",
    "\n",
    "\n",
    "\n",
    "<!-- YOUR ANSWER END -->\n",
    "</div>"
   ]
  },
  {
   "cell_type": "markdown",
   "id": "06196282",
   "metadata": {
    "deletable": false,
    "editable": false
   },
   "source": [
    "### What is the significance of the two rows `0` and `1` in the mode table?  \n",
    "\n",
    "Write your answer in the cell below."
   ]
  },
  {
   "cell_type": "markdown",
   "id": "558bfbdd",
   "metadata": {
    "datawhys": {
     "response_id": 15,
     "student_response": true
    },
    "deletable": false,
    "editable": true
   },
   "source": [
    "<div class=\"alert alert-block alert-info\">\n",
    "<!-- YOUR ANSWER BEGIN -->\n",
    "\n",
    "\n",
    "\n",
    "\n",
    "\n",
    "<!-- YOUR ANSWER END -->\n",
    "</div>"
   ]
  },
  {
   "cell_type": "code",
   "execution_count": null,
   "id": "b2d73e4a",
   "metadata": {
    "deletable": false,
    "editable": false
   },
   "outputs": [],
   "source": []
  }
 ],
 "metadata": {
  "kernelspec": {
   "display_name": "Python 3 (ipykernel)",
   "language": "python",
   "name": "python3"
  },
  "language_info": {
   "codemirror_mode": {
    "name": "ipython",
    "version": 3
   },
   "file_extension": ".py",
   "mimetype": "text/x-python",
   "name": "python",
   "nbconvert_exporter": "python",
   "pygments_lexer": "ipython3",
   "version": "3.12.6"
  },
  "vscode": {
   "interpreter": {
    "hash": "be14b4e913c6f2457a185c22af60a9db8729a2914b48dcc2c5e42fe4e4a2ce08"
   }
  }
 },
 "nbformat": 4,
 "nbformat_minor": 5
}
