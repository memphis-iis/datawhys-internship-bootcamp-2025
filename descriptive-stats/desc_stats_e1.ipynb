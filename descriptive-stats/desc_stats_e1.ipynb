{
 "cells": [
  {
   "cell_type": "markdown",
   "id": "6ebb1053",
   "metadata": {
    "deletable": false,
    "editable": false
   },
   "source": [
    "# Descriptive Statistics Activity 1"
   ]
  },
  {
   "cell_type": "markdown",
   "id": "c07101d4",
   "metadata": {
    "deletable": false,
    "editable": false
   },
   "source": [
    "## Question. &nbsp;What is the mean, median and mode of the size of the petals of a flower?\n"
   ]
  },
  {
   "cell_type": "markdown",
   "id": "857ac4be",
   "metadata": {
    "deletable": false,
    "editable": false
   },
   "source": [
    "Dataset: Data on the color, shape and size of petals of a flower.\n",
    "\n",
    "Columns:\n",
    "- PetalColor\n",
    "- PetalShape\n",
    "- Size"
   ]
  },
  {
   "cell_type": "markdown",
   "id": "0adb6959",
   "metadata": {
    "deletable": false,
    "editable": false
   },
   "source": [
    "<span><h3>\n",
    " Step 1. &nbsp;&nbsp;&nbsp; Read CSV Data into Pandas Dataframe",
    "\n</h3></span>"
   ]
  },
  {
   "cell_type": "markdown",
   "id": "b36776f1",
   "metadata": {
    "deletable": false,
    "editable": false
   },
   "source": [
    "- Create variable &nbsp;`pd`\n",
    "- `import pandas as pd`"
   ]
  },
  {
   "cell_type": "markdown",
   "id": "327b802f",
   "metadata": {
    "deletable": false,
    "editable": false
   },
   "source": [
    "#### Import libraries\n",
    "\n",
    "We can calculate measures of central tendency and spread using `pandas dataframes`.\n",
    "\n",
    "First thing you need to do is import `pandas` below."
   ]
  },
  {
   "cell_type": "markdown",
   "id": "12f48402",
   "metadata": {
    "deletable": false,
    "editable": false
   },
   "source": [
    "<br><details><summary>Blockly Hints</summary><ul><li>Blocks<ul><li><code>import .. as ..</code><ul><li>The <code>import .. as ..</code> block is found under IMPORT.</li> <li>A variable must have been created before it will appear in the dropdown.</li></ul></li></ul></li></ul></details>"
   ]
  },
  {
   "cell_type": "code",
   "execution_count": null,
   "id": "a07287ed",
   "metadata": {
    "datawhys": {
     "response_id": 1,
     "student_response": true
    },
    "deletable": false,
    "editable": true
   },
   "outputs": [],
   "source": []
  },
  {
   "cell_type": "markdown",
   "id": "34d29213",
   "metadata": {
    "deletable": false,
    "editable": false
   },
   "source": [
    "<span><h4>\n",
    " Substep. &nbsp;&nbsp; Read CSV data and Save in Variable",
    "\n</h4></span>"
   ]
  },
  {
   "cell_type": "markdown",
   "id": "13290012",
   "metadata": {
    "deletable": false,
    "editable": false
   },
   "source": [
    "#### Load data\n",
    "\n",
    "We're going to work with data from before, on flowers.\n",
    "\n",
    "Load the CSV file `\"datasets/flower-data-2020.csv\"` into a dataframe."
   ]
  },
  {
   "cell_type": "markdown",
   "id": "c42af44e",
   "metadata": {
    "deletable": false,
    "editable": false
   },
   "source": [
    "- Create variable &nbsp;`dataframe`\n",
    "- `set dataframe to` &nbsp;:&nbsp; `with pd do read_csv using` &nbsp;<-&nbsp; `\" datasets/flower-data-2020.csv \"`"
   ]
  },
  {
   "cell_type": "markdown",
   "id": "51a1f3b8",
   "metadata": {
    "deletable": false,
    "editable": false
   },
   "source": [
    "<details>\n",
    "  <summary>Blockly Hints</summary>\n",
    "  <ol>\n",
    "    <li>Variable <code>dataframe</code> must be created under VARIABLES before it can be used</li>\n",
    "    <li><code>set .. to</code> block found under VARIABLES</li>\n",
    "    <li><code>with .. do .. using</code> block found under VARIABLES</li>\n",
    "    <li>If <code>do</code> dropdown in <code>with .. do .. using</code> block will not populate, try \"Run All Above Selected Cell\" from the \"Run\" menu in top-left.</li>\n",
    "    <li>You need a <code>\"..\"</code> block found under TEXT to fill in the <code>using</code> part of the <code>with .. do .. using</code> block</li>\n",
    "    <li>If <code>with .. do .. using</code> block does not want to snap together nicely with the <code>set .. to</code> block, try dragging the <code>set .. to</code> block instead.</li>\n",
    "  </ol>\n",
    "</details>"
   ]
  },
  {
   "cell_type": "code",
   "execution_count": null,
   "id": "c70d45b3",
   "metadata": {
    "datawhys": {
     "response_id": 2,
     "student_response": true
    },
    "deletable": false,
    "editable": true
   },
   "outputs": [],
   "source": []
  },
  {
   "cell_type": "markdown",
   "id": "1ff71017",
   "metadata": {
    "deletable": false,
    "editable": false
   },
   "source": [
    "### View the Dataframe"
   ]
  },
  {
   "cell_type": "markdown",
   "id": "58c03b6d",
   "metadata": {
    "deletable": false,
    "editable": false
   },
   "source": [
    "- variable &nbsp;`dataframe`"
   ]
  },
  {
   "cell_type": "markdown",
   "id": "7e806715",
   "metadata": {
    "deletable": false,
    "editable": false
   },
   "source": [
    "<br>\n",
    "<details>\n",
    "    <summary>Blockly Hints (Click on triangle to expand)</summary>\n",
    "    <ul>\n",
    "        <li>Blocks\n",
    "            <ul>\n",
    "                <li>variable\n",
    "                    <ul>\n",
    "                        <li>After it is created, each variable has its own block at the end of the VARIABLES menu.</li>\n",
    "                    </ul>\n",
    "                </li>\n",
    "            </ul>\n",
    "        </li>\n",
    "    </ul>\n",
    "</details>\n"
   ]
  },
  {
   "cell_type": "code",
   "execution_count": null,
   "id": "c2589115",
   "metadata": {
    "datawhys": {
     "response_id": 3,
     "student_response": true
    },
    "deletable": false,
    "editable": true
   },
   "outputs": [],
   "source": []
  },
  {
   "cell_type": "markdown",
   "id": "3a33510a",
   "metadata": {
    "deletable": false,
    "editable": false
   },
   "source": [
    "<span><h4>\n",
    " Substep. Compute the mean, median and mode for the size of the petals \n\nIn the next three cells, use the dataframe to calculate the mean, median, and mode of the `Size` column.",
    "\n</h4></span>"
   ]
  },
  {
   "cell_type": "markdown",
   "id": "663d1764",
   "metadata": {
    "deletable": false,
    "editable": false
   },
   "source": [
    "Blockly Hints:\n",
    " \n",
    "- create variable `size` \n",
    "- `set size to` : `dataframe [ .. ]` <- `create list with` &nbsp;:\n",
    "    - `\" Size \"`"
   ]
  },
  {
   "cell_type": "markdown",
   "id": "05c97146",
   "metadata": {
    "deletable": false,
    "editable": false
   },
   "source": [
    "<details>\n",
    "  <summary>Blockly Hints</summary>\n",
    "  <ol>\n",
    "      <li>Using the LISTS menu in the Blockly palette, click on <code>create empty list</code>. Then click on the <code>+</code> sign.</li>\n",
    "      <li>To add an element to the list, drag a text block and connect it with the list block. Inside the text block , write <b>Size</b>. </li>\n",
    "      <li>Using the LISTS menu in the Blockly palette, click on the {dictVariable}[ ] block, change {dictVariable} to dataframe, and drop a create list with [\"Size\"] inside it.</li>\n",
    "      <li>From VARIABLES, <code>set size to</code> the <code>{dataframe}['Size']</code>  block</li>\n",
    "     \n",
    "\n",
    "  </ol>\n",
    "</details>"
   ]
  },
  {
   "cell_type": "code",
   "execution_count": null,
   "id": "6b7f2537",
   "metadata": {
    "datawhys": {
     "response_id": 4,
     "student_response": true
    },
    "deletable": false,
    "editable": true
   },
   "outputs": [],
   "source": []
  },
  {
   "cell_type": "markdown",
   "id": "24dc06a4",
   "metadata": {
    "deletable": false,
    "editable": false
   },
   "source": [
    "<span><h4>\n",
    " Substep. Compute the mean  \n\n- `with size do mean using`",
    "\n</h4></span>"
   ]
  },
  {
   "cell_type": "code",
   "execution_count": null,
   "id": "ad83cb29",
   "metadata": {
    "datawhys": {
     "response_id": 5,
     "student_response": true
    },
    "deletable": false,
    "editable": true
   },
   "outputs": [],
   "source": []
  },
  {
   "cell_type": "markdown",
   "id": "56060d4b",
   "metadata": {
    "deletable": false,
    "editable": false
   },
   "source": [
    "<span><h4>\n",
    " Substep. Compute the median  \n\nUsing the same approach, compute the median. \n\n\nHere's How:\n- `with size do median using`",
    "\n</h4></span>"
   ]
  },
  {
   "cell_type": "code",
   "execution_count": null,
   "id": "df55e06d",
   "metadata": {
    "datawhys": {
     "response_id": 6,
     "student_response": true
    },
    "deletable": false,
    "editable": true
   },
   "outputs": [],
   "source": []
  },
  {
   "cell_type": "markdown",
   "id": "533d4918",
   "metadata": {
    "deletable": false,
    "editable": false
   },
   "source": [
    "<span><h4>\n",
    " Substep. Compute the mode  \n\nUsing the same approach, compute the median. \n\n\nHere's How:\n- `with size do mode using`",
    "\n</h4></span>"
   ]
  },
  {
   "cell_type": "code",
   "execution_count": null,
   "id": "5c37dfe9",
   "metadata": {
    "datawhys": {
     "response_id": 7,
     "student_response": true
    },
    "deletable": false,
    "editable": true
   },
   "outputs": [],
   "source": []
  },
  {
   "cell_type": "markdown",
   "id": "7f65bfb8",
   "metadata": {
    "deletable": false,
    "editable": false
   },
   "source": [
    "### QUESTION: How do the mean, median, and mode values differ here?  \n",
    "\n",
    "Write your answer in the cell below."
   ]
  },
  {
   "cell_type": "markdown",
   "id": "8e1af4d7",
   "metadata": {
    "datawhys": {
     "response_id": 8,
     "student_response": true
    },
    "deletable": false,
    "editable": true
   },
   "source": [
    "<div class=\"alert alert-block alert-info\">\n",
    "<!-- YOUR ANSWER BEGIN -->\n",
    "\n",
    "\n",
    "\n",
    "\n",
    "\n",
    "<!-- YOUR ANSWER END -->\n",
    "</div>"
   ]
  },
  {
   "cell_type": "markdown",
   "id": "d7e24422",
   "metadata": {
    "deletable": false,
    "editable": false
   },
   "source": [
    "\n",
    "\n",
    "### Let's look at some different data: a students quiz grades across a course.\n",
    "\n",
    "Suppose a student received the following grades:\n",
    "\n",
    "- 0\n",
    "- 85\n",
    "- 82\n",
    "- 91\n",
    "- 82\n",
    "\n",
    "In the next cell, we have made a new dataframe using this list of numbers and output it.\n",
    "\n",
    "**Run the code cell below.**\n"
   ]
  },
  {
   "cell_type": "code",
   "execution_count": null,
   "id": "3c93f6c8",
   "metadata": {
    "deletable": false,
    "editable": false
   },
   "outputs": [],
   "source": [
    "\n",
    "grades = pd.DataFrame([0, 85, 82, 91, 82])\n",
    "\n",
    "grades\n",
    "\n"
   ]
  },
  {
   "cell_type": "markdown",
   "id": "ac054c12",
   "metadata": {
    "deletable": false,
    "editable": false
   },
   "source": [
    "Now, calculate and show the mean, median, and mode of the `grades` dataframe."
   ]
  },
  {
   "cell_type": "code",
   "execution_count": null,
   "id": "48ced5a9",
   "metadata": {
    "datawhys": {
     "response_id": 9,
     "student_response": true
    },
    "deletable": false,
    "editable": true
   },
   "outputs": [],
   "source": []
  },
  {
   "cell_type": "code",
   "execution_count": null,
   "id": "62f61eff",
   "metadata": {
    "datawhys": {
     "response_id": 10,
     "student_response": true
    },
    "deletable": false,
    "editable": true
   },
   "outputs": [],
   "source": []
  },
  {
   "cell_type": "code",
   "execution_count": null,
   "id": "f397012b",
   "metadata": {
    "datawhys": {
     "response_id": 11,
     "student_response": true
    },
    "deletable": false,
    "editable": true
   },
   "outputs": [],
   "source": []
  },
  {
   "cell_type": "markdown",
   "id": "33c7a197",
   "metadata": {
    "deletable": false,
    "editable": false
   },
   "source": [
    "Now drop the 0 grade from the list and display the updated dataframe.\n"
   ]
  },
  {
   "cell_type": "markdown",
   "id": "55fe61d7",
   "metadata": {
    "deletable": false,
    "editable": false
   },
   "source": [
    "\n",
    "- **Run the code cell below.**"
   ]
  },
  {
   "cell_type": "code",
   "execution_count": null,
   "id": "a129d997",
   "metadata": {
    "deletable": false,
    "editable": false
   },
   "outputs": [],
   "source": [
    "\n",
    "grades = grades.drop(0, axis=0)\n",
    "\n",
    "grades"
   ]
  },
  {
   "cell_type": "markdown",
   "id": "208cdc67",
   "metadata": {
    "deletable": false,
    "editable": false
   },
   "source": [
    "Recalculate and show the mean, median, and mode."
   ]
  },
  {
   "cell_type": "code",
   "execution_count": null,
   "id": "95988791",
   "metadata": {
    "datawhys": {
     "response_id": 12,
     "student_response": true
    },
    "deletable": false,
    "editable": true
   },
   "outputs": [],
   "source": []
  },
  {
   "cell_type": "code",
   "execution_count": null,
   "id": "32c4c2cd",
   "metadata": {
    "datawhys": {
     "response_id": 13,
     "student_response": true
    },
    "deletable": false,
    "editable": true
   },
   "outputs": [],
   "source": []
  },
  {
   "cell_type": "code",
   "execution_count": null,
   "id": "2bd0fd1e",
   "metadata": {
    "datawhys": {
     "response_id": 14,
     "student_response": true
    },
    "deletable": false,
    "editable": true
   },
   "outputs": [],
   "source": []
  },
  {
   "cell_type": "markdown",
   "id": "3471dcd4",
   "metadata": {
    "deletable": false,
    "editable": false
   },
   "source": [
    "### QUESTION: How did the mean, median, and mode change after you dropped the zero?  \n",
    "\n",
    "Write your answer in the cell below."
   ]
  },
  {
   "cell_type": "markdown",
   "id": "04f2f5ac",
   "metadata": {
    "datawhys": {
     "response_id": 15,
     "student_response": true
    },
    "deletable": false,
    "editable": true
   },
   "source": [
    "<div class=\"alert alert-block alert-info\">\n",
    "<!-- YOUR ANSWER BEGIN -->\n",
    "\n",
    "\n",
    "\n",
    "\n",
    "\n",
    "<!-- YOUR ANSWER END -->\n",
    "</div>"
   ]
  },
  {
   "cell_type": "markdown",
   "id": "77d81d75",
   "metadata": {
    "deletable": false,
    "editable": false
   },
   "source": [
    "### QUESTION: How does dropping the 0 change the average student grades?\n",
    "\n",
    "Write your answer in the cell below."
   ]
  },
  {
   "cell_type": "markdown",
   "id": "7f6a7e2f",
   "metadata": {
    "datawhys": {
     "response_id": 16,
     "student_response": true
    },
    "deletable": false,
    "editable": true
   },
   "source": [
    "<div class=\"alert alert-block alert-info\">\n",
    "<!-- YOUR ANSWER BEGIN -->\n",
    "\n",
    "\n",
    "\n",
    "\n",
    "\n",
    "<!-- YOUR ANSWER END -->\n",
    "</div>"
   ]
  }
 ],
 "metadata": {
  "kernelspec": {
   "display_name": "Python 3 (ipykernel)",
   "language": "python",
   "name": "python3"
  },
  "language_info": {
   "codemirror_mode": {
    "name": "ipython",
    "version": 3
   },
   "file_extension": ".py",
   "mimetype": "text/x-python",
   "name": "python",
   "nbconvert_exporter": "python",
   "pygments_lexer": "ipython3",
   "version": "3.12.6"
  },
  "vscode": {
   "interpreter": {
    "hash": "be14b4e913c6f2457a185c22af60a9db8729a2914b48dcc2c5e42fe4e4a2ce08"
   }
  }
 },
 "nbformat": 4,
 "nbformat_minor": 5
}
