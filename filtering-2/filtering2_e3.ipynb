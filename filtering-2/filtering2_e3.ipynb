{
 "cells": [
  {
   "cell_type": "markdown",
   "id": "3d6ee0dc",
   "metadata": {
    "deletable": false,
    "editable": false
   },
   "source": [
    "# Filtering-2"
   ]
  },
  {
   "cell_type": "markdown",
   "id": "d0df684e",
   "metadata": {
    "deletable": false,
    "editable": false
   },
   "source": [
    "Consider the 'student performance on exam' dataset. This dataset has data on several students exam performance. The dataset has the following columns:\n",
    "**gender,\n",
    "race/ethnicity,\n",
    " parental level of education,\n",
    " lunch,\n",
    " test preparation course,\n",
    " math score,\n",
    "reading score,\n",
    "writing score.**\n",
    "### Question: Analyze the students' total exam score performance of a specific race/ethnicity(group D) based on their test preparation."
   ]
  },
  {
   "cell_type": "markdown",
   "id": "ab83e69e",
   "metadata": {
    "deletable": false,
    "editable": false
   },
   "source": [
    "\n",
    "\n",
    "Our task to analyze the students' total exam score performance of a specific race/ethnicity(group D) based on their test preparation. To do this analysis we will need to do some filtering to focus on the data required to do this performance analysis.\n",
    "\n",
    "**Dataset location:** datasets/StudentsPerformance.csv"
   ]
  },
  {
   "cell_type": "markdown",
   "id": "81b4b198",
   "metadata": {
    "deletable": false,
    "editable": false
   },
   "source": [
    "<span><h3>\n",
    " Step 1: Read CSV Data into Pandas Dataframe",
    "\n</h3></span>"
   ]
  },
  {
   "cell_type": "markdown",
   "id": "7fee2fea",
   "metadata": {
    "deletable": false,
    "editable": false
   },
   "source": [
    "#### Import Pandas Library"
   ]
  },
  {
   "cell_type": "markdown",
   "id": "321b09dd",
   "metadata": {
    "deletable": false,
    "editable": false
   },
   "source": [
    "- Create variable &nbsp;`pd`\n",
    "- `import pandas as pd`"
   ]
  },
  {
   "cell_type": "markdown",
   "id": "a508ab37",
   "metadata": {
    "deletable": false,
    "editable": false
   },
   "source": [
    "Here's how:\n",
    "\n",
    "1. From IMPORT, grab `import .. as ..`\n",
    "2. Replace text `some library` with `pandas`\n",
    "3. From VARIABLES, click `Create Variable...`, enter `pd`, click OK\n",
    "4. Select `pd` from `variable name` dropdown in `import .. as ..`\n",
    "5. Click Blocks to Code and run cell"
   ]
  },
  {
   "cell_type": "markdown",
   "id": "14afa8fb",
   "metadata": {
    "deletable": false,
    "editable": false
   },
   "source": [
    "<br>\n",
    "<details>\n",
    "    <summary>Blockly Hints (Click to expand)</summary>\n",
    "    <ul>\n",
    "        <li>Blocks\n",
    "            <ul>\n",
    "                <li><code>import .. as ..</code>\n",
    "                    <ul>\n",
    "                        <li>The <code>import .. as ..</code> block is found under IMPORT.</li> \n",
    "                        <li>A variable must have been created before it will appear in the dropdown.</li>\n",
    "                    </ul>\n",
    "                </li>\n",
    "            </ul>\n",
    "        </li>\n",
    "    </ul>\n",
    "</details>"
   ]
  },
  {
   "cell_type": "code",
   "execution_count": null,
   "id": "c17c308f",
   "metadata": {
    "datawhys": {
     "response_id": 1,
     "student_response": true
    },
    "deletable": false,
    "editable": true
   },
   "outputs": [],
   "source": []
  },
  {
   "cell_type": "markdown",
   "id": "b04ce9e7",
   "metadata": {
    "deletable": false,
    "editable": false
   },
   "source": [
    "#### Read CSV data and Save in Variable"
   ]
  },
  {
   "cell_type": "markdown",
   "id": "b57d873e",
   "metadata": {
    "deletable": false,
    "editable": false
   },
   "source": [
    "- Create variable &nbsp;`student_data`\n",
    "- `Set student_data to` &nbsp;:&nbsp; `with pd do read_csv using` &nbsp;<-&nbsp; `\" datasets/StudentsPerformance.csv \"`"
   ]
  },
  {
   "cell_type": "markdown",
   "id": "7f50d9ce",
   "metadata": {
    "deletable": false,
    "editable": false
   },
   "source": [
    "Here's how:\n",
    "\n",
    "1. From VARIABLES, grab `with .. do .. using ..`\n",
    "2. Make sure `pd` is selected in dropdown after with\n",
    "3. Select `read_csv` from dropdown after do\n",
    "4. From TEXT, grab `\" .. \"`\n",
    "5. Type `datasets/StudentsPerformance.csv` into `\" .. \"`\n",
    "6. Drag the `\" .. \"` into the space after using in `with .. do .. using ..`\n",
    "7. From VARIABLES, click `Create Variable...`, enter `student_data`, click OK\n",
    "8. From VARIABLES, grab `set .. to`\n",
    "9. Change dropdown after set to `student_data`\n",
    "10. Connect `set .. to` and `with .. do .. using ..`\n",
    "11. Click Blocks to Code and run cell"
   ]
  },
  {
   "cell_type": "markdown",
   "id": "a473b53c",
   "metadata": {
    "deletable": false,
    "editable": false
   },
   "source": [
    "<br><details><summary>Blockly Hints (Click triangle to expand)</summary><ul><li>Notation<ul><li><code>A</code> &nbsp;:&nbsp; <code>B</code>&nbsp; means snap blocks A and B together.</li><li><code>A</code> &nbsp;&lt;-&nbsp; <code>B</code>&nbsp; means insert block B into the hole in block A.</li></ul></li><li>Blocks<ul><li><code>set .. to</code><ul><li>The <code>set .. to</code> block is found under VARIABLES.</li> <li>A variable must have been created before it will appear in the dropdown.</li></ul></li><li><code>with .. do .. using ..</code><ul><li>The <code>with .. do .. using ..</code> block is found under VARIABLES.</li> <li>If <code>do</code> dropdown says \"!Not populated until you execute code\", click anywhere in the notebook tab, then click try \"Run All Above Selected Cell\" from the \"Run\" menu.</li> <li>If <code>with .. do .. using ..</code> block does not want to snap together nicely with the <code>set .. to</code> block, try dragging the <code>set .. to</code> block instead.</li></ul></li><li><code>\" .. \"</code><ul><li>The <code>\" .. \"</code> block is found under TEXT.</li></ul></li></ul></li></ul></details>"
   ]
  },
  {
   "cell_type": "code",
   "execution_count": null,
   "id": "724dff05",
   "metadata": {
    "datawhys": {
     "response_id": 2,
     "student_response": true
    },
    "deletable": false,
    "editable": true
   },
   "outputs": [],
   "source": []
  },
  {
   "cell_type": "markdown",
   "id": "1026cdec",
   "metadata": {
    "deletable": false,
    "editable": false
   },
   "source": [
    "#### Display Dataframe Contents"
   ]
  },
  {
   "cell_type": "markdown",
   "id": "dcb8a6cb",
   "metadata": {
    "deletable": false,
    "editable": false
   },
   "source": [
    "- variable &nbsp;`student_data`"
   ]
  },
  {
   "cell_type": "markdown",
   "id": "4621d788",
   "metadata": {
    "deletable": false,
    "editable": false
   },
   "source": [
    "Here's how:\n",
    "\n",
    "1. From VARIABLES, grab `student_data`\n",
    "2. Click Blocks to Code and run cell"
   ]
  },
  {
   "cell_type": "markdown",
   "id": "bd9ec858",
   "metadata": {
    "deletable": false,
    "editable": false
   },
   "source": [
    "<br>\n",
    "<details>\n",
    "    <summary>Blockly Hints (Click on triangle to expand)</summary>\n",
    "    <ul>\n",
    "        <li>Blocks\n",
    "            <ul>\n",
    "                <li>variable\n",
    "                    <ul>\n",
    "                        <li>After it is created, each variable has its own block at the end of the VARIABLES menu.</li>\n",
    "                    </ul>\n",
    "                </li>\n",
    "            </ul>\n",
    "        </li>\n",
    "    </ul>\n",
    "</details>\n"
   ]
  },
  {
   "cell_type": "code",
   "execution_count": null,
   "id": "c0ee6900",
   "metadata": {
    "datawhys": {
     "response_id": 3,
     "student_response": true
    },
    "deletable": false,
    "editable": true
   },
   "outputs": [],
   "source": []
  },
  {
   "cell_type": "markdown",
   "id": "1edc88d2",
   "metadata": {
    "deletable": false,
    "editable": false
   },
   "source": [
    "<span><h3>\n",
    " Step 2: Analyze Students' Performance",
    "\n</h3></span>"
   ]
  },
  {
   "cell_type": "markdown",
   "id": "6d04e40a",
   "metadata": {
    "deletable": false,
    "editable": false
   },
   "source": [
    "#### Add New Column in Dataframe\n",
    "\n",
    "In the dataset, there are 3 scores of students' exam performance shown. We are interested in comparing their performance on their overall score. So, to get their overall score, we add all these scores together in a new variable `total score` and store them in `student_data` dataframe as shown below."
   ]
  },
  {
   "cell_type": "markdown",
   "id": "838bf060",
   "metadata": {
    "deletable": false,
    "editable": false
   },
   "source": [
    "`sum of list ` :  &nbsp;<-&nbsp; `create list with` &nbsp;:\n",
    "  - `student_data [..]` <- `\"math score\"`\n",
    "  - `student_data [..]` <- `\"reading score\"`\n",
    "  - `student_data [..]` <- `\"writing score\"`"
   ]
  },
  {
   "cell_type": "markdown",
   "id": "41cbc7e1",
   "metadata": {
    "deletable": false,
    "editable": false
   },
   "source": [
    "<details>\n",
    "<summary>Blockly instructions: (click triangle to expand)</summary>\n",
    "<br> \n",
    "\n",
    "- Notation\n",
    "    - `A : B` means snap blocks A and B together.\n",
    "    - `A <- B` means insert block B into the hole in block A.\n",
    "        \n",
    "- Blocks:\n",
    "    - From `LISTS`, get the `{dictVariable} []` block.\n",
    "    - Make 2 duplicate copies of it. Replace {dictVariable} with `student_data`.\n",
    "    - From `TEXT`, get 3 `\" \"` blocks. Write `math score`,`reading score`,`writing score` in them. Put them inside the `student_data[]` blocks.\n",
    "    - From `LISTS`, get `create list with` block. Add 3 `student_data` blocks into that.\n",
    "    - From `MATH`, get `sum of list` block. Connect it to `create list with` block.     \n",
    "    - Click on \"Blocks to Code\" at the bottom of the blockly palette.   \n",
    "    - After blocks to code, in the code cell, type `student_data['total_score']=`existing code   \n",
    "    - Run the python cell by pressing Shift+Enter.    \n",
    "</details>\n"
   ]
  },
  {
   "cell_type": "code",
   "execution_count": null,
   "id": "6bf6ae85",
   "metadata": {
    "datawhys": {
     "response_id": 4,
     "student_response": true
    },
    "deletable": false,
    "editable": true
   },
   "outputs": [],
   "source": []
  },
  {
   "cell_type": "markdown",
   "id": "60804ae0",
   "metadata": {
    "deletable": false,
    "editable": false
   },
   "source": [
    "#### Display the Dataframe\n",
    "\n",
    "After adding the new `total_score` column we will view the dataframe."
   ]
  },
  {
   "cell_type": "markdown",
   "id": "903ee1b3",
   "metadata": {
    "deletable": false,
    "editable": false
   },
   "source": [
    "- variable &nbsp;`student_data`"
   ]
  },
  {
   "cell_type": "markdown",
   "id": "b16408f9",
   "metadata": {
    "deletable": false,
    "editable": false
   },
   "source": [
    "<details>\n",
    "<summary>Blockly instructions: (click triangle to expand)</summary>\n",
    "<br>\n",
    "    \n",
    "- After a variable created, each variable has its own block at the end of the VARIABLES menu.    \n",
    "- Click the variable block  `student_data` in the blockly workspace.\n",
    "- Click on \"Blocks to Code\" at the bottom of the blockly palette.     \n",
    "- Execute the code using Shift+Enter in the python file.\n",
    "</details>"
   ]
  },
  {
   "cell_type": "code",
   "execution_count": null,
   "id": "4b94d6e4",
   "metadata": {
    "datawhys": {
     "response_id": 5,
     "student_response": true
    },
    "deletable": false,
    "editable": true
   },
   "outputs": [],
   "source": []
  },
  {
   "cell_type": "markdown",
   "id": "0654a187",
   "metadata": {
    "deletable": false,
    "editable": false
   },
   "source": [
    "#### Find Out Student Count for Each Group Based on `race/ethnicity`"
   ]
  },
  {
   "cell_type": "markdown",
   "id": "dea56227",
   "metadata": {
    "deletable": false,
    "editable": false
   },
   "source": [
    "If we look look at the `race/ethnicity` column we can see that each student is assigned a group. We want to include this information for our analysis.\n",
    "\n",
    "Let's find out student count for each of these groups."
   ]
  },
  {
   "cell_type": "markdown",
   "id": "d0f708aa",
   "metadata": {
    "deletable": false,
    "editable": false
   },
   "source": [
    "dictVariable `student_data [..]` <- `\"race/ethnicity\"`"
   ]
  },
  {
   "cell_type": "markdown",
   "id": "d8cd8e85",
   "metadata": {
    "deletable": false,
    "editable": false
   },
   "source": [
    "<details>\n",
    "<summary>Blockly instructions: (click triangle to expand)</summary>\n",
    "<br>\n",
    "\n",
    "- Notation\n",
    "    - `A : B`means snap blocks A and B together.\n",
    "    - `A <- B`means insert block B into the hole in block A.\n",
    "\n",
    "    \n",
    "- Blocks:\n",
    "    - From `LISTS`, get `{dictVariable}[ ]` block.\n",
    "    - Replace `dictVariable` with `student_data`.\n",
    "    - From `TEXT`, get `\" \"` block. Put `race/ethnicity` inside it and drag inside `student_data` block.\n",
    "    - Click `Blocks to Code`.\n",
    "    - In the code cell, write - existing code.`value_counts()`.    \n",
    "    -Execute the code using Shift+Enter in the python file.\n",
    "</details>"
   ]
  },
  {
   "cell_type": "code",
   "execution_count": null,
   "id": "85456e53",
   "metadata": {
    "datawhys": {
     "response_id": 6,
     "student_response": true
    },
    "deletable": false,
    "editable": true
   },
   "outputs": [],
   "source": []
  },
  {
   "cell_type": "markdown",
   "id": "7972f8ad",
   "metadata": {
    "deletable": false,
    "editable": false
   },
   "source": [
    "#### Filter the Studets of a Specific Group Only"
   ]
  },
  {
   "cell_type": "markdown",
   "id": "6e8c42ab",
   "metadata": {
    "deletable": false,
    "editable": false
   },
   "source": [
    "Now , we are only interested in a special group(from 'race/ethnicity' column) which is group D. "
   ]
  },
  {
   "cell_type": "markdown",
   "id": "1df05d63",
   "metadata": {
    "deletable": false,
    "editable": false
   },
   "source": [
    "- create variable `group_D`\n",
    "- `Set group_D to` &nbsp;:&nbsp; `student_data [ .. ]` &nbsp;<-&nbsp; ` .. = .. ` &nbsp;<-\n",
    "  - `student_data [ .. ]` &nbsp;<-&nbsp; `\"race/ethnicity\"` \n",
    "  - `\"Group D\"`\n",
    "- Will look like - `Set group_D to student_data [ student_data [\"race/ethnicituy\"] = \"Group D\"]`\n",
    "- `group_D`"
   ]
  },
  {
   "cell_type": "markdown",
   "id": "283b8e66",
   "metadata": {
    "deletable": false,
    "editable": false
   },
   "source": [
    "<details>\n",
    "<summary> Blockly Instructions(click triangle to expand) </summary>\n",
    "<br>\n",
    "\n",
    "- Notation:\n",
    "    - `A : B` means snap blocks A and B together.\n",
    "    - `A <- B` means insert block B into the hole in block A.\n",
    "- Blocks:\n",
    "    - from `LISTS`, click on `{dictvariable}[]`. place `student_data` inplace of `dictvariable`.\n",
    "get a text block `\" \"`. write 'race/ethnicity' in the `\" \"` block. drag it inside `student_data`.\n",
    "    - from `LOGIC` block, click on ` .. = .. ` block. on the left side of `=`, put the `student_data [ \"race/ethnicity\"`]. On the right side put a `TEXT` block. put `group D` on it.\n",
    "    - from lists, click on `{dictvariable}[]`. place `student_data` inplace of `dictvariable`.Put the already created `student_data [\"race/ethnicity\"]=\"group D\"` block inside the [ ] of new `student_data [ ]` block. \n",
    "    - At this point the whole block should look like `student-data [student_data[\"race/ethnicity\"]=\"group D\"]`\n",
    "    - create a variable `group_D`. click on set `group_D` to and connect the `student_data` block.\n",
    "    - From `VARIABLES` block, click the `group_D` block.    \n",
    "    - Click on \"Blocks to Code\" at the bottom of the blockly palette.\n",
    "    - Run the python code cell.\n",
    "            \n",
    "</details>"
   ]
  },
  {
   "cell_type": "code",
   "execution_count": null,
   "id": "50294ac8",
   "metadata": {
    "datawhys": {
     "response_id": 7,
     "student_response": true
    },
    "deletable": false,
    "editable": true
   },
   "outputs": [],
   "source": []
  },
  {
   "cell_type": "markdown",
   "id": "436d37c9",
   "metadata": {
    "deletable": false,
    "editable": false
   },
   "source": [
    "#### Filter Required Columns"
   ]
  },
  {
   "cell_type": "markdown",
   "id": "e676dc0f",
   "metadata": {
    "deletable": false,
    "editable": false
   },
   "source": [
    "Now that we have group_D specific data, we dive into more deeper exploration of this group data.\n",
    "We want to know only about the students' `gender, test preparation course, parental education and total score`.\n",
    "\n"
   ]
  },
  {
   "cell_type": "markdown",
   "id": "837a4eb1",
   "metadata": {
    "deletable": false,
    "editable": false
   },
   "source": [
    "- `Set new_data to` : `group_D [ .. ]` &nbsp;<-&nbsp; `create list with` &nbsp;:\n",
    "  - `\"gender\"`\n",
    "  - `\"parental level of education\"`\n",
    "  - `\"test preparation course\"`\n",
    "  - `\"total_score\"`\n",
    "- `new_data`"
   ]
  },
  {
   "cell_type": "markdown",
   "id": "0bdc1953",
   "metadata": {
    "deletable": false,
    "editable": false
   },
   "source": [
    "<details>\n",
    "<summary> Blockly Instructions(click triangle to expand) </summary>\n",
    "<br>\n",
    "\n",
    "- Notation:\n",
    "    - `A : B` means snap blocks A and B together.\n",
    "    - `A <- B` means insert block B into the hole in block A.\n",
    "\n",
    "- Blocks:\n",
    "    - From `LISTS` block , click on `{dictVariable} [ ]` block. Put `group_D` in place of {dictVariable}. \n",
    "    - From `LISTS`, click on `create list with` block.Click on + sign on the list block 1 times.This will create 4 connection point at the end of the `create list with` block\n",
    "    - Take 4 `\" \"` block from `TEXT` block.\n",
    "Write `gender, parental level of education, test preparation course, total_score` in the text blocks. Drag them at the end of `create list with` block.\n",
    "    - Drag the `create list with` block inside `group_D`\n",
    "    - Create a variable `new_data`. click on `set new_data` to and connect to the left of `group_D [..]` block.\n",
    "    - From `VARIABLES` block, click the `new_data` block.     \n",
    "    - Click on \"Blocks to Code\" at the bottom of the blockly palette.\n",
    "    - Run the python code cell.\n",
    "</details>"
   ]
  },
  {
   "cell_type": "code",
   "execution_count": null,
   "id": "bd89a5c2",
   "metadata": {
    "datawhys": {
     "response_id": 8,
     "student_response": true
    },
    "deletable": false,
    "editable": true
   },
   "outputs": [],
   "source": []
  },
  {
   "cell_type": "markdown",
   "id": "3cfa9c14",
   "metadata": {
    "deletable": false,
    "editable": false
   },
   "source": [
    "### Calculate mean of the `total_score` for the students who completed test preparation course."
   ]
  },
  {
   "cell_type": "markdown",
   "id": "4ecd5dea",
   "metadata": {
    "deletable": false,
    "editable": false
   },
   "source": [
    "<span><h4>\n",
    " Substep 1: Find the Students Who Completed Test Preparation Course.\n",
    "\n</h4></span>"
   ]
  },
  {
   "cell_type": "markdown",
   "id": "f44d9e40",
   "metadata": {
    "deletable": false,
    "editable": false
   },
   "source": [
    "First, we have find out the scores of the students who had completed the test preparation course.For this we look into `test preparation course` column and keep only the `completed` ones.\n"
   ]
  },
  {
   "cell_type": "markdown",
   "id": "e1a476ca",
   "metadata": {
    "deletable": false,
    "editable": false
   },
   "source": [
    "- create variable `complete_prep`\n",
    "- `Set complete_prep to` &nbsp;:&nbsp; `new_data [ .. ]` &nbsp;<-&nbsp; ` .. = .. ` &nbsp;<-\n",
    "  - `new_data [ .. ]` &nbsp;<-&nbsp; `\"test preparation course\"` \n",
    "  - `\"completed\"`\n",
    "- Will look like  `Set complete_prep to new_data [ new_data [\"test preparation course\"] = \"completed\"]`\n",
    "- `complete_prep`"
   ]
  },
  {
   "cell_type": "markdown",
   "id": "dfafdbc0",
   "metadata": {
    "deletable": false,
    "editable": false
   },
   "source": [
    "<details>\n",
    "<summary> Blockly Instructions(click triangle to expand) </summary>\n",
    "<br>\n",
    "    \n",
    "- Notation:\n",
    "    - `A : B` means snap blocks A and B together.\n",
    "    - `A <- B` means insert block B into the hole in block A.\n",
    "- Blocks:\n",
    "    - from `LISTS`, click on `{dictvariable}[]`. place `new_data` inplace of `dictvariable`.\n",
    "get a text block `\" \"`. write `test preparation course` in the `\" \"` block. drag it inside `new_data`.\n",
    "    - from `LOGIC` block, click on `.. = ..` block. on the left side of `=`, put the already created `new_data[\"test preparation course\"]` block. On the right side of `=` put a `\" \"` block. Write `completed` on it.\n",
    "    - from lists, click on `{dictvariable}[]`. place `new_data` inplace of `dictvariable`.Put the already created `new_data[\"test preparation course\"]=\"completed\"` block inside the new `new_data` block.\n",
    "    - create a variable `complete_prep`. click on `set complete_prep to` and connect to the already created `new_data[new_data[\"test preparation course\"]=\"completed\"]` block.\n",
    "    - From `VARIABLES` block, click the `complete_prep` block.    \n",
    "    - Click on \"Blocks to Code\" at the bottom of the blockly palette.\n",
    "    - Run the python code cell.\n",
    "</details>"
   ]
  },
  {
   "cell_type": "code",
   "execution_count": null,
   "id": "ceb989e7",
   "metadata": {
    "datawhys": {
     "response_id": 9,
     "student_response": true
    },
    "deletable": false,
    "editable": true
   },
   "outputs": [],
   "source": []
  },
  {
   "cell_type": "markdown",
   "id": "46e1c39f",
   "metadata": {
    "deletable": false,
    "editable": false
   },
   "source": [
    "<span><h4>\n",
    " Substep 2: Calculate Mean of the `total_score` of the Students Who Completed `test preparation course`\n\nNow we want to calculate **Mean** of the `total_score` of the students who completed `test preparation course`.",
    "\n</h4></span>"
   ]
  },
  {
   "cell_type": "markdown",
   "id": "e08d37ec",
   "metadata": {
    "deletable": false,
    "editable": false
   },
   "source": [
    "##### But to accomplish this, first we need to select the `total_score` column only from `complete_prep` and save it in a variable."
   ]
  },
  {
   "cell_type": "markdown",
   "id": "170d69c0",
   "metadata": {
    "deletable": false,
    "editable": false
   },
   "source": [
    "- Create variable `mean_complete_prep`\n",
    "- `Set mean_complete_prep to` : `complete_prep [ .. ]` &nbsp;<-&nbsp; `\"total_score\"` \n",
    "- `mean_complete_prep`"
   ]
  },
  {
   "cell_type": "markdown",
   "id": "58fe2a69",
   "metadata": {
    "deletable": false,
    "editable": false
   },
   "source": [
    "<details>\n",
    "<summary> Blockly Instructions(click triangle to expand) </summary>\n",
    "<br>\n",
    "\n",
    "- Notation:\n",
    "    - `A : B` means snap blocks A and B together.\n",
    "    - `A <- B` means insert block B into the hole in block A.\n",
    "- Blocks:\n",
    "    - from `LISTS`, click on `{dictvariable}[]`. place `complete_prep` inplace of `dictvariable`.\n",
    "get a text block `\" \"`. write \"total_score\" in the `\" \"` block. drag it inside `complete_prep`.\n",
    "    - create a variable `mean_complete_prep`. click on `set mean_complete_prep to` and connect to the `complete_prep` block.\n",
    "    - From `VARIABLES` block, click the `mean_complete_prep` block.    \n",
    "    - Click on \"Blocks to Code\" at the bottom of the blockly palette.\n",
    "    - Run the python code cell.\n",
    "</details>"
   ]
  },
  {
   "cell_type": "code",
   "execution_count": null,
   "id": "a388107f",
   "metadata": {
    "datawhys": {
     "response_id": 10,
     "student_response": true
    },
    "deletable": false,
    "editable": true
   },
   "outputs": [],
   "source": []
  },
  {
   "cell_type": "markdown",
   "id": "bb445a81",
   "metadata": {
    "deletable": false,
    "editable": false
   },
   "source": [
    "##### Calculate mean for `mean_complete_prep`"
   ]
  },
  {
   "cell_type": "markdown",
   "id": "0e59c2ae",
   "metadata": {
    "deletable": false,
    "editable": false
   },
   "source": [
    "- `with mean_complete_prep do mean using ..`"
   ]
  },
  {
   "cell_type": "markdown",
   "id": "663f1ac0",
   "metadata": {
    "deletable": false,
    "editable": false
   },
   "source": [
    "<details>\n",
    "<summary> Blockly Instructions(click triangle to expand) </summary>\n",
    "<br>\n",
    "\n",
    "- Blocks:    \n",
    "    - From `VARIABLES` block, click the `with mean_complete_prep do ...using...` block. \n",
    "    - From do , select `mean` option.    \n",
    "    - Click on \"Blocks to Code\" at the bottom of the blockly palette.\n",
    "    - Run the python code cell.\n",
    "</details>"
   ]
  },
  {
   "cell_type": "code",
   "execution_count": null,
   "id": "5568bf28",
   "metadata": {
    "datawhys": {
     "response_id": 11,
     "student_response": true
    },
    "deletable": false,
    "editable": true
   },
   "outputs": [],
   "source": []
  },
  {
   "cell_type": "markdown",
   "id": "7d7c1354",
   "metadata": {
    "deletable": false,
    "editable": false
   },
   "source": [
    "### Calculate mean of the `total_score` for the students who had no test preparation course."
   ]
  },
  {
   "cell_type": "markdown",
   "id": "66590cdb",
   "metadata": {
    "deletable": false,
    "editable": false
   },
   "source": [
    "Now , we want to compare scores for students who didnt prepare well for the exam.\n",
    "For that, we filter data for students who did not take test preparation course."
   ]
  },
  {
   "cell_type": "markdown",
   "id": "3a6aa02e",
   "metadata": {
    "deletable": false,
    "editable": false
   },
   "source": [
    "<span><h4>\n",
    " Substep 1: Filter the Students Who Have `none` in Test Preparation Course\n\nTo do that, we filter from `new_data` since that had all completed and incomplete data.",
    "\n</h4></span>"
   ]
  },
  {
   "cell_type": "markdown",
   "id": "229b350f",
   "metadata": {
    "deletable": false,
    "editable": false
   },
   "source": [
    "- create variable `incomplete_prep`\n",
    "- `Set incomplete_prep to` &nbsp;:&nbsp; `new_data [ .. ]` &nbsp;<-&nbsp; ` .. = .. ` &nbsp;<-\n",
    "  - `new_data [ .. ]` &nbsp;<-&nbsp; `\"test preparation course\"` \n",
    "  - `\"none\"`\n",
    "- Will look like  `Set incomplete_prep to new_data [ new_data [\"test preparation course\"] = \"none\"]`\n",
    "- `incomplete_prep`"
   ]
  },
  {
   "cell_type": "markdown",
   "id": "c5542b2f",
   "metadata": {
    "deletable": false,
    "editable": false
   },
   "source": [
    "<details>\n",
    "<summary> Blockly Instructions(click triangle to expand) </summary>\n",
    "<br>\n",
    "    \n",
    "- Notation:\n",
    "    - `A : B` means snap blocks A and B together.\n",
    "    - `A <- B` means insert block B into the hole in block A.\n",
    "- Blocks:\n",
    "    - from `LISTS`, click on `{dictvariable}[]`. place `new_data` inplace of `dictvariable`.\n",
    "get a text block `\" \"`. write \"test preparation course\" in the `\" \"` block. drag it inside `new_data`.\n",
    "    - from `LOGIC` block, click on `equals` block. on the left side of it, put the `new_data list with test preparation course`. On the right side put a `\" \"` block. put `none` on it.\n",
    "    - from lists, click on `{dictvariable}[]`. place `new_data` inplace of `dictvariable`.Put the logic block inside the new `new_data` block.\n",
    "    - create a variable `incomplete_prep`. click on set `incomplete_prep to` and connect to the `new_data` block.\n",
    "    - From `VARIABLES` block, click the `incomplete_prep` block.    \n",
    "    - Click on \"Blocks to Code\" at the bottom of the blockly palette.\n",
    "    - Run the python code cell.\n",
    "</details>"
   ]
  },
  {
   "cell_type": "code",
   "execution_count": null,
   "id": "1b6b0ee8",
   "metadata": {
    "datawhys": {
     "response_id": 12,
     "student_response": true
    },
    "deletable": false,
    "editable": true
   },
   "outputs": [],
   "source": []
  },
  {
   "cell_type": "markdown",
   "id": "d68ed839",
   "metadata": {
    "deletable": false,
    "editable": false
   },
   "source": [
    "<span><h4>\n",
    " Substep 2: Calculate Mean of the `total_score` of the Students Who had no `test preparation course`\n\nNow we want to calculate Mean of the `total_score` of the students who had no `test preparation course`. We will look for the students who have `none` in their `test preparation course`",
    "\n</h4></span>"
   ]
  },
  {
   "cell_type": "markdown",
   "id": "db4dcb58",
   "metadata": {
    "deletable": false,
    "editable": false
   },
   "source": [
    "##### Select the `total_score` column only and Save it in a Variable"
   ]
  },
  {
   "cell_type": "markdown",
   "id": "477149e9",
   "metadata": {
    "deletable": false,
    "editable": false
   },
   "source": [
    "- Create variable `mean_incomplete_prep`\n",
    "- `Set mean_incomplete_prep to` : `incomplete_prep [ .. ]` &nbsp;<-&nbsp; `\"total_score\"` \n",
    "- `mean_incomplete_prep`"
   ]
  },
  {
   "cell_type": "markdown",
   "id": "f54fab70",
   "metadata": {
    "deletable": false,
    "editable": false
   },
   "source": [
    "<details>\n",
    "<summary> Blockly Instructions(click triangle to expand) </summary>\n",
    "<br>\n",
    "\n",
    "- Notation:\n",
    "    - `A : B` means snap blocks A and B together.\n",
    "    - `A <- B` means insert block B into the hole in block A.\n",
    "- Blocks:\n",
    "    - from `LISTS`, click on `{dictvariable}[]`. place `incomplete_prep` inplace of `dictvariable`.\n",
    "get a text block `\" \"`. write \"total_score\" in the `\" \"` block. drag it inside `incomplete_prep`.\n",
    "    - create a variable `mean_incomplete_prep`. click on `Set mean_incomplete_prep to` and connect to the `incomplete_prep` block.\n",
    "    - From `VARIABLES` block, click the `mean_incomplete_prep` block.    \n",
    "    - Click on \"Blocks to Code\" at the bottom of the blockly palette.\n",
    "    - Run the python code cell.\n",
    "</details>"
   ]
  },
  {
   "cell_type": "code",
   "execution_count": null,
   "id": "417820b6",
   "metadata": {
    "datawhys": {
     "response_id": 13,
     "student_response": true
    },
    "deletable": false,
    "editable": true
   },
   "outputs": [],
   "source": []
  },
  {
   "cell_type": "markdown",
   "id": "96b4feba",
   "metadata": {
    "deletable": false,
    "editable": false
   },
   "source": [
    "##### Calculate mean for `mean_incomplete_prep`"
   ]
  },
  {
   "cell_type": "markdown",
   "id": "10957822",
   "metadata": {
    "deletable": false,
    "editable": false
   },
   "source": [
    "- `with mean_incomplete_prep do mean using ..`"
   ]
  },
  {
   "cell_type": "markdown",
   "id": "1396b5a2",
   "metadata": {
    "deletable": false,
    "editable": false
   },
   "source": [
    "<details>\n",
    "<summary> Blockly Instructions(click triangle to expand) </summary>\n",
    "<br>\n",
    "\n",
    "- Blocks:    \n",
    "    - From `VARIABLES` block, click the `with mean_incomplete_prep do ...using...` block. \n",
    "    - From do , select `mean` option.    \n",
    "    - Click on \"Blocks to Code\" at the bottom of the blockly palette.\n",
    "    - Run the python code cell.\n",
    "</details>"
   ]
  },
  {
   "cell_type": "code",
   "execution_count": null,
   "id": "06851a37",
   "metadata": {
    "datawhys": {
     "response_id": 14,
     "student_response": true
    },
    "deletable": false,
    "editable": true
   },
   "outputs": [],
   "source": []
  },
  {
   "cell_type": "markdown",
   "id": "aba76af0",
   "metadata": {
    "deletable": false,
    "editable": false
   },
   "source": [
    "### Which of the 2 groups performed better in terms of mean score??"
   ]
  },
  {
   "cell_type": "markdown",
   "id": "d622c54d-34af-45d0-b307-1e2bbe534d42",
   "metadata": {
    "datawhys": {
     "response_id": 15,
     "student_response": true
    },
    "deletable": false,
    "editable": true
   },
   "source": [
    "<div class=\"alert alert-block alert-info\">\n",
    "<!-- YOUR ANSWER BEGIN -->\n",
    "\n",
    "\n",
    "\n",
    "\n",
    "\n",
    "<!-- YOUR ANSWER END -->\n",
    "</div>"
   ]
  },
  {
   "cell_type": "code",
   "execution_count": null,
   "id": "bde4daa8-1974-4f9c-a4d1-93a5c3a35c3d",
   "metadata": {
    "deletable": false,
    "editable": false
   },
   "outputs": [],
   "source": []
  }
 ],
 "metadata": {
  "kernelspec": {
   "display_name": "Python 3 (ipykernel)",
   "language": "python",
   "name": "python3"
  },
  "language_info": {
   "codemirror_mode": {
    "name": "ipython",
    "version": 3
   },
   "file_extension": ".py",
   "mimetype": "text/x-python",
   "name": "python",
   "nbconvert_exporter": "python",
   "pygments_lexer": "ipython3",
   "version": "3.12.6"
  }
 },
 "nbformat": 4,
 "nbformat_minor": 5
}
