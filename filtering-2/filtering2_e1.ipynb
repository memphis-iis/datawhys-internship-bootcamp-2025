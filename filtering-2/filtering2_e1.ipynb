{
 "cells": [
  {
   "cell_type": "markdown",
   "id": "d2ba3fc2",
   "metadata": {
    "deletable": false,
    "editable": false
   },
   "source": [
    "# User Activity1 (Filtering-2)"
   ]
  },
  {
   "cell_type": "markdown",
   "id": "0a12e3d1",
   "metadata": {
    "deletable": false,
    "editable": false
   },
   "source": [
    "Consider the 'student performance on exam' dataset. This dataset has data on several students' exam performance. The dataset has the following columns:\n",
    "**gender,\n",
    "race/ethnicity,\n",
    " parental level of education,\n",
    " lunch,\n",
    " test preparation course,\n",
    " math score,\n",
    "reading score,\n",
    "writing score.**\n",
    "\n",
    "### Analyze the students' total exam score performance of a specific race/ethnicity(group D) based on their gender."
   ]
  },
  {
   "cell_type": "markdown",
   "id": "1543b719",
   "metadata": {
    "deletable": false,
    "editable": false
   },
   "source": [
    "Our task to analyze the students' total exam score performance of a specific race/ethnicity(group D) based on their gender. To do this, we will analyze data of the male and female groups in terms of their total test score.\n",
    "\n",
    "**Dataset location:** datasets/StudentsPerformance.csv"
   ]
  },
  {
   "cell_type": "markdown",
   "id": "88bf2789",
   "metadata": {
    "deletable": false,
    "editable": false
   },
   "source": [
    "<span><h3>\n",
    " Step 1: Read CSV Data into Pandas Dataframe",
    "\n</h3></span>"
   ]
  },
  {
   "cell_type": "markdown",
   "id": "807eab0a",
   "metadata": {
    "deletable": false,
    "editable": false
   },
   "source": [
    "#### Import Pandas Library"
   ]
  },
  {
   "cell_type": "markdown",
   "id": "5c958b6f",
   "metadata": {
    "deletable": false,
    "editable": false
   },
   "source": [
    "- Create variable &nbsp;`pd`\n",
    "- `import pandas as pd`"
   ]
  },
  {
   "cell_type": "markdown",
   "id": "fa6f235e",
   "metadata": {
    "deletable": false,
    "editable": false
   },
   "source": [
    "<br>\n",
    "<details>\n",
    "    <summary>Blockly Hints (Click to expand)</summary>\n",
    "    <ul>\n",
    "        <li>Blocks\n",
    "            <ul>\n",
    "                <li><code>import .. as ..</code>\n",
    "                    <ul>\n",
    "                        <li>The <code>import .. as ..</code> block is found under IMPORT.</li> \n",
    "                        <li>A variable must have been created before it will appear in the dropdown.</li>\n",
    "                    </ul>\n",
    "                </li>\n",
    "            </ul>\n",
    "        </li>\n",
    "    </ul>\n",
    "</details>"
   ]
  },
  {
   "cell_type": "code",
   "execution_count": null,
   "id": "ebbea001",
   "metadata": {
    "datawhys": {
     "response_id": 1,
     "student_response": true
    },
    "deletable": false,
    "editable": true
   },
   "outputs": [],
   "source": []
  },
  {
   "cell_type": "markdown",
   "id": "fff1fb70",
   "metadata": {
    "deletable": false,
    "editable": false
   },
   "source": [
    "#### Read CSV data and Save in Variable"
   ]
  },
  {
   "cell_type": "markdown",
   "id": "b880e1ab",
   "metadata": {
    "deletable": false,
    "editable": false
   },
   "source": [
    "- Create variable &nbsp;`student_data`\n",
    "- `Set student_data to` &nbsp;:&nbsp; `with pd do read_csv using` &nbsp;<-&nbsp; `\" datasets/StudentsPerformance.csv \"`"
   ]
  },
  {
   "cell_type": "markdown",
   "id": "013cb1b0",
   "metadata": {
    "deletable": false,
    "editable": false,
    "slideshow": {
     "slide_type": ""
    },
    "tags": []
   },
   "source": [
    "<br><details><summary>Blockly Hints (Click triangle to expand)</summary><ul><li>Notation<ul><li><code>A</code> &nbsp;:&nbsp; <code>B</code>&nbsp; means snap blocks A and B together.</li><li><code>A</code> &nbsp;&lt;-&nbsp; <code>B</code>&nbsp; means insert block B into the hole in block A.</li></ul></li><li>Blocks<ul><li><code>set .. to</code><ul><li>The <code>set .. to</code> block is found under VARIABLES.</li> <li>A variable must have been created before it will appear in the dropdown.</li></ul></li><li><code>with .. do .. using ..</code><ul><li>The <code>with .. do .. using ..</code> block is found under VARIABLES.</li> <li>If <code>do</code> dropdown says \"!Not populated until you execute code\", click anywhere in the notebook tab, then click try \"Run All Above Selected Cell\" from the \"Run\" menu.</li> <li>If <code>with .. do .. using ..</code> block does not want to snap together nicely with the <code>set .. to</code> block, try dragging the <code>set .. to</code> block instead.</li></ul></li><li><code>\" .. \"</code><ul><li>The <code>\" .. \"</code> block is found under TEXT.</li></ul></li></ul></li></ul></details>"
   ]
  },
  {
   "cell_type": "code",
   "execution_count": null,
   "id": "601fffb7",
   "metadata": {
    "datawhys": {
     "response_id": 2,
     "student_response": true
    },
    "deletable": false,
    "editable": true
   },
   "outputs": [],
   "source": []
  },
  {
   "cell_type": "markdown",
   "id": "f8c17e85",
   "metadata": {
    "deletable": false,
    "editable": false
   },
   "source": [
    "#### Display Dataframe Contents"
   ]
  },
  {
   "cell_type": "markdown",
   "id": "f436ca17",
   "metadata": {
    "deletable": false,
    "editable": false
   },
   "source": [
    "- variable &nbsp;`student_data`"
   ]
  },
  {
   "cell_type": "markdown",
   "id": "e3532f4b",
   "metadata": {
    "deletable": false,
    "editable": false
   },
   "source": [
    "<br>\n",
    "<details>\n",
    "    <summary>Blockly Hints (Click on triangle to expand)</summary>\n",
    "    <ul>\n",
    "        <li>Blocks\n",
    "            <ul>\n",
    "                <li>variable\n",
    "                    <ul>\n",
    "                        <li>After it is created, each variable has its own block at the end of the VARIABLES menu.</li>\n",
    "                    </ul>\n",
    "                </li>\n",
    "            </ul>\n",
    "        </li>\n",
    "    </ul>\n",
    "</details>\n"
   ]
  },
  {
   "cell_type": "code",
   "execution_count": null,
   "id": "66667688",
   "metadata": {
    "datawhys": {
     "response_id": 3,
     "student_response": true
    },
    "deletable": false,
    "editable": true
   },
   "outputs": [],
   "source": []
  },
  {
   "cell_type": "markdown",
   "id": "f840e96a",
   "metadata": {
    "deletable": false,
    "editable": false
   },
   "source": [
    "<span><h3>\n",
    " Step 2: Analyze Students' Performance",
    "\n</h3></span>"
   ]
  },
  {
   "cell_type": "markdown",
   "id": "abb8323f",
   "metadata": {
    "deletable": false,
    "editable": false
   },
   "source": [
    "#### Add new columns in dataset\n",
    "\n",
    "In the dataset, there are 3 scores of students' exam performance shown. We are interested in comparing their performance on their overall score. So, to get their overall score, we add all these scores in a new variable `total score` and store them in `student_data` dataframe as shown below."
   ]
  },
  {
   "cell_type": "markdown",
   "id": "8da9f910",
   "metadata": {
    "deletable": false,
    "editable": false
   },
   "source": [
    "`sum of list ` :  &nbsp;<-&nbsp; `create list with` &nbsp;:\n",
    "  - `student_data [..]` <- `\"math score\"`\n",
    "  - `student_data [..]` <- `\"reading score\"`\n",
    "  - `student_data [..]` <- `\"writing score\"`\n",
    "  - After blocks to code, in the code cell, type `student_data['total_score']=`existing code   \n",
    "  - Run the python cell by pressing Shift+Enter."
   ]
  },
  {
   "cell_type": "markdown",
   "id": "66af4cd0",
   "metadata": {
    "deletable": false,
    "editable": false
   },
   "source": [
    "<details>\n",
    "<summary>Blockly instructions: (click triangle to expand)</summary>\n",
    "<br> \n",
    "\n",
    "- Notation\n",
    "    - `A : B` means snap blocks A and B together.\n",
    "    - `A <- B` means insert block B into the hole in block A.\n",
    "        \n",
    "- Blocks:\n",
    "    - From `LISTS`, get the `{dictVariable} []` block.\n",
    "    - Make 2 duplicate copies of it. Replace {dictVariable} with `student_data`.\n",
    "    - From `TEXT`, get 3 `\" \"` blocks. Write `math score`,`reading score`,`writing score` in them. Put them inside the `student_data[]` blocks.\n",
    "    - From `LISTS`, get `create list with` block. Add 3 `student_data` blocks into that.\n",
    "    - From `MATH`, get `sum of list` block. Connect it to `create list with` block.     \n",
    "    - Click on \"Blocks to Code\" at the bottom of the blockly palette.   \n",
    "    - After blocks to code, in the code cell, type `student_data['total_score']=`existing code   \n",
    "    - Run the python cell by pressing Shift+Enter.    \n",
    "</details>\n"
   ]
  },
  {
   "cell_type": "code",
   "execution_count": null,
   "id": "78ab207d",
   "metadata": {
    "datawhys": {
     "response_id": 4,
     "student_response": true
    },
    "deletable": false,
    "editable": true
   },
   "outputs": [],
   "source": []
  },
  {
   "cell_type": "markdown",
   "id": "2b9b8186",
   "metadata": {
    "deletable": false,
    "editable": false
   },
   "source": [
    "#### Display the Dataframe\n",
    "\n",
    "After adding the new `total_score` column we will view the dataframe."
   ]
  },
  {
   "cell_type": "markdown",
   "id": "1011d0b5",
   "metadata": {
    "deletable": false,
    "editable": false
   },
   "source": [
    "- variable &nbsp;`student_data`"
   ]
  },
  {
   "cell_type": "markdown",
   "id": "7e7f7502",
   "metadata": {
    "deletable": false,
    "editable": false
   },
   "source": [
    "<details>\n",
    "<summary>Blockly instructions: (click triangle to expand)</summary>\n",
    "<br>\n",
    "    \n",
    "- After a variable created, each variable has its own block at the end of the VARIABLES menu.    \n",
    "- Click the variable block  `student_data` in the blockly workspace.\n",
    "- Click on \"Blocks to Code\" at the bottom of the blockly palette.     \n",
    "- Execute the code using Shift+Enter in the python file.\n",
    "</details>"
   ]
  },
  {
   "cell_type": "code",
   "execution_count": null,
   "id": "5fcb54c3",
   "metadata": {
    "datawhys": {
     "response_id": 5,
     "student_response": true
    },
    "deletable": false,
    "editable": true
   },
   "outputs": [],
   "source": []
  },
  {
   "cell_type": "markdown",
   "id": "fa2370e9",
   "metadata": {
    "deletable": false,
    "editable": false
   },
   "source": [
    "#### Find Out Student Count for Each Group Based on `race/ethnicity`"
   ]
  },
  {
   "cell_type": "markdown",
   "id": "2d5ae57b",
   "metadata": {
    "deletable": false,
    "editable": false
   },
   "source": [
    "If we look look at the `race/ethnicity` column we can see that each student is assigned a group. We want to include this information for our analysis.\n",
    "\n",
    "Let's find out student count for each of these groups."
   ]
  },
  {
   "cell_type": "markdown",
   "id": "fbdf006e",
   "metadata": {
    "deletable": false,
    "editable": false
   },
   "source": [
    "- dictVariable `student_data [..]` <- `\"race/ethnicity\"`\n",
    "- After blocks to code, in the code cell, write - existing code.`value_counts()`."
   ]
  },
  {
   "cell_type": "markdown",
   "id": "8d82c87e",
   "metadata": {
    "deletable": false,
    "editable": false
   },
   "source": [
    "<details>\n",
    "<summary>Blockly instructions: (click triangle to expand)</summary>\n",
    "<br>\n",
    "\n",
    "- Notation\n",
    "    - `A : B`means snap blocks A and B together.\n",
    "    - `A <- B`means insert block B into the hole in block A.\n",
    "\n",
    "    \n",
    "- Blocks:\n",
    "    - From `LISTS`, get `{dictVariable}[ ]` block.\n",
    "    - Replace `dictVariable` with `student_data`.\n",
    "    - From `TEXT`, get `\" \"` block. Put `race_or_ethnicity` inside it and drag inside `student_data` block.\n",
    "    - Click `Blocks to Code`.\n",
    "    - In the code cell, write - existing code.`value_counts()`.    \n",
    "    -Execute the code using Shift+Enter in the python file.\n",
    "</details>"
   ]
  },
  {
   "cell_type": "code",
   "execution_count": null,
   "id": "5c27f70c",
   "metadata": {
    "datawhys": {
     "response_id": 6,
     "student_response": true
    },
    "deletable": false,
    "editable": true
   },
   "outputs": [],
   "source": []
  },
  {
   "cell_type": "markdown",
   "id": "a73a94c4",
   "metadata": {
    "deletable": false,
    "editable": false
   },
   "source": [
    "### Filter 'Group D' data"
   ]
  },
  {
   "cell_type": "markdown",
   "id": "5dd6c8e2",
   "metadata": {
    "deletable": false,
    "editable": false
   },
   "source": [
    "#### Filter the Studets of a Specific Group Only"
   ]
  },
  {
   "cell_type": "markdown",
   "id": "f98f8832",
   "metadata": {
    "deletable": false,
    "editable": false
   },
   "source": [
    "Now , we are only interested in a special group(from 'race/ethnicity' column) which is group D. "
   ]
  },
  {
   "cell_type": "markdown",
   "id": "f0a36899",
   "metadata": {
    "deletable": false,
    "editable": false
   },
   "source": [
    "- create variable `group_D`\n",
    "- `Set group_D to` &nbsp;:&nbsp; `student_data [ .. ]` &nbsp;<-&nbsp; ` .. = .. ` &nbsp;<-\n",
    "  - `student_data [ .. ]` &nbsp;<-&nbsp; `\"race/ethnicity\"` \n",
    "  - `\"Group D\"`\n",
    "- Will look like - `Set group_D to student_data [ student_data [\"race/ethnicituy\"] = \"Group D\"]`\n",
    "- `group_D`"
   ]
  },
  {
   "cell_type": "markdown",
   "id": "f4a2246f",
   "metadata": {
    "deletable": false,
    "editable": false
   },
   "source": [
    "<details>\n",
    "<summary> Blockly Instructions(click triangle to expand) </summary>\n",
    "<br>\n",
    "\n",
    "- Notation:\n",
    "    - `A : B` means snap blocks A and B together.\n",
    "    - `A <- B` means insert block B into the hole in block A.\n",
    "- Blocks:\n",
    "    - from `LISTS`, click on `{dictvariable}[]`. place `student_data` inplace of `dictvariable`.\n",
    "get a text block `\" \"`. write 'race/ethnicity' in the `\" \"` block. drag it inside `student_data`.\n",
    "    - from `LOGIC` block, click on ` .. = .. ` block. on the left side of `=`, put the `student_data [ \"race/ethnicity\"`]. On the right side put a `TEXT` block. put `group D` on it.\n",
    "    - from lists, click on `{dictvariable}[]`. place `student_data` inplace of `dictvariable`.Put the already created `student_data [\"race/ethnicity\"]=\"group D\"` block inside the [ ] of new `student_data [ ]` block. \n",
    "    - At this point the whole block should look like `student-data [student_data[\"race/ethnicity\"]=\"group D\"]`\n",
    "    - create a variable `group_D`. click on set `group_D` to and connect the `student_data` block.\n",
    "    - From `VARIABLES` block, click the `group_D` block.    \n",
    "    - Click on \"Blocks to Code\" at the bottom of the blockly palette.\n",
    "    - Run the python code cell.\n",
    "            \n",
    "</details>"
   ]
  },
  {
   "cell_type": "code",
   "execution_count": null,
   "id": "e88aa811",
   "metadata": {
    "datawhys": {
     "response_id": 7,
     "student_response": true
    },
    "deletable": false,
    "editable": true
   },
   "outputs": [],
   "source": []
  },
  {
   "cell_type": "markdown",
   "id": "ab60b10f",
   "metadata": {
    "deletable": false,
    "editable": false
   },
   "source": [
    "#### Filter Required Columns"
   ]
  },
  {
   "cell_type": "markdown",
   "id": "eec35082",
   "metadata": {
    "deletable": false,
    "editable": false
   },
   "source": [
    "Now that we have group_D specific data, we dive into more deeper exploration of this group data.\n",
    "We want to know only about the students' `gender, test preparation course, parental education and total score`.\n",
    "\n"
   ]
  },
  {
   "cell_type": "markdown",
   "id": "8003c779",
   "metadata": {
    "deletable": false,
    "editable": false
   },
   "source": [
    "- `Set new_data to` : `group_D [ .. ]` &nbsp;<-&nbsp; `create list with` &nbsp;:\n",
    "  - `\"gender\"`\n",
    "  - `\"parental level of education\"`\n",
    "  - `\"test preparation course\"`\n",
    "  - `\"total_score\"`\n",
    "- `new_data`"
   ]
  },
  {
   "cell_type": "markdown",
   "id": "996df080",
   "metadata": {
    "deletable": false,
    "editable": false
   },
   "source": [
    "<details>\n",
    "<summary> Blockly Instructions(click triangle to expand) </summary>\n",
    "<br>\n",
    "\n",
    "- Notation:\n",
    "    - `A : B` means snap blocks A and B together.\n",
    "    - `A <- B` means insert block B into the hole in block A.\n",
    "\n",
    "- Blocks:\n",
    "    - From `LISTS` block , click on `{dictVariable} [ ]` block. Put `group_D` in place of {dictVariable}. \n",
    "    - From `LISTS`, click on `create list with` block.Click on + sign on the list block 1 times.This will create 4 connection point at the end of the `create list with` block\n",
    "    - Take 4 `\" \"` block from `TEXT` block.\n",
    "Write `gender, parental level of education, test preparation course, total_score` in the text blocks. Drag them at the end of `create list with` block.\n",
    "    - Drag the `create list with` block inside `group_D`\n",
    "    - Create a variable `new_data`. click on `set new_data` to and connect to the left of `group_D [..]` block.\n",
    "    - From `VARIABLES` block, click the `new_data` block.     \n",
    "    - Click on \"Blocks to Code\" at the bottom of the blockly palette.\n",
    "    - Run the python code cell.\n",
    "</details>"
   ]
  },
  {
   "cell_type": "code",
   "execution_count": null,
   "id": "5dcd5ba2",
   "metadata": {
    "datawhys": {
     "response_id": 8,
     "student_response": true
    },
    "deletable": false,
    "editable": true
   },
   "outputs": [],
   "source": []
  },
  {
   "cell_type": "markdown",
   "id": "032cbc1b",
   "metadata": {
    "deletable": false,
    "editable": false
   },
   "source": [
    "### Male Student Scores\n"
   ]
  },
  {
   "cell_type": "markdown",
   "id": "ffbe4623",
   "metadata": {
    "deletable": false,
    "editable": false
   },
   "source": [
    "<span><h4>\n",
    " Substep 1: Find the Male Students\n",
    "\n</h4></span>"
   ]
  },
  {
   "cell_type": "markdown",
   "id": "aee38fdc",
   "metadata": {
    "deletable": false,
    "editable": false
   },
   "source": [
    "For the next step, we find out the scores of the `male` students. To find this we have to look into `gender` column of `new_data`."
   ]
  },
  {
   "cell_type": "markdown",
   "id": "1a7632aa",
   "metadata": {
    "deletable": false,
    "editable": false
   },
   "source": [
    "- create variable `male_group`\n",
    "- `set male_group to` &nbsp;:&nbsp; `new_data [ .. ]` &nbsp;<-&nbsp; ` .. = .. ` &nbsp;<-\n",
    "  - `new_data [ .. ]` &nbsp;<-&nbsp; `\"gender\"` \n",
    "  - `\"male\"`\n",
    "- Will look like  `set male_group to new_data [ new_data [\"gender\"] = \"male\"]`\n",
    "- Variable `male_group`"
   ]
  },
  {
   "cell_type": "markdown",
   "id": "2232d760",
   "metadata": {
    "deletable": false,
    "editable": false
   },
   "source": [
    "<details>\n",
    "<summary> Blockly Instructions(click triangle to expand) </summary>\n",
    "<br>\n",
    "    \n",
    "- Notation:\n",
    "    - `A : B` means snap blocks A and B together.\n",
    "    - `A <- B` means insert block B into the hole in block A.\n",
    "- Blocks:\n",
    "    - from `LISTS`, click on `{dictvariable}[]`. place `new_data` inplace of `dictvariable`.\n",
    "get a text block `\" \"`. write `gender` in the `\" \"` block. drag it inside `new_data`.\n",
    "    - from `LOGIC` block, click on `.. = .. ` block. on the left side of it, put the already created `new_data[\"gender\"]` block. On the right side of `=` put a `\" \"` block. put `male` on it.\n",
    "    - from lists, click on `{dictvariable}[]`. place `new_data` inplace of `dictvariable`.Put the already created `new_data[\"gender\"]=\"male\"` block inside the new `new_data[ ]` block.\n",
    "    - create a variable `male_group`. click on `set male_group to` block and connect to the left of `new_data` block.\n",
    "    - From `VARIABLES` block, click the `male_group` block.    \n",
    "    - Click on \"Blocks to Code\" at the bottom of the blockly palette.\n",
    "    - Run the python code cell.\n",
    "</details>"
   ]
  },
  {
   "cell_type": "code",
   "execution_count": null,
   "id": "94542b79",
   "metadata": {
    "datawhys": {
     "response_id": 9,
     "student_response": true
    },
    "deletable": false,
    "editable": true
   },
   "outputs": [],
   "source": []
  },
  {
   "cell_type": "markdown",
   "id": "14b5b78b",
   "metadata": {
    "deletable": false,
    "editable": false
   },
   "source": [
    "<span><h4>\n",
    " Substep 2: Calculate Mean of the `total_score` of Male Students.\n\nNow we want to calculate mean of the `total_score` of the male students.\n\nBut for that first we have to select the `total_score` column of the `male_group` dataframe. ",
    "\n</h4></span>"
   ]
  },
  {
   "cell_type": "markdown",
   "id": "d599a52e",
   "metadata": {
    "deletable": false,
    "editable": false
   },
   "source": [
    "- Create variable `male_total_score`\n",
    "- `set male_total_score to` : `male_group [ .. ]` &nbsp;<-&nbsp; `\"total_score\"` \n",
    "- `male_total_score`"
   ]
  },
  {
   "cell_type": "markdown",
   "id": "6449ba86",
   "metadata": {
    "deletable": false,
    "editable": false
   },
   "source": [
    "<details>\n",
    "<summary> Blockly Instructions(click triangle to expand) </summary>\n",
    "<br>\n",
    "\n",
    "- Notation:\n",
    "    - `A : B` means snap blocks A and B together.\n",
    "    - `A <- B` means insert block B into the hole in block A.\n",
    "- Blocks:\n",
    "    - from `LISTS`, click on `{dictvariable}[]`. place `male_group` inplace of `dictvariable`.\n",
    "get a text block `\" \"`. write \"total_score\" in the `\" \"` block. drag it inside `male_group[ ]`.\n",
    "    - create a variable `male_total_score`. click on `set male_total_score to` and connect to the left of the already created `male_group[\"total_score\"]` block.\n",
    "    - From `VARIABLES` block, click the `male_total_score` block.    \n",
    "    - Click on \"Blocks to Code\" at the bottom of the blockly palette.\n",
    "    - Run the python code cell.\n",
    "</details>"
   ]
  },
  {
   "cell_type": "code",
   "execution_count": null,
   "id": "a50255c6",
   "metadata": {
    "datawhys": {
     "response_id": 10,
     "student_response": true
    },
    "deletable": false,
    "editable": true
   },
   "outputs": [],
   "source": []
  },
  {
   "cell_type": "markdown",
   "id": "29ad6b53",
   "metadata": {
    "deletable": false,
    "editable": false
   },
   "source": [
    "##### Calculate Mean of Male students' Score\n",
    "\n",
    "We already have the `total_score` of the male students in our `male_total_score` dataframe. Now we will use this to calculate the mean score of the male students. "
   ]
  },
  {
   "cell_type": "markdown",
   "id": "af6adfbe",
   "metadata": {
    "deletable": false,
    "editable": false
   },
   "source": [
    "- `with male_total_score do mean using ..`"
   ]
  },
  {
   "cell_type": "markdown",
   "id": "f65a15ed",
   "metadata": {
    "deletable": false,
    "editable": false
   },
   "source": [
    "<details>\n",
    "<summary> Blockly Instructions(click triangle to expand) </summary>\n",
    "<br>\n",
    "\n",
    "- Blocks:    \n",
    "    - From `VARIABLES` block, click the `with male_total_score do ...using...` block. \n",
    "    - From do , select `mean` option.    \n",
    "    - Click on \"Blocks to Code\" at the bottom of the blockly palette.\n",
    "    - Run the python code cell.\n",
    "</details>"
   ]
  },
  {
   "cell_type": "code",
   "execution_count": null,
   "id": "e6bee03f",
   "metadata": {
    "datawhys": {
     "response_id": 11,
     "student_response": true
    },
    "deletable": false,
    "editable": true
   },
   "outputs": [],
   "source": []
  },
  {
   "cell_type": "markdown",
   "id": "2ce128cf",
   "metadata": {
    "deletable": false,
    "editable": false
   },
   "source": [
    "### Female Student Scores"
   ]
  },
  {
   "cell_type": "markdown",
   "id": "202a9c9d",
   "metadata": {
    "deletable": false,
    "editable": false
   },
   "source": [
    "<span><h4>\n",
    " Substep 1: Find the Female Students\n",
    "\n</h4></span>"
   ]
  },
  {
   "cell_type": "markdown",
   "id": "f1298d74",
   "metadata": {
    "deletable": false,
    "editable": false
   },
   "source": [
    "For the next step, we find out the scores of the `female` students. To find this we have to look into `gender` column of `new_data`."
   ]
  },
  {
   "cell_type": "markdown",
   "id": "9f353b6e",
   "metadata": {
    "deletable": false,
    "editable": false
   },
   "source": [
    "- create variable `female_group`\n",
    "- `set female_group to` &nbsp;:&nbsp; `new_data [ .. ]` &nbsp;<-&nbsp; ` .. = .. ` &nbsp;<-\n",
    "  - `new_data [ .. ]` &nbsp;<-&nbsp; `\"gender\"` \n",
    "  - `\"female\"`\n",
    "- Will look like  `set female_group to new_data [ new_data [\"gender\"] = \"female\"]`\n",
    "- Variable `female_group`"
   ]
  },
  {
   "cell_type": "markdown",
   "id": "42c3b5f6",
   "metadata": {
    "deletable": false,
    "editable": false
   },
   "source": [
    "<details>\n",
    "<summary> Blockly Instructions(click triangle to expand) </summary>\n",
    "<br>\n",
    "    \n",
    "- Notation:\n",
    "    - `A : B` means snap blocks A and B together.\n",
    "    - `A <- B` means insert block B into the hole in block A.\n",
    "- Blocks:\n",
    "    - from `LISTS`, click on `{dictvariable}[]`. place `new_data` inplace of `dictvariable`.\n",
    "get a text block `\" \"`. write `gender` in the `\" \"` block. drag it inside `new_data`.\n",
    "    - from `LOGIC` block, click on `.. = .. ` block. on the left side of it, put the already created `new_data[\"gender\"]` block. On the right side of `=` put a `\" \"` block. put `female` on it.\n",
    "    - from lists, click on `{dictvariable}[]`. place `new_data` inplace of `dictvariable`.Put the already created `new_data[\"gender\"]=\"female\"` block inside the new `new_data[ ]` block.\n",
    "    - create a variable `female_group`. click on `set female_group to` block and connect to the left of `new_data` block.\n",
    "    - From `VARIABLES` block, click the `female_group` block.    \n",
    "    - Click on \"Blocks to Code\" at the bottom of the blockly palette.\n",
    "    - Run the python code cell.\n",
    "</details>"
   ]
  },
  {
   "cell_type": "code",
   "execution_count": null,
   "id": "1edbc493",
   "metadata": {
    "datawhys": {
     "response_id": 12,
     "student_response": true
    },
    "deletable": false,
    "editable": true
   },
   "outputs": [],
   "source": []
  },
  {
   "cell_type": "markdown",
   "id": "a953dca8",
   "metadata": {
    "deletable": false,
    "editable": false
   },
   "source": [
    "<span><h4>\n",
    " Substep 2: Calculate Mean of the `total_score` of Female Students\n\nNow we want to calculate mean of the `total_score` of the female students.\n\nBut for that first we have to select the `total_score` column of the `female_group` dataframe. ",
    "\n</h4></span>"
   ]
  },
  {
   "cell_type": "markdown",
   "id": "ad34b4fc",
   "metadata": {
    "deletable": false,
    "editable": false
   },
   "source": [
    "- Create variable `female_total_score`\n",
    "- `set female_total_score to` : `female_group [..]` &nbsp;<-&nbsp; `\"total_score\"` \n",
    "- variable `female_total_score`"
   ]
  },
  {
   "cell_type": "markdown",
   "id": "97cf1202",
   "metadata": {
    "deletable": false,
    "editable": false
   },
   "source": [
    "<details>\n",
    "<summary> Blockly Instructions(click triangle to expand) </summary>\n",
    "<br>\n",
    "\n",
    "- Notation:\n",
    "    - `A : B` means snap blocks A and B together.\n",
    "    - `A <- B` means insert block B into the hole in block A.\n",
    "- Blocks:\n",
    "    - from `LISTS`, click on `{dictvariable}[]`. place `female_group` inplace of `dictvariable`.\n",
    "get a text block `\" \"`. write \"total_score\" in the `\" \"` block. drag it inside `female_group[ ]`.\n",
    "    - create a variable `female_total_score`. click on `set female_total_score to` and connect to the left of the already created `female_group[\"total_score\"]` block.\n",
    "    - From `VARIABLES` block, click the `female_total_score` block.    \n",
    "    - Click on \"Blocks to Code\" at the bottom of the blockly palette.\n",
    "    - Run the python code cell.\n",
    "</details>"
   ]
  },
  {
   "cell_type": "code",
   "execution_count": null,
   "id": "adcd4823",
   "metadata": {
    "datawhys": {
     "response_id": 13,
     "student_response": true
    },
    "deletable": false,
    "editable": true
   },
   "outputs": [],
   "source": []
  },
  {
   "cell_type": "markdown",
   "id": "6439920a",
   "metadata": {
    "deletable": false,
    "editable": false
   },
   "source": [
    "##### Calculate Mean of Female Students' score\n",
    "\n",
    "We already have the `total_score` of the female students in our `female_total_score` dataframe. Now we will use this to calculate the mean score of the female students."
   ]
  },
  {
   "cell_type": "markdown",
   "id": "6f98a8e5",
   "metadata": {
    "deletable": false,
    "editable": false
   },
   "source": [
    "- `with female_total_score do mean using ..`"
   ]
  },
  {
   "cell_type": "markdown",
   "id": "d61bd871",
   "metadata": {
    "deletable": false,
    "editable": false
   },
   "source": [
    "<details>\n",
    "<summary> Blockly Instructions(click triangle to expand) </summary>\n",
    "<br>\n",
    "\n",
    "- Blocks:    \n",
    "    - From `VARIABLES` block, click the `with female_total_score do ...using...` block. \n",
    "    - From do , select `mean` option.    \n",
    "    - Click on \"Blocks to Code\" at the bottom of the blockly palette.\n",
    "    - Run the python code cell.\n",
    "</details>"
   ]
  },
  {
   "cell_type": "code",
   "execution_count": null,
   "id": "84bc12f4",
   "metadata": {
    "datawhys": {
     "response_id": 14,
     "student_response": true
    },
    "deletable": false,
    "editable": true
   },
   "outputs": [],
   "source": []
  },
  {
   "cell_type": "markdown",
   "id": "7fc543cf",
   "metadata": {
    "deletable": false,
    "editable": false
   },
   "source": [
    "#### Which of the 2 gender groups perform better in terms of mean score? What were their group scores?"
   ]
  },
  {
   "cell_type": "markdown",
   "id": "2dc0dd0c-818e-46af-a06c-566d168ea884",
   "metadata": {
    "datawhys": {
     "response_id": 15,
     "student_response": true
    },
    "deletable": false,
    "editable": true
   },
   "source": [
    "<div class=\"alert alert-block alert-info\">\n",
    "<!-- YOUR ANSWER BEGIN -->\n",
    "\n",
    "\n",
    "\n",
    "\n",
    "\n",
    "<!-- YOUR ANSWER END -->\n",
    "</div>"
   ]
  }
 ],
 "metadata": {
  "kernelspec": {
   "display_name": "Python 3 (ipykernel)",
   "language": "python",
   "name": "python3"
  },
  "language_info": {
   "codemirror_mode": {
    "name": "ipython",
    "version": 3
   },
   "file_extension": ".py",
   "mimetype": "text/x-python",
   "name": "python",
   "nbconvert_exporter": "python",
   "pygments_lexer": "ipython3",
   "version": "3.12.6"
  }
 },
 "nbformat": 4,
 "nbformat_minor": 5
}
