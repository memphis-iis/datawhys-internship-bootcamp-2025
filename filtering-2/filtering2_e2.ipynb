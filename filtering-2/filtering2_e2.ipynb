{
 "cells": [
  {
   "cell_type": "markdown",
   "id": "c3b7955e",
   "metadata": {
    "deletable": false,
    "editable": false
   },
   "source": [
    "# User Activity2 (Filtering2)"
   ]
  },
  {
   "cell_type": "markdown",
   "id": "7f841d4b",
   "metadata": {
    "deletable": false,
    "editable": false
   },
   "source": [
    "We have a dataset named `diabetes.csv`. This dataset contains some features that are medical predictors of diabetes. It also has a features named `outcome` which predicts if a person has diabetes or not (0 or 1)."
   ]
  },
  {
   "cell_type": "markdown",
   "id": "a3c296a3",
   "metadata": {
    "deletable": false,
    "editable": false
   },
   "source": [
    "### Question: Analyze the data of people who have diabetes and people who don't and compare the glucose level of diabetic and non-diabetic people. "
   ]
  },
  {
   "cell_type": "markdown",
   "id": "8a5c3745",
   "metadata": {
    "deletable": false,
    "editable": false
   },
   "source": [
    "Using this dataset, we want to analyze the data of people who have diabetes and people who don't and try to find out the glucose level of diabetic and non-diabetic people.\n",
    "\n",
    "**Dataset Location: datasets/diabetes.csv**"
   ]
  },
  {
   "cell_type": "markdown",
   "id": "7c1f638b",
   "metadata": {
    "deletable": false,
    "editable": false
   },
   "source": [
    "<span><h3>\n",
    " Step 1: Read CSV Data into Pandas Dataframe",
    "\n</h3></span>"
   ]
  },
  {
   "cell_type": "markdown",
   "id": "b0bd0aca",
   "metadata": {
    "deletable": false,
    "editable": false
   },
   "source": [
    "#### Import Pandas Library"
   ]
  },
  {
   "cell_type": "markdown",
   "id": "452bc369",
   "metadata": {
    "deletable": false,
    "editable": false
   },
   "source": [
    "- Create variable &nbsp;`pd`\n",
    "- `import pandas as pd`"
   ]
  },
  {
   "cell_type": "markdown",
   "id": "6aaff437",
   "metadata": {
    "deletable": false,
    "editable": false
   },
   "source": [
    "<br>\n",
    "<details>\n",
    "    <summary>Blockly Hints (Click to expand)</summary>\n",
    "    <ul>\n",
    "        <li>Blocks\n",
    "            <ul>\n",
    "                <li><code>import .. as ..</code>\n",
    "                    <ul>\n",
    "                        <li>The <code>import .. as ..</code> block is found under IMPORT.</li> \n",
    "                        <li>A variable must have been created before it will appear in the dropdown.</li>\n",
    "                    </ul>\n",
    "                </li>\n",
    "            </ul>\n",
    "        </li>\n",
    "    </ul>\n",
    "</details>"
   ]
  },
  {
   "cell_type": "code",
   "execution_count": null,
   "id": "b07f3380",
   "metadata": {
    "datawhys": {
     "response_id": 1,
     "student_response": true
    },
    "deletable": false,
    "editable": true
   },
   "outputs": [],
   "source": []
  },
  {
   "cell_type": "markdown",
   "id": "d44d23fa",
   "metadata": {
    "deletable": false,
    "editable": false
   },
   "source": [
    "#### Read CSV data and Save in Variable"
   ]
  },
  {
   "cell_type": "markdown",
   "id": "2c404818",
   "metadata": {
    "deletable": false,
    "editable": false
   },
   "source": [
    "- Create variable &nbsp;`diabetes_data`\n",
    "- `Set diabetes_data to` &nbsp;:&nbsp; `with pd do read_csv using` &nbsp;<-&nbsp; `\" datasets/diabetes.csv \"`"
   ]
  },
  {
   "cell_type": "markdown",
   "id": "ccdfda12",
   "metadata": {
    "deletable": false,
    "editable": false
   },
   "source": [
    "<br><details><summary>Blockly Hints (Click triangle to expand)</summary><ul><li>Notation<ul><li><code>A</code> &nbsp;:&nbsp; <code>B</code>&nbsp; means snap blocks A and B together.</li><li><code>A</code> &nbsp;&lt;-&nbsp; <code>B</code>&nbsp; means insert block B into the hole in block A.</li></ul></li><li>Blocks<ul><li><code>set .. to</code><ul><li>The <code>set .. to</code> block is found under VARIABLES.</li> <li>A variable must have been created before it will appear in the dropdown.</li></ul></li><li><code>with .. do .. using ..</code><ul><li>The <code>with .. do .. using ..</code> block is found under VARIABLES.</li> <li>If <code>do</code> dropdown says \"!Not populated until you execute code\", click anywhere in the notebook tab, then click try \"Run All Above Selected Cell\" from the \"Run\" menu.</li> <li>If <code>with .. do .. using ..</code> block does not want to snap together nicely with the <code>set .. to</code> block, try dragging the <code>set .. to</code> block instead.</li></ul></li><li><code>\" .. \"</code><ul><li>The <code>\" .. \"</code> block is found under TEXT.</li></ul></li></ul></li></ul></details>"
   ]
  },
  {
   "cell_type": "code",
   "execution_count": null,
   "id": "0a317ef5",
   "metadata": {
    "datawhys": {
     "response_id": 2,
     "student_response": true
    },
    "deletable": false,
    "editable": true
   },
   "outputs": [],
   "source": []
  },
  {
   "cell_type": "markdown",
   "id": "2ee04d5d",
   "metadata": {
    "deletable": false,
    "editable": false
   },
   "source": [
    "#### Display Dataframe Contents"
   ]
  },
  {
   "cell_type": "markdown",
   "id": "bcf81519",
   "metadata": {
    "deletable": false,
    "editable": false
   },
   "source": [
    "- variable &nbsp;`diabetes_data`"
   ]
  },
  {
   "cell_type": "markdown",
   "id": "8dad2aa1",
   "metadata": {
    "deletable": false,
    "editable": false
   },
   "source": [
    "<br>\n",
    "<details>\n",
    "    <summary>Blockly Hints (Click on triangle to expand)</summary>\n",
    "    <ul>\n",
    "        <li>Blocks\n",
    "            <ul>\n",
    "                <li>variable\n",
    "                    <ul>\n",
    "                        <li>After it is created, each variable has its own block at the end of the VARIABLES menu.</li>\n",
    "                    </ul>\n",
    "                </li>\n",
    "            </ul>\n",
    "        </li>\n",
    "    </ul>\n",
    "</details>"
   ]
  },
  {
   "cell_type": "code",
   "execution_count": null,
   "id": "5b1c3609",
   "metadata": {
    "datawhys": {
     "response_id": 3,
     "student_response": true
    },
    "deletable": false,
    "editable": true
   },
   "outputs": [],
   "source": []
  },
  {
   "cell_type": "markdown",
   "id": "109591a7",
   "metadata": {
    "deletable": false,
    "editable": false
   },
   "source": [
    "#### What are the columns"
   ]
  },
  {
   "cell_type": "markdown",
   "id": "b3e9881d",
   "metadata": {
    "deletable": false,
    "editable": false
   },
   "source": [
    "- variable &nbsp;`from diabetes_data get columns`"
   ]
  },
  {
   "cell_type": "markdown",
   "id": "8e11208a",
   "metadata": {
    "deletable": false,
    "editable": false
   },
   "source": [
    "<details>\n",
    "<summary> Blockly Instructions(click triangle to expand) </summary>\n",
    "<br>\n",
    "    \n",
    "- From `variables` tab, click `from diabetes_data get...` block into the workspace.\n",
    "- In the block, click on the dropdown after `get` and select the option `columns`.\n",
    "    - If `get` dropdown says \"!Not populated until you execute code\", click anywhere in the notebook tab, then click try \"Run All Above Selected Cell\" from the \"Run\" menu.\n",
    "- Click on \"Blocks to Code\" at the bottom of the blockly palette.\n",
    "- Run the python code cell.\n",
    "</details>"
   ]
  },
  {
   "cell_type": "code",
   "execution_count": null,
   "id": "a0dd7c5f",
   "metadata": {
    "datawhys": {
     "response_id": 4,
     "student_response": true
    },
    "deletable": false,
    "editable": true
   },
   "outputs": [],
   "source": []
  },
  {
   "cell_type": "markdown",
   "id": "671a690e",
   "metadata": {
    "deletable": false,
    "editable": false
   },
   "source": [
    "### Get the required Columns (Glucose, BMI, BloodPressure, Outcome)\n",
    "\n",
    "For our analysis, we will only consider the `Glucose`, `BMI` and `BloodPressure` columns. So we will keep only these columns.\n",
    "\n",
    "In `Outcome` column, `1` represents the person is diabetic and `0` represents the person is non-diabetic. "
   ]
  },
  {
   "cell_type": "markdown",
   "id": "7e522f2b",
   "metadata": {
    "deletable": false,
    "editable": false
   },
   "source": [
    "`set filtered_diabetes_data` : `diabetes_data` &nbsp;<-&nbsp; `create list with` &nbsp;:\n",
    "  - `\"Glucose\"`\n",
    "  - `\"BMI\"`\n",
    "  - `\"BloodPressure\"`\n",
    "  - `\"Outcome\"`"
   ]
  },
  {
   "cell_type": "markdown",
   "id": "53236006",
   "metadata": {
    "deletable": false,
    "editable": false
   },
   "source": [
    "<details>\n",
    "<summary>Blockly instructions: (click triangle to expand)</summary>\n",
    "<br> \n",
    "\n",
    "- Notation\n",
    "    - `A : B` means snap blocks A and B together.\n",
    "    - `A <- B` means insert block B into the hole in block A.\n",
    "        \n",
    "- Blocks:\n",
    "    - From `LISTS`, get the `{dictVariable} [..]` block.\n",
    "    - Replace {dictVariable} with `diabetes_data`.\n",
    "    - From `LISTS`, get `create list with` block. Click on the `+` sign 1 more time so that the block has 4 connection points.\n",
    "    - Take 4 `\" \"` block from `TEXT`.\n",
    "    - Write `Glucose`, `BMI`, `BloodPressure`, `Outcome` in the `\" \"` blocks. Connect them to the end of the `create list with` block.\n",
    "    - Drag the `create list with` block inside `diabetes_data [..]`\n",
    "    - Create a variable `filtered_diabetes_data` in `VARIABLES`.\n",
    "    - From `VARIABLES` click on `set filtered_diabetes_data to` and connect to the `diabetes_data` block.\n",
    "    - From `VARIABLES` block, click the `filtered_diabetes_data` block.     \n",
    "    - Click on \"Blocks to Code\" at the bottom of the blockly palette.   \n",
    "    - Run the python cell by pressing Shift+Enter.    \n",
    "</details>\n"
   ]
  },
  {
   "cell_type": "code",
   "execution_count": null,
   "id": "d192ed96",
   "metadata": {
    "datawhys": {
     "response_id": 5,
     "student_response": true
    },
    "deletable": false,
    "editable": true
   },
   "outputs": [],
   "source": []
  },
  {
   "cell_type": "markdown",
   "id": "dbae79de",
   "metadata": {
    "deletable": false,
    "editable": false
   },
   "source": [
    "### Diabetic Group Data\n",
    "### Calculate mean `Glucose` level of Diabetic People"
   ]
  },
  {
   "cell_type": "markdown",
   "id": "36fd6ef3",
   "metadata": {
    "deletable": false,
    "editable": false
   },
   "source": [
    "<span><h4>\n",
    " Substep 1: Find the diabetic people",
    "\n</h4></span>"
   ]
  },
  {
   "cell_type": "markdown",
   "id": "3f33f3e6",
   "metadata": {
    "deletable": false,
    "editable": false
   },
   "source": [
    "To calculate mean `Glucose` level of diabetic group we have to filter the diabetic people. \n",
    "\n",
    "To do so, from `filtered_diabetes_data` we have to filter the people whose `Outcome` is `1` "
   ]
  },
  {
   "cell_type": "markdown",
   "id": "9473e70f",
   "metadata": {
    "deletable": false,
    "editable": false
   },
   "source": [
    "- create variable `diabetic_group`\n",
    "- `set diabetic_group to` &nbsp;:&nbsp; `filtered_diabetes_data [ .. ]` &nbsp;<-&nbsp; ` .. = .. ` &nbsp;<-\n",
    "  - `filtered_diabetes_data [ .. ]` &nbsp;<-&nbsp; `\"Outcome\"` \n",
    "  - `1`\n",
    "- Will look like  `set diabetic_group to filtered_diabetes_data [ filtered_diabetes_data [\"Outcome\"] = 1]`\n",
    "- Variable `diabetic_group`"
   ]
  },
  {
   "cell_type": "markdown",
   "id": "d6e15199",
   "metadata": {
    "deletable": false,
    "editable": false
   },
   "source": [
    "<details>\n",
    "<summary> Blockly Instructions(click triangle to expand) </summary>\n",
    "<br>\n",
    "    \n",
    "- Notation:\n",
    "    - `A : B` means snap blocks A and B together.\n",
    "    - `A <- B` means insert block B into the hole in block A.\n",
    "- Blocks:\n",
    "    - From `LISTS`, click on `{dictvariable}[]`. Place `filtered_diabetes_data` inplace of `dictvariable`.\n",
    "    - Get a text block `\" \"`. write `Outcome` in the `\" \"` block. drag it inside `filtered_diabetes_data_data`.\n",
    "    - From `LOGIC` block, click on `.. = .. ` block. on the left side of it, put the already created `filtered_diabetes_data[\"Outcome\"]` block.\n",
    "    - On the right side of `=` put a `123` block from `MATH`. Write `1` in it.\n",
    "    - From lists, click on `{dictvariable}[]`. place `filtered_diabetes_data` inplace of `dictvariable`.Put the already created `filtered_diabetes_data[\"Outcome\"]= 1` block inside the new `filtered_diabetes_data[ ]` block.\n",
    "    - Create a variable `diabetic_group`.\n",
    "    - From `VARIABLES`click on `set diabetic_group to` block and connect to the left of `filtered_diabetes_data` block.\n",
    "    - From `VARIABLES` block, click the `diabetic_group` block.    \n",
    "    - Click on \"Blocks to Code\" at the bottom of the blockly palette.\n",
    "    - Run the python code cell.\n",
    "</details>"
   ]
  },
  {
   "cell_type": "code",
   "execution_count": null,
   "id": "14660987",
   "metadata": {
    "datawhys": {
     "response_id": 6,
     "student_response": true
    },
    "deletable": false,
    "editable": true
   },
   "outputs": [],
   "source": []
  },
  {
   "cell_type": "markdown",
   "id": "5aa6aa6d",
   "metadata": {
    "deletable": false,
    "editable": false
   },
   "source": [
    "<span><h4>\n",
    " Substep 2: Calculate Mean `Glucose` Level of Diabetic People.\n\nNow we want to calculate mean `Glucose` level of diabetic people.\n\nBut for that first we have to select the `Glucose` column of the `diabetic_group` dataframe. ",
    "\n</h4></span>"
   ]
  },
  {
   "cell_type": "markdown",
   "id": "3aac317c",
   "metadata": {
    "deletable": false,
    "editable": false
   },
   "source": [
    "- Create variable `diabetic_glucose`\n",
    "- `set diabetic_glucose to` : `diabetic_group [ .. ]` &nbsp;<-&nbsp; `\"Glucose\"` \n",
    "- Variable `diabetic_glucose`"
   ]
  },
  {
   "cell_type": "markdown",
   "id": "e44f9d10",
   "metadata": {
    "deletable": false,
    "editable": false
   },
   "source": [
    "<details>\n",
    "<summary> Blockly Instructions(click triangle to expand) </summary>\n",
    "<br>\n",
    "\n",
    "- Notation:\n",
    "    - `A : B` means snap blocks A and B together.\n",
    "    - `A <- B` means insert block B into the hole in block A.\n",
    "- Blocks:\n",
    "    - From `LISTS`, click on `{dictvariable}[]`. place `diabetic_group` inplace of `dictvariable`.\n",
    "    - Get a text block `\" \"`. Write `Glucose` in the `\" \"` block. drag it inside `diabetic_group[ ]`.\n",
    "    - Create a variable `diabetic_glucose` in `VARIABLES`.\n",
    "    - From `VARIABLES` click on `set diabetic_glucose to` and connect to the left of the already created `diabetic_group[\"Glucose\"]` block.\n",
    "    - From `VARIABLES` block, click the `diabetic_glucose` block.     - Click on \"Blocks to Code\" at the bottom of the blockly palette.\n",
    "    - Run the python code cell.\n",
    "</details>"
   ]
  },
  {
   "cell_type": "code",
   "execution_count": null,
   "id": "6ed95f73",
   "metadata": {
    "datawhys": {
     "response_id": 7,
     "student_response": true
    },
    "deletable": false,
    "editable": true
   },
   "outputs": [],
   "source": []
  },
  {
   "cell_type": "markdown",
   "id": "bd1615d4",
   "metadata": {
    "deletable": false,
    "editable": false
   },
   "source": [
    "##### Calculate Mean of the Glucose level of diabetic people\n",
    "\n",
    "We already have the `Glucose` level of the diabetic people in our `diabetic_glucose` dataframe. Now we will use this to calculate the mean. "
   ]
  },
  {
   "cell_type": "markdown",
   "id": "69c350bc",
   "metadata": {
    "deletable": false,
    "editable": false
   },
   "source": [
    "- `with diabetic_glucose do mean using ..`"
   ]
  },
  {
   "cell_type": "markdown",
   "id": "98f9dd58",
   "metadata": {
    "deletable": false,
    "editable": false
   },
   "source": [
    "<details>\n",
    "<summary> Blockly Instructions(click triangle to expand) </summary>\n",
    "<br>\n",
    "\n",
    "- Blocks:    \n",
    "    - From `VARIABLES` block, click the `with diabetic_glucose do ...using...` block. \n",
    "    - From do , select `mean` option.    \n",
    "    - Click on \"Blocks to Code\" at the bottom of the blockly palette.\n",
    "    - Run the python code cell.\n",
    "</details>"
   ]
  },
  {
   "cell_type": "code",
   "execution_count": null,
   "id": "6937d0f1",
   "metadata": {
    "datawhys": {
     "response_id": 8,
     "student_response": true
    },
    "deletable": false,
    "editable": true
   },
   "outputs": [],
   "source": []
  },
  {
   "cell_type": "markdown",
   "id": "62853d53",
   "metadata": {
    "deletable": false,
    "editable": false
   },
   "source": [
    "### Non Diabetic Group Data\n",
    "### Calculate Mean `Glucose` level of Non-Diabetic People."
   ]
  },
  {
   "cell_type": "markdown",
   "id": "ed67bfcb",
   "metadata": {
    "deletable": false,
    "editable": false
   },
   "source": [
    "<span><h4>\n",
    " Substep 1: Find the non-diabetic people",
    "\n</h4></span>"
   ]
  },
  {
   "cell_type": "markdown",
   "id": "47d3ac71",
   "metadata": {
    "deletable": false,
    "editable": false
   },
   "source": [
    "To calculate mean `Glucose` level of non-diabetic group we have to filter the non-diabetic people. \n",
    "\n",
    "To do so, from `filtered_diabetes_data` we have to filter the people whose `Outcome` is `0` "
   ]
  },
  {
   "cell_type": "markdown",
   "id": "e462d957",
   "metadata": {
    "deletable": false,
    "editable": false
   },
   "source": [
    "- create variable `non_diabetic_group`\n",
    "- `set non_diabetic_group to` &nbsp;:&nbsp; `filtered_diabetes_data [ .. ]` &nbsp;<-&nbsp; ` .. = .. ` &nbsp;<-\n",
    "  - `filtered_diabetes_data [ .. ]` &nbsp;<-&nbsp; `\"Outcome\"` \n",
    "  - `0`\n",
    "- Will look like  `set non_diabetic_group to filtered_diabetes_data [ filtered_diabetes_data [\"Outcome\"] = 0]`\n",
    "- Variable `non_diabetic_group`"
   ]
  },
  {
   "cell_type": "markdown",
   "id": "8a6d7a4c",
   "metadata": {
    "deletable": false,
    "editable": false
   },
   "source": [
    "<details>\n",
    "<summary> Blockly Instructions(click triangle to expand) </summary>\n",
    "<br>\n",
    "    \n",
    "- Notation:\n",
    "    - `A : B` means snap blocks A and B together.\n",
    "    - `A <- B` means insert block B into the hole in block A.\n",
    "- Blocks:\n",
    "    - From `LISTS`, click on `{dictvariable}[]`. Place `filtered_diabetes_data` inplace of `dictvariable`.\n",
    "    - Get a text block `\" \"`. write `Outcome` in the `\" \"` block. drag it inside `filtered_diabetes_data_data`.\n",
    "    - From `LOGIC` block, click on `.. = .. ` block. on the left side of it, put the already created `filtered_diabetes_data[\"Outcome\"]` block.\n",
    "    - On the right side of `=` put a `123` block from `MATH`. Write `0` in it.\n",
    "    - From lists, click on `{dictvariable}[]`. place `filtered_diabetes_data` inplace of `dictvariable`.Put the already created `filtered_diabetes_data[\"Outcome\"]= 0` block inside the new `filtered_diabetes_data[ ]` block.\n",
    "    - Create a variable `non_diabetic_group`.\n",
    "    - From `VARIABLES`click on `set non_diabetic_group to` block and connect to the left of `filtered_diabetes_data` block.\n",
    "    - From `VARIABLES` block, click the `non_diabetic_group` block.    \n",
    "    - Click on \"Blocks to Code\" at the bottom of the blockly palette.\n",
    "    - Run the python code cell.\n",
    "</details>"
   ]
  },
  {
   "cell_type": "code",
   "execution_count": null,
   "id": "aeae76f7",
   "metadata": {
    "datawhys": {
     "response_id": 9,
     "student_response": true
    },
    "deletable": false,
    "editable": true
   },
   "outputs": [],
   "source": []
  },
  {
   "cell_type": "markdown",
   "id": "1c61aaaa",
   "metadata": {
    "deletable": false,
    "editable": false
   },
   "source": [
    "<span><h4>\n",
    " Substep 2: Calculate Mean `Glucose` Level of Non-Diabetic People.\n\nNow we want to calculate mean `Glucose` level of non-diabetic people.\n\nBut for that first we have to select the `Glucose` column of the `non_diabetic_group` dataframe.",
    "\n</h4></span>"
   ]
  },
  {
   "cell_type": "markdown",
   "id": "2ea6ff3b",
   "metadata": {
    "deletable": false,
    "editable": false
   },
   "source": [
    "- Create variable `non_diabetic_glucose`\n",
    "- `set non_diabetic_glucose to` : `non_diabetic_group [ .. ]` &nbsp;<-&nbsp; `\"Glucose\"` \n",
    "- Variable `non_diabetic_glucose`"
   ]
  },
  {
   "cell_type": "markdown",
   "id": "7e64b957",
   "metadata": {
    "deletable": false,
    "editable": false
   },
   "source": [
    "<details>\n",
    "<summary> Blockly Instructions(click triangle to expand) </summary>\n",
    "<br>\n",
    "\n",
    "- Notation:\n",
    "    - `A : B` means snap blocks A and B together.\n",
    "    - `A <- B` means insert block B into the hole in block A.\n",
    "- Blocks:\n",
    "    - From `LISTS`, click on `{dictvariable}[]`. place `non_diabetic_group` inplace of `dictvariable`.\n",
    "    - Get a text block `\" \"`. Write `Glucose` in the `\" \"` block. drag it inside `non_diabetic_group[ ]`.\n",
    "    - Create a variable `non_diabetic_glucose` in `VARIABLES`.\n",
    "    - From `VARIABLES` click on `set non_diabetic_glucose to` and connect to the left of the already created `non_diabetic_group[\"Glucose\"]` block.\n",
    "    - From `VARIABLES` block, click the `non_diabetic_glucose` block.\n",
    "    - Click on \"Blocks to Code\" at the bottom of the blockly palette.\n",
    "    - Run the python code cell.\n",
    "</details>"
   ]
  },
  {
   "cell_type": "code",
   "execution_count": null,
   "id": "dada4a5d",
   "metadata": {
    "datawhys": {
     "response_id": 10,
     "student_response": true
    },
    "deletable": false,
    "editable": true
   },
   "outputs": [],
   "source": []
  },
  {
   "cell_type": "markdown",
   "id": "5cdadb02",
   "metadata": {
    "deletable": false,
    "editable": false
   },
   "source": [
    "##### Calculate Mean of the Glucose level of non-diabetic people\n",
    "\n",
    "We already have the `Glucose` level of the non-diabetic people in our `non_diabetic_glucose` dataframe. Now we will use this to calculate the mean. "
   ]
  },
  {
   "cell_type": "markdown",
   "id": "b54bf8fb",
   "metadata": {
    "deletable": false,
    "editable": false
   },
   "source": [
    "- `with non_diabetic_glucose do mean using ..`"
   ]
  },
  {
   "cell_type": "markdown",
   "id": "6f431d7b",
   "metadata": {
    "deletable": false,
    "editable": false
   },
   "source": [
    "<details>\n",
    "<summary> Blockly Instructions(click triangle to expand) </summary>\n",
    "<br>\n",
    "\n",
    "- Blocks:    \n",
    "    - From `VARIABLES` block, click the `with non_diabetic_glucose do ...using...` block. \n",
    "    - From do , select `mean` option.    \n",
    "    - Click on \"Blocks to Code\" at the bottom of the blockly palette.\n",
    "    - Run the python code cell.\n",
    "</details>"
   ]
  },
  {
   "cell_type": "code",
   "execution_count": null,
   "id": "125073d6",
   "metadata": {
    "datawhys": {
     "response_id": 11,
     "student_response": true
    },
    "deletable": false,
    "editable": true
   },
   "outputs": [],
   "source": []
  },
  {
   "cell_type": "markdown",
   "id": "06a1842f",
   "metadata": {
    "deletable": false,
    "editable": false
   },
   "source": [
    "### What are the mean glucose level for both the diabetic and non-diabetic groups?"
   ]
  },
  {
   "cell_type": "markdown",
   "id": "5420e33a",
   "metadata": {
    "datawhys": {
     "response_id": 12,
     "student_response": true
    },
    "deletable": false,
    "editable": true
   },
   "source": [
    "<div class=\"alert alert-block alert-info\">\n",
    "<!-- YOUR ANSWER BEGIN -->\n",
    "\n",
    "\n",
    "\n",
    "\n",
    "\n",
    "<!-- YOUR ANSWER END -->\n",
    "</div>"
   ]
  }
 ],
 "metadata": {
  "kernelspec": {
   "display_name": "Python 3 (ipykernel)",
   "language": "python",
   "name": "python3"
  },
  "language_info": {
   "codemirror_mode": {
    "name": "ipython",
    "version": 3
   },
   "file_extension": ".py",
   "mimetype": "text/x-python",
   "name": "python",
   "nbconvert_exporter": "python",
   "pygments_lexer": "ipython3",
   "version": "3.12.6"
  }
 },
 "nbformat": 4,
 "nbformat_minor": 5
}
