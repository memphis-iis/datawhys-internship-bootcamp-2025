{
 "cells": [
  {
   "cell_type": "markdown",
   "metadata": {
    "deletable": false,
    "editable": false
   },
   "source": [
    "# Plotting 3: Creating Bar Graphs with Plotly (Exercise 1)"
   ]
  },
  {
   "cell_type": "markdown",
   "metadata": {
    "deletable": false,
    "editable": false
   },
   "source": [
    "## Question. &nbsp;&nbsp; How many Short Track Speed Skating medals have been earned by each country?"
   ]
  },
  {
   "cell_type": "markdown",
   "metadata": {
    "deletable": false,
    "editable": false
   },
   "source": [
    "Dataset: All-time total number of Olympic medals earned in Short Track Speed Skating by the top 5 countries.\n",
    "\n",
    "Columns:\n",
    "- nation\n",
    "- count (# medals)\n",
    "\n",
    "Source: <https://en.wikipedia.org/wiki/Short-track_speed_skating_at_the_Winter_Olympics#Medal_table>"
   ]
  },
  {
   "cell_type": "markdown",
   "metadata": {
    "deletable": false,
    "editable": false
   },
   "source": [
    "## Pre-programming Discussion"
   ]
  },
  {
   "cell_type": "markdown",
   "metadata": {
    "deletable": false,
    "editable": false
   },
   "source": [
    "<div class=\"alert alert-block alert-danger\">\n",
    "Q1. Which columns from the dataset will be used in the plot?",
    "\n</div>"
   ]
  },
  {
   "cell_type": "markdown",
   "metadata": {
    "datawhys": {
     "response_id": 1,
     "student_response": true
    },
    "deletable": false,
    "editable": true
   },
   "source": [
    "<div class=\"alert alert-block alert-info\">\n",
    "<!-- YOUR ANSWER BEGIN -->\n",
    "\n",
    "\n",
    "\n",
    "\n",
    "\n",
    "<!-- YOUR ANSWER END -->\n",
    "</div>"
   ]
  },
  {
   "cell_type": "markdown",
   "metadata": {
    "deletable": false,
    "editable": false
   },
   "source": [
    "<div class=\"alert alert-block alert-danger\">\n",
    "Q2. Which column contains the category?",
    "\n</div>"
   ]
  },
  {
   "cell_type": "markdown",
   "metadata": {
    "datawhys": {
     "response_id": 2,
     "student_response": true
    },
    "deletable": false,
    "editable": true
   },
   "source": [
    "<div class=\"alert alert-block alert-info\">\n",
    "<!-- YOUR ANSWER BEGIN -->\n",
    "\n",
    "\n",
    "\n",
    "\n",
    "\n",
    "<!-- YOUR ANSWER END -->\n",
    "</div>"
   ]
  },
  {
   "cell_type": "markdown",
   "metadata": {
    "deletable": false,
    "editable": false
   },
   "source": [
    "<div class=\"alert alert-block alert-danger\">\n",
    "Q3. Which column contains the values for each category?",
    "\n</div>"
   ]
  },
  {
   "cell_type": "markdown",
   "metadata": {
    "datawhys": {
     "response_id": 3,
     "student_response": true
    },
    "deletable": false,
    "editable": true
   },
   "source": [
    "<div class=\"alert alert-block alert-info\">\n",
    "<!-- YOUR ANSWER BEGIN -->\n",
    "\n",
    "\n",
    "\n",
    "\n",
    "\n",
    "<!-- YOUR ANSWER END -->\n",
    "</div>"
   ]
  },
  {
   "cell_type": "markdown",
   "metadata": {
    "deletable": false,
    "editable": false
   },
   "source": [
    "<div class=\"alert alert-block alert-danger\">\n",
    "Q4. What column makes the most sense to sort by? Why?",
    "\n</div>"
   ]
  },
  {
   "cell_type": "markdown",
   "metadata": {
    "datawhys": {
     "response_id": 4,
     "student_response": true
    },
    "deletable": false,
    "editable": true
   },
   "source": [
    "<div class=\"alert alert-block alert-info\">\n",
    "<!-- YOUR ANSWER BEGIN -->\n",
    "\n",
    "\n",
    "\n",
    "\n",
    "\n",
    "<!-- YOUR ANSWER END -->\n",
    "</div>"
   ]
  },
  {
   "cell_type": "markdown",
   "metadata": {
    "deletable": false,
    "editable": false
   },
   "source": [
    "<div class=\"alert alert-block alert-danger\">\n",
    "Screenshot your answers.",
    "\n</div>"
   ]
  },
  {
   "cell_type": "markdown",
   "metadata": {
    "deletable": false,
    "editable": false
   },
   "source": [
    "## Programming Activity: Creating a Bar Chart of All-time Short Track Speed Skating Medals by Country"
   ]
  },
  {
   "cell_type": "markdown",
   "metadata": {
    "deletable": false,
    "editable": false
   },
   "source": [
    "<span><h3>\n",
    " Step 1. &nbsp;&nbsp;&nbsp; Read CSV Data into Pandas Dataframe",
    "\n</h3></span>"
   ]
  },
  {
   "cell_type": "markdown",
   "metadata": {
    "deletable": false,
    "editable": false
   },
   "source": [
    "<span><h4>\n",
    " Substep. &nbsp;&nbsp; Import Pandas Library (if Needed)",
    "\n</h4></span>"
   ]
  },
  {
   "cell_type": "markdown",
   "metadata": {
    "deletable": false,
    "editable": false
   },
   "source": [
    "- Create variable &nbsp;`pd`\n",
    "- `import pandas as pd`\n",
    "\n",
    "<br>\n",
    "<details>\n",
    "  <summary>Blockly Hints</summary>\n",
    "  <ul>\n",
    "    <li>Blocks\n",
    "      <ul>\n",
    "        <li><code>import .. as ..</code>\n",
    "          <ul>\n",
    "            <li>The <code>import .. as ..</code> block is found under IMPORT.</li>\n",
    "            <li>A variable must have been created before it will appear in the dropdown.</li>\n",
    "          </ul>\n",
    "        </li>\n",
    "      </ul>\n",
    "    </li>\n",
    "  </ul>\n",
    "</details>"
   ]
  },
  {
   "cell_type": "code",
   "execution_count": null,
   "metadata": {
    "datawhys": {
     "response_id": 5,
     "student_response": true
    },
    "deletable": false,
    "editable": true
   },
   "outputs": [],
   "source": []
  },
  {
   "cell_type": "markdown",
   "metadata": {
    "deletable": false,
    "editable": false
   },
   "source": [
    "<span><h4>\n",
    " Substep. &nbsp;&nbsp; Read CSV data and Save in Variable",
    "\n</h4></span>"
   ]
  },
  {
   "cell_type": "markdown",
   "metadata": {
    "deletable": false,
    "editable": false
   },
   "source": [
    "- Create variable &nbsp;`df`\n",
    "- `set df to` &nbsp;:&nbsp; `with pd do read_csv using` &nbsp;<-&nbsp; `\" datasets/medals_total.csv \"`\n",
    "  \n",
    "\n",
    "<br>\n",
    "<details>\n",
    "  <summary>Blockly Hints</summary>\n",
    "  <ul>\n",
    "    <li>Notation\n",
    "      <ul>\n",
    "        <li><code>A</code> &nbsp;:&nbsp; <code>B</code>&nbsp; means snap blocks A and B together.</li>\n",
    "        <li><code>A</code> &nbsp;&lt;-&nbsp; <code>B</code>&nbsp; means insert block B into the hole in block A.</li>\n",
    "      </ul>\n",
    "    </li>\n",
    "    <li>Blocks\n",
    "      <ul>\n",
    "        <li><code>\" .. \"</code>\n",
    "          <ul>\n",
    "            <li>The <code>\" .. \"</code> block is found under TEXT.</li>\n",
    "          </ul>\n",
    "        </li>\n",
    "        <li><code>set .. to</code>\n",
    "          <ul>\n",
    "            <li>The <code>set .. to</code> block is found under VARIABLES.</li>\n",
    "            <li>A variable must have been created before it will appear in the dropdown.</li>\n",
    "          </ul>\n",
    "        </li>\n",
    "        <li><code>with .. do .. using</code>\n",
    "          <ul>\n",
    "            <li>The <code>with .. do .. using</code> block is found under VARIABLES.</li>\n",
    "            <li>If <code>do</code> dropdown says \"!Not populated until you execute code\", click anywhere in the notebook tab, then click try \"Run All Above Selected Cell\" from the \"Run\" menu.</li>\n",
    "            <li>If <code>with .. do .. using</code> block does not want to snap together nicely with the <code>set .. to</code> block, try dragging the <code>set .. to</code> block instead.</li>\n",
    "          </ul>\n",
    "        </li>\n",
    "      </ul>\n",
    "    </li>\n",
    "  </ul>\n",
    "</details>"
   ]
  },
  {
   "cell_type": "code",
   "execution_count": null,
   "metadata": {
    "datawhys": {
     "response_id": 6,
     "student_response": true
    },
    "deletable": false,
    "editable": true
   },
   "outputs": [],
   "source": []
  },
  {
   "cell_type": "markdown",
   "metadata": {
    "deletable": false,
    "editable": false
   },
   "source": [
    "<span><h4>\n",
    " Substep. &nbsp;&nbsp; Sort Data",
    "\n</h4></span>"
   ]
  },
  {
   "cell_type": "markdown",
   "metadata": {
    "deletable": false,
    "editable": false
   },
   "source": [
    "- Grab freestyle block, type &nbsp;`by='count'`\n",
    "- `set df to` &nbsp;:&nbsp; `with df do sort_values using` &nbsp;<-&nbsp; `by='count'`\n",
    "\n",
    "<br>\n",
    "<details>\n",
    "  <summary>Blockly Hints</summary>\n",
    "  <ul>\n",
    "    <li>Notation\n",
    "      <ul>\n",
    "        <li><code>A</code> &nbsp;:&nbsp; <code>B</code>&nbsp; means snap blocks A and B together.</li>\n",
    "        <li><code>A</code> &nbsp;&lt;-&nbsp; <code>B</code>&nbsp; means insert block B into the hole in block A.</li>\n",
    "      </ul>\n",
    "    </li>\n",
    "    <li>Blocks\n",
    "      <ul>\n",
    "        <li>freestyle\n",
    "          <ul>\n",
    "            <li>Unless specifically instructed, use the first block from the FREESTYLE menu.</li>\n",
    "          </ul>\n",
    "        </li>\n",
    "        <li><code>set .. to</code>\n",
    "          <ul>\n",
    "            <li>The <code>set .. to</code> block is found under VARIABLES.</li>\n",
    "            <li>A variable must have been created before it will appear in the dropdown.</li>\n",
    "          </ul>\n",
    "        </li>\n",
    "        <li><code>with .. do .. using</code>\n",
    "          <ul>\n",
    "            <li>The <code>with .. do .. using</code> block is found under VARIABLES.</li>\n",
    "            <li>If <code>do</code> dropdown says \"!Not populated until you execute code\", click anywhere in the notebook tab, then click try \"Run All Above Selected Cell\" from the \"Run\" menu.</li>\n",
    "          </ul>\n",
    "        </li>\n",
    "      </ul>\n",
    "    </li>\n",
    "  </ul>\n",
    "</details>"
   ]
  },
  {
   "cell_type": "code",
   "execution_count": null,
   "metadata": {
    "datawhys": {
     "response_id": 7,
     "student_response": true
    },
    "deletable": false,
    "editable": true
   },
   "outputs": [],
   "source": []
  },
  {
   "cell_type": "markdown",
   "metadata": {
    "deletable": false,
    "editable": false
   },
   "source": [
    "<span><h4>\n",
    " Substep. &nbsp;&nbsp; Display Dataframe Contents",
    "\n</h4></span>"
   ]
  },
  {
   "cell_type": "markdown",
   "metadata": {
    "deletable": false,
    "editable": false
   },
   "source": [
    "- variable &nbsp;`df`&nbsp;\n",
    "\n",
    "<br>\n",
    "<details>\n",
    "  <summary>Blockly Hints</summary>\n",
    "  <ul>\n",
    "    <li>Blocks\n",
    "      <ul>\n",
    "        <li>variable\n",
    "          <ul>\n",
    "            <li>After it is created, each variable has its own block at the end of the VARIABLES menu.</li>\n",
    "          </ul>\n",
    "        </li>\n",
    "      </ul>\n",
    "    </li>\n",
    "  </ul>\n",
    "</details>"
   ]
  },
  {
   "cell_type": "code",
   "execution_count": null,
   "metadata": {
    "datawhys": {
     "response_id": 8,
     "student_response": true
    },
    "deletable": false,
    "editable": true
   },
   "outputs": [],
   "source": []
  },
  {
   "cell_type": "markdown",
   "metadata": {
    "deletable": false,
    "editable": false
   },
   "source": [
    "<span><h3>\n",
    " Step 2. &nbsp;&nbsp;&nbsp; Generate Plotly Bar Graph",
    "\n</h3></span>"
   ]
  },
  {
   "cell_type": "markdown",
   "metadata": {
    "deletable": false,
    "editable": false
   },
   "source": [
    "<span><h4>\n",
    " Substep. &nbsp;&nbsp; Import Plotly Express Library\n",
    "\n</h4></span>"
   ]
  },
  {
   "cell_type": "markdown",
   "metadata": {
    "deletable": false,
    "editable": false
   },
   "source": [
    "- Create variable &nbsp;`px`\n",
    "- `import plotly.express as px`\n",
    "\n",
    "<br>\n",
    "<details>\n",
    "  <summary>Blockly Hints</summary>\n",
    "  <ul>\n",
    "    <li>Blocks\n",
    "      <ul>\n",
    "        <li><code>import .. as ..</code>\n",
    "          <ul>\n",
    "            <li>The <code>import .. as ..</code> block is found under IMPORT.</li>\n",
    "            <li>A variable must have been created before it will appear in the dropdown.</li>\n",
    "          </ul>\n",
    "        </li>\n",
    "      </ul>\n",
    "    </li>\n",
    "  </ul>\n",
    "</details>"
   ]
  },
  {
   "cell_type": "code",
   "execution_count": null,
   "metadata": {
    "datawhys": {
     "response_id": 9,
     "student_response": true
    },
    "deletable": false,
    "editable": true
   },
   "outputs": [],
   "source": []
  },
  {
   "cell_type": "markdown",
   "metadata": {
    "deletable": false,
    "editable": false
   },
   "source": [
    "<span><h4>\n",
    " Substep. &nbsp;&nbsp; Set Columns as Category and Value\n",
    "\n</h4></span>"
   ]
  },
  {
   "cell_type": "markdown",
   "metadata": {
    "deletable": false,
    "editable": false
   },
   "source": [
    "- Create variable &nbsp;`category`\n",
    "- `set category to` &nbsp;:&nbsp; `\" nation \"`\n",
    "- Create variable &nbsp;`values`\n",
    "- `set values to` &nbsp;:&nbsp; `\" count \"`\n",
    "\n",
    "\n",
    "<br>\n",
    "<details>\n",
    "  <summary>Blockly Hints</summary>\n",
    "  <ul>\n",
    "    <li>Notation\n",
    "      <ul>\n",
    "        <li><code>A</code> &nbsp;:&nbsp; <code>B</code>&nbsp; means snap blocks A and B together.</li>\n",
    "      </ul>\n",
    "    </li>\n",
    "    <li>Blocks\n",
    "      <ul>\n",
    "        <li><code>\" .. \"</code>\n",
    "          <ul>\n",
    "            <li>The <code>\" .. \"</code> block is found under TEXT.</li>\n",
    "          </ul>\n",
    "        </li>\n",
    "        <li><code>set .. to</code>\n",
    "          <ul>\n",
    "            <li>The <code>set .. to</code> block is found under VARIABLES.</li>\n",
    "            <li>A variable must have been created before it will appear in the dropdown.</li>\n",
    "          </ul>\n",
    "        </li>\n",
    "      </ul>\n",
    "    </li>\n",
    "  </ul>\n",
    "</details>"
   ]
  },
  {
   "cell_type": "code",
   "execution_count": null,
   "metadata": {
    "datawhys": {
     "response_id": 10,
     "student_response": true
    },
    "deletable": false,
    "editable": true
   },
   "outputs": [],
   "source": []
  },
  {
   "cell_type": "markdown",
   "metadata": {
    "deletable": false,
    "editable": false
   },
   "source": [
    "<span><h4>\n",
    " Substep. &nbsp;&nbsp; Set Additional Plot Options",
    "\n</h4></span>"
   ]
  },
  {
   "cell_type": "markdown",
   "metadata": {
    "deletable": false,
    "editable": false
   },
   "source": [
    "- Create variable &nbsp;`labels`\n",
    "- `set labels to` &nbsp;:&nbsp; `dict` &nbsp;<-&nbsp; `create list with` &nbsp;:\n",
    "  - `create list with` &nbsp;:\n",
    "    - `( .. , .. )` &nbsp;<-\n",
    "      - \" nation \"\n",
    "      - \" Country \"\n",
    "    - `( .. , .. )` &nbsp;<-\n",
    "      - \" count \"\n",
    "      - \" Number of Medals \"\n",
    "\n",
    "\n",
    "<br>\n",
    "<details>\n",
    "  <summary>Blockly Hints</summary>\n",
    "  <ul>\n",
    "    <li>Notation\n",
    "      <ul>\n",
    "        <li><code>A</code> &nbsp;:&nbsp; <code>B</code>&nbsp; means snap blocks A and B together.</li>\n",
    "        <li><code>A</code> &nbsp;&lt;-&nbsp; <code>B</code>&nbsp; means insert block B into the hole in block A.</li>\n",
    "      </ul>\n",
    "    </li>\n",
    "    <li>Blocks\n",
    "      <ul>\n",
    "        <li><code>\" .. \"</code>\n",
    "          <ul>\n",
    "            <li>The <code>\" .. \"</code> block is found under TEXT.</li>\n",
    "          </ul>\n",
    "        </li>\n",
    "        <li><code>set .. to</code>\n",
    "          <ul>\n",
    "            <li>The <code>set .. to</code> block is found under VARIABLES.</li>\n",
    "            <li>A variable must have been created before it will appear in the dropdown.</li>\n",
    "          </ul>\n",
    "        </li>\n",
    "        <li><code>create list with</code>\n",
    "          <ul>\n",
    "            <li>The <code>create list with</code> block is found under LISTS.</li>\n",
    "            <li>You can use the <code>+ -</code> controls on the block to change the number of notches.To remove an item drag one out from the list. To add an item drag one in to the list. Unless specifically instructed, the block should not have any empty notches when you click Blocks to Code. </li>\n",
    "          </ul>\n",
    "        </li>\n",
    "        <li><code>dict ..</code>\n",
    "          <ul>\n",
    "            <li>The <code>dict ..</code> block is found under LISTS.</li>\n",
    "          </ul>\n",
    "        </li>\n",
    "        <li><code>( .. , .. )</code>\n",
    "          <ul>\n",
    "            <li>The <code>( .. , .. )</code> block is found under LISTS.</li>\n",
    "          </ul>\n",
    "        </li>\n",
    "      </ul>\n",
    "    </li>\n",
    "  </ul>\n",
    "</details>"
   ]
  },
  {
   "cell_type": "code",
   "execution_count": null,
   "metadata": {
    "datawhys": {
     "response_id": 11,
     "student_response": true
    },
    "deletable": false,
    "editable": true
   },
   "outputs": [],
   "source": []
  },
  {
   "cell_type": "markdown",
   "metadata": {
    "deletable": false,
    "editable": false
   },
   "source": [
    "- Create variable &nbsp;`title`\n",
    "- `set title to` &nbsp;:&nbsp; `\" All-Time Total of Olympic Short Track Speed Skating Medals for Top 5 Countries \"`\n",
    "\n",
    "<br>\n",
    "<details>\n",
    "  <summary>Blockly Hints</summary>\n",
    "  <ul>\n",
    "    <li>Notation\n",
    "      <ul>\n",
    "        <li><code>A</code> &nbsp;:&nbsp; <code>B</code>&nbsp; means snap blocks A and B together.</li>\n",
    "      </ul>\n",
    "    </li>\n",
    "    <li>Blocks\n",
    "      <ul>\n",
    "        <li><code>\" .. \"</code>\n",
    "          <ul>\n",
    "            <li>The <code>\" .. \"</code> block is found under TEXT.</li>\n",
    "          </ul>\n",
    "        </li>\n",
    "        <li><code>set .. to</code>\n",
    "          <ul>\n",
    "            <li>The <code>set .. to</code> block is found under VARIABLES.</li>\n",
    "            <li>A variable must have been created before it will appear in the dropdown.</li>\n",
    "          </ul>\n",
    "        </li>\n",
    "      </ul>\n",
    "    </li>\n",
    "  </ul>\n",
    "</details>"
   ]
  },
  {
   "cell_type": "code",
   "execution_count": null,
   "metadata": {
    "datawhys": {
     "response_id": 12,
     "student_response": true
    },
    "deletable": false,
    "editable": true
   },
   "outputs": [],
   "source": []
  },
  {
   "cell_type": "markdown",
   "metadata": {
    "deletable": false,
    "editable": false
   },
   "source": [
    "<span><h4>\n",
    " Substep. &nbsp;&nbsp; Generate Bar Graph",
    "\n</h4></span>"
   ]
  },
  {
   "cell_type": "markdown",
   "metadata": {
    "deletable": false,
    "editable": false
   },
   "source": [
    "- Grab a freestyle block, type &nbsp;`x=category`\n",
    "- Grab a freestyle block, type &nbsp;`y=values`\n",
    "- Grab a freestyle block, type &nbsp;`labels=labels`\n",
    "- Grab a freestyle block, type &nbsp;`title=title`\n",
    "- `with px do bar using +-` &nbsp;<-&nbsp;\n",
    "    - variable `df`\n",
    "    - `x=category`\n",
    "    - `y=values`\n",
    "    - `labels=labels`\n",
    "    - `title=title`\n",
    "\n",
    "\n",
    "<br>\n",
    "<details>\n",
    "  <summary>Blockly Hints</summary>\n",
    "  <ul>\n",
    "    <li>Notation\n",
    "      <ul>\n",
    "        <li><code>A</code> &nbsp;:&nbsp; <code>B</code>&nbsp; means snap blocks A and B together.</li>\n",
    "        <li><code>A</code> &nbsp;&lt;-&nbsp; <code>B</code>&nbsp; means insert block B into the hole in block A.</li>\n",
    "      </ul>\n",
    "    </li>\n",
    "    <li>Blocks\n",
    "      <ul>\n",
    "        <li>freestyle\n",
    "          <ul>\n",
    "            <li>Unless specifically instructed, use the first block from the FREESTYLE menu.</li>\n",
    "          </ul>\n",
    "        </li>\n",
    "        <li>variable\n",
    "          <ul>\n",
    "            <li>Each variable created has its own block at the end of the VARIABLES menu.</li>\n",
    "          </ul>\n",
    "        </li>\n",
    "        <li><code>with .. do .. using</code>\n",
    "          <ul>\n",
    "            <li>The <code>with .. do .. using</code> block is found under VARIABLES.</li>\n",
    "            <li>You can use the <code>+ -</code> controls on the block to change the number of notches. Unless specifically instructed, the block should not have any empty notches when you click Blocks to Code. </li>\n",
    "            <li>If <code>do</code> dropdown says \"!Not populated until you execute code\", click anywhere in the notebook tab, then click try \"Run All Above Selected Cell\" from the \"Run\" menu.</li>\n",
    "          </ul>\n",
    "        </li>\n",
    "      </ul>\n",
    "    </li>\n",
    "  </ul>\n",
    "</details>"
   ]
  },
  {
   "cell_type": "code",
   "execution_count": null,
   "metadata": {
    "datawhys": {
     "response_id": 13,
     "student_response": true
    },
    "deletable": false,
    "editable": true,
    "scrolled": true
   },
   "outputs": [],
   "source": []
  },
  {
   "cell_type": "markdown",
   "metadata": {
    "deletable": false,
    "editable": false
   },
   "source": [
    "<div class=\"alert alert-block alert-danger\">\n",
    "Screenshot the chart.",
    "\n</div>"
   ]
  },
  {
   "cell_type": "code",
   "execution_count": null,
   "metadata": {
    "deletable": false,
    "editable": false
   },
   "outputs": [],
   "source": []
  }
 ],
 "metadata": {
  "interpreter": {
   "hash": "be14b4e913c6f2457a185c22af60a9db8729a2914b48dcc2c5e42fe4e4a2ce08"
  },
  "kernelspec": {
   "display_name": "Python 3 (ipykernel)",
   "language": "python",
   "name": "python3"
  },
  "language_info": {
   "codemirror_mode": {
    "name": "ipython",
    "version": 3
   },
   "file_extension": ".py",
   "mimetype": "text/x-python",
   "name": "python",
   "nbconvert_exporter": "python",
   "pygments_lexer": "ipython3",
   "version": "3.12.6"
  }
 },
 "nbformat": 4,
 "nbformat_minor": 4
}
