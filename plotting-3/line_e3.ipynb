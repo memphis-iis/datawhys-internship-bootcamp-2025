{
 "cells": [
  {
   "cell_type": "markdown",
   "metadata": {
    "deletable": false,
    "editable": false
   },
   "source": [
    "# Plotting 3: Creating Line Graphs with Plotly (Exercise 3)"
   ]
  },
  {
   "cell_type": "markdown",
   "metadata": {
    "deletable": false,
    "editable": false
   },
   "source": [
    "## Question. &nbsp;&nbsp; How has the value of the major tech stocks changed over time?"
   ]
  },
  {
   "cell_type": "markdown",
   "metadata": {
    "deletable": false,
    "editable": false
   },
   "source": [
    "Dataset: Weekly closing prices from 6 tech stocks in 2018-2019.\n",
    "\n",
    "Columns:\n",
    "- date (yyyy-mm-dd)\n",
    "- stock (GOOG, AAPL, AMZN, FB, NFLX, MSFT)\n",
    "- rel_change (Change in value relative to value on 1/1/2018)"
   ]
  },
  {
   "cell_type": "markdown",
   "metadata": {
    "deletable": false,
    "editable": false
   },
   "source": [
    "## Pre-programming Discussion"
   ]
  },
  {
   "cell_type": "markdown",
   "metadata": {
    "deletable": false,
    "editable": false
   },
   "source": [
    "<div class=\"alert alert-block alert-danger\">\n",
    "Q1. Which columns from the dataset will be used in the plot?",
    "\n</div>"
   ]
  },
  {
   "cell_type": "markdown",
   "metadata": {
    "datawhys": {
     "response_id": 1,
     "student_response": true
    },
    "deletable": false,
    "editable": true
   },
   "source": [
    "<div class=\"alert alert-block alert-info\">\n",
    "<!-- YOUR ANSWER BEGIN -->\n",
    "\n",
    "\n",
    "\n",
    "\n",
    "\n",
    "<!-- YOUR ANSWER END -->\n",
    "</div>"
   ]
  },
  {
   "cell_type": "markdown",
   "metadata": {
    "deletable": false,
    "editable": false
   },
   "source": [
    "<div class=\"alert alert-block alert-danger\">\n",
    "Q2. Which column will go on the x-axis?",
    "\n</div>"
   ]
  },
  {
   "cell_type": "markdown",
   "metadata": {
    "datawhys": {
     "response_id": 2,
     "student_response": true
    },
    "deletable": false,
    "editable": true
   },
   "source": [
    "<div class=\"alert alert-block alert-info\">\n",
    "<!-- YOUR ANSWER BEGIN -->\n",
    "\n",
    "\n",
    "\n",
    "\n",
    "\n",
    "<!-- YOUR ANSWER END -->\n",
    "</div>"
   ]
  },
  {
   "cell_type": "markdown",
   "metadata": {
    "deletable": false,
    "editable": false
   },
   "source": [
    "<div class=\"alert alert-block alert-danger\">\n",
    "Q3. Which column will go on the y-axis?",
    "\n</div>"
   ]
  },
  {
   "cell_type": "markdown",
   "metadata": {
    "datawhys": {
     "response_id": 3,
     "student_response": true
    },
    "deletable": false,
    "editable": true
   },
   "source": [
    "<div class=\"alert alert-block alert-info\">\n",
    "<!-- YOUR ANSWER BEGIN -->\n",
    "\n",
    "\n",
    "\n",
    "\n",
    "\n",
    "<!-- YOUR ANSWER END -->\n",
    "</div>"
   ]
  },
  {
   "cell_type": "markdown",
   "metadata": {
    "deletable": false,
    "editable": false
   },
   "source": [
    "<div class=\"alert alert-block alert-danger\">\n",
    "Q4. Which column will be used for coloring the points?",
    "\n</div>"
   ]
  },
  {
   "cell_type": "markdown",
   "metadata": {
    "datawhys": {
     "response_id": 4,
     "student_response": true
    },
    "deletable": false,
    "editable": true
   },
   "source": [
    "<div class=\"alert alert-block alert-info\">\n",
    "<!-- YOUR ANSWER BEGIN -->\n",
    "\n",
    "\n",
    "\n",
    "\n",
    "\n",
    "<!-- YOUR ANSWER END -->\n",
    "</div>"
   ]
  },
  {
   "cell_type": "markdown",
   "metadata": {
    "deletable": false,
    "editable": false
   },
   "source": [
    "<div class=\"alert alert-block alert-danger\">\n",
    "Q5. What column makes the most sense to sort by? Why?",
    "\n</div>"
   ]
  },
  {
   "cell_type": "markdown",
   "metadata": {
    "datawhys": {
     "response_id": 5,
     "student_response": true
    },
    "deletable": false,
    "editable": true
   },
   "source": [
    "<div class=\"alert alert-block alert-info\">\n",
    "<!-- YOUR ANSWER BEGIN -->\n",
    "\n",
    "\n",
    "\n",
    "\n",
    "\n",
    "<!-- YOUR ANSWER END -->\n",
    "</div>"
   ]
  },
  {
   "cell_type": "markdown",
   "metadata": {
    "deletable": false,
    "editable": false
   },
   "source": [
    "<div class=\"alert alert-block alert-danger\">\n",
    "Screenshot your answers.",
    "\n</div>"
   ]
  },
  {
   "cell_type": "markdown",
   "metadata": {
    "deletable": false,
    "editable": false
   },
   "source": [
    "## Programming Activity: Creating a Line Graph of Tech Stock Values Over Time"
   ]
  },
  {
   "cell_type": "markdown",
   "metadata": {
    "deletable": false,
    "editable": false
   },
   "source": [
    "<span><h3>\n",
    " Step 1. &nbsp;&nbsp;&nbsp; Read CSV Data into Pandas Dataframe",
    "\n</h3></span>"
   ]
  },
  {
   "cell_type": "markdown",
   "metadata": {
    "deletable": false,
    "editable": false
   },
   "source": [
    "<span><h4>\n",
    " Substep. &nbsp;&nbsp; Import Pandas Library",
    "\n</h4></span>"
   ]
  },
  {
   "cell_type": "markdown",
   "metadata": {
    "deletable": false,
    "editable": false
   },
   "source": [
    "- Create variable &nbsp;`pd`\n",
    "- `import pandas as pd`\n",
    "\n",
    "<br>\n",
    "<details>\n",
    "  <summary>Blockly Hints</summary>\n",
    "  <ul>\n",
    "    <li>Blocks\n",
    "      <ul>\n",
    "        <li><code>import .. as ..</code>\n",
    "          <ul>\n",
    "            <li>The <code>import .. as ..</code> block is found under IMPORT.</li>\n",
    "            <li>A variable must have been created before it will appear in the dropdown.</li>\n",
    "          </ul>\n",
    "        </li>\n",
    "      </ul>\n",
    "    </li>\n",
    "  </ul>\n",
    "</details>"
   ]
  },
  {
   "cell_type": "code",
   "execution_count": null,
   "metadata": {
    "datawhys": {
     "response_id": 6,
     "student_response": true
    },
    "deletable": false,
    "editable": true
   },
   "outputs": [],
   "source": []
  },
  {
   "cell_type": "markdown",
   "metadata": {
    "deletable": false,
    "editable": false
   },
   "source": [
    "<span><h4>\n",
    " Substep. &nbsp;&nbsp; Read CSV data and Save in Variable",
    "\n</h4></span>"
   ]
  },
  {
   "cell_type": "markdown",
   "metadata": {
    "deletable": false,
    "editable": false
   },
   "source": [
    "- Create variable &nbsp;`df`\n",
    "- `Set df to` &nbsp;:&nbsp; `with pd do read_csv using` &nbsp;<-&nbsp; `\" datasets/stocks.csv \"`\n",
    "  \n",
    "\n",
    "<br>\n",
    "<details>\n",
    "  <summary>Blockly Hints</summary>\n",
    "  <ul>\n",
    "    <li>Notation\n",
    "      <ul>\n",
    "        <li><code>A</code> &nbsp;:&nbsp; <code>B</code>&nbsp; means snap blocks A and B together.</li>\n",
    "        <li><code>A</code> &nbsp;&lt;-&nbsp; <code>B</code>&nbsp; means insert block B into the hole in block A.</li>\n",
    "      </ul>\n",
    "    </li>\n",
    "    <li>Blocks\n",
    "      <ul>\n",
    "        <li><code>\" .. \"</code>\n",
    "          <ul>\n",
    "            <li>The <code>\" .. \"</code> block is found under TEXT.</li>\n",
    "          </ul>\n",
    "        </li>\n",
    "        <li><code>set .. to</code>\n",
    "          <ul>\n",
    "            <li>The <code>set .. to</code> block is found under VARIABLES.</li>\n",
    "            <li>A variable must have been created before it will appear in the dropdown.</li>\n",
    "          </ul>\n",
    "        </li>\n",
    "        <li><code>with .. do .. using</code>\n",
    "          <ul>\n",
    "            <li>The <code>with .. do .. using</code> block is found under VARIABLES.</li>\n",
    "            <li>If <code>do</code> dropdown says \"!Not populated until you execute code\", click anywhere in the notebook tab, then click try \"Run All Above Selected Cell\" from the \"Run\" menu.</li>\n",
    "            <li>If <code>with .. do .. using</code> block does not want to snap together nicely with the <code>set .. to</code> block, try dragging the <code>set .. to</code> block instead.</li>\n",
    "          </ul>\n",
    "        </li>\n",
    "      </ul>\n",
    "    </li>\n",
    "  </ul>\n",
    "</details>"
   ]
  },
  {
   "cell_type": "code",
   "execution_count": null,
   "metadata": {
    "datawhys": {
     "response_id": 7,
     "student_response": true
    },
    "deletable": false,
    "editable": true
   },
   "outputs": [],
   "source": []
  },
  {
   "cell_type": "markdown",
   "metadata": {
    "deletable": false,
    "editable": false
   },
   "source": [
    "<span><h4>\n",
    " Substep. &nbsp;&nbsp; Sort Data",
    "\n</h4></span>"
   ]
  },
  {
   "cell_type": "markdown",
   "metadata": {
    "deletable": false,
    "editable": false
   },
   "source": [
    "- Grab freestyle block, type &nbsp;`by='date'`\n",
    "- `Set df to` &nbsp;:&nbsp; `with df do sort_values using` &nbsp;<-&nbsp; `by='date'`\n",
    "\n",
    "<br>\n",
    "<details>\n",
    "  <summary>Blockly Hints</summary>\n",
    "  <ul>\n",
    "    <li>Notation\n",
    "      <ul>\n",
    "        <li><code>A</code> &nbsp;:&nbsp; <code>B</code>&nbsp; means snap blocks A and B together.</li>\n",
    "        <li><code>A</code> &nbsp;&lt;-&nbsp; <code>B</code>&nbsp; means insert block B into the hole in block A.</li>\n",
    "      </ul>\n",
    "    </li>\n",
    "    <li>Blocks\n",
    "      <ul>\n",
    "        <li>freestyle\n",
    "          <ul>\n",
    "            <li>Unless specifically instructed, use the first block from the FREESTYLE menu.</li>\n",
    "          </ul>\n",
    "        </li>\n",
    "        <li><code>set .. to</code>\n",
    "          <ul>\n",
    "            <li>The <code>set .. to</code> block is found under VARIABLES.</li>\n",
    "            <li>A variable must have been created before it will appear in the dropdown.</li>\n",
    "          </ul>\n",
    "        </li>\n",
    "        <li><code>with .. do .. using</code>\n",
    "          <ul>\n",
    "            <li>The <code>with .. do .. using</code> block is found under VARIABLES.</li>\n",
    "            <li>If <code>do</code> dropdown says \"!Not populated until you execute code\", click anywhere in the notebook tab, then click try \"Run All Above Selected Cell\" from the \"Run\" menu.</li>\n",
    "          </ul>\n",
    "        </li>\n",
    "      </ul>\n",
    "    </li>\n",
    "  </ul>\n",
    "</details>"
   ]
  },
  {
   "cell_type": "code",
   "execution_count": null,
   "metadata": {
    "datawhys": {
     "response_id": 8,
     "student_response": true
    },
    "deletable": false,
    "editable": true
   },
   "outputs": [],
   "source": []
  },
  {
   "cell_type": "markdown",
   "metadata": {
    "deletable": false,
    "editable": false
   },
   "source": [
    "<span><h4>\n",
    " Substep. &nbsp;&nbsp; Display Dataframe Contents",
    "\n</h4></span>"
   ]
  },
  {
   "cell_type": "markdown",
   "metadata": {
    "deletable": false,
    "editable": false
   },
   "source": [
    "- variable &nbsp;`df`&nbsp;\n",
    "\n",
    "<br>\n",
    "<details>\n",
    "  <summary>Blockly Hints</summary>\n",
    "  <ul>\n",
    "    <li>Blocks\n",
    "      <ul>\n",
    "        <li>variable\n",
    "          <ul>\n",
    "            <li>After it is created, each variable has its own block at the end of the VARIABLES menu.</li>\n",
    "          </ul>\n",
    "        </li>\n",
    "      </ul>\n",
    "    </li>\n",
    "  </ul>\n",
    "</details>"
   ]
  },
  {
   "cell_type": "code",
   "execution_count": null,
   "metadata": {
    "datawhys": {
     "response_id": 9,
     "student_response": true
    },
    "deletable": false,
    "editable": true
   },
   "outputs": [],
   "source": []
  },
  {
   "cell_type": "markdown",
   "metadata": {
    "deletable": false,
    "editable": false
   },
   "source": [
    "<span><h3>\n",
    " Step 2. &nbsp;&nbsp;&nbsp; Generate Plotly Line Graph",
    "\n</h3></span>"
   ]
  },
  {
   "cell_type": "markdown",
   "metadata": {
    "deletable": false,
    "editable": false
   },
   "source": [
    "<span><h4>\n",
    " Substep. &nbsp;&nbsp; Import Plotly Express Library\n",
    "\n</h4></span>"
   ]
  },
  {
   "cell_type": "markdown",
   "metadata": {
    "deletable": false,
    "editable": false
   },
   "source": [
    "- Create variable &nbsp;`px`\n",
    "- `import plotly.express as px`\n",
    "\n",
    "<br>\n",
    "<details>\n",
    "  <summary>Blockly Hints</summary>\n",
    "  <ul>\n",
    "    <li>Blocks\n",
    "      <ul>\n",
    "        <li><code>import .. as ..</code>\n",
    "          <ul>\n",
    "            <li>The <code>import .. as ..</code> block is found under IMPORT.</li>\n",
    "            <li>A variable must have been created before it will appear in the dropdown.</li>\n",
    "          </ul>\n",
    "        </li>\n",
    "      </ul>\n",
    "    </li>\n",
    "  </ul>\n",
    "</details>"
   ]
  },
  {
   "cell_type": "code",
   "execution_count": null,
   "metadata": {
    "datawhys": {
     "response_id": 10,
     "student_response": true
    },
    "deletable": false,
    "editable": true
   },
   "outputs": [],
   "source": []
  },
  {
   "cell_type": "markdown",
   "metadata": {
    "deletable": false,
    "editable": false
   },
   "source": [
    "<span><h4>\n",
    " Substep. &nbsp;&nbsp; Set Columns for x and y\n",
    "\n</h4></span>"
   ]
  },
  {
   "cell_type": "markdown",
   "metadata": {
    "deletable": false,
    "editable": false
   },
   "source": [
    "- Create variable &nbsp;`x`\n",
    "- `Set x to` &nbsp;:&nbsp; `\" date \"`\n",
    "- Create variable &nbsp;`y`\n",
    "- `Set y to` &nbsp;:&nbsp; `\" rel_change \"`\n",
    "\n",
    "\n",
    "<br>\n",
    "<details>\n",
    "  <summary>Blockly Hints</summary>\n",
    "  <ul>\n",
    "    <li>Notation\n",
    "      <ul>\n",
    "        <li><code>A</code> &nbsp;:&nbsp; <code>B</code>&nbsp; means snap blocks A and B together.</li>\n",
    "      </ul>\n",
    "    </li>\n",
    "    <li>Blocks\n",
    "      <ul>\n",
    "        <li><code>\" .. \"</code>\n",
    "          <ul>\n",
    "            <li>The <code>\" .. \"</code> block is found under TEXT.</li>\n",
    "          </ul>\n",
    "        </li>\n",
    "        <li><code>set .. to</code>\n",
    "          <ul>\n",
    "            <li>The <code>set .. to</code> block is found under VARIABLES.</li>\n",
    "            <li>A variable must have been created before it will appear in the dropdown.</li>\n",
    "          </ul>\n",
    "        </li>\n",
    "      </ul>\n",
    "    </li>\n",
    "  </ul>\n",
    "</details>"
   ]
  },
  {
   "cell_type": "code",
   "execution_count": null,
   "metadata": {
    "datawhys": {
     "response_id": 11,
     "student_response": true
    },
    "deletable": false,
    "editable": true
   },
   "outputs": [],
   "source": []
  },
  {
   "cell_type": "markdown",
   "metadata": {
    "deletable": false,
    "editable": false
   },
   "source": [
    "<span><h4>\n",
    " Substep. &nbsp;&nbsp; Set Additional Plot Options",
    "\n</h4></span>"
   ]
  },
  {
   "cell_type": "markdown",
   "metadata": {
    "deletable": false,
    "editable": false
   },
   "source": [
    "- Create variable &nbsp;`color`\n",
    "- `Set color to` &nbsp;:&nbsp; `\" stock \"`\n",
    "\n",
    "\n",
    "<br>\n",
    "<details>\n",
    "  <summary>Blockly Hints</summary>\n",
    "  <ul>\n",
    "    <li>Notation\n",
    "      <ul>\n",
    "        <li><code>A</code> &nbsp;:&nbsp; <code>B</code>&nbsp; means snap blocks A and B together.</li>\n",
    "      </ul>\n",
    "    </li>\n",
    "    <li>Blocks\n",
    "      <ul>\n",
    "        <li><code>\" .. \"</code>\n",
    "          <ul>\n",
    "            <li>The <code>\" .. \"</code> block is found under TEXT.</li>\n",
    "          </ul>\n",
    "        </li>\n",
    "        <li><code>set .. to</code>\n",
    "          <ul>\n",
    "            <li>The <code>set .. to</code> block is found under VARIABLES.</li>\n",
    "            <li>A variable must have been created before it will appear in the dropdown.</li>\n",
    "          </ul>\n",
    "        </li>\n",
    "      </ul>\n",
    "    </li>\n",
    "  </ul>\n",
    "</details>"
   ]
  },
  {
   "cell_type": "code",
   "execution_count": null,
   "metadata": {
    "datawhys": {
     "response_id": 12,
     "student_response": true
    },
    "deletable": false,
    "editable": true
   },
   "outputs": [],
   "source": []
  },
  {
   "cell_type": "markdown",
   "metadata": {
    "deletable": false,
    "editable": false
   },
   "source": [
    "- Create variable &nbsp;`labels`\n",
    "- `set labels to` &nbsp;:&nbsp; `dict` &nbsp;<-&nbsp; `create list with` &nbsp;:\n",
    "  - `create list with` &nbsp;:\n",
    "    - `( .. , .. )` &nbsp;<-\n",
    "      - \" date \"\n",
    "      - \" Date \"    \n",
    "    - `( .. , .. )` &nbsp;<-\n",
    "      - \" rel_change \"\n",
    "      - \" Relative Change in Value \"\n",
    "    - `( .. , .. )` &nbsp;<-\n",
    "      - \" stock \"\n",
    "      - \" Stock \"\n",
    "\n",
    "<br>\n",
    "<details>\n",
    "  <summary>Blockly Hints</summary>\n",
    "  <ul>\n",
    "    <li>Notation\n",
    "      <ul>\n",
    "        <li><code>A</code> &nbsp;:&nbsp; <code>B</code>&nbsp; means snap blocks A and B together.</li>\n",
    "        <li><code>A</code> &nbsp;&lt;-&nbsp; <code>B</code>&nbsp; means insert block B into the hole in block A.</li>\n",
    "      </ul>\n",
    "    </li>\n",
    "    <li>Blocks\n",
    "      <ul>\n",
    "        <li><code>\" .. \"</code>\n",
    "          <ul>\n",
    "            <li>The <code>\" .. \"</code> block is found under TEXT.</li>\n",
    "          </ul>\n",
    "        </li>\n",
    "        <li><code>set .. to</code>\n",
    "          <ul>\n",
    "            <li>The <code>set .. to</code> block is found under VARIABLES.</li>\n",
    "            <li>A variable must have been created before it will appear in the dropdown.</li>\n",
    "          </ul>\n",
    "        </li>\n",
    "        <li><code>create list with</code>\n",
    "          <ul>\n",
    "            <li>The <code>create list with</code> block is found under LISTS.</li>\n",
    "            <li>You can use the <code>+ -</code> controls on the block to change the number of notches. You can remove an item by draging it out from the joint. Also you can add an item by draging it in in the joint. Unless specifically instructed, the block should not have any empty notches when you click Blocks to Code. </li>\n",
    "          </ul>\n",
    "        </li>\n",
    "        <li><code>dict ..</code>\n",
    "          <ul>\n",
    "            <li>The <code>dict ..</code> block is found under LISTS.</li>\n",
    "          </ul>\n",
    "        </li>\n",
    "        <li><code>( .. , .. )</code>\n",
    "          <ul>\n",
    "            <li>The <code>( .. , .. )</code> block is found under LISTS.</li>\n",
    "          </ul>\n",
    "        </li>\n",
    "      </ul>\n",
    "    </li>\n",
    "  </ul>\n",
    "</details>"
   ]
  },
  {
   "cell_type": "code",
   "execution_count": null,
   "metadata": {
    "datawhys": {
     "response_id": 13,
     "student_response": true
    },
    "deletable": false,
    "editable": true
   },
   "outputs": [],
   "source": []
  },
  {
   "cell_type": "markdown",
   "metadata": {
    "deletable": false,
    "editable": false
   },
   "source": [
    "- Create variable &nbsp;`title`\n",
    "- `Set title to` &nbsp;:&nbsp; `\" Change in Value of Major Tech Stocks (2018-2019) \"`\n",
    "\n",
    "<br>\n",
    "<details>\n",
    "  <summary>Blockly Hints</summary>\n",
    "  <ul>\n",
    "    <li>Notation\n",
    "      <ul>\n",
    "        <li><code>A</code> &nbsp;:&nbsp; <code>B</code>&nbsp; means snap blocks A and B together.</li>\n",
    "      </ul>\n",
    "    </li>\n",
    "    <li>Blocks\n",
    "      <ul>\n",
    "        <li><code>\" .. \"</code>\n",
    "          <ul>\n",
    "            <li>The <code>\" .. \"</code> block is found under TEXT.</li>\n",
    "          </ul>\n",
    "        </li>\n",
    "        <li><code>set .. to</code>\n",
    "          <ul>\n",
    "            <li>The <code>set .. to</code> block is found under VARIABLES.</li>\n",
    "            <li>A variable must have been created before it will appear in the dropdown.</li>\n",
    "          </ul>\n",
    "        </li>\n",
    "      </ul>\n",
    "    </li>\n",
    "  </ul>\n",
    "</details>"
   ]
  },
  {
   "cell_type": "code",
   "execution_count": null,
   "metadata": {
    "datawhys": {
     "response_id": 14,
     "student_response": true
    },
    "deletable": false,
    "editable": true
   },
   "outputs": [],
   "source": []
  },
  {
   "cell_type": "markdown",
   "metadata": {
    "deletable": false,
    "editable": false
   },
   "source": [
    "<div class=\"alert alert-block alert-danger\">\n",
    "Turn point markers off.",
    "\n</div>"
   ]
  },
  {
   "cell_type": "markdown",
   "metadata": {
    "deletable": false,
    "editable": false
   },
   "source": [
    "- Create variable &nbsp;`markers`\n",
    "- `Set markers to` &nbsp;:&nbsp; `False`\n",
    "\n",
    "\n",
    "<br>\n",
    "<details>\n",
    "  <summary>Blockly Hints</summary>\n",
    "  <ul>\n",
    "    <li>Notation\n",
    "      <ul>\n",
    "        <li><code>A</code> &nbsp;:&nbsp; <code>B</code>&nbsp; means snap blocks A and B together.</li>\n",
    "      </ul>\n",
    "    </li>\n",
    "    <li>Blocks\n",
    "      <ul>\n",
    "        <li><code>set .. to</code>\n",
    "          <ul>\n",
    "            <li>The <code>set .. to</code> block is found under VARIABLES.</li>\n",
    "            <li>A variable must have been created before it will appear in the dropdown.</li>\n",
    "          </ul>\n",
    "        </li>\n",
    "        <li><code>true</code> or <code>false</code>\n",
    "          <ul>\n",
    "            <li>The <code>true</code> block is found under LOGIC.</li>\n",
    "            <li>Click the dropdown on the <code>true</code> block to make a <code>false</code> block.</li>\n",
    "          </ul>\n",
    "        </li>\n",
    "      </ul>\n",
    "    </li>\n",
    "  </ul>\n",
    "</details>\n"
   ]
  },
  {
   "cell_type": "code",
   "execution_count": null,
   "metadata": {
    "datawhys": {
     "response_id": 15,
     "student_response": true
    },
    "deletable": false,
    "editable": true
   },
   "outputs": [],
   "source": []
  },
  {
   "cell_type": "markdown",
   "metadata": {
    "deletable": false,
    "editable": false
   },
   "source": [
    "<span><h4>\n",
    " Substep. &nbsp;&nbsp; Generate Line Graph",
    "\n</h4></span>"
   ]
  },
  {
   "cell_type": "markdown",
   "metadata": {
    "deletable": false,
    "editable": false
   },
   "source": [
    "<div class=\"alert alert-block alert-danger\">\n",
    "Generate graph with all preset options.",
    "\n</div>"
   ]
  },
  {
   "cell_type": "markdown",
   "metadata": {
    "deletable": false,
    "editable": false
   },
   "source": [
    "- Grab a freestyle block, type &nbsp;`x=x`\n",
    "- Grab a freestyle block, type &nbsp;`y=y`\n",
    "- Grab a freestyle block, type &nbsp;`color=color`\n",
    "- Grab a freestyle block, type &nbsp;`labels=labels`\n",
    "- Grab a freestyle block, type &nbsp;`title=title`\n",
    "- Grab a freestyle block, type &nbsp;`markers=markers`\n",
    "- `with px do line using` &nbsp;<-&nbsp;\n",
    "    - variable `df`\n",
    "    - `x=x`\n",
    "    - `y=y`\n",
    "    - `color=color`\n",
    "    - `labels=labels`\n",
    "    - `title=title`\n",
    "    - `markers=markers`\n",
    "\n",
    "<br>\n",
    "<details>\n",
    "  <summary>Blockly Hints</summary>\n",
    "  <ul>\n",
    "    <li>Notation\n",
    "      <ul>\n",
    "        <li><code>A</code> &nbsp;:&nbsp; <code>B</code>&nbsp; means snap blocks A and B together.</li>\n",
    "        <li><code>A</code> &nbsp;&lt;-&nbsp; <code>B</code>&nbsp; means insert block B into the hole in block A.</li>\n",
    "      </ul>\n",
    "    </li>\n",
    "    <li>Blocks\n",
    "      <ul>\n",
    "        <li>freestyle\n",
    "          <ul>\n",
    "            <li>Unless specifically instructed, use the first block from the FREESTYLE menu.</li>\n",
    "          </ul>\n",
    "        </li>\n",
    "        <li>variable\n",
    "          <ul>\n",
    "            <li>Each variable created has its own block at the end of the VARIABLES menu.</li>\n",
    "          </ul>\n",
    "        </li>\n",
    "        <li><code>with .. do .. using</code>\n",
    "          <ul>\n",
    "            <li>The <code>with .. do .. using</code> block is found under VARIABLES.</li>\n",
    "            <li>You can use the <code>+ -</code> controls on the block to change the number of notches. Unless specifically instructed, the block should not have any empty notches when you click Blocks to Code. </li>\n",
    "            <li>If <code>do</code> dropdown says \"!Not populated until you execute code\", click anywhere in the notebook tab, then click try \"Run All Above Selected Cell\" from the \"Run\" menu.</li>\n",
    "          </ul>\n",
    "        </li>\n",
    "      </ul>\n",
    "    </li>\n",
    "  </ul>\n",
    "</details>"
   ]
  },
  {
   "cell_type": "code",
   "execution_count": null,
   "metadata": {
    "datawhys": {
     "response_id": 16,
     "student_response": true
    },
    "deletable": false,
    "editable": true
   },
   "outputs": [],
   "source": []
  },
  {
   "cell_type": "markdown",
   "metadata": {
    "deletable": false,
    "editable": false
   },
   "source": [
    "<div class=\"alert alert-block alert-danger\">\n",
    "Screenshot the chart.",
    "\n</div>"
   ]
  },
  {
   "cell_type": "markdown",
   "metadata": {
    "deletable": false,
    "editable": false
   },
   "source": [
    "<div class=\"alert alert-block alert-danger\">\n",
    "Screenshot the chart with FB data hidden.",
    "\n</div>"
   ]
  },
  {
   "cell_type": "markdown",
   "metadata": {
    "deletable": false,
    "editable": false
   },
   "source": [
    "<div class=\"alert alert-block alert-danger\">\n",
    "Screenshot the chart with only AMZN data shown.",
    "\n</div>"
   ]
  }
 ],
 "metadata": {
  "interpreter": {
   "hash": "be14b4e913c6f2457a185c22af60a9db8729a2914b48dcc2c5e42fe4e4a2ce08"
  },
  "kernelspec": {
   "display_name": "Python 3 (ipykernel)",
   "language": "python",
   "name": "python3"
  },
  "language_info": {
   "codemirror_mode": {
    "name": "ipython",
    "version": 3
   },
   "file_extension": ".py",
   "mimetype": "text/x-python",
   "name": "python",
   "nbconvert_exporter": "python",
   "pygments_lexer": "ipython3",
   "version": "3.12.6"
  }
 },
 "nbformat": 4,
 "nbformat_minor": 4
}
