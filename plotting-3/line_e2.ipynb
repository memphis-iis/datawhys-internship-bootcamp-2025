{
 "cells": [
  {
   "cell_type": "markdown",
   "metadata": {
    "deletable": false,
    "editable": false
   },
   "source": [
    "# Plotting 3: Creating Line Graphs with Plotly (Exercise 2)"
   ]
  },
  {
   "cell_type": "markdown",
   "metadata": {
    "deletable": false,
    "editable": false
   },
   "source": [
    "## Question. &nbsp;&nbsp; How has the number of representatives from each state in the US changed over time?"
   ]
  },
  {
   "cell_type": "markdown",
   "metadata": {
    "deletable": false,
    "editable": false
   },
   "source": [
    "Dataset: US Census data from 1910-2020.\n",
    "\n",
    "Columns:\n",
    "- Year\n",
    "- State\n",
    "- Representatives"
   ]
  },
  {
   "cell_type": "markdown",
   "metadata": {
    "deletable": false,
    "editable": false
   },
   "source": [
    "## Pre-programming Discussion"
   ]
  },
  {
   "cell_type": "markdown",
   "metadata": {
    "deletable": false,
    "editable": false
   },
   "source": [
    "<div class=\"alert alert-block alert-danger\">\n",
    "Q1. Which columns from the dataset will be used in the plot?",
    "\n</div>"
   ]
  },
  {
   "cell_type": "markdown",
   "metadata": {
    "datawhys": {
     "response_id": 1,
     "student_response": true
    },
    "deletable": false,
    "editable": true
   },
   "source": [
    "<div class=\"alert alert-block alert-info\">\n",
    "<!-- YOUR ANSWER BEGIN -->\n",
    "\n",
    "\n",
    "\n",
    "\n",
    "\n",
    "<!-- YOUR ANSWER END -->\n",
    "</div>"
   ]
  },
  {
   "cell_type": "markdown",
   "metadata": {
    "deletable": false,
    "editable": false
   },
   "source": [
    "<div class=\"alert alert-block alert-danger\">\n",
    "Q2. Which column will go on the x-axis?",
    "\n</div>"
   ]
  },
  {
   "cell_type": "markdown",
   "metadata": {
    "datawhys": {
     "response_id": 2,
     "student_response": true
    },
    "deletable": false,
    "editable": true
   },
   "source": [
    "<div class=\"alert alert-block alert-info\">\n",
    "<!-- YOUR ANSWER BEGIN -->\n",
    "\n",
    "\n",
    "\n",
    "\n",
    "\n",
    "<!-- YOUR ANSWER END -->\n",
    "</div>"
   ]
  },
  {
   "cell_type": "markdown",
   "metadata": {
    "deletable": false,
    "editable": false
   },
   "source": [
    "<div class=\"alert alert-block alert-danger\">\n",
    "Q3. Which column will go on the y-axis?",
    "\n</div>"
   ]
  },
  {
   "cell_type": "markdown",
   "metadata": {
    "datawhys": {
     "response_id": 3,
     "student_response": true
    },
    "deletable": false,
    "editable": true
   },
   "source": [
    "<div class=\"alert alert-block alert-info\">\n",
    "<!-- YOUR ANSWER BEGIN -->\n",
    "\n",
    "\n",
    "\n",
    "\n",
    "\n",
    "<!-- YOUR ANSWER END -->\n",
    "</div>"
   ]
  },
  {
   "cell_type": "markdown",
   "metadata": {
    "deletable": false,
    "editable": false
   },
   "source": [
    "<div class=\"alert alert-block alert-danger\">\n",
    "Q4. Which column will be used for coloring the lines?",
    "\n</div>"
   ]
  },
  {
   "cell_type": "markdown",
   "metadata": {
    "datawhys": {
     "response_id": 4,
     "student_response": true
    },
    "deletable": false,
    "editable": true
   },
   "source": [
    "<div class=\"alert alert-block alert-info\">\n",
    "<!-- YOUR ANSWER BEGIN -->\n",
    "\n",
    "\n",
    "\n",
    "\n",
    "\n",
    "<!-- YOUR ANSWER END -->\n",
    "</div>"
   ]
  },
  {
   "cell_type": "markdown",
   "metadata": {
    "deletable": false,
    "editable": false
   },
   "source": [
    "<div class=\"alert alert-block alert-danger\">\n",
    "Q5. What column makes the most sense to sort by? Why?",
    "\n</div>"
   ]
  },
  {
   "cell_type": "markdown",
   "metadata": {
    "datawhys": {
     "response_id": 5,
     "student_response": true
    },
    "deletable": false,
    "editable": true
   },
   "source": [
    "<div class=\"alert alert-block alert-info\">\n",
    "<!-- YOUR ANSWER BEGIN -->\n",
    "\n",
    "\n",
    "\n",
    "\n",
    "\n",
    "<!-- YOUR ANSWER END -->\n",
    "</div>"
   ]
  },
  {
   "cell_type": "markdown",
   "metadata": {
    "deletable": false,
    "editable": false
   },
   "source": [
    "<div class=\"alert alert-block alert-danger\">\n",
    "Screenshot your answers.",
    "\n</div>"
   ]
  },
  {
   "cell_type": "markdown",
   "metadata": {
    "deletable": false,
    "editable": false
   },
   "source": [
    "## Programming Activity: Creating a Line Graph of US Representatives by State Over Time"
   ]
  },
  {
   "cell_type": "markdown",
   "metadata": {
    "deletable": false,
    "editable": false
   },
   "source": [
    "<span><h3>\n",
    " Step 1. &nbsp;&nbsp;&nbsp; Read CSV Data into Pandas Dataframe",
    "\n</h3></span>"
   ]
  },
  {
   "cell_type": "markdown",
   "metadata": {
    "deletable": false,
    "editable": false
   },
   "source": [
    "<span><h4>\n",
    " Substep. &nbsp;&nbsp; Import Pandas Library",
    "\n</h4></span>"
   ]
  },
  {
   "cell_type": "markdown",
   "metadata": {
    "deletable": false,
    "editable": false
   },
   "source": [
    "- Create variable &nbsp;`pd`\n",
    "- `import pandas as pd`\n",
    "\n",
    "<br>\n",
    "<details>\n",
    "  <summary>Blockly Hints</summary>\n",
    "  <ul>\n",
    "    <li>Blocks\n",
    "      <ul>\n",
    "        <li><code>import .. as ..</code>\n",
    "          <ul>\n",
    "            <li>The <code>import .. as ..</code> block is found under IMPORT.</li>\n",
    "            <li>A variable must have been created before it will appear in the dropdown.</li>\n",
    "          </ul>\n",
    "        </li>\n",
    "      </ul>\n",
    "    </li>\n",
    "  </ul>\n",
    "</details>"
   ]
  },
  {
   "cell_type": "code",
   "execution_count": null,
   "metadata": {
    "datawhys": {
     "response_id": 6,
     "student_response": true
    },
    "deletable": false,
    "editable": true
   },
   "outputs": [],
   "source": []
  },
  {
   "cell_type": "markdown",
   "metadata": {
    "deletable": false,
    "editable": false
   },
   "source": [
    "<span><h4>\n",
    " Substep. &nbsp;&nbsp; Read CSV data and Save in Variable",
    "\n</h4></span>"
   ]
  },
  {
   "cell_type": "markdown",
   "metadata": {
    "deletable": false,
    "editable": false
   },
   "source": [
    "- Create variable &nbsp;`df`\n",
    "- `Set df to` &nbsp;:&nbsp; `with pd do read_csv using` &nbsp;<-&nbsp; `\" datasets/us_apportionment.csv \"`\n",
    "  \n",
    "\n",
    "<br>\n",
    "<details>\n",
    "  <summary>Blockly Hints</summary>\n",
    "  <ul>\n",
    "    <li>Notation\n",
    "      <ul>\n",
    "        <li><code>A</code> &nbsp;:&nbsp; <code>B</code>&nbsp; means snap blocks A and B together.</li>\n",
    "        <li><code>A</code> &nbsp;&lt;-&nbsp; <code>B</code>&nbsp; means insert block B into the hole in block A.</li>\n",
    "      </ul>\n",
    "    </li>\n",
    "    <li>Blocks\n",
    "      <ul>\n",
    "        <li><code>\" .. \"</code>\n",
    "          <ul>\n",
    "            <li>The <code>\" .. \"</code> block is found under TEXT.</li>\n",
    "          </ul>\n",
    "        </li>\n",
    "        <li><code>set .. to</code>\n",
    "          <ul>\n",
    "            <li>The <code>set .. to</code> block is found under VARIABLES.</li>\n",
    "            <li>A variable must have been created before it will appear in the dropdown.</li>\n",
    "          </ul>\n",
    "        </li>\n",
    "        <li><code>with .. do .. using</code>\n",
    "          <ul>\n",
    "            <li>The <code>with .. do .. using</code> block is found under VARIABLES.</li>\n",
    "            <li>If <code>do</code> dropdown says \"!Not populated until you execute code\", click anywhere in the notebook tab, then click try \"Run All Above Selected Cell\" from the \"Run\" menu.</li>\n",
    "            <li>If <code>with .. do .. using</code> block does not want to snap together nicely with the <code>set .. to</code> block, try dragging the <code>set .. to</code> block instead.</li>\n",
    "          </ul>\n",
    "        </li>\n",
    "      </ul>\n",
    "    </li>\n",
    "  </ul>\n",
    "</details>"
   ]
  },
  {
   "cell_type": "code",
   "execution_count": null,
   "metadata": {
    "datawhys": {
     "response_id": 7,
     "student_response": true
    },
    "deletable": false,
    "editable": true
   },
   "outputs": [],
   "source": []
  },
  {
   "cell_type": "markdown",
   "metadata": {
    "deletable": false,
    "editable": false
   },
   "source": [
    "<span><h4>\n",
    " Substep. &nbsp;&nbsp; Sort Data",
    "\n</h4></span>"
   ]
  },
  {
   "cell_type": "markdown",
   "metadata": {
    "deletable": false,
    "editable": false
   },
   "source": [
    "- Grab freestyle block, type &nbsp;`by='Year'`\n",
    "- `Set df to` &nbsp;:&nbsp; `with df do sort_values using` &nbsp;<-&nbsp; `by='Year'`\n",
    "\n",
    "<br>\n",
    "<details>\n",
    "  <summary>Blockly Hints</summary>\n",
    "  <ul>\n",
    "    <li>Notation\n",
    "      <ul>\n",
    "        <li><code>A</code> &nbsp;:&nbsp; <code>B</code>&nbsp; means snap blocks A and B together.</li>\n",
    "        <li><code>A</code> &nbsp;&lt;-&nbsp; <code>B</code>&nbsp; means insert block B into the hole in block A.</li>\n",
    "      </ul>\n",
    "    </li>\n",
    "    <li>Blocks\n",
    "      <ul>\n",
    "        <li>freestyle\n",
    "          <ul>\n",
    "            <li>Unless specifically instructed, use the first block from the FREESTYLE menu.</li>\n",
    "          </ul>\n",
    "        </li>\n",
    "        <li><code>set .. to</code>\n",
    "          <ul>\n",
    "            <li>The <code>set .. to</code> block is found under VARIABLES.</li>\n",
    "            <li>A variable must have been created before it will appear in the dropdown.</li>\n",
    "          </ul>\n",
    "        </li>\n",
    "        <li><code>with .. do .. using</code>\n",
    "          <ul>\n",
    "            <li>The <code>with .. do .. using</code> block is found under VARIABLES.</li>\n",
    "            <li>If <code>do</code> dropdown says \"!Not populated until you execute code\", click anywhere in the notebook tab, then click try \"Run All Above Selected Cell\" from the \"Run\" menu.</li>\n",
    "          </ul>\n",
    "        </li>\n",
    "      </ul>\n",
    "    </li>\n",
    "  </ul>\n",
    "</details>"
   ]
  },
  {
   "cell_type": "code",
   "execution_count": null,
   "metadata": {
    "datawhys": {
     "response_id": 8,
     "student_response": true
    },
    "deletable": false,
    "editable": true
   },
   "outputs": [],
   "source": []
  },
  {
   "cell_type": "markdown",
   "metadata": {
    "deletable": false,
    "editable": false
   },
   "source": [
    "<span><h4>\n",
    " Substep. &nbsp;&nbsp; Display Dataframe Contents",
    "\n</h4></span>"
   ]
  },
  {
   "cell_type": "markdown",
   "metadata": {
    "deletable": false,
    "editable": false
   },
   "source": [
    "- variable &nbsp;`df`&nbsp;\n",
    "\n",
    "<br>\n",
    "<details>\n",
    "  <summary>Blockly Hints</summary>\n",
    "  <ul>\n",
    "    <li>Blocks\n",
    "      <ul>\n",
    "        <li>variable\n",
    "          <ul>\n",
    "            <li>After it is created, each variable has its own block at the end of the VARIABLES menu.</li>\n",
    "          </ul>\n",
    "        </li>\n",
    "      </ul>\n",
    "    </li>\n",
    "  </ul>\n",
    "</details>"
   ]
  },
  {
   "cell_type": "code",
   "execution_count": null,
   "metadata": {
    "datawhys": {
     "response_id": 9,
     "student_response": true
    },
    "deletable": false,
    "editable": true
   },
   "outputs": [],
   "source": []
  },
  {
   "cell_type": "markdown",
   "metadata": {
    "deletable": false,
    "editable": false
   },
   "source": [
    "<span><h3>\n",
    " Step 2. &nbsp;&nbsp;&nbsp; Generate Plotly Line Graph",
    "\n</h3></span>"
   ]
  },
  {
   "cell_type": "markdown",
   "metadata": {
    "deletable": false,
    "editable": false
   },
   "source": [
    "<span><h4>\n",
    " Substep. &nbsp;&nbsp; Import Plotly Express Library\n",
    "\n</h4></span>"
   ]
  },
  {
   "cell_type": "markdown",
   "metadata": {
    "deletable": false,
    "editable": false
   },
   "source": [
    "- Create variable &nbsp;`px`\n",
    "- `import plotly.express as px`\n",
    "\n",
    "<br>\n",
    "<details>\n",
    "  <summary>Blockly Hints</summary>\n",
    "  <ul>\n",
    "    <li>Blocks\n",
    "      <ul>\n",
    "        <li><code>import .. as ..</code>\n",
    "          <ul>\n",
    "            <li>The <code>import .. as ..</code> block is found under IMPORT.</li>\n",
    "            <li>A variable must have been created before it will appear in the dropdown.</li>\n",
    "          </ul>\n",
    "        </li>\n",
    "      </ul>\n",
    "    </li>\n",
    "  </ul>\n",
    "</details>"
   ]
  },
  {
   "cell_type": "code",
   "execution_count": null,
   "metadata": {
    "datawhys": {
     "response_id": 10,
     "student_response": true
    },
    "deletable": false,
    "editable": true
   },
   "outputs": [],
   "source": []
  },
  {
   "cell_type": "markdown",
   "metadata": {
    "deletable": false,
    "editable": false
   },
   "source": [
    "<span><h4>\n",
    " Substep. &nbsp;&nbsp; Set Columns as x and y\n",
    "\n</h4></span>"
   ]
  },
  {
   "cell_type": "markdown",
   "metadata": {
    "deletable": false,
    "editable": false
   },
   "source": [
    "- Create variable &nbsp;`x`\n",
    "- `Set x to` &nbsp;:&nbsp; `\" Year \"`\n",
    "- Create variable &nbsp;`y`\n",
    "- `Set y to` &nbsp;:&nbsp; `\" Representatives \"`\n",
    "\n",
    "\n",
    "<br>\n",
    "<details>\n",
    "  <summary>Blockly Hints</summary>\n",
    "  <ul>\n",
    "    <li>Notation\n",
    "      <ul>\n",
    "        <li><code>A</code> &nbsp;:&nbsp; <code>B</code>&nbsp; means snap blocks A and B together.</li>\n",
    "      </ul>\n",
    "    </li>\n",
    "    <li>Blocks\n",
    "      <ul>\n",
    "        <li><code>\" .. \"</code>\n",
    "          <ul>\n",
    "            <li>The <code>\" .. \"</code> block is found under TEXT.</li>\n",
    "          </ul>\n",
    "        </li>\n",
    "        <li><code>set .. to</code>\n",
    "          <ul>\n",
    "            <li>The <code>set .. to</code> block is found under VARIABLES.</li>\n",
    "            <li>A variable must have been created before it will appear in the dropdown.</li>\n",
    "          </ul>\n",
    "        </li>\n",
    "      </ul>\n",
    "    </li>\n",
    "  </ul>\n",
    "</details>"
   ]
  },
  {
   "cell_type": "code",
   "execution_count": null,
   "metadata": {
    "datawhys": {
     "response_id": 11,
     "student_response": true
    },
    "deletable": false,
    "editable": true
   },
   "outputs": [],
   "source": []
  },
  {
   "cell_type": "markdown",
   "metadata": {
    "deletable": false,
    "editable": false
   },
   "source": [
    "<span><h4>\n",
    " Substep. &nbsp;&nbsp; Set Additional Plot Options",
    "\n</h4></span>"
   ]
  },
  {
   "cell_type": "markdown",
   "metadata": {
    "deletable": false,
    "editable": false
   },
   "source": [
    "- Create variable &nbsp;`color`\n",
    "- `Set color to` &nbsp;:&nbsp; `\" State \"`\n",
    "\n",
    "\n",
    "<br>\n",
    "<details>\n",
    "  <summary>Blockly Hints</summary>\n",
    "  <ul>\n",
    "    <li>Notation\n",
    "      <ul>\n",
    "        <li><code>A</code> &nbsp;:&nbsp; <code>B</code>&nbsp; means snap blocks A and B together.</li>\n",
    "      </ul>\n",
    "    </li>\n",
    "    <li>Blocks\n",
    "      <ul>\n",
    "        <li><code>\" .. \"</code>\n",
    "          <ul>\n",
    "            <li>The <code>\" .. \"</code> block is found under TEXT.</li>\n",
    "          </ul>\n",
    "        </li>\n",
    "        <li><code>set .. to</code>\n",
    "          <ul>\n",
    "            <li>The <code>set .. to</code> block is found under VARIABLES.</li>\n",
    "            <li>A variable must have been created before it will appear in the dropdown.</li>\n",
    "          </ul>\n",
    "        </li>\n",
    "      </ul>\n",
    "    </li>\n",
    "  </ul>\n",
    "</details>"
   ]
  },
  {
   "cell_type": "code",
   "execution_count": null,
   "metadata": {
    "datawhys": {
     "response_id": 12,
     "student_response": true
    },
    "deletable": false,
    "editable": true
   },
   "outputs": [],
   "source": []
  },
  {
   "cell_type": "markdown",
   "metadata": {
    "deletable": false,
    "editable": false
   },
   "source": [
    "- Create variable &nbsp;`title`\n",
    "- `Set title to` &nbsp;:&nbsp; `\" Number of US Representatives by State (1910-2020) \"`\n",
    "\n",
    "<br>\n",
    "<details>\n",
    "  <summary>Blockly Hints</summary>\n",
    "  <ul>\n",
    "    <li>Notation\n",
    "      <ul>\n",
    "        <li><code>A</code> &nbsp;:&nbsp; <code>B</code>&nbsp; means snap blocks A and B together.</li>\n",
    "      </ul>\n",
    "    </li>\n",
    "    <li>Blocks\n",
    "      <ul>\n",
    "        <li><code>\" .. \"</code>\n",
    "          <ul>\n",
    "            <li>The <code>\" .. \"</code> block is found under TEXT.</li>\n",
    "          </ul>\n",
    "        </li>\n",
    "        <li><code>set .. to</code>\n",
    "          <ul>\n",
    "            <li>The <code>set .. to</code> block is found under VARIABLES.</li>\n",
    "            <li>A variable must have been created before it will appear in the dropdown.</li>\n",
    "          </ul>\n",
    "        </li>\n",
    "      </ul>\n",
    "    </li>\n",
    "  </ul>\n",
    "</details>"
   ]
  },
  {
   "cell_type": "code",
   "execution_count": null,
   "metadata": {
    "datawhys": {
     "response_id": 13,
     "student_response": true
    },
    "deletable": false,
    "editable": true
   },
   "outputs": [],
   "source": []
  },
  {
   "cell_type": "markdown",
   "metadata": {
    "deletable": false,
    "editable": false
   },
   "source": [
    "- Create variable &nbsp;`markers`\n",
    "- `Set markers to` &nbsp;:&nbsp; `true`\n",
    "\n",
    "\n",
    "<br>\n",
    "<details>\n",
    "  <summary>Blockly Hints</summary>\n",
    "  <ul>\n",
    "    <li>Notation\n",
    "      <ul>\n",
    "        <li><code>A</code> &nbsp;:&nbsp; <code>B</code>&nbsp; means snap blocks A and B together.</li>\n",
    "      </ul>\n",
    "    </li>\n",
    "    <li>Blocks\n",
    "      <ul>\n",
    "        <li><code>set .. to</code>\n",
    "          <ul>\n",
    "            <li>The <code>set .. to</code> block is found under VARIABLES.</li>\n",
    "            <li>A variable must have been created before it will appear in the dropdown.</li>\n",
    "          </ul>\n",
    "        </li>\n",
    "        <li><code>true</code> or <code>false</code>\n",
    "          <ul>\n",
    "            <li>The <code>true</code> block is found under LOGIC.</li>\n",
    "            <li>Click the dropdown on the <code>true</code> block to make a <code>false</code> block.</li>\n",
    "          </ul>\n",
    "        </li>\n",
    "      </ul>\n",
    "    </li>\n",
    "  </ul>\n",
    "</details>\n"
   ]
  },
  {
   "cell_type": "code",
   "execution_count": null,
   "metadata": {
    "datawhys": {
     "response_id": 14,
     "student_response": true
    },
    "deletable": false,
    "editable": true
   },
   "outputs": [],
   "source": []
  },
  {
   "cell_type": "markdown",
   "metadata": {
    "deletable": false,
    "editable": false
   },
   "source": [
    "<span><h4>\n",
    " Substep. &nbsp;&nbsp; Generate Line Graph",
    "\n</h4></span>"
   ]
  },
  {
   "cell_type": "markdown",
   "metadata": {
    "deletable": false,
    "editable": false
   },
   "source": [
    "- Grab a freestyle block, type &nbsp;`x=x`\n",
    "- Grab a freestyle block, type &nbsp;`y=y`\n",
    "- Grab a freestyle block, type &nbsp;`color=color`\n",
    "- Grab a freestyle block, type &nbsp;`title=title`\n",
    "- Grab a freestyle block, type &nbsp;`markers=markers`\n",
    "- `with px do line using` &nbsp;<-&nbsp;\n",
    "    - variable `df`\n",
    "    - `x=x`\n",
    "    - `y=y`\n",
    "    - `color=color`\n",
    "    - `title=title`\n",
    "    - `markers=markers`\n",
    "\n",
    "<br>\n",
    "<details>\n",
    "  <summary>Blockly Hints</summary>\n",
    "  <ul>\n",
    "    <li>Notation\n",
    "      <ul>\n",
    "        <li><code>A</code> &nbsp;:&nbsp; <code>B</code>&nbsp; means snap blocks A and B together.</li>\n",
    "        <li><code>A</code> &nbsp;&lt;-&nbsp; <code>B</code>&nbsp; means insert block B into the hole in block A.</li>\n",
    "      </ul>\n",
    "    </li>\n",
    "    <li>Blocks\n",
    "      <ul>\n",
    "        <li>freestyle\n",
    "          <ul>\n",
    "            <li>Unless specifically instructed, use the first block from the FREESTYLE menu.</li>\n",
    "          </ul>\n",
    "        </li>\n",
    "        <li>variable\n",
    "          <ul>\n",
    "            <li>Each variable created has its own block at the end of the VARIABLES menu.</li>\n",
    "          </ul>\n",
    "        </li>\n",
    "        <li><code>with .. do .. using</code>\n",
    "          <ul>\n",
    "            <li>The <code>with .. do .. using</code> block is found under VARIABLES.</li>\n",
    "            <li>You can use the <code>+ -</code> controls on the block to change the number of notches. Unless specifically instructed, the block should not have any empty notches when you click Blocks to Code. </li>\n",
    "            <li>If <code>do</code> dropdown says \"!Not populated until you execute code\", click anywhere in the notebook tab, then click try \"Run All Above Selected Cell\" from the \"Run\" menu.</li>\n",
    "          </ul>\n",
    "        </li>\n",
    "      </ul>\n",
    "    </li>\n",
    "  </ul>\n",
    "</details>"
   ]
  },
  {
   "cell_type": "code",
   "execution_count": null,
   "metadata": {
    "datawhys": {
     "response_id": 15,
     "student_response": true
    },
    "deletable": false,
    "editable": true
   },
   "outputs": [],
   "source": []
  },
  {
   "cell_type": "markdown",
   "metadata": {
    "deletable": false,
    "editable": false
   },
   "source": [
    "<div class=\"alert alert-block alert-danger\">\n",
    "Screenshot the chart.",
    "\n</div>"
   ]
  },
  {
   "cell_type": "markdown",
   "metadata": {
    "deletable": false,
    "editable": false
   },
   "source": [
    "<div class=\"alert alert-block alert-danger\">\n",
    "Single-click on a state in the legend to hide values for that state. Single-click again to show them.  \n\nScreenshot the chart with California's data hidden.",
    "\n</div>"
   ]
  },
  {
   "cell_type": "markdown",
   "metadata": {
    "deletable": false,
    "editable": false
   },
   "source": [
    "<div class=\"alert alert-block alert-danger\">\n",
    "Double-click on a state in the legend to show only values for that state. Double-click again to see the whole chart.  \n\nScreenshot the chart with only Tennessee's data shown.",
    "\n</div>"
   ]
  }
 ],
 "metadata": {
  "interpreter": {
   "hash": "be14b4e913c6f2457a185c22af60a9db8729a2914b48dcc2c5e42fe4e4a2ce08"
  },
  "kernelspec": {
   "display_name": "Python 3 (ipykernel)",
   "language": "python",
   "name": "python3"
  },
  "language_info": {
   "codemirror_mode": {
    "name": "ipython",
    "version": 3
   },
   "file_extension": ".py",
   "mimetype": "text/x-python",
   "name": "python",
   "nbconvert_exporter": "python",
   "pygments_lexer": "ipython3",
   "version": "3.12.6"
  }
 },
 "nbformat": 4,
 "nbformat_minor": 4
}
