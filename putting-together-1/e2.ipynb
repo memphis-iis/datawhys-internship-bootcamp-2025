{
 "cells": [
  {
   "cell_type": "markdown",
   "id": "843b5282",
   "metadata": {
    "deletable": false,
    "editable": false
   },
   "source": [
    "# Putting It Together : Answering Questions By Exploring and Plotting the Dataset (Exercise)"
   ]
  },
  {
   "cell_type": "markdown",
   "id": "5eab6679",
   "metadata": {
    "deletable": false,
    "editable": false
   },
   "source": [
    "Dataset: Measurements of various technical specs of cars. \n",
    "\n",
    "Columns:\n",
    "- mpg (Represents mileage per gallon)\n",
    "- cylinders (Represents number of cylinders)\n",
    "- horsepower (Represents horsepower)\n",
    "- displacement (Represents engine displacement)\n",
    "- weight (Represents weight of the car)"
   ]
  },
  {
   "cell_type": "markdown",
   "id": "8d801d9a",
   "metadata": {
    "deletable": false,
    "editable": false
   },
   "source": [
    "<div class=\"alert alert-block alert-danger\">\n",
    "Read in the dataset `datasets/modified_mpg.csv` and display its contents.",
    "\n</div>"
   ]
  },
  {
   "cell_type": "markdown",
   "id": "699ca643",
   "metadata": {
    "deletable": false,
    "editable": false
   },
   "source": [
    "- Create variable &nbsp;`pd`\n",
    "- `import pandas as pd`"
   ]
  },
  {
   "cell_type": "markdown",
   "id": "fb5da4fc",
   "metadata": {
    "deletable": false,
    "editable": false
   },
   "source": [
    "<br><details><summary>Blockly Hints</summary><ul><li>Blocks<ul><li><code>import .. as ..</code><ul><li>The <code>import .. as ..</code> block is found under IMPORT.</li> <li>A variable must have been created before it will appear in the dropdown.</li></ul></li></ul></li></ul></details>"
   ]
  },
  {
   "cell_type": "code",
   "execution_count": null,
   "id": "2d8c7155",
   "metadata": {
    "datawhys": {
     "response_id": 1,
     "student_response": true
    },
    "deletable": false,
    "editable": true
   },
   "outputs": [],
   "source": []
  },
  {
   "cell_type": "markdown",
   "id": "aaa99f5e-310c-4485-9cfe-a3a57259167f",
   "metadata": {
    "deletable": false,
    "editable": false
   },
   "source": [
    "<div class=\"alert alert-block alert-danger\">\n",
    "Explain the above generated code and output(if there is any) in plain English.",
    "\n</div>"
   ]
  },
  {
   "cell_type": "markdown",
   "id": "ef07cbfd-55f2-49c9-be1e-b9495fbac7bc",
   "metadata": {
    "datawhys": {
     "response_id": 2,
     "student_response": true
    },
    "deletable": false,
    "editable": true
   },
   "source": [
    "<div class=\"alert alert-block alert-info\">\n",
    "<!-- YOUR ANSWER BEGIN -->\n",
    "\n",
    "\n",
    "\n",
    "\n",
    "\n",
    "<!-- YOUR ANSWER END -->\n",
    "</div>"
   ]
  },
  {
   "cell_type": "markdown",
   "id": "1d579b1c",
   "metadata": {
    "deletable": false,
    "editable": false
   },
   "source": [
    "- Create variable &nbsp;`df`\n",
    "- `set df to` &nbsp;:&nbsp; `with pd do read_csv using` &nbsp;<-&nbsp; `\" datasets/modified_mpg.csv \"`"
   ]
  },
  {
   "cell_type": "markdown",
   "id": "fc1cec3c",
   "metadata": {
    "deletable": false,
    "editable": false
   },
   "source": [
    "<br><details><summary>Blockly Hints</summary><ul><li>Notation<ul><li><code>A</code> &nbsp;:&nbsp; <code>B</code>&nbsp; means snap blocks A and B together.</li><li><code>A</code> &nbsp;&lt;-&nbsp; <code>B</code>&nbsp; means insert block B into the hole in block A.</li></ul></li><li>Blocks<ul><li><code>set .. to</code><ul><li>The <code>set .. to</code> block is found under VARIABLES.</li> <li>A variable must have been created before it will appear in the dropdown.</li></ul></li><li><code>with .. do .. using ..</code><ul><li>The <code>with .. do .. using ..</code> block is found under VARIABLES.</li> <li>If <code>do</code> dropdown says \"!Not populated until you execute code\", click anywhere in the notebook tab, then click try \"Run All Above Selected Cell\" from the \"Run\" menu.</li> <li>If <code>with .. do .. using ..</code> block does not want to snap together nicely with the <code>set .. to</code> block, try dragging the <code>set .. to</code> block instead.</li></ul></li><li><code>\" .. \"</code><ul><li>The <code>\" .. \"</code> block is found under TEXT.</li></ul></li></ul></li></ul></details>"
   ]
  },
  {
   "cell_type": "code",
   "execution_count": null,
   "id": "047e6033",
   "metadata": {
    "datawhys": {
     "response_id": 3,
     "student_response": true
    },
    "deletable": false,
    "editable": true
   },
   "outputs": [],
   "source": []
  },
  {
   "cell_type": "markdown",
   "id": "7e6012cf-49b5-45d4-b3f9-8b863e375d06",
   "metadata": {
    "deletable": false,
    "editable": false
   },
   "source": [
    "<div class=\"alert alert-block alert-danger\">\n",
    "Explain the above generated code and output(if there is any) in plain English.",
    "\n</div>"
   ]
  },
  {
   "cell_type": "markdown",
   "id": "c4ab9498-2c0b-43f6-b03b-03f02d88d316",
   "metadata": {
    "datawhys": {
     "response_id": 4,
     "student_response": true
    },
    "deletable": false,
    "editable": true
   },
   "source": [
    "<div class=\"alert alert-block alert-info\">\n",
    "<!-- YOUR ANSWER BEGIN -->\n",
    "\n",
    "\n",
    "\n",
    "\n",
    "\n",
    "<!-- YOUR ANSWER END -->\n",
    "</div>"
   ]
  },
  {
   "cell_type": "markdown",
   "id": "7130f5e5",
   "metadata": {
    "deletable": false,
    "editable": false
   },
   "source": [
    "- variable &nbsp;`df`"
   ]
  },
  {
   "cell_type": "markdown",
   "id": "7d30556d",
   "metadata": {
    "deletable": false,
    "editable": false
   },
   "source": [
    "<br><details><summary>Blockly Hints</summary><ul><li>Blocks<ul><li>variable<ul><li>After it is created, each variable has its own block at the end of the VARIABLES menu.</li></ul></li></ul></li></ul></details>"
   ]
  },
  {
   "cell_type": "code",
   "execution_count": null,
   "id": "a1e23540",
   "metadata": {
    "datawhys": {
     "response_id": 5,
     "student_response": true
    },
    "deletable": false,
    "editable": true
   },
   "outputs": [],
   "source": []
  },
  {
   "cell_type": "markdown",
   "id": "2f575a07-0ec3-47f9-a82b-ca25675f6e5c",
   "metadata": {
    "deletable": false,
    "editable": false
   },
   "source": [
    "<div class=\"alert alert-block alert-danger\">\n",
    "Explain the above generated code and output(if there is any) in plain English. How many cars are here?",
    "\n</div>"
   ]
  },
  {
   "cell_type": "markdown",
   "id": "13e504a2-9177-410b-8e32-8feb64805c61",
   "metadata": {
    "datawhys": {
     "response_id": 6,
     "student_response": true
    },
    "deletable": false,
    "editable": true
   },
   "source": [
    "<div class=\"alert alert-block alert-info\">\n",
    "<!-- YOUR ANSWER BEGIN -->\n",
    "\n",
    "\n",
    "\n",
    "\n",
    "\n",
    "<!-- YOUR ANSWER END -->\n",
    "</div>"
   ]
  },
  {
   "cell_type": "markdown",
   "id": "4123b93a",
   "metadata": {
    "deletable": false,
    "editable": false
   },
   "source": [
    "## Question 1. &nbsp;&nbsp; For each cylinder type of the cars, what is the distribution (spread) of values for `mpg`, `displacement`, `horsepower` variable?"
   ]
  },
  {
   "cell_type": "markdown",
   "id": "f65e217d",
   "metadata": {
    "deletable": false,
    "editable": false
   },
   "source": [
    "As per the question our concerned variables are  `mpg`, `cylinders`, `displacement` and `horsepower`. So we no longer need `weight`."
   ]
  },
  {
   "cell_type": "markdown",
   "id": "c737fdaa",
   "metadata": {
    "deletable": false,
    "editable": false
   },
   "source": [
    "`Set df to` : `df [ .. ]` &nbsp;<-&nbsp; `create list with` &nbsp;:\n",
    "  - `\" mpg \"`  \n",
    "  - `\" cylinders \"`\n",
    "  - `\" displacement \"`\n",
    "  - `\" horsepower \"`"
   ]
  },
  {
   "cell_type": "markdown",
   "id": "81757f3b",
   "metadata": {
    "deletable": false,
    "editable": false
   },
   "source": [
    "<details>\n",
    "    <summary>\n",
    "        Blockly Hints (Click the triangle to expand)\n",
    "    </summary>\n",
    "    <ul>\n",
    "        <li>Notation\n",
    "            <ul>\n",
    "                <li>\n",
    "                    <code>A</code> &nbsp;:&nbsp; <code>B</code>&nbsp; means snap blocks A and B together\n",
    "                </li>\n",
    "                <li>\n",
    "                    <code>A</code> &nbsp;&lt;-&nbsp; <code>B</code>&nbsp; means insert block B into the hole in block A.\n",
    "                </li>\n",
    "            </ul>\n",
    "        </li>\n",
    "        <li>Blocks\n",
    "            <ul>\n",
    "                <li>\n",
    "                    <code>{dictVariable} [ .. ]</code>\n",
    "                    <ul>\n",
    "                        <li>\n",
    "                            The <code>{dictVariable} [ .. ]</code> block is found under LISTS.\n",
    "                        </li>\n",
    "                    </ul>\n",
    "                </li>\n",
    "                <li>\n",
    "                    <code>create list with</code>\n",
    "                    <ul>\n",
    "                        <li>\n",
    "                            The <code>create list with</code> block is found under LISTS.\n",
    "                        </li> \n",
    "                        <li>You can use the <code>+ -</code> controls on the block to change the number of notches. Unless specifically instructed, the block should not have any empty notches when you click Blocks to Code.\n",
    "                        </li>\n",
    "                    </ul>\n",
    "                </li>\n",
    "                <li>\n",
    "                    <code>\" .. \"</code>\n",
    "                    <ul>\n",
    "                        <li>\n",
    "                            The <code>\" .. \"</code> block is found under TEXT.\n",
    "                        </li>\n",
    "                    </ul>\n",
    "                </li>\n",
    "            </ul>\n",
    "        </li>\n",
    "    </ul>\n",
    "</details>"
   ]
  },
  {
   "cell_type": "code",
   "execution_count": null,
   "id": "f5e9b1ba",
   "metadata": {
    "datawhys": {
     "response_id": 7,
     "student_response": true
    },
    "deletable": false,
    "editable": true
   },
   "outputs": [],
   "source": []
  },
  {
   "cell_type": "markdown",
   "id": "e809266b-33c7-45d2-90d9-20fac9b8cf24",
   "metadata": {
    "deletable": false,
    "editable": false
   },
   "source": [
    "<div class=\"alert alert-block alert-danger\">\n",
    "Explain the above generated code and output(if there is any) in plain English.",
    "\n</div>"
   ]
  },
  {
   "cell_type": "markdown",
   "id": "25bcbf20-18e0-4cff-923d-eca565312405",
   "metadata": {
    "datawhys": {
     "response_id": 8,
     "student_response": true
    },
    "deletable": false,
    "editable": true
   },
   "source": [
    "<div class=\"alert alert-block alert-info\">\n",
    "<!-- YOUR ANSWER BEGIN -->\n",
    "\n",
    "\n",
    "\n",
    "\n",
    "\n",
    "<!-- YOUR ANSWER END -->\n",
    "</div>"
   ]
  },
  {
   "cell_type": "markdown",
   "id": "68ee9655",
   "metadata": {
    "deletable": false,
    "editable": false
   },
   "source": [
    "- variable &nbsp;`df`"
   ]
  },
  {
   "cell_type": "markdown",
   "id": "7bed4990",
   "metadata": {
    "deletable": false,
    "editable": false
   },
   "source": [
    "<br><details><summary>Blockly Hints</summary><ul><li>Blocks<ul><li>variable<ul><li>After it is created, each variable has its own block at the end of the VARIABLES menu.</li></ul></li></ul></li></ul></details>"
   ]
  },
  {
   "cell_type": "code",
   "execution_count": null,
   "id": "90fabe0b",
   "metadata": {
    "datawhys": {
     "response_id": 9,
     "student_response": true
    },
    "deletable": false,
    "editable": true
   },
   "outputs": [],
   "source": []
  },
  {
   "cell_type": "markdown",
   "id": "1fe758bf-ae25-45bf-befa-cf65535c3363",
   "metadata": {
    "deletable": false,
    "editable": false
   },
   "source": [
    "<div class=\"alert alert-block alert-danger\">\n",
    "Explain the above generated code and output(if there is any) in plain English.",
    "\n</div>"
   ]
  },
  {
   "cell_type": "markdown",
   "id": "6c2ba530-7663-42e6-8d39-078e66df5502",
   "metadata": {
    "datawhys": {
     "response_id": 10,
     "student_response": true
    },
    "deletable": false,
    "editable": true
   },
   "source": [
    "<div class=\"alert alert-block alert-info\">\n",
    "<!-- YOUR ANSWER BEGIN -->\n",
    "\n",
    "\n",
    "\n",
    "\n",
    "\n",
    "<!-- YOUR ANSWER END -->\n",
    "</div>"
   ]
  },
  {
   "cell_type": "markdown",
   "id": "2c6e40a0",
   "metadata": {
    "deletable": false,
    "editable": false
   },
   "source": [
    "#### To answer question 1, we should create subsets for each cylinder numbers of the cars. In our dataset, for any car the `cylinders` count is either `4` or `6` or `8`."
   ]
  },
  {
   "cell_type": "markdown",
   "id": "a623664c-458f-4c40-8488-eb62b21b5b14",
   "metadata": {
    "deletable": false,
    "editable": false
   },
   "source": [
    "##### 4 Cylinder Cars"
   ]
  },
  {
   "cell_type": "markdown",
   "id": "cfcc2f70",
   "metadata": {
    "deletable": false,
    "editable": false
   },
   "source": [
    "- Create variable &nbsp;`cylinder_4`\n",
    "- `set cylinder_4 to` &nbsp;:&nbsp; `df [ .. ]` &nbsp;<-&nbsp; ` .. = .. ` &nbsp;<-\n",
    "  - `from df get cylinders`\n",
    "  - ` 4 `"
   ]
  },
  {
   "cell_type": "markdown",
   "id": "ec6d2ab4",
   "metadata": {
    "deletable": false,
    "editable": false
   },
   "source": [
    "<br><details><summary>Blockly Hints</summary><ul><li>Notation<ul><li><code>A</code> &nbsp;:&nbsp; <code>B</code>&nbsp; means snap blocks A and B together.</li><li><code>A</code> &nbsp;&lt;-&nbsp; <code>B</code>&nbsp; means insert block B into the hole in block A.</li></ul></li><li>Blocks<ul><li><code>set .. to</code><ul><li>The <code>set .. to</code> block is found under VARIABLES.</li> <li>A variable must have been created before it will appear in the dropdown.</li></ul></li><li><code>\\{dictVariable\\} [ .. ]</code><ul><li>The <code>\\{dictVariable\\} [ .. ]</code> block is found under LISTS.</li></ul></li><li><code> .. = .. </code><ul><li>The <code> .. = .. </code> block is found under LOGIC.</li> <li>Use the dropdown to get other comparison operators.</li></ul></li><li><code>from .. get ..</code><ul><li>The <code>from .. get ..</code> block is found under VARIABLES.</li></ul></li><li><code>123</code><ul><li>The <code>123</code> block is found under MATH.</li></ul></li></ul></li></ul></details>"
   ]
  },
  {
   "cell_type": "code",
   "execution_count": null,
   "id": "47e23391",
   "metadata": {
    "datawhys": {
     "response_id": 11,
     "student_response": true
    },
    "deletable": false,
    "editable": true
   },
   "outputs": [],
   "source": []
  },
  {
   "cell_type": "markdown",
   "id": "b1250444-1898-4ca2-beee-15f506ad3a82",
   "metadata": {
    "deletable": false,
    "editable": false
   },
   "source": [
    "- variable &nbsp;`cylinder_4`"
   ]
  },
  {
   "cell_type": "markdown",
   "id": "5708dc12-abc3-4a89-b7a9-c905ea581a6c",
   "metadata": {
    "deletable": false,
    "editable": false
   },
   "source": [
    "<br><details><summary>Blockly Hints</summary><ul><li>Blocks<ul><li>variable<ul><li>After it is created, each variable has its own block at the end of the VARIABLES menu.</li></ul></li></ul></li></ul></details>"
   ]
  },
  {
   "cell_type": "code",
   "execution_count": null,
   "id": "b8cfff53-207c-43b5-bfae-09afb4c2e0fe",
   "metadata": {
    "datawhys": {
     "response_id": 12,
     "student_response": true
    },
    "deletable": false,
    "editable": true,
    "scrolled": true
   },
   "outputs": [],
   "source": []
  },
  {
   "cell_type": "markdown",
   "id": "a2ba3aa0-8496-4e5f-bf23-b9114251b55b",
   "metadata": {
    "deletable": false,
    "editable": false
   },
   "source": [
    "<div class=\"alert alert-block alert-danger\">\n",
    "Explain the above generated code and output(if there is any) in plain English. How many\n4 cylinders cars are here?",
    "\n</div>"
   ]
  },
  {
   "cell_type": "markdown",
   "id": "4211b461-757d-46db-9d99-3579265d44da",
   "metadata": {
    "datawhys": {
     "response_id": 13,
     "student_response": true
    },
    "deletable": false,
    "editable": true
   },
   "source": [
    "<div class=\"alert alert-block alert-info\">\n",
    "<!-- YOUR ANSWER BEGIN -->\n",
    "\n",
    "\n",
    "\n",
    "\n",
    "\n",
    "<!-- YOUR ANSWER END -->\n",
    "</div>"
   ]
  },
  {
   "cell_type": "markdown",
   "id": "433e3a9e-0b93-4faf-82aa-fa28dadd67a9",
   "metadata": {
    "deletable": false,
    "editable": false
   },
   "source": [
    "##### 6 Cylinder Cars"
   ]
  },
  {
   "cell_type": "markdown",
   "id": "1eccb53d",
   "metadata": {
    "deletable": false,
    "editable": false
   },
   "source": [
    "- Create variable &nbsp;`cylinder_6`\n",
    "- `set cylinder_6 to` &nbsp;:&nbsp; `df [ .. ]` &nbsp;<-&nbsp; ` .. = .. ` &nbsp;<-\n",
    "  - `from df get cylinders`\n",
    "  - ` 6 `"
   ]
  },
  {
   "cell_type": "markdown",
   "id": "34e6c517",
   "metadata": {
    "deletable": false,
    "editable": false
   },
   "source": [
    "<br><details><summary>Blockly Hints</summary><ul><li>Notation<ul><li><code>A</code> &nbsp;:&nbsp; <code>B</code>&nbsp; means snap blocks A and B together.</li><li><code>A</code> &nbsp;&lt;-&nbsp; <code>B</code>&nbsp; means insert block B into the hole in block A.</li></ul></li><li>Blocks<ul><li><code>set .. to</code><ul><li>The <code>set .. to</code> block is found under VARIABLES.</li> <li>A variable must have been created before it will appear in the dropdown.</li></ul></li><li><code>\\{dictVariable\\} [ .. ]</code><ul><li>The <code>\\{dictVariable\\} [ .. ]</code> block is found under LISTS.</li></ul></li><li><code> .. = .. </code><ul><li>The <code> .. = .. </code> block is found under LOGIC.</li> <li>Use the dropdown to get other comparison operators.</li></ul></li><li><code>from .. get ..</code><ul><li>The <code>from .. get ..</code> block is found under VARIABLES.</li></ul></li><li><code>123</code><ul><li>The <code>123</code> block is found under MATH.</li></ul></li></ul></li></ul></details>"
   ]
  },
  {
   "cell_type": "code",
   "execution_count": null,
   "id": "7251a831",
   "metadata": {
    "datawhys": {
     "response_id": 14,
     "student_response": true
    },
    "deletable": false,
    "editable": true
   },
   "outputs": [],
   "source": []
  },
  {
   "cell_type": "markdown",
   "id": "894762b1-b05f-48d5-bf3f-b1ddf8f8be58",
   "metadata": {
    "deletable": false,
    "editable": false
   },
   "source": [
    "- variable &nbsp;`cylinder_6`"
   ]
  },
  {
   "cell_type": "markdown",
   "id": "be6753e9-c436-4531-955d-c2549b912e86",
   "metadata": {
    "deletable": false,
    "editable": false
   },
   "source": [
    "<br><details><summary>Blockly Hints</summary><ul><li>Blocks<ul><li>variable<ul><li>After it is created, each variable has its own block at the end of the VARIABLES menu.</li></ul></li></ul></li></ul></details>"
   ]
  },
  {
   "cell_type": "code",
   "execution_count": null,
   "id": "b46a28cd-dcf4-45d5-9b5e-1d751ee4e033",
   "metadata": {
    "datawhys": {
     "response_id": 15,
     "student_response": true
    },
    "deletable": false,
    "editable": true
   },
   "outputs": [],
   "source": []
  },
  {
   "cell_type": "markdown",
   "id": "24ee4efe-2da8-4435-b675-632d0a172b19",
   "metadata": {
    "deletable": false,
    "editable": false
   },
   "source": [
    "<div class=\"alert alert-block alert-danger\">\n",
    "Explain the above generated code and output(if there is any) in plain English. How many\n6 cylinders cars are here?",
    "\n</div>"
   ]
  },
  {
   "cell_type": "markdown",
   "id": "78a9efc5-ad26-4905-9fff-7a7ac9ad2217",
   "metadata": {
    "datawhys": {
     "response_id": 16,
     "student_response": true
    },
    "deletable": false,
    "editable": true
   },
   "source": [
    "<div class=\"alert alert-block alert-info\">\n",
    "<!-- YOUR ANSWER BEGIN -->\n",
    "\n",
    "\n",
    "\n",
    "\n",
    "\n",
    "<!-- YOUR ANSWER END -->\n",
    "</div>"
   ]
  },
  {
   "cell_type": "markdown",
   "id": "6dbe9f3d-7dcd-4a30-9abf-fd701e22ed3a",
   "metadata": {
    "deletable": false,
    "editable": false
   },
   "source": [
    "##### 8 Cylinder Cars"
   ]
  },
  {
   "cell_type": "markdown",
   "id": "083db840",
   "metadata": {
    "deletable": false,
    "editable": false
   },
   "source": [
    "- Create variable &nbsp;`cylinder_8`\n",
    "- `set cylinder_8 to` &nbsp;:&nbsp; `df [ .. ]` &nbsp;<-&nbsp; ` .. = .. ` &nbsp;<-\n",
    "  - `from df get cylinders`\n",
    "  - ` 8 `"
   ]
  },
  {
   "cell_type": "markdown",
   "id": "6be6111c",
   "metadata": {
    "deletable": false,
    "editable": false
   },
   "source": [
    "<br><details><summary>Blockly Hints</summary><ul><li>Notation<ul><li><code>A</code> &nbsp;:&nbsp; <code>B</code>&nbsp; means snap blocks A and B together.</li><li><code>A</code> &nbsp;&lt;-&nbsp; <code>B</code>&nbsp; means insert block B into the hole in block A.</li></ul></li><li>Blocks<ul><li><code>set .. to</code><ul><li>The <code>set .. to</code> block is found under VARIABLES.</li> <li>A variable must have been created before it will appear in the dropdown.</li></ul></li><li><code>\\{dictVariable\\} [ .. ]</code><ul><li>The <code>\\{dictVariable\\} [ .. ]</code> block is found under LISTS.</li></ul></li><li><code> .. = .. </code><ul><li>The <code> .. = .. </code> block is found under LOGIC.</li> <li>Use the dropdown to get other comparison operators.</li></ul></li><li><code>from .. get ..</code><ul><li>The <code>from .. get ..</code> block is found under VARIABLES.</li></ul></li><li><code>123</code><ul><li>The <code>123</code> block is found under MATH.</li></ul></li></ul></li></ul></details>"
   ]
  },
  {
   "cell_type": "code",
   "execution_count": null,
   "id": "f7bff8ed",
   "metadata": {
    "datawhys": {
     "response_id": 17,
     "student_response": true
    },
    "deletable": false,
    "editable": true
   },
   "outputs": [],
   "source": []
  },
  {
   "cell_type": "markdown",
   "id": "cc1cb9a2-7cc5-4f0b-a5a7-e23630f702d1",
   "metadata": {
    "deletable": false,
    "editable": false
   },
   "source": [
    "- variable &nbsp;`cylinder_8`"
   ]
  },
  {
   "cell_type": "markdown",
   "id": "285f8b38-077d-4516-92ae-ebc325bd3d4f",
   "metadata": {
    "deletable": false,
    "editable": false
   },
   "source": [
    "<br><details><summary>Blockly Hints</summary><ul><li>Blocks<ul><li>variable<ul><li>After it is created, each variable has its own block at the end of the VARIABLES menu.</li></ul></li></ul></li></ul></details>"
   ]
  },
  {
   "cell_type": "code",
   "execution_count": null,
   "id": "55997e2f-966d-4427-8f82-498b10c2c320",
   "metadata": {
    "datawhys": {
     "response_id": 18,
     "student_response": true
    },
    "deletable": false,
    "editable": true
   },
   "outputs": [],
   "source": []
  },
  {
   "cell_type": "markdown",
   "id": "6f5930ff-d2df-4e13-812c-6a9ba1c9f67d",
   "metadata": {
    "deletable": false,
    "editable": false
   },
   "source": [
    "<div class=\"alert alert-block alert-danger\">\n",
    "Explain the above generated code and output(if there is any) in plain English. How many\n8 cylinders cars are here?",
    "\n</div>"
   ]
  },
  {
   "cell_type": "markdown",
   "id": "6724aeda-c44c-4965-a521-8606bb9ade67",
   "metadata": {
    "datawhys": {
     "response_id": 19,
     "student_response": true
    },
    "deletable": false,
    "editable": true
   },
   "source": [
    "<div class=\"alert alert-block alert-info\">\n",
    "<!-- YOUR ANSWER BEGIN -->\n",
    "\n",
    "\n",
    "\n",
    "\n",
    "\n",
    "<!-- YOUR ANSWER END -->\n",
    "</div>"
   ]
  },
  {
   "cell_type": "markdown",
   "id": "5e514cef",
   "metadata": {
    "deletable": false,
    "editable": false
   },
   "source": [
    "#### Now that we have each subset, we can start making our box plots.\n",
    "\n",
    "First, import `plotly`."
   ]
  },
  {
   "cell_type": "markdown",
   "id": "666c365d",
   "metadata": {
    "deletable": false,
    "editable": false
   },
   "source": [
    "- Create variable &nbsp;`px`\n",
    "- `import plotly.express as px`"
   ]
  },
  {
   "cell_type": "markdown",
   "id": "cf12d968",
   "metadata": {
    "deletable": false,
    "editable": false
   },
   "source": [
    "<br><details><summary>Blockly Hints</summary><ul><li>Blocks<ul><li><code>import .. as ..</code><ul><li>The <code>import .. as ..</code> block is found under IMPORT.</li> <li>A variable must have been created before it will appear in the dropdown.</li></ul></li></ul></li></ul></details>"
   ]
  },
  {
   "cell_type": "code",
   "execution_count": null,
   "id": "e8540f42",
   "metadata": {
    "datawhys": {
     "response_id": 20,
     "student_response": true
    },
    "deletable": false,
    "editable": true
   },
   "outputs": [],
   "source": []
  },
  {
   "cell_type": "markdown",
   "id": "c8235817-90e1-4b22-916e-1c95d8d2011b",
   "metadata": {
    "deletable": false,
    "editable": false
   },
   "source": [
    "<div class=\"alert alert-block alert-danger\">\n",
    "Explain the above generated code and output(if there is any) in plain English.",
    "\n</div>"
   ]
  },
  {
   "cell_type": "markdown",
   "id": "6e1e7457-d7ba-4363-ada5-5e214b5a1470",
   "metadata": {
    "datawhys": {
     "response_id": 21,
     "student_response": true
    },
    "deletable": false,
    "editable": true
   },
   "source": [
    "<div class=\"alert alert-block alert-info\">\n",
    "<!-- YOUR ANSWER BEGIN -->\n",
    "\n",
    "\n",
    "\n",
    "\n",
    "\n",
    "<!-- YOUR ANSWER END -->\n",
    "</div>"
   ]
  },
  {
   "cell_type": "markdown",
   "id": "740bc0ed",
   "metadata": {
    "deletable": false,
    "editable": false
   },
   "source": [
    "\n",
    "Then, create a variable for the y-axis columns and set it to the list of columns `mpg`,`displacement`, `horsepower`."
   ]
  },
  {
   "cell_type": "markdown",
   "id": "44de198d",
   "metadata": {
    "deletable": false,
    "editable": false
   },
   "source": [
    "- Create variable &nbsp;`y`\n",
    "- `set y to` &nbsp;:&nbsp; `create list with` &nbsp;<-\n",
    "  - `\" mpg \"`\n",
    "  - `\" displacement \"`\n",
    "  - `\" horsepower \"`"
   ]
  },
  {
   "cell_type": "markdown",
   "id": "17eef7e8",
   "metadata": {
    "deletable": false,
    "editable": false
   },
   "source": [
    "<br><details><summary>Blockly Hints</summary><ul><li>Notation<ul><li><code>A</code> &nbsp;:&nbsp; <code>B</code>&nbsp; means snap blocks A and B together.</li><li><code>A</code> &nbsp;&lt;-&nbsp; <code>B</code>&nbsp; means insert block B into the hole in block A.</li></ul></li><li>Blocks<ul><li><code>set .. to</code><ul><li>The <code>set .. to</code> block is found under VARIABLES.</li> <li>A variable must have been created before it will appear in the dropdown.</li></ul></li><li><code>create list with</code><ul><li>The <code>create list with</code> block is found under LISTS.</li> <li>You can use the <code>+ -</code> controls on the block to change the number of notches. Unless specifically instructed, the block should not have any empty notches when you click Blocks to Code. </li></ul></li><li><code>\" .. \"</code><ul><li>The <code>\" .. \"</code> block is found under TEXT.</li></ul></li></ul></li></ul></details>"
   ]
  },
  {
   "cell_type": "code",
   "execution_count": null,
   "id": "2efb3bfc",
   "metadata": {
    "datawhys": {
     "response_id": 22,
     "student_response": true
    },
    "deletable": false,
    "editable": true
   },
   "outputs": [],
   "source": []
  },
  {
   "cell_type": "markdown",
   "id": "d4f04e63-7556-456a-b2c4-d0587e35efc9",
   "metadata": {
    "deletable": false,
    "editable": false
   },
   "source": [
    "<div class=\"alert alert-block alert-danger\">\n",
    "Explain the above generated code and output(if there is any) in plain English.",
    "\n</div>"
   ]
  },
  {
   "cell_type": "markdown",
   "id": "9f8d6dea-ce84-458f-ae2f-65b8dabc9809",
   "metadata": {
    "datawhys": {
     "response_id": 23,
     "student_response": true
    },
    "deletable": false,
    "editable": true
   },
   "source": [
    "<div class=\"alert alert-block alert-info\">\n",
    "<!-- YOUR ANSWER BEGIN -->\n",
    "\n",
    "\n",
    "\n",
    "\n",
    "\n",
    "<!-- YOUR ANSWER END -->\n",
    "</div>"
   ]
  },
  {
   "cell_type": "markdown",
   "id": "b1831744",
   "metadata": {
    "deletable": false,
    "editable": false
   },
   "source": [
    "Now, generate a box plot for the `cylinder_4` cars and set `y=y`. We do not need to set an x value for the plot."
   ]
  },
  {
   "cell_type": "markdown",
   "id": "84da3404",
   "metadata": {
    "deletable": false,
    "editable": false
   },
   "source": [
    "- Grab a freestyle block, type &nbsp;`y=y`\n",
    "- `with px do box using` &nbsp;<-&nbsp;\n",
    "  - &nbsp;`cylinder_4`\n",
    "  - `y=y`"
   ]
  },
  {
   "cell_type": "markdown",
   "id": "e9633178",
   "metadata": {
    "deletable": false,
    "editable": false
   },
   "source": [
    "<br>\n",
    "<details>\n",
    "    <summary>Blockly Hints</summary>\n",
    "    <ul>\n",
    "        <li>Notation\n",
    "            <ul>\n",
    "                <li><code>A</code> &nbsp;:&nbsp; <code>B</code>&nbsp; means snap blocks A and B together.</li>\n",
    "                <li><code>A</code> &nbsp;&lt;-&nbsp; <code>B</code>&nbsp; means insert block B into the hole in block A.</li>\n",
    "            </ul>\n",
    "        </li>\n",
    "        <li>Blocks\n",
    "            <ul>\n",
    "                <li>freestyle\n",
    "                    <ul>\n",
    "                        <li>Unless specifically instructed, use the first block from the FREESTYLE menu.</li>\n",
    "                    </ul>\n",
    "                </li>\n",
    "                <li><code>with .. do .. using ..</code>\n",
    "                    <ul>\n",
    "                        <li>The <code>with .. do .. using ..</code> block is found under VARIABLES.</li>\n",
    "                        <li>You can use the <code>+ -</code> controls on the block to change the number of notches. Unless specifically instructed, the block should not have any empty notches when you click Blocks to Code. </li>\n",
    "                        <li>If <code>do</code> dropdown says \"!Not populated until you execute code\", click anywhere in the notebook tab, then click try \"Run All Above Selected Cell\" from the \"Run\" menu.</li> \n",
    "                        <li>If <code>with .. do .. using ..</code> block does not want to snap together nicely with the <code>set .. to</code> block, try dragging the <code>set .. to</code> block instead.</li>\n",
    "                    </ul>\n",
    "                </li>\n",
    "                </ul>\n",
    "                </li>\n",
    "                <li>variable<ul>\n",
    "                    <li>After it is created, each variable has its own block at the end of the VARIABLES menu.</li>\n",
    "                </ul>\n",
    "                </li>\n",
    "            </ul>\n",
    "        </li>\n",
    "    </ul>\n",
    "</details>"
   ]
  },
  {
   "cell_type": "code",
   "execution_count": null,
   "id": "6d153417",
   "metadata": {
    "datawhys": {
     "response_id": 24,
     "student_response": true
    },
    "deletable": false,
    "editable": true
   },
   "outputs": [],
   "source": []
  },
  {
   "cell_type": "markdown",
   "id": "07138033-8098-4f85-b346-003955b5d89c",
   "metadata": {
    "deletable": false,
    "editable": false
   },
   "source": [
    "<div class=\"alert alert-block alert-danger\">\n",
    "Explain the above generated code and output(if there is any) in plain English.",
    "\n</div>"
   ]
  },
  {
   "cell_type": "markdown",
   "id": "6f44bba1-408c-4ff2-adec-a90b9549d237",
   "metadata": {
    "datawhys": {
     "response_id": 25,
     "student_response": true
    },
    "deletable": false,
    "editable": true
   },
   "source": [
    "<div class=\"alert alert-block alert-info\">\n",
    "<!-- YOUR ANSWER BEGIN -->\n",
    "\n",
    "\n",
    "\n",
    "\n",
    "\n",
    "<!-- YOUR ANSWER END -->\n",
    "</div>"
   ]
  },
  {
   "cell_type": "markdown",
   "id": "7236e718",
   "metadata": {
    "deletable": false,
    "editable": false
   },
   "source": [
    "Look at the chart we just made. It could use a bit of formatting. Let's add formatting and generate a nicer chart.\n",
    "\n",
    "- Set title to include the cylinders information. \n",
    "- Set the x-axis label to `\" Car Specs \"`. \n",
    "- Set the y-axis label to `\" Value \"`. \n"
   ]
  },
  {
   "cell_type": "markdown",
   "id": "9985a0f4",
   "metadata": {
    "deletable": false,
    "editable": false
   },
   "source": [
    "- Create variable &nbsp;`title`\n",
    "- `set title to` &nbsp;:&nbsp; `\" Specs of 4 Cylinder Cars \"`"
   ]
  },
  {
   "cell_type": "markdown",
   "id": "342a2c45",
   "metadata": {
    "deletable": false,
    "editable": false
   },
   "source": [
    "<br><details><summary>Blockly Hints</summary><ul><li>Notation<ul><li><code>A</code> &nbsp;:&nbsp; <code>B</code>&nbsp; means snap blocks A and B together.</li></ul></li><li>Blocks<ul><li><code>set .. to</code><ul><li>The <code>set .. to</code> block is found under VARIABLES.</li> <li>A variable must have been created before it will appear in the dropdown.</li></ul></li><li><code>\" .. \"</code><ul><li>The <code>\" .. \"</code> block is found under TEXT.</li></ul></li></ul></li></ul></details>"
   ]
  },
  {
   "cell_type": "code",
   "execution_count": null,
   "id": "0d95f860",
   "metadata": {
    "datawhys": {
     "response_id": 26,
     "student_response": true
    },
    "deletable": false,
    "editable": true
   },
   "outputs": [],
   "source": []
  },
  {
   "cell_type": "markdown",
   "id": "03216beb-29e9-4e72-ac7a-6bb015e67178",
   "metadata": {
    "deletable": false,
    "editable": false
   },
   "source": [
    "<div class=\"alert alert-block alert-danger\">\n",
    "Explain the above generated code and output(if there is any) in plain English.",
    "\n</div>"
   ]
  },
  {
   "cell_type": "markdown",
   "id": "5f2492f3-1b50-447f-a3a4-e7fdf06d17fc",
   "metadata": {
    "datawhys": {
     "response_id": 27,
     "student_response": true
    },
    "deletable": false,
    "editable": true
   },
   "source": [
    "<div class=\"alert alert-block alert-info\">\n",
    "<!-- YOUR ANSWER BEGIN -->\n",
    "\n",
    "\n",
    "\n",
    "\n",
    "\n",
    "<!-- YOUR ANSWER END -->\n",
    "</div>"
   ]
  },
  {
   "cell_type": "markdown",
   "id": "06e6a471",
   "metadata": {
    "deletable": false,
    "editable": false
   },
   "source": [
    "- Create variable &nbsp;`labels`\n",
    "- `set labels to` &nbsp;:&nbsp; `dict` &nbsp;<-&nbsp; `create list with` &nbsp;:\n",
    "  - `create list with` &nbsp;:\n",
    "    - `( .. , .. )` &nbsp;<-\n",
    "      - `\" variable \"`\n",
    "      - `\" Car Specs \"`\n",
    "    - `( .. , .. )` &nbsp;<-\n",
    "      - `\" value \"`\n",
    "      - `\" Value \"`"
   ]
  },
  {
   "cell_type": "markdown",
   "id": "c23d9241",
   "metadata": {
    "deletable": false,
    "editable": false
   },
   "source": [
    "<br><details><summary>Blockly Hints</summary><ul><li>Notation<ul><li><code>A</code> &nbsp;:&nbsp; <code>B</code>&nbsp; means snap blocks A and B together.</li><li><code>A</code> &nbsp;&lt;-&nbsp; <code>B</code>&nbsp; means insert block B into the hole in block A.</li></ul></li><li>Blocks<ul><li><code>set .. to</code><ul><li>The <code>set .. to</code> block is found under VARIABLES.</li> <li>A variable must have been created before it will appear in the dropdown.</li></ul></li><li><code>dict ..</code><ul><li>The <code>dict ..</code> block is found under LISTS.</li></ul></li><li><code>create list with</code><ul><li>The <code>create list with</code> block is found under LISTS.</li> <li>You can use the <code>+ -</code> controls on the block to change the number of notches. Unless specifically instructed, the block should not have any empty notches when you click Blocks to Code. </li></ul></li><li><code>( .. , .. )</code><ul><li>The <code>( .. , .. )</code> block is found under LISTS.</li></ul></li><li><code>\" .. \"</code><ul><li>The <code>\" .. \"</code> block is found under TEXT.</li></ul></li><li>variable<ul><li>After it is created, each variable has its own block at the end of the VARIABLES menu.</li></ul></li></ul></li></ul></details>"
   ]
  },
  {
   "cell_type": "code",
   "execution_count": null,
   "id": "ac3df097",
   "metadata": {
    "datawhys": {
     "response_id": 28,
     "student_response": true
    },
    "deletable": false,
    "editable": true
   },
   "outputs": [],
   "source": []
  },
  {
   "cell_type": "markdown",
   "id": "106b9827-6839-40b7-bfc0-5d82ef976420",
   "metadata": {
    "deletable": false,
    "editable": false
   },
   "source": [
    "<div class=\"alert alert-block alert-danger\">\n",
    "Explain the above generated code and output(if there is any) in plain English.",
    "\n</div>"
   ]
  },
  {
   "cell_type": "markdown",
   "id": "520e399b-cf20-45e1-b4fa-b5296af9cfd1",
   "metadata": {
    "datawhys": {
     "response_id": 29,
     "student_response": true
    },
    "deletable": false,
    "editable": true
   },
   "source": [
    "<div class=\"alert alert-block alert-info\">\n",
    "<!-- YOUR ANSWER BEGIN -->\n",
    "\n",
    "\n",
    "\n",
    "\n",
    "\n",
    "<!-- YOUR ANSWER END -->\n",
    "</div>"
   ]
  },
  {
   "cell_type": "markdown",
   "id": "f3173159",
   "metadata": {
    "deletable": false,
    "editable": false
   },
   "source": [
    "\n",
    "Generate the chart for `cylinder_4` cars again with the added formatting."
   ]
  },
  {
   "cell_type": "markdown",
   "id": "a66a8172",
   "metadata": {
    "deletable": false,
    "editable": false
   },
   "source": [
    "- Grab a freestyle block, type &nbsp;`y=y`\n",
    "- Grab a freestyle block, type &nbsp;`labels=labels`\n",
    "- Grab a freestyle block, type &nbsp;`title=title`\n",
    "- `with px do box using` &nbsp;<-&nbsp;\n",
    "    - variable `cylinder_4`\n",
    "    - `y=y`\n",
    "    - `title=title`\n",
    "    - `labels=labels`"
   ]
  },
  {
   "cell_type": "markdown",
   "id": "e388d424",
   "metadata": {
    "deletable": false,
    "editable": false
   },
   "source": [
    "<br>\n",
    "<details>\n",
    "    <summary>Blockly Hints</summary>\n",
    "    <ul>\n",
    "        <li>Notation\n",
    "            <ul>\n",
    "                <li><code>A</code> &nbsp;:&nbsp; <code>B</code>&nbsp; means snap blocks A and B together.</li>\n",
    "                <li><code>A</code> &nbsp;&lt;-&nbsp; <code>B</code>&nbsp; means insert block B into the hole in block A.</li>\n",
    "            </ul>\n",
    "        </li>\n",
    "        <li>Blocks\n",
    "            <ul>\n",
    "                <li>freestyle\n",
    "                    <ul>\n",
    "                        <li>Unless specifically instructed, use the first block from the FREESTYLE menu.</li>\n",
    "                    </ul>\n",
    "                </li>\n",
    "                <li><code>with .. do .. using ..</code>\n",
    "                    <ul>\n",
    "                        <li>The <code>with .. do .. using ..</code> block is found under VARIABLES.</li>\n",
    "                        <li>You can use the <code>+ -</code> controls on the block to change the number of notches. Unless specifically instructed, the block should not have any empty notches when you click Blocks to Code. </li>\n",
    "                        <li>If <code>do</code> dropdown says \"!Not populated until you execute code\", click anywhere in the notebook tab, then click try \"Run All Above Selected Cell\" from the \"Run\" menu.</li> \n",
    "                        <li>If <code>with .. do .. using ..</code> block does not want to snap together nicely with the <code>set .. to</code> block, try dragging the <code>set .. to</code> block instead.</li>\n",
    "                    </ul>\n",
    "                </li>\n",
    "                </ul>\n",
    "                </li>\n",
    "                <li>variable<ul>\n",
    "                    <li>After it is created, each variable has its own block at the end of the VARIABLES menu.</li>\n",
    "                </ul>\n",
    "                </li>\n",
    "            </ul>\n",
    "        </li>\n",
    "    </ul>\n",
    "</details>"
   ]
  },
  {
   "cell_type": "code",
   "execution_count": null,
   "id": "1c0045d4",
   "metadata": {
    "datawhys": {
     "response_id": 30,
     "student_response": true
    },
    "deletable": false,
    "editable": true
   },
   "outputs": [],
   "source": []
  },
  {
   "cell_type": "markdown",
   "id": "3c68e40a-0cc3-4054-9676-230a8020fe3f",
   "metadata": {
    "deletable": false,
    "editable": false
   },
   "source": [
    "<div class=\"alert alert-block alert-danger\">\n",
    "Explain the above generated code and output(if there is any) in plain English.",
    "\n</div>"
   ]
  },
  {
   "cell_type": "markdown",
   "id": "bb698acb-6557-4e27-8fa0-b8688185e8f5",
   "metadata": {
    "datawhys": {
     "response_id": 31,
     "student_response": true
    },
    "deletable": false,
    "editable": true
   },
   "source": [
    "<div class=\"alert alert-block alert-info\">\n",
    "<!-- YOUR ANSWER BEGIN -->\n",
    "\n",
    "\n",
    "\n",
    "\n",
    "\n",
    "<!-- YOUR ANSWER END -->\n",
    "</div>"
   ]
  },
  {
   "cell_type": "markdown",
   "id": "841e5b3b",
   "metadata": {
    "deletable": false,
    "editable": false
   },
   "source": [
    "Similarly, generate the charts for the `cylinder_6` and `cylinder_8` cars as well. \n",
    "\n",
    "Make sure to change the title and variable name for each one. The labels should stay the same."
   ]
  },
  {
   "cell_type": "markdown",
   "id": "f3a265b0",
   "metadata": {
    "deletable": false,
    "editable": false
   },
   "source": [
    "- `set title to` &nbsp;:&nbsp; `\" Specs of 6 Cylinder Cars \"`"
   ]
  },
  {
   "cell_type": "markdown",
   "id": "0cbe50ee",
   "metadata": {
    "deletable": false,
    "editable": false
   },
   "source": [
    "<br><details><summary>Blockly Hints</summary><ul><li>Notation<ul><li><code>A</code> &nbsp;:&nbsp; <code>B</code>&nbsp; means snap blocks A and B together.</li></ul></li><li>Blocks<ul><li><code>set .. to</code><ul><li>The <code>set .. to</code> block is found under VARIABLES.</li> <li>A variable must have been created before it will appear in the dropdown.</li></ul></li><li><code>\" .. \"</code><ul><li>The <code>\" .. \"</code> block is found under TEXT.</li></ul></li></ul></li></ul></details>"
   ]
  },
  {
   "cell_type": "code",
   "execution_count": null,
   "id": "22018827",
   "metadata": {
    "datawhys": {
     "response_id": 32,
     "student_response": true
    },
    "deletable": false,
    "editable": true
   },
   "outputs": [],
   "source": []
  },
  {
   "cell_type": "markdown",
   "id": "c904f2cd-e272-43cc-bf24-8de742fcde7e",
   "metadata": {
    "deletable": false,
    "editable": false
   },
   "source": [
    "<div class=\"alert alert-block alert-danger\">\n",
    "Explain the above generated code and output(if there is any) in plain English.",
    "\n</div>"
   ]
  },
  {
   "cell_type": "markdown",
   "id": "3113da9f-20ef-4a5d-b49b-0911578aae1f",
   "metadata": {
    "datawhys": {
     "response_id": 33,
     "student_response": true
    },
    "deletable": false,
    "editable": true
   },
   "source": [
    "<div class=\"alert alert-block alert-info\">\n",
    "<!-- YOUR ANSWER BEGIN -->\n",
    "\n",
    "\n",
    "\n",
    "\n",
    "\n",
    "<!-- YOUR ANSWER END -->\n",
    "</div>"
   ]
  },
  {
   "cell_type": "markdown",
   "id": "6ff5de30",
   "metadata": {
    "deletable": false,
    "editable": false
   },
   "source": [
    "\n",
    "Generate the chart for `cylinder_6` cars."
   ]
  },
  {
   "cell_type": "markdown",
   "id": "9c5dff62",
   "metadata": {
    "deletable": false,
    "editable": false
   },
   "source": [
    "- Grab a freestyle block, type &nbsp;`y=y`\n",
    "- Grab a freestyle block, type &nbsp;`labels=labels`\n",
    "- Grab a freestyle block, type &nbsp;`title=title`\n",
    "- `with px do box using` &nbsp;<-&nbsp;\n",
    "    - variable `cylinder_6`\n",
    "    - `y=y`\n",
    "    - `title=title`\n",
    "    - `labels=labels`"
   ]
  },
  {
   "cell_type": "markdown",
   "id": "bee94fe9",
   "metadata": {
    "deletable": false,
    "editable": false
   },
   "source": [
    "<br>\n",
    "<details>\n",
    "    <summary>Blockly Hints</summary>\n",
    "    <ul>\n",
    "        <li>Notation\n",
    "            <ul>\n",
    "                <li><code>A</code> &nbsp;:&nbsp; <code>B</code>&nbsp; means snap blocks A and B together.</li>\n",
    "                <li><code>A</code> &nbsp;&lt;-&nbsp; <code>B</code>&nbsp; means insert block B into the hole in block A.</li>\n",
    "            </ul>\n",
    "        </li>\n",
    "        <li>Blocks\n",
    "            <ul>\n",
    "                <li>freestyle\n",
    "                    <ul>\n",
    "                        <li>Unless specifically instructed, use the first block from the FREESTYLE menu.</li>\n",
    "                    </ul>\n",
    "                </li>\n",
    "                <li><code>with .. do .. using ..</code>\n",
    "                    <ul>\n",
    "                        <li>The <code>with .. do .. using ..</code> block is found under VARIABLES.</li>\n",
    "                        <li>You can use the <code>+ -</code> controls on the block to change the number of notches. Unless specifically instructed, the block should not have any empty notches when you click Blocks to Code. </li>\n",
    "                        <li>If <code>do</code> dropdown says \"!Not populated until you execute code\", click anywhere in the notebook tab, then click try \"Run All Above Selected Cell\" from the \"Run\" menu.</li> \n",
    "                        <li>If <code>with .. do .. using ..</code> block does not want to snap together nicely with the <code>set .. to</code> block, try dragging the <code>set .. to</code> block instead.</li>\n",
    "                    </ul>\n",
    "                </li>\n",
    "                </ul>\n",
    "                </li>\n",
    "                <li>variable<ul>\n",
    "                    <li>After it is created, each variable has its own block at the end of the VARIABLES menu.</li>\n",
    "                </ul>\n",
    "                </li>\n",
    "            </ul>\n",
    "        </li>\n",
    "    </ul>\n",
    "</details>"
   ]
  },
  {
   "cell_type": "code",
   "execution_count": null,
   "id": "40b8b80f",
   "metadata": {
    "datawhys": {
     "response_id": 34,
     "student_response": true
    },
    "deletable": false,
    "editable": true
   },
   "outputs": [],
   "source": []
  },
  {
   "cell_type": "markdown",
   "id": "4fb8c8a9-2505-4235-8073-812efeb2a622",
   "metadata": {
    "deletable": false,
    "editable": false
   },
   "source": [
    "<div class=\"alert alert-block alert-danger\">\n",
    "Explain the above generated code and output(if there is any) in plain English.",
    "\n</div>"
   ]
  },
  {
   "cell_type": "markdown",
   "id": "81b56a76-8b86-4014-9a1a-9319be89d03f",
   "metadata": {
    "datawhys": {
     "response_id": 35,
     "student_response": true
    },
    "deletable": false,
    "editable": true
   },
   "source": [
    "<div class=\"alert alert-block alert-info\">\n",
    "<!-- YOUR ANSWER BEGIN -->\n",
    "\n",
    "\n",
    "\n",
    "\n",
    "\n",
    "<!-- YOUR ANSWER END -->\n",
    "</div>"
   ]
  },
  {
   "cell_type": "markdown",
   "id": "5b8c478d",
   "metadata": {
    "deletable": false,
    "editable": false
   },
   "source": [
    "- `set title to` &nbsp;:&nbsp; `\" Specs of 8 Cylinder Cars \"`"
   ]
  },
  {
   "cell_type": "markdown",
   "id": "1c24d021",
   "metadata": {
    "deletable": false,
    "editable": false
   },
   "source": [
    "<br><details><summary>Blockly Hints</summary><ul><li>Notation<ul><li><code>A</code> &nbsp;:&nbsp; <code>B</code>&nbsp; means snap blocks A and B together.</li></ul></li><li>Blocks<ul><li><code>set .. to</code><ul><li>The <code>set .. to</code> block is found under VARIABLES.</li> <li>A variable must have been created before it will appear in the dropdown.</li></ul></li><li><code>\" .. \"</code><ul><li>The <code>\" .. \"</code> block is found under TEXT.</li></ul></li></ul></li></ul></details>"
   ]
  },
  {
   "cell_type": "code",
   "execution_count": null,
   "id": "fa7300f6",
   "metadata": {
    "datawhys": {
     "response_id": 36,
     "student_response": true
    },
    "deletable": false,
    "editable": true
   },
   "outputs": [],
   "source": []
  },
  {
   "cell_type": "markdown",
   "id": "653dd12a-0ef8-459c-86eb-b59aa0bb6528",
   "metadata": {
    "deletable": false,
    "editable": false
   },
   "source": [
    "<div class=\"alert alert-block alert-danger\">\n",
    "Explain the above generated code and output(if there is any) in plain English.",
    "\n</div>"
   ]
  },
  {
   "cell_type": "markdown",
   "id": "65f132d2-6493-4c5b-a00a-ad05ce1f3b42",
   "metadata": {
    "datawhys": {
     "response_id": 37,
     "student_response": true
    },
    "deletable": false,
    "editable": true
   },
   "source": [
    "<div class=\"alert alert-block alert-info\">\n",
    "<!-- YOUR ANSWER BEGIN -->\n",
    "\n",
    "\n",
    "\n",
    "\n",
    "\n",
    "<!-- YOUR ANSWER END -->\n",
    "</div>"
   ]
  },
  {
   "cell_type": "markdown",
   "id": "2d6d494e",
   "metadata": {
    "deletable": false,
    "editable": false
   },
   "source": [
    "\n",
    "Generate the chart for `cylinder_8` cars."
   ]
  },
  {
   "cell_type": "markdown",
   "id": "a9072ff5",
   "metadata": {
    "deletable": false,
    "editable": false
   },
   "source": [
    "- Grab a freestyle block, type &nbsp;`y=y`\n",
    "- Grab a freestyle block, type &nbsp;`labels=labels`\n",
    "- Grab a freestyle block, type &nbsp;`title=title`\n",
    "- `with px do box using` &nbsp;<-&nbsp;\n",
    "    - variable `cylinder_8`\n",
    "    - `y=y`\n",
    "    - `title=title`\n",
    "    - `labels=labels`"
   ]
  },
  {
   "cell_type": "markdown",
   "id": "bab4698d",
   "metadata": {
    "deletable": false,
    "editable": false
   },
   "source": [
    "<br>\n",
    "<details>\n",
    "    <summary>Blockly Hints</summary>\n",
    "    <ul>\n",
    "        <li>Notation\n",
    "            <ul>\n",
    "                <li><code>A</code> &nbsp;:&nbsp; <code>B</code>&nbsp; means snap blocks A and B together.</li>\n",
    "                <li><code>A</code> &nbsp;&lt;-&nbsp; <code>B</code>&nbsp; means insert block B into the hole in block A.</li>\n",
    "            </ul>\n",
    "        </li>\n",
    "        <li>Blocks\n",
    "            <ul>\n",
    "                <li>freestyle\n",
    "                    <ul>\n",
    "                        <li>Unless specifically instructed, use the first block from the FREESTYLE menu.</li>\n",
    "                    </ul>\n",
    "                </li>\n",
    "                <li><code>with .. do .. using ..</code>\n",
    "                    <ul>\n",
    "                        <li>The <code>with .. do .. using ..</code> block is found under VARIABLES.</li>\n",
    "                        <li>You can use the <code>+ -</code> controls on the block to change the number of notches. Unless specifically instructed, the block should not have any empty notches when you click Blocks to Code. </li>\n",
    "                        <li>If <code>do</code> dropdown says \"!Not populated until you execute code\", click anywhere in the notebook tab, then click try \"Run All Above Selected Cell\" from the \"Run\" menu.</li> \n",
    "                        <li>If <code>with .. do .. using ..</code> block does not want to snap together nicely with the <code>set .. to</code> block, try dragging the <code>set .. to</code> block instead.</li>\n",
    "                    </ul>\n",
    "                </li>\n",
    "                </ul>\n",
    "                </li>\n",
    "                <li>variable<ul>\n",
    "                    <li>After it is created, each variable has its own block at the end of the VARIABLES menu.</li>\n",
    "                </ul>\n",
    "                </li>\n",
    "            </ul>\n",
    "        </li>\n",
    "    </ul>\n",
    "</details>"
   ]
  },
  {
   "cell_type": "code",
   "execution_count": null,
   "id": "67334789",
   "metadata": {
    "datawhys": {
     "response_id": 38,
     "student_response": true
    },
    "deletable": false,
    "editable": true
   },
   "outputs": [],
   "source": []
  },
  {
   "cell_type": "markdown",
   "id": "848ca573-2a67-4d4e-991a-f4f013fa751e",
   "metadata": {
    "deletable": false,
    "editable": false
   },
   "source": [
    "<div class=\"alert alert-block alert-danger\">\n",
    "Explain the above generated code and output(if there is any) in plain English.",
    "\n</div>"
   ]
  },
  {
   "cell_type": "markdown",
   "id": "75ff6a60-0bca-48e3-9f42-a0cb1e8f6e59",
   "metadata": {
    "datawhys": {
     "response_id": 39,
     "student_response": true
    },
    "deletable": false,
    "editable": true
   },
   "source": [
    "<div class=\"alert alert-block alert-info\">\n",
    "<!-- YOUR ANSWER BEGIN -->\n",
    "\n",
    "\n",
    "\n",
    "\n",
    "\n",
    "<!-- YOUR ANSWER END -->\n",
    "</div>"
   ]
  },
  {
   "cell_type": "markdown",
   "id": "628cc4af",
   "metadata": {
    "deletable": false,
    "editable": false
   },
   "source": [
    "<div class=\"alert alert-block alert-danger\">\n",
    "Q1. For each cylinder type, what is the median mpg?",
    "\n</div>"
   ]
  },
  {
   "cell_type": "markdown",
   "id": "47fc1437",
   "metadata": {
    "datawhys": {
     "response_id": 40,
     "student_response": true
    },
    "deletable": false,
    "editable": true
   },
   "source": [
    "<div class=\"alert alert-block alert-info\">\n",
    "<!-- YOUR ANSWER BEGIN -->\n",
    "\n",
    "\n",
    "\n",
    "\n",
    "\n",
    "<!-- YOUR ANSWER END -->\n",
    "</div>"
   ]
  },
  {
   "cell_type": "markdown",
   "id": "61910a5d",
   "metadata": {
    "deletable": false,
    "editable": false
   },
   "source": [
    "<div class=\"alert alert-block alert-danger\">\n",
    "Q2. For each cylinder type, what is the median displacement?",
    "\n</div>"
   ]
  },
  {
   "cell_type": "markdown",
   "id": "42a86ee3",
   "metadata": {
    "datawhys": {
     "response_id": 41,
     "student_response": true
    },
    "deletable": false,
    "editable": true
   },
   "source": [
    "<div class=\"alert alert-block alert-info\">\n",
    "<!-- YOUR ANSWER BEGIN -->\n",
    "\n",
    "\n",
    "\n",
    "\n",
    "\n",
    "<!-- YOUR ANSWER END -->\n",
    "</div>"
   ]
  },
  {
   "cell_type": "markdown",
   "id": "9b99dbd5",
   "metadata": {
    "deletable": false,
    "editable": false
   },
   "source": [
    "<div class=\"alert alert-block alert-danger\">\n",
    "Q3. For each species, what is the median horsepower?",
    "\n</div>"
   ]
  },
  {
   "cell_type": "markdown",
   "id": "902a1870",
   "metadata": {
    "datawhys": {
     "response_id": 42,
     "student_response": true
    },
    "deletable": false,
    "editable": true
   },
   "source": [
    "<div class=\"alert alert-block alert-info\">\n",
    "<!-- YOUR ANSWER BEGIN -->\n",
    "\n",
    "\n",
    "\n",
    "\n",
    "\n",
    "<!-- YOUR ANSWER END -->\n",
    "</div>"
   ]
  },
  {
   "cell_type": "markdown",
   "id": "68cccb93",
   "metadata": {
    "deletable": false,
    "editable": false
   },
   "source": [
    "## Question 2. &nbsp;&nbsp; For each cylinder types (4, 6, 8 cylinders) , which variable's values are most distinctly different from the other two cylinder types?"
   ]
  },
  {
   "cell_type": "markdown",
   "id": "814db623",
   "metadata": {
    "deletable": false,
    "editable": false
   },
   "source": [
    "To answer this question, we can use more box plots.  \n",
    "\n",
    "Using the dataset (in df), let's make box plots for each variable. We don't need to use subsets in this case because we can set the x and y columns when we generate the plot.  \n",
    "\n",
    "First, let's generate the box plot for `mpg` with the following options:\n",
    "\n",
    "- Use the `df` variable\n",
    "- `x= \"cylinders\"`\n",
    "- `y= \"mpg\"`"
   ]
  },
  {
   "cell_type": "markdown",
   "id": "3ee30213",
   "metadata": {
    "deletable": false,
    "editable": false
   },
   "source": [
    "- Grab a freestyle block, type `x= \"cylinders\"`\n",
    "- Grab a freestyle block, type `y= \"mpg\"`\n",
    "- `with px do box using` &nbsp;<-&nbsp;\n",
    "  - &nbsp;`df`\n",
    "  - `x= \"cylinders\"`\n",
    "  - `y= \"mpg\"`"
   ]
  },
  {
   "cell_type": "markdown",
   "id": "c5f9e452",
   "metadata": {
    "deletable": false,
    "editable": false
   },
   "source": [
    "<br>\n",
    "<details>\n",
    "    <summary>Blockly Hints</summary>\n",
    "    <ul>\n",
    "        <li>Notation\n",
    "            <ul>\n",
    "                <li><code>A</code> &nbsp;:&nbsp; <code>B</code>&nbsp; means snap blocks A and B together.</li>\n",
    "                <li><code>A</code> &nbsp;&lt;-&nbsp; <code>B</code>&nbsp; means insert block B into the hole in block A.</li>\n",
    "            </ul>\n",
    "        </li>\n",
    "        <li>Blocks\n",
    "            <ul>\n",
    "                <li>freestyle\n",
    "                    <ul>\n",
    "                        <li>Unless specifically instructed, use the first block from the FREESTYLE menu.</li>\n",
    "                    </ul>\n",
    "                </li>\n",
    "                <li><code>with .. do .. using ..</code>\n",
    "                    <ul>\n",
    "                        <li>The <code>with .. do .. using ..</code> block is found under VARIABLES.</li>\n",
    "                        <li>You can use the <code>+ -</code> controls on the block to change the number of notches. Unless specifically instructed, the block should not have any empty notches when you click Blocks to Code. </li>\n",
    "                        <li>If <code>do</code> dropdown says \"!Not populated until you execute code\", click anywhere in the notebook tab, then click try \"Run All Above Selected Cell\" from the \"Run\" menu.</li> \n",
    "                        <li>If <code>with .. do .. using ..</code> block does not want to snap together nicely with the <code>set .. to</code> block, try dragging the <code>set .. to</code> block instead.</li>\n",
    "                    </ul>\n",
    "                </li>\n",
    "                </ul>\n",
    "                </li>\n",
    "                <li>variable<ul>\n",
    "                    <li>After it is created, each variable has its own block at the end of the VARIABLES menu.</li>\n",
    "                </ul>\n",
    "                </li>\n",
    "            </ul>\n",
    "        </li>\n",
    "    </ul>\n",
    "</details>"
   ]
  },
  {
   "cell_type": "code",
   "execution_count": null,
   "id": "92012834",
   "metadata": {
    "datawhys": {
     "response_id": 43,
     "student_response": true
    },
    "deletable": false,
    "editable": true
   },
   "outputs": [],
   "source": []
  },
  {
   "cell_type": "markdown",
   "id": "950c03ad-a683-40bd-ae7a-6f32fa2f768d",
   "metadata": {
    "deletable": false,
    "editable": false
   },
   "source": [
    "<div class=\"alert alert-block alert-danger\">\n",
    "Explain the above generated code and output(if there is any) in plain English.",
    "\n</div>"
   ]
  },
  {
   "cell_type": "markdown",
   "id": "fccb656e-180a-4b42-846e-bd43f704fdcd",
   "metadata": {
    "datawhys": {
     "response_id": 44,
     "student_response": true
    },
    "deletable": false,
    "editable": true
   },
   "source": [
    "<div class=\"alert alert-block alert-info\">\n",
    "<!-- YOUR ANSWER BEGIN -->\n",
    "\n",
    "\n",
    "\n",
    "\n",
    "\n",
    "<!-- YOUR ANSWER END -->\n",
    "</div>"
   ]
  },
  {
   "cell_type": "markdown",
   "id": "20e1b933",
   "metadata": {
    "deletable": false,
    "editable": false
   },
   "source": [
    "Now let's add formatting and generate the chart again.\n",
    "\n",
    "- Set title to include the variable name (in a nice way).\n",
    "- Set the x-axis label to `\"Number of Cylinders\"`\n",
    "- Set the y-axis label to `\"MPG (Mileage Per Gallon)\"`"
   ]
  },
  {
   "cell_type": "markdown",
   "id": "82013398",
   "metadata": {
    "deletable": false,
    "editable": false
   },
   "source": [
    "- `set title to` &nbsp;:&nbsp; `\" MPG for All Cylinder Types \"`"
   ]
  },
  {
   "cell_type": "markdown",
   "id": "7592f8e0",
   "metadata": {
    "deletable": false,
    "editable": false
   },
   "source": [
    "<br><details><summary>Blockly Hints</summary><ul><li>Notation<ul><li><code>A</code> &nbsp;:&nbsp; <code>B</code>&nbsp; means snap blocks A and B together.</li></ul></li><li>Blocks<ul><li><code>set .. to</code><ul><li>The <code>set .. to</code> block is found under VARIABLES.</li> <li>A variable must have been created before it will appear in the dropdown.</li></ul></li><li><code>\" .. \"</code><ul><li>The <code>\" .. \"</code> block is found under TEXT.</li></ul></li></ul></li></ul></details>"
   ]
  },
  {
   "cell_type": "code",
   "execution_count": null,
   "id": "3edb2c01",
   "metadata": {
    "datawhys": {
     "response_id": 45,
     "student_response": true
    },
    "deletable": false,
    "editable": true
   },
   "outputs": [],
   "source": []
  },
  {
   "cell_type": "markdown",
   "id": "226cdcfa-3ed7-4e71-ad66-94d13d0c2e09",
   "metadata": {
    "deletable": false,
    "editable": false
   },
   "source": [
    "<div class=\"alert alert-block alert-danger\">\n",
    "Explain the above generated code and output(if there is any) in plain English.",
    "\n</div>"
   ]
  },
  {
   "cell_type": "markdown",
   "id": "25e4dba7-1c42-436e-a986-82bae0cd861b",
   "metadata": {
    "datawhys": {
     "response_id": 46,
     "student_response": true
    },
    "deletable": false,
    "editable": true
   },
   "source": [
    "<div class=\"alert alert-block alert-info\">\n",
    "<!-- YOUR ANSWER BEGIN -->\n",
    "\n",
    "\n",
    "\n",
    "\n",
    "\n",
    "<!-- YOUR ANSWER END -->\n",
    "</div>"
   ]
  },
  {
   "cell_type": "markdown",
   "id": "b40f8cd5",
   "metadata": {
    "deletable": false,
    "editable": false
   },
   "source": [
    "- `set labels to` &nbsp;:&nbsp; `dict` &nbsp;<-&nbsp; `create list with` &nbsp;:\n",
    "  - `create list with` &nbsp;:\n",
    "    - `( .. , .. )` &nbsp;<-\n",
    "      - `\" cylinders \"`\n",
    "      - `\" Number of Cylinders \"`\n",
    "    - `( .. , .. )` &nbsp;<-\n",
    "      - `\" mpg \"`\n",
    "      - `\" MPG (Mileage Per Gallon) \"`"
   ]
  },
  {
   "cell_type": "markdown",
   "id": "2a145697",
   "metadata": {
    "deletable": false,
    "editable": false
   },
   "source": [
    "<br><details><summary>Blockly Hints</summary><ul><li>Notation<ul><li><code>A</code> &nbsp;:&nbsp; <code>B</code>&nbsp; means snap blocks A and B together.</li><li><code>A</code> &nbsp;&lt;-&nbsp; <code>B</code>&nbsp; means insert block B into the hole in block A.</li></ul></li><li>Blocks<ul><li><code>set .. to</code><ul><li>The <code>set .. to</code> block is found under VARIABLES.</li> <li>A variable must have been created before it will appear in the dropdown.</li></ul></li><li><code>dict ..</code><ul><li>The <code>dict ..</code> block is found under LISTS.</li></ul></li><li><code>create list with</code><ul><li>The <code>create list with</code> block is found under LISTS.</li> <li>You can use the <code>+ -</code> controls on the block to change the number of notches. Unless specifically instructed, the block should not have any empty notches when you click Blocks to Code. </li></ul></li><li><code>( .. , .. )</code><ul><li>The <code>( .. , .. )</code> block is found under LISTS.</li></ul></li><li><code>\" .. \"</code><ul><li>The <code>\" .. \"</code> block is found under TEXT.</li></ul></li></ul></li></ul></details>"
   ]
  },
  {
   "cell_type": "code",
   "execution_count": null,
   "id": "a925b7c0",
   "metadata": {
    "datawhys": {
     "response_id": 47,
     "student_response": true
    },
    "deletable": false,
    "editable": true
   },
   "outputs": [],
   "source": []
  },
  {
   "cell_type": "markdown",
   "id": "16890acf-b954-4044-9a07-9f79cc02d0c8",
   "metadata": {
    "deletable": false,
    "editable": false
   },
   "source": [
    "<div class=\"alert alert-block alert-danger\">\n",
    "Explain the above generated code and output(if there is any) in plain English.",
    "\n</div>"
   ]
  },
  {
   "cell_type": "markdown",
   "id": "06cbcdac-29d3-41de-9495-1914841a2468",
   "metadata": {
    "datawhys": {
     "response_id": 48,
     "student_response": true
    },
    "deletable": false,
    "editable": true
   },
   "source": [
    "<div class=\"alert alert-block alert-info\">\n",
    "<!-- YOUR ANSWER BEGIN -->\n",
    "\n",
    "\n",
    "\n",
    "\n",
    "\n",
    "<!-- YOUR ANSWER END -->\n",
    "</div>"
   ]
  },
  {
   "cell_type": "markdown",
   "id": "f44514c1",
   "metadata": {
    "deletable": false,
    "editable": false
   },
   "source": [
    "- Grab a freestyle block, type `x= \"cylinders\"`\n",
    "- Grab a freestyle block, type `y= \"mpg\"`\n",
    "- Grab a freestyle block, type `title=title`\n",
    "- Grab a freestyle block, type `labels=labels`\n",
    "- `with px do box using` &nbsp;<-&nbsp;\n",
    "  - variable &nbsp;`df`\n",
    "  - `x= \"cylinders\"`\n",
    "  - `y= \"mpg\"`\n",
    "  - `title=title`\n",
    "  - `labels=labels`"
   ]
  },
  {
   "cell_type": "markdown",
   "id": "a40fcbf3",
   "metadata": {
    "deletable": false,
    "editable": false
   },
   "source": [
    "<br>\n",
    "<details>\n",
    "    <summary>Blockly Hints</summary>\n",
    "    <ul>\n",
    "        <li>Notation\n",
    "            <ul>\n",
    "                <li><code>A</code> &nbsp;:&nbsp; <code>B</code>&nbsp; means snap blocks A and B together.</li>\n",
    "                <li><code>A</code> &nbsp;&lt;-&nbsp; <code>B</code>&nbsp; means insert block B into the hole in block A.</li>\n",
    "            </ul>\n",
    "        </li>\n",
    "        <li>Blocks\n",
    "            <ul>\n",
    "                <li>freestyle\n",
    "                    <ul>\n",
    "                        <li>Unless specifically instructed, use the first block from the FREESTYLE menu.</li>\n",
    "                    </ul>\n",
    "                </li>\n",
    "                <li><code>with .. do .. using ..</code>\n",
    "                    <ul>\n",
    "                        <li>The <code>with .. do .. using ..</code> block is found under VARIABLES.</li>\n",
    "                        <li>You can use the <code>+ -</code> controls on the block to change the number of notches. Unless specifically instructed, the block should not have any empty notches when you click Blocks to Code. </li>\n",
    "                        <li>If <code>do</code> dropdown says \"!Not populated until you execute code\", click anywhere in the notebook tab, then click try \"Run All Above Selected Cell\" from the \"Run\" menu.</li> \n",
    "                        <li>If <code>with .. do .. using ..</code> block does not want to snap together nicely with the <code>set .. to</code> block, try dragging the <code>set .. to</code> block instead.</li>\n",
    "                    </ul>\n",
    "                </li>\n",
    "                </ul>\n",
    "                </li>\n",
    "                <li>variable<ul>\n",
    "                    <li>After it is created, each variable has its own block at the end of the VARIABLES menu.</li>\n",
    "                </ul>\n",
    "                </li>\n",
    "            </ul>\n",
    "        </li>\n",
    "    </ul>\n",
    "</details>"
   ]
  },
  {
   "cell_type": "code",
   "execution_count": null,
   "id": "b0ff6be3",
   "metadata": {
    "datawhys": {
     "response_id": 49,
     "student_response": true
    },
    "deletable": false,
    "editable": true
   },
   "outputs": [],
   "source": []
  },
  {
   "cell_type": "markdown",
   "id": "2f7bf53b-9f83-4856-aa40-0dddde145bf4",
   "metadata": {
    "deletable": false,
    "editable": false
   },
   "source": [
    "<div class=\"alert alert-block alert-danger\">\n",
    "Explain the above generated code and output(if there is any) in plain English.",
    "\n</div>"
   ]
  },
  {
   "cell_type": "markdown",
   "id": "92fc7f1a-1f5f-4274-9586-f70106464bc4",
   "metadata": {
    "datawhys": {
     "response_id": 50,
     "student_response": true
    },
    "deletable": false,
    "editable": true
   },
   "source": [
    "<div class=\"alert alert-block alert-info\">\n",
    "<!-- YOUR ANSWER BEGIN -->\n",
    "\n",
    "\n",
    "\n",
    "\n",
    "\n",
    "<!-- YOUR ANSWER END -->\n",
    "</div>"
   ]
  },
  {
   "cell_type": "markdown",
   "id": "a89ecd22",
   "metadata": {
    "deletable": false,
    "editable": false
   },
   "source": [
    "Generate the charts for the other 2 variables (`displacement` and `horsepower`).\n",
    "\n",
    "Make sure to change the `y` column, `title` and `y-axis` labels for each chart."
   ]
  },
  {
   "cell_type": "markdown",
   "id": "c57037ab",
   "metadata": {
    "deletable": false,
    "editable": false
   },
   "source": [
    "- `set title to` &nbsp;:&nbsp; `\" Displacement for All Cylinder Types \"`"
   ]
  },
  {
   "cell_type": "markdown",
   "id": "453fb955",
   "metadata": {
    "deletable": false,
    "editable": false
   },
   "source": [
    "<br><details><summary>Blockly Hints</summary><ul><li>Notation<ul><li><code>A</code> &nbsp;:&nbsp; <code>B</code>&nbsp; means snap blocks A and B together.</li></ul></li><li>Blocks<ul><li><code>set .. to</code><ul><li>The <code>set .. to</code> block is found under VARIABLES.</li> <li>A variable must have been created before it will appear in the dropdown.</li></ul></li><li><code>\" .. \"</code><ul><li>The <code>\" .. \"</code> block is found under TEXT.</li></ul></li></ul></li></ul></details>"
   ]
  },
  {
   "cell_type": "code",
   "execution_count": null,
   "id": "c6493e89",
   "metadata": {
    "datawhys": {
     "response_id": 51,
     "student_response": true
    },
    "deletable": false,
    "editable": true
   },
   "outputs": [],
   "source": []
  },
  {
   "cell_type": "markdown",
   "id": "4c4d1c9f-844b-4a6d-af75-fa73a7cf5077",
   "metadata": {
    "deletable": false,
    "editable": false
   },
   "source": [
    "<div class=\"alert alert-block alert-danger\">\n",
    "Explain the above generated code and output(if there is any) in plain English.",
    "\n</div>"
   ]
  },
  {
   "cell_type": "markdown",
   "id": "b6ee231b-e73d-41e4-b238-2c97e50d0a98",
   "metadata": {
    "datawhys": {
     "response_id": 52,
     "student_response": true
    },
    "deletable": false,
    "editable": true
   },
   "source": [
    "<div class=\"alert alert-block alert-info\">\n",
    "<!-- YOUR ANSWER BEGIN -->\n",
    "\n",
    "\n",
    "\n",
    "\n",
    "\n",
    "<!-- YOUR ANSWER END -->\n",
    "</div>"
   ]
  },
  {
   "cell_type": "markdown",
   "id": "63c34de5",
   "metadata": {
    "deletable": false,
    "editable": false
   },
   "source": [
    "- `set labels to` &nbsp;:&nbsp; `dict` &nbsp;<-&nbsp; `create list with` &nbsp;:\n",
    "  - `create list with` &nbsp;:\n",
    "    - `( .. , .. )` &nbsp;<-\n",
    "      - `\" cylinders \"`\n",
    "      - `\" Number of Cylinders \"`\n",
    "    - `( .. , .. )` &nbsp;<-\n",
    "      - `\" displacement \"`\n",
    "      - `\" Displacement \"`"
   ]
  },
  {
   "cell_type": "markdown",
   "id": "55011a16",
   "metadata": {
    "deletable": false,
    "editable": false
   },
   "source": [
    "<br><details><summary>Blockly Hints</summary><ul><li>Notation<ul><li><code>A</code> &nbsp;:&nbsp; <code>B</code>&nbsp; means snap blocks A and B together.</li><li><code>A</code> &nbsp;&lt;-&nbsp; <code>B</code>&nbsp; means insert block B into the hole in block A.</li></ul></li><li>Blocks<ul><li><code>set .. to</code><ul><li>The <code>set .. to</code> block is found under VARIABLES.</li> <li>A variable must have been created before it will appear in the dropdown.</li></ul></li><li><code>dict ..</code><ul><li>The <code>dict ..</code> block is found under LISTS.</li></ul></li><li><code>create list with</code><ul><li>The <code>create list with</code> block is found under LISTS.</li> <li>You can use the <code>+ -</code> controls on the block to change the number of notches. Unless specifically instructed, the block should not have any empty notches when you click Blocks to Code. </li></ul></li><li><code>( .. , .. )</code><ul><li>The <code>( .. , .. )</code> block is found under LISTS.</li></ul></li><li><code>\" .. \"</code><ul><li>The <code>\" .. \"</code> block is found under TEXT.</li></ul></li></ul></li></ul></details>"
   ]
  },
  {
   "cell_type": "code",
   "execution_count": null,
   "id": "73a5a35a",
   "metadata": {
    "datawhys": {
     "response_id": 53,
     "student_response": true
    },
    "deletable": false,
    "editable": true
   },
   "outputs": [],
   "source": []
  },
  {
   "cell_type": "markdown",
   "id": "c0353dfe-4884-4997-bf56-358a3e59d951",
   "metadata": {
    "deletable": false,
    "editable": false
   },
   "source": [
    "<div class=\"alert alert-block alert-danger\">\n",
    "Explain the above generated code and output(if there is any) in plain English.",
    "\n</div>"
   ]
  },
  {
   "cell_type": "markdown",
   "id": "206d2048-3960-4635-a3a2-a6459094914e",
   "metadata": {
    "datawhys": {
     "response_id": 54,
     "student_response": true
    },
    "deletable": false,
    "editable": true
   },
   "source": [
    "<div class=\"alert alert-block alert-info\">\n",
    "<!-- YOUR ANSWER BEGIN -->\n",
    "\n",
    "\n",
    "\n",
    "\n",
    "\n",
    "<!-- YOUR ANSWER END -->\n",
    "</div>"
   ]
  },
  {
   "cell_type": "markdown",
   "id": "41a495a2",
   "metadata": {
    "deletable": false,
    "editable": false
   },
   "source": [
    "- Grab a freestyle block, type `x= \"cylinders\"`\n",
    "- Grab a freestyle block, type `y= \"displacement\"`\n",
    "- Grab a freestyle block, type `title=title`\n",
    "- Grab a freestyle block, type `labels=labels`\n",
    "- `with px do box using` &nbsp;<-&nbsp;\n",
    "  - variable &nbsp;`df`\n",
    "  - `x= \"cylinders\"`\n",
    "  - `y= \"displacement\"`\n",
    "  - `title=title`\n",
    "  - `labels=labels`"
   ]
  },
  {
   "cell_type": "markdown",
   "id": "3e898af3",
   "metadata": {
    "deletable": false,
    "editable": false
   },
   "source": [
    "<br>\n",
    "<details>\n",
    "    <summary>Blockly Hints</summary>\n",
    "    <ul>\n",
    "        <li>Notation\n",
    "            <ul>\n",
    "                <li><code>A</code> &nbsp;:&nbsp; <code>B</code>&nbsp; means snap blocks A and B together.</li>\n",
    "                <li><code>A</code> &nbsp;&lt;-&nbsp; <code>B</code>&nbsp; means insert block B into the hole in block A.</li>\n",
    "            </ul>\n",
    "        </li>\n",
    "        <li>Blocks\n",
    "            <ul>\n",
    "                <li>freestyle\n",
    "                    <ul>\n",
    "                        <li>Unless specifically instructed, use the first block from the FREESTYLE menu.</li>\n",
    "                    </ul>\n",
    "                </li>\n",
    "                <li><code>with .. do .. using ..</code>\n",
    "                    <ul>\n",
    "                        <li>The <code>with .. do .. using ..</code> block is found under VARIABLES.</li>\n",
    "                        <li>You can use the <code>+ -</code> controls on the block to change the number of notches. Unless specifically instructed, the block should not have any empty notches when you click Blocks to Code. </li>\n",
    "                        <li>If <code>do</code> dropdown says \"!Not populated until you execute code\", click anywhere in the notebook tab, then click try \"Run All Above Selected Cell\" from the \"Run\" menu.</li> \n",
    "                        <li>If <code>with .. do .. using ..</code> block does not want to snap together nicely with the <code>set .. to</code> block, try dragging the <code>set .. to</code> block instead.</li>\n",
    "                    </ul>\n",
    "                </li>\n",
    "                </ul>\n",
    "                </li>\n",
    "                <li>variable<ul>\n",
    "                    <li>After it is created, each variable has its own block at the end of the VARIABLES menu.</li>\n",
    "                </ul>\n",
    "                </li>\n",
    "            </ul>\n",
    "        </li>\n",
    "    </ul>\n",
    "</details>"
   ]
  },
  {
   "cell_type": "code",
   "execution_count": null,
   "id": "1deb3596",
   "metadata": {
    "datawhys": {
     "response_id": 55,
     "student_response": true
    },
    "deletable": false,
    "editable": true
   },
   "outputs": [],
   "source": []
  },
  {
   "cell_type": "markdown",
   "id": "1793872a-497e-4ecf-bff3-4120f6195fcb",
   "metadata": {
    "deletable": false,
    "editable": false
   },
   "source": [
    "<div class=\"alert alert-block alert-danger\">\n",
    "Explain the above generated code and output(if there is any) in plain English.",
    "\n</div>"
   ]
  },
  {
   "cell_type": "markdown",
   "id": "51c0ec22-4e98-49a8-8df3-34d7cc7c80cf",
   "metadata": {
    "datawhys": {
     "response_id": 56,
     "student_response": true
    },
    "deletable": false,
    "editable": true
   },
   "source": [
    "<div class=\"alert alert-block alert-info\">\n",
    "<!-- YOUR ANSWER BEGIN -->\n",
    "\n",
    "\n",
    "\n",
    "\n",
    "\n",
    "<!-- YOUR ANSWER END -->\n",
    "</div>"
   ]
  },
  {
   "cell_type": "markdown",
   "id": "761fd0b6",
   "metadata": {
    "deletable": false,
    "editable": false
   },
   "source": [
    "- `set title to` &nbsp;:&nbsp; `\" Horsepower for All Cylinder Types \"`"
   ]
  },
  {
   "cell_type": "markdown",
   "id": "40eaf781",
   "metadata": {
    "deletable": false,
    "editable": false
   },
   "source": [
    "<br><details><summary>Blockly Hints</summary><ul><li>Notation<ul><li><code>A</code> &nbsp;:&nbsp; <code>B</code>&nbsp; means snap blocks A and B together.</li></ul></li><li>Blocks<ul><li><code>set .. to</code><ul><li>The <code>set .. to</code> block is found under VARIABLES.</li> <li>A variable must have been created before it will appear in the dropdown.</li></ul></li><li><code>\" .. \"</code><ul><li>The <code>\" .. \"</code> block is found under TEXT.</li></ul></li></ul></li></ul></details>"
   ]
  },
  {
   "cell_type": "code",
   "execution_count": null,
   "id": "7fe59ddd",
   "metadata": {
    "datawhys": {
     "response_id": 57,
     "student_response": true
    },
    "deletable": false,
    "editable": true
   },
   "outputs": [],
   "source": []
  },
  {
   "cell_type": "markdown",
   "id": "abb53f84-22cd-4abf-9620-983c1d0004aa",
   "metadata": {
    "deletable": false,
    "editable": false
   },
   "source": [
    "<div class=\"alert alert-block alert-danger\">\n",
    "Explain the above generated code and output(if there is any) in plain English.",
    "\n</div>"
   ]
  },
  {
   "cell_type": "markdown",
   "id": "825081fe-8ebc-45b3-a0dd-54a5523cc561",
   "metadata": {
    "datawhys": {
     "response_id": 58,
     "student_response": true
    },
    "deletable": false,
    "editable": true
   },
   "source": [
    "<div class=\"alert alert-block alert-info\">\n",
    "<!-- YOUR ANSWER BEGIN -->\n",
    "\n",
    "\n",
    "\n",
    "\n",
    "\n",
    "<!-- YOUR ANSWER END -->\n",
    "</div>"
   ]
  },
  {
   "cell_type": "markdown",
   "id": "8835889a",
   "metadata": {
    "deletable": false,
    "editable": false
   },
   "source": [
    "- `set labels to` &nbsp;:&nbsp; `dict` &nbsp;<-&nbsp; `create list with` &nbsp;:\n",
    "  - `create list with` &nbsp;:\n",
    "    - `( .. , .. )` &nbsp;<-\n",
    "      - `\" cylinders \"`\n",
    "      - `\" Number of Cylinders \"`\n",
    "    - `( .. , .. )` &nbsp;<-\n",
    "      - `\" horsepower \"`\n",
    "      - `\" Horsepower \"`"
   ]
  },
  {
   "cell_type": "markdown",
   "id": "1c7796c8",
   "metadata": {
    "deletable": false,
    "editable": false
   },
   "source": [
    "<br><details><summary>Blockly Hints</summary><ul><li>Notation<ul><li><code>A</code> &nbsp;:&nbsp; <code>B</code>&nbsp; means snap blocks A and B together.</li><li><code>A</code> &nbsp;&lt;-&nbsp; <code>B</code>&nbsp; means insert block B into the hole in block A.</li></ul></li><li>Blocks<ul><li><code>set .. to</code><ul><li>The <code>set .. to</code> block is found under VARIABLES.</li> <li>A variable must have been created before it will appear in the dropdown.</li></ul></li><li><code>dict ..</code><ul><li>The <code>dict ..</code> block is found under LISTS.</li></ul></li><li><code>create list with</code><ul><li>The <code>create list with</code> block is found under LISTS.</li> <li>You can use the <code>+ -</code> controls on the block to change the number of notches. Unless specifically instructed, the block should not have any empty notches when you click Blocks to Code. </li></ul></li><li><code>( .. , .. )</code><ul><li>The <code>( .. , .. )</code> block is found under LISTS.</li></ul></li><li><code>\" .. \"</code><ul><li>The <code>\" .. \"</code> block is found under TEXT.</li></ul></li></ul></li></ul></details>"
   ]
  },
  {
   "cell_type": "code",
   "execution_count": null,
   "id": "0b7a4c6d",
   "metadata": {
    "datawhys": {
     "response_id": 59,
     "student_response": true
    },
    "deletable": false,
    "editable": true
   },
   "outputs": [],
   "source": []
  },
  {
   "cell_type": "markdown",
   "id": "a12e7201-f780-4f2a-9942-7ce224d87e54",
   "metadata": {
    "deletable": false,
    "editable": false
   },
   "source": [
    "<div class=\"alert alert-block alert-danger\">\n",
    "Explain the above generated code and output(if there is any) in plain English.",
    "\n</div>"
   ]
  },
  {
   "cell_type": "markdown",
   "id": "d82e8ee1-b776-4074-8475-01d46db19b3d",
   "metadata": {
    "datawhys": {
     "response_id": 60,
     "student_response": true
    },
    "deletable": false,
    "editable": true
   },
   "source": [
    "<div class=\"alert alert-block alert-info\">\n",
    "<!-- YOUR ANSWER BEGIN -->\n",
    "\n",
    "\n",
    "\n",
    "\n",
    "\n",
    "<!-- YOUR ANSWER END -->\n",
    "</div>"
   ]
  },
  {
   "cell_type": "markdown",
   "id": "5cabb97f",
   "metadata": {
    "deletable": false,
    "editable": false
   },
   "source": [
    "- Grab a freestyle block, type `x= \"cylinders\"`\n",
    "- Grab a freestyle block, type `y= \"horsepower\"`\n",
    "- Grab a freestyle block, type `title=title`\n",
    "- Grab a freestyle block, type `labels=labels`\n",
    "- `with px do box using` &nbsp;<-&nbsp;\n",
    "  - variable &nbsp;`df`\n",
    "  - `x= \"cylinders\"`\n",
    "  - `y= \"horsepower\"`\n",
    "  - `title=title`\n",
    "  - `labels=labels`"
   ]
  },
  {
   "cell_type": "markdown",
   "id": "b101520f",
   "metadata": {
    "deletable": false,
    "editable": false
   },
   "source": [
    "<br>\n",
    "<details>\n",
    "    <summary>Blockly Hints</summary>\n",
    "    <ul>\n",
    "        <li>Notation\n",
    "            <ul>\n",
    "                <li><code>A</code> &nbsp;:&nbsp; <code>B</code>&nbsp; means snap blocks A and B together.</li>\n",
    "                <li><code>A</code> &nbsp;&lt;-&nbsp; <code>B</code>&nbsp; means insert block B into the hole in block A.</li>\n",
    "            </ul>\n",
    "        </li>\n",
    "        <li>Blocks\n",
    "            <ul>\n",
    "                <li>freestyle\n",
    "                    <ul>\n",
    "                        <li>Unless specifically instructed, use the first block from the FREESTYLE menu.</li>\n",
    "                    </ul>\n",
    "                </li>\n",
    "                <li><code>with .. do .. using ..</code>\n",
    "                    <ul>\n",
    "                        <li>The <code>with .. do .. using ..</code> block is found under VARIABLES.</li>\n",
    "                        <li>You can use the <code>+ -</code> controls on the block to change the number of notches. Unless specifically instructed, the block should not have any empty notches when you click Blocks to Code. </li>\n",
    "                        <li>If <code>do</code> dropdown says \"!Not populated until you execute code\", click anywhere in the notebook tab, then click try \"Run All Above Selected Cell\" from the \"Run\" menu.</li> \n",
    "                        <li>If <code>with .. do .. using ..</code> block does not want to snap together nicely with the <code>set .. to</code> block, try dragging the <code>set .. to</code> block instead.</li>\n",
    "                    </ul>\n",
    "                </li>\n",
    "                </ul>\n",
    "                </li>\n",
    "                <li>variable<ul>\n",
    "                    <li>After it is created, each variable has its own block at the end of the VARIABLES menu.</li>\n",
    "                </ul>\n",
    "                </li>\n",
    "            </ul>\n",
    "        </li>\n",
    "    </ul>\n",
    "</details>"
   ]
  },
  {
   "cell_type": "code",
   "execution_count": null,
   "id": "c1bcf8b1",
   "metadata": {
    "datawhys": {
     "response_id": 61,
     "student_response": true
    },
    "deletable": false,
    "editable": true
   },
   "outputs": [],
   "source": []
  },
  {
   "cell_type": "markdown",
   "id": "2bd4c568-a892-44e1-8f7e-b4df71aa6fbd",
   "metadata": {
    "deletable": false,
    "editable": false
   },
   "source": [
    "<div class=\"alert alert-block alert-danger\">\n",
    "Explain the above generated code and output(if there is any) in plain English.",
    "\n</div>"
   ]
  },
  {
   "cell_type": "markdown",
   "id": "8b003ef0-6feb-41a6-b938-9644e2257d41",
   "metadata": {
    "datawhys": {
     "response_id": 62,
     "student_response": true
    },
    "deletable": false,
    "editable": true
   },
   "source": [
    "<div class=\"alert alert-block alert-info\">\n",
    "<!-- YOUR ANSWER BEGIN -->\n",
    "\n",
    "\n",
    "\n",
    "\n",
    "\n",
    "<!-- YOUR ANSWER END -->\n",
    "</div>"
   ]
  },
  {
   "cell_type": "markdown",
   "id": "2a0af465",
   "metadata": {
    "deletable": false,
    "editable": false
   },
   "source": [
    "<div class=\"alert alert-block alert-danger\">\n",
    "Q1. For each cylinder type cars, which variable should we look at to distinguish that cylinder type from the other two? (Hint: We are looking for the least overlapping interquartile range.)",
    "\n</div>"
   ]
  },
  {
   "cell_type": "markdown",
   "id": "aa6c5715",
   "metadata": {
    "datawhys": {
     "response_id": 63,
     "student_response": true
    },
    "deletable": false,
    "editable": true
   },
   "source": [
    "<div class=\"alert alert-block alert-info\">\n",
    "<!-- YOUR ANSWER BEGIN -->\n",
    "\n",
    "\n",
    "\n",
    "\n",
    "\n",
    "<!-- YOUR ANSWER END -->\n",
    "</div>"
   ]
  }
 ],
 "metadata": {
  "kernelspec": {
   "display_name": "Python 3 (ipykernel)",
   "language": "python",
   "name": "python3"
  },
  "language_info": {
   "codemirror_mode": {
    "name": "ipython",
    "version": 3
   },
   "file_extension": ".py",
   "mimetype": "text/x-python",
   "name": "python",
   "nbconvert_exporter": "python",
   "pygments_lexer": "ipython3",
   "version": "3.12.6"
  }
 },
 "nbformat": 4,
 "nbformat_minor": 5
}
