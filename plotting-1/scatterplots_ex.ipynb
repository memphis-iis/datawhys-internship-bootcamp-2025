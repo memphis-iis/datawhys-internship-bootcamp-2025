{
 "cells": [
  {
   "attachments": {},
   "cell_type": "markdown",
   "metadata": {
    "deletable": false,
    "editable": false
   },
   "source": [
    "# Plotting 1: Creating Scatterplots with Plotly (Example)"
   ]
  },
  {
   "attachments": {},
   "cell_type": "markdown",
   "metadata": {
    "deletable": false,
    "editable": false
   },
   "source": [
    "## Question. &nbsp;&nbsp; How does height change with age?"
   ]
  },
  {
   "attachments": {},
   "cell_type": "markdown",
   "metadata": {
    "deletable": false,
    "editable": false
   },
   "source": [
    "Dataset: Demographic data from Kalahari !Kung San people collected by Nancy Howell in Botswana between August 1967 and May 1969.\n",
    "\n",
    "Columns:\n",
    "- Height (cm)\n",
    "- Age (years)\n",
    "- Gender (male, female)"
   ]
  },
  {
   "attachments": {},
   "cell_type": "markdown",
   "metadata": {
    "deletable": false,
    "editable": false
   },
   "source": [
    "## Pre-programming Discussion"
   ]
  },
  {
   "attachments": {},
   "cell_type": "markdown",
   "metadata": {
    "deletable": false,
    "editable": false
   },
   "source": [
    "<div class=\"alert alert-block alert-danger\">\n",
    "Q1. Which columns from the dataset will be used in the plot?",
    "\n</div>"
   ]
  },
  {
   "attachments": {},
   "cell_type": "markdown",
   "metadata": {
    "datawhys": {
     "response_id": 1,
     "student_response": true
    },
    "deletable": false,
    "editable": true
   },
   "source": [
    "<div class=\"alert alert-block alert-info\">\n",
    "<!-- YOUR ANSWER BEGIN -->\n",
    "\n",
    "\n",
    "\n",
    "\n",
    "\n",
    "<!-- YOUR ANSWER END -->\n",
    "</div>"
   ]
  },
  {
   "attachments": {},
   "cell_type": "markdown",
   "metadata": {
    "deletable": false,
    "editable": false
   },
   "source": [
    "<div class=\"alert alert-block alert-danger\">\n",
    "Q2. Which column will go on the x-axis?",
    "\n</div>"
   ]
  },
  {
   "attachments": {},
   "cell_type": "markdown",
   "metadata": {
    "datawhys": {
     "response_id": 2,
     "student_response": true
    },
    "deletable": false,
    "editable": true
   },
   "source": [
    "<div class=\"alert alert-block alert-info\">\n",
    "<!-- YOUR ANSWER BEGIN -->\n",
    "\n",
    "\n",
    "\n",
    "\n",
    "\n",
    "<!-- YOUR ANSWER END -->\n",
    "</div>"
   ]
  },
  {
   "attachments": {},
   "cell_type": "markdown",
   "metadata": {
    "deletable": false,
    "editable": false
   },
   "source": [
    "<div class=\"alert alert-block alert-danger\">\n",
    "Q3. Which column will go on the y-axis?",
    "\n</div>"
   ]
  },
  {
   "attachments": {},
   "cell_type": "markdown",
   "metadata": {
    "datawhys": {
     "response_id": 3,
     "student_response": true
    },
    "deletable": false,
    "editable": true
   },
   "source": [
    "<div class=\"alert alert-block alert-info\">\n",
    "<!-- YOUR ANSWER BEGIN -->\n",
    "\n",
    "\n",
    "\n",
    "\n",
    "\n",
    "<!-- YOUR ANSWER END -->\n",
    "</div>"
   ]
  },
  {
   "attachments": {},
   "cell_type": "markdown",
   "metadata": {
    "deletable": false,
    "editable": false
   },
   "source": [
    "## Programming Activity: Creating a Scatterplot of Height vs Age"
   ]
  },
  {
   "attachments": {},
   "cell_type": "markdown",
   "metadata": {
    "deletable": false,
    "editable": false
   },
   "source": [
    "<span><h3>\n",
    " Step 1. &nbsp;&nbsp;&nbsp; Read CSV Data into Pandas Dataframe",
    "\n</h3></span>"
   ]
  },
  {
   "attachments": {},
   "cell_type": "markdown",
   "metadata": {
    "deletable": false,
    "editable": false
   },
   "source": [
    "<span><h4>\n",
    " Substep. &nbsp;&nbsp; Import Pandas Library (if Needed)",
    "\n</h4></span>"
   ]
  },
  {
   "attachments": {},
   "cell_type": "markdown",
   "metadata": {
    "deletable": false,
    "editable": false
   },
   "source": [
    "- Create variable &nbsp;`pd`\n",
    "- `import pandas as pd`"
   ]
  },
  {
   "attachments": {},
   "cell_type": "markdown",
   "metadata": {
    "deletable": false,
    "editable": false
   },
   "source": [
    "<details><summary>Blockly Hints</summary><ul><li>Blocks<ul><li><code>import .. as ..</code><ul><li>The <code>import .. as ..</code> block is found under IMPORT.</li> <li>A variable must have been created before it will appear in the dropdown.</li></ul></li></ul></li></ul></details>"
   ]
  },
  {
   "attachments": {},
   "cell_type": "markdown",
   "metadata": {
    "deletable": false,
    "editable": false
   },
   "source": [
    "Here's how:\n",
    "\n",
    "1. From IMPORT, grab `import .. as ..`\n",
    "2. Replace text `some library` with `pandas`\n",
    "3. From VARIABLES, click `Create Variable...`, enter `pd`, click OK\n",
    "4. Change dropdown after as to `pd` (if needed)\n",
    "5. Click Blocks to Code and run cell"
   ]
  },
  {
   "cell_type": "code",
   "execution_count": null,
   "metadata": {
    "deletable": false,
    "editable": false
   },
   "outputs": [],
   "source": [
    "import pandas as pd\n",
    "\n",
    "#<xml xmlns=\"https://developers.google.com/blockly/xml\"><variables><variable id=\"qnEXLsG})b1|)!tK#gr5\">pd</variable></variables><block type=\"importAs_Python\" id=\"rQe(xB~+SjR}s-NPP+TT\" x=\"26\" y=\"83\"><field name=\"libraryName\">pandas</field><field name=\"libraryAlias\" id=\"qnEXLsG})b1|)!tK#gr5\">pd</field></block></xml>"
   ]
  },
  {
   "attachments": {},
   "cell_type": "markdown",
   "metadata": {
    "deletable": false,
    "editable": false
   },
   "source": [
    "<span><h4>\n",
    " Substep. &nbsp;&nbsp; Read CSV data and Save in Variable",
    "\n</h4></span>"
   ]
  },
  {
   "attachments": {},
   "cell_type": "markdown",
   "metadata": {
    "deletable": false,
    "editable": false
   },
   "source": [
    "- Create variable &nbsp;`df`\n",
    "- `set df to` &nbsp;:&nbsp; `with pd do read_csv using` &nbsp;:&nbsp; `\" datasets/age_height.csv \"`"
   ]
  },
  {
   "attachments": {},
   "cell_type": "markdown",
   "metadata": {
    "deletable": false,
    "editable": false
   },
   "source": [
    "<details><summary>Blockly Hints</summary><ul><li>Notation<ul><li><code>A</code> &nbsp;:&nbsp; <code>B</code>&nbsp; means snap blocks A and B together.</li></ul></li><li>Blocks<ul><li><code>set .. to</code><ul><li>The <code>set .. to</code> block is found under VARIABLES.</li> <li>A variable must have been created before it will appear in the dropdown.</li></ul></li><li><code>with .. do .. using ..</code><ul><li>The <code>with .. do .. using ..</code> block is found under VARIABLES.</li> <li>If <code>do</code> dropdown says \"!Not populated until you execute code\", click anywhere in the notebook tab, then click try \"Run All Above Selected Cell\" from the \"Run\" menu.</li> <li>If <code>with .. do .. using ..</code> block does not want to snap together nicely with the <code>set .. to</code> block, try dragging the <code>set .. to</code> block instead.</li> <li>You can use the <code>+ -</code> controls on the block to change the number of notches. Unless specifically instructed, the block should not have any empty notches when you click Blocks to Code. </li></ul></li><li><code>\" .. \"</code><ul><li>The <code>\" .. \"</code> block is found under TEXT.</li></ul></li></ul></li></ul></details>"
   ]
  },
  {
   "attachments": {},
   "cell_type": "markdown",
   "metadata": {
    "deletable": false,
    "editable": false
   },
   "source": [
    "Here's how:\n",
    "\n",
    "1. From VARIABLES, grab `with .. do .. using ..`\n",
    "2. Change dropdown after with to `pd` (if needed)\n",
    "3. Change dropdown after do to `read_csv`\n",
    "4. From TEXT, grab `\" .. \"`\n",
    "5. Type `datasets/age_height.csv` into `\" .. \"`\n",
    "6. Connect `\" .. \"` in first slot of `with .. do .. using ..`\n",
    "7. From VARIABLES, click `Create Variable...`, type `df`, click OK\n",
    "8. From VARIABLES, grab `set .. to`\n",
    "9. Change dropdown after set to `df` (if needed)\n",
    "10. Connect `set .. to` and `with .. do .. using ..`\n",
    "11. Click Blocks to Code and run cell"
   ]
  },
  {
   "cell_type": "code",
   "execution_count": null,
   "metadata": {
    "deletable": false,
    "editable": false
   },
   "outputs": [],
   "source": [
    "df = pd.read_csv('datasets/age_height.csv')\n",
    "\n",
    "#<xml xmlns=\"https://developers.google.com/blockly/xml\"><variables><variable id=\"3hA6)(qv#r~M08OkYT6G\">df</variable><variable id=\"qnEXLsG})b1|)!tK#gr5\">pd</variable></variables><block type=\"variables_set\" id=\"bvrE[12e`B#]#98c1wkg\" x=\"11\" y=\"-55\"><field name=\"VAR\" id=\"3hA6)(qv#r~M08OkYT6G\">df</field><value name=\"VALUE\"><block type=\"varDoMethod_Python\" id=\"%$Y^*saBr`,6TjjI+Es5\"><mutation items=\"1\"></mutation><field name=\"VAR\" id=\"qnEXLsG})b1|)!tK#gr5\">pd</field><field name=\"MEMBER\">read_csv</field><data>pd:read_csv</data><value name=\"ADD0\"><block type=\"text\" id=\"%Tu~B1^V5k1gTn+mw(^n\"><field name=\"TEXT\">datasets/age_height.csv</field></block></value></block></value></block></xml>"
   ]
  },
  {
   "attachments": {},
   "cell_type": "markdown",
   "metadata": {
    "deletable": false,
    "editable": false
   },
   "source": [
    "<span><h4>\n",
    " Substep. &nbsp;&nbsp; Display Dataframe Contents",
    "\n</h4></span>"
   ]
  },
  {
   "attachments": {},
   "cell_type": "markdown",
   "metadata": {
    "deletable": false,
    "editable": false
   },
   "source": [
    "- variable &nbsp;`df`"
   ]
  },
  {
   "attachments": {},
   "cell_type": "markdown",
   "metadata": {
    "deletable": false,
    "editable": false
   },
   "source": [
    "<details><summary>Blockly Hints</summary><ul><li>Blocks<ul><li>variable<ul><li>After it is created, each variable has its own block at the end of the VARIABLES menu.</li></ul></li></ul></li></ul></details>"
   ]
  },
  {
   "attachments": {},
   "cell_type": "markdown",
   "metadata": {
    "deletable": false,
    "editable": false
   },
   "source": [
    "Here's how:\n",
    "\n",
    "1. From VARIABLES, grab `df`\n",
    "2. Click Blocks to Code and run cell"
   ]
  },
  {
   "cell_type": "code",
   "execution_count": null,
   "metadata": {
    "deletable": false,
    "editable": false
   },
   "outputs": [],
   "source": [
    "df\n",
    "\n",
    "#<xml xmlns=\"https://developers.google.com/blockly/xml\"><variables><variable id=\"3hA6)(qv#r~M08OkYT6G\">df</variable></variables><block type=\"variables_get\" id=\"s:)*_9LgQFXW9.ix8WPX\" x=\"8\" y=\"272\"><field name=\"VAR\" id=\"3hA6)(qv#r~M08OkYT6G\">df</field></block></xml>"
   ]
  },
  {
   "attachments": {},
   "cell_type": "markdown",
   "metadata": {
    "deletable": false,
    "editable": false
   },
   "source": [
    "<span><h3>\n",
    " Step 2. &nbsp;&nbsp;&nbsp; Generate Plotly Scatterplot",
    "\n</h3></span>"
   ]
  },
  {
   "attachments": {},
   "cell_type": "markdown",
   "metadata": {
    "deletable": false,
    "editable": false
   },
   "source": [
    "<span><h4>\n",
    " Substep. &nbsp;&nbsp; Import Plotly Express Library\n",
    "\n</h4></span>"
   ]
  },
  {
   "attachments": {},
   "cell_type": "markdown",
   "metadata": {
    "deletable": false,
    "editable": false
   },
   "source": [
    "- Create variable &nbsp;`px`\n",
    "- `import plotly.express as px`"
   ]
  },
  {
   "attachments": {},
   "cell_type": "markdown",
   "metadata": {
    "deletable": false,
    "editable": false
   },
   "source": [
    "<details><summary>Blockly Hints</summary><ul><li>Blocks<ul><li><code>import .. as ..</code><ul><li>The <code>import .. as ..</code> block is found under IMPORT.</li> <li>A variable must have been created before it will appear in the dropdown.</li></ul></li></ul></li></ul></details>"
   ]
  },
  {
   "attachments": {},
   "cell_type": "markdown",
   "metadata": {
    "deletable": false,
    "editable": false
   },
   "source": [
    "Here's how:\n",
    "\n",
    "1. From IMPORT, grab `import .. as ..`\n",
    "2. Replace text `some variable` with `plotly.express`\n",
    "3. From VARIABLES, click `Create Variable...`, enter `px`, click OK\n",
    "4. Change dropdown after as to `px` (if needed)\n",
    "5. Click Blocks to Code and run cell"
   ]
  },
  {
   "cell_type": "code",
   "execution_count": null,
   "metadata": {
    "deletable": false,
    "editable": false
   },
   "outputs": [],
   "source": [
    "import plotly.express as px\n",
    "\n",
    "#<xml xmlns=\"https://developers.google.com/blockly/xml\"><variables><variable id=\"Sxuq484q?PmjXo4*$4o9\">px</variable></variables><block type=\"importAs_Python\" id=\"l.6v#kh|u(j!aj2D/,q]\" x=\"16\" y=\"10\"><field name=\"libraryName\">plotly.express</field><field name=\"libraryAlias\" id=\"Sxuq484q?PmjXo4*$4o9\">px</field></block></xml>"
   ]
  },
  {
   "attachments": {},
   "cell_type": "markdown",
   "metadata": {
    "deletable": false,
    "editable": false
   },
   "source": [
    "<span><h4>\n",
    " Substep. &nbsp;&nbsp; Set Columns as x and y\n",
    "\n</h4></span>"
   ]
  },
  {
   "attachments": {},
   "cell_type": "markdown",
   "metadata": {
    "deletable": false,
    "editable": false
   },
   "source": [
    "- Create variable &nbsp;`x`\n",
    "- `set x to` &nbsp;:&nbsp; `\" Age \"`\n",
    "- Create variable &nbsp;`y`\n",
    "- `set y to` &nbsp;:&nbsp; `\" Height \"`"
   ]
  },
  {
   "attachments": {},
   "cell_type": "markdown",
   "metadata": {
    "deletable": false,
    "editable": false
   },
   "source": [
    "<details><summary>Blockly Hints</summary><ul><li>Notation<ul><li><code>A</code> &nbsp;:&nbsp; <code>B</code>&nbsp; means snap blocks A and B together.</li></ul></li><li>Blocks<ul><li><code>set .. to</code><ul><li>The <code>set .. to</code> block is found under VARIABLES.</li> <li>A variable must have been created before it will appear in the dropdown.</li></ul></li><li><code>\" .. \"</code><ul><li>The <code>\" .. \"</code> block is found under TEXT.</li></ul></li></ul></li></ul></details>"
   ]
  },
  {
   "attachments": {},
   "cell_type": "markdown",
   "metadata": {
    "deletable": false,
    "editable": false
   },
   "source": [
    "Here's how:\n",
    "\n",
    "1. From VARIABLES, click `Create Variable...`, enter `x`, click OK\n",
    "2. From VARIABLES, grab `set .. to`\n",
    "3. Change dropdown after set to `x`\n",
    "4. From TEXT, grab `\" .. \"`\n",
    "5. Type `Age` into `\" .. \"`\n",
    "6. Connect `set x to` and `\" Age \"`\n",
    "7. From VARIABLES, click `Create Variable...`, enter `y`, click OK\n",
    "8. From VARIABLES, grab `set .. to`\n",
    "9. Change dropdown after set to `x`\n",
    "10. From TEXT, grab `\" .. \"`\n",
    "11. Type `Height` into `\" .. \"`\n",
    "12. Connect `set y to` and `\" Height \"`\n",
    "13. Click Blocks to Code and run cell"
   ]
  },
  {
   "cell_type": "code",
   "execution_count": null,
   "metadata": {
    "deletable": false,
    "editable": false
   },
   "outputs": [],
   "source": [
    "x = 'Age'\n",
    "y = 'Height'\n",
    "\n",
    "#<xml xmlns=\"https://developers.google.com/blockly/xml\"><variables><variable id=\"jCa_f6F|YuZ4-AZH]_+V\">x</variable><variable id=\"vm;jj;#dB/j{h6;:by])\">y</variable></variables><block type=\"variables_set\" id=\"cffZW9linf6QkjfLI.*G\" x=\"16\" y=\"54\"><field name=\"VAR\" id=\"jCa_f6F|YuZ4-AZH]_+V\">x</field><value name=\"VALUE\"><block type=\"text\" id=\"Qh,eSVlKu5MDu_:zfxmA\"><field name=\"TEXT\">Age</field></block></value><next><block type=\"variables_set\" id=\"gcnMQNvN{O=)HUk]mwyS\"><field name=\"VAR\" id=\"vm;jj;#dB/j{h6;:by])\">y</field><value name=\"VALUE\"><block type=\"text\" id=\"s^Y5X/A+m;j[wTb8W:^y\"><field name=\"TEXT\">Height</field></block></value></block></next></block></xml>"
   ]
  },
  {
   "attachments": {},
   "cell_type": "markdown",
   "metadata": {
    "deletable": false,
    "editable": false
   },
   "source": [
    "<span><h4>\n",
    " Substep. &nbsp;&nbsp; Generate Scatterplot",
    "\n</h4></span>"
   ]
  },
  {
   "attachments": {},
   "cell_type": "markdown",
   "metadata": {
    "deletable": false,
    "editable": false
   },
   "source": [
    "- Grab a freestyle block, type &nbsp;`x=x`\n",
    "- Grab a freestyle block, type &nbsp;`y=y`\n",
    "- `with px do scatter using` &nbsp;:\n",
    "  - variable &nbsp;`df`\n",
    "  - `x=x`\n",
    "  - `y=y`"
   ]
  },
  {
   "attachments": {},
   "cell_type": "markdown",
   "metadata": {
    "deletable": false,
    "editable": false
   },
   "source": [
    "<details><summary>Blockly Hints</summary><ul><li>Notation<ul><li><code>A</code> &nbsp;:&nbsp; <code>B</code>&nbsp; means snap blocks A and B together.</li></ul></li><li>Blocks<ul><li>freestyle<ul><li>Unless specifically instructed, use the first block from the FREESTYLE menu.</li></ul></li><li><code>with .. do .. using ..</code><ul><li>The <code>with .. do .. using ..</code> block is found under VARIABLES.</li> <li>If <code>do</code> dropdown says \"!Not populated until you execute code\", click anywhere in the notebook tab, then click try \"Run All Above Selected Cell\" from the \"Run\" menu.</li> <li>If <code>with .. do .. using ..</code> block does not want to snap together nicely with the <code>set .. to</code> block, try dragging the <code>set .. to</code> block instead.</li> <li>You can use the <code>+ -</code> controls on the block to change the number of notches. Unless specifically instructed, the block should not have any empty notches when you click Blocks to Code. </li></ul></li><li>variable<ul><li>After it is created, each variable has its own block at the end of the VARIABLES menu.</li></ul></li></ul></li></ul></details>"
   ]
  },
  {
   "attachments": {},
   "cell_type": "markdown",
   "metadata": {
    "deletable": false,
    "editable": false
   },
   "source": [
    "Here's how: \n",
    "\n",
    "1. From VARIABLES, grab `with .. do .. using ..`\n",
    "2. Change dropdown after with to `px`\n",
    "3. Change dropdown after do to `scatter`\n",
    "4. From VARIABLES, grab `df`\n",
    "5. Connect `df` in first slot of `create list with`\n",
    "6. From FREESTYLE, grab first block\n",
    "7. Enter `x=x` in freestyle block\n",
    "8. Click + in `with .. do .. using ..` to create another slot\n",
    "9. Connect freestyle `x=x` in second slot of `create list with`\n",
    "10. From FREESTYLE, grab first block\n",
    "11. Enter `y=y` in freestyle block\n",
    "12. Click + in `with .. do .. using ..` to create another slot\n",
    "13. Connect freestyle `y=y` in third slot of `create list with`\n",
    "14. Click Blocks to code and run cell"
   ]
  },
  {
   "cell_type": "code",
   "execution_count": null,
   "metadata": {
    "deletable": false,
    "editable": false
   },
   "outputs": [],
   "source": [
    "px.scatter(df,x=x,y=y)\n",
    "\n",
    "#<xml xmlns=\"https://developers.google.com/blockly/xml\"><variables><variable id=\"Sxuq484q?PmjXo4*$4o9\">px</variable><variable id=\"3hA6)(qv#r~M08OkYT6G\">df</variable></variables><block type=\"varDoMethod_Python\" id=\"?EKlWTf8Q`wI748kpOKQ\" x=\"80\" y=\"2\"><mutation items=\"3\"></mutation><field name=\"VAR\" id=\"Sxuq484q?PmjXo4*$4o9\">px</field><field name=\"MEMBER\">scatter</field><data>px:scatter</data><value name=\"ADD0\"><block type=\"variables_get\" id=\"{#sp[}Zk-`P:ktK5%q9y\"><field name=\"VAR\" id=\"3hA6)(qv#r~M08OkYT6G\">df</field></block></value><value name=\"ADD1\"><block type=\"dummyOutputCodeBlock_Python\" id=\"3Ns/{#E+1%vshFeBpmW]\"><field name=\"CODE\">x=x</field></block></value><value name=\"ADD2\"><block type=\"dummyOutputCodeBlock_Python\" id=\"T=08i%KtjdMu|{uR8F~n\"><field name=\"CODE\">y=y</field></block></value></block></xml>"
   ]
  }
 ],
 "metadata": {
  "interpreter": {
   "hash": "be14b4e913c6f2457a185c22af60a9db8729a2914b48dcc2c5e42fe4e4a2ce08"
  },
  "kernelspec": {
   "display_name": "Python 3 (ipykernel)",
   "language": "python",
   "name": "python3"
  },
  "language_info": {
   "codemirror_mode": {
    "name": "ipython",
    "version": 3
   },
   "file_extension": ".py",
   "mimetype": "text/x-python",
   "name": "python",
   "nbconvert_exporter": "python",
   "pygments_lexer": "ipython3",
   "version": "3.10.10"
  }
 },
 "nbformat": 4,
 "nbformat_minor": 4
}
