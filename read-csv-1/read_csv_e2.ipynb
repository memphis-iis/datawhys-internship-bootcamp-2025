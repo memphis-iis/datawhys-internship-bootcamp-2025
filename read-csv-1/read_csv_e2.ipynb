{
 "cells": [
  {
   "cell_type": "markdown",
   "id": "3debbd60",
   "metadata": {
    "deletable": false,
    "editable": false
   },
   "source": [
    "## Activity to read csv file (2)"
   ]
  },
  {
   "cell_type": "markdown",
   "id": "2e638870",
   "metadata": {
    "deletable": false,
    "editable": false
   },
   "source": [
    "Lets suppose we have this dataset named us_population.csv . The dataset contains the information on the population and the percent change in population in the US for each decade starting from the year 1910-202. We want to analyze the data in this dataset for further evaluation.\n",
    "\n",
    "Now, complete the following tasks.\n",
    "- Import the `pandas` library.\n",
    "- Read the `us_population.csv` dataset into a dataframe named `population`. \n",
    "- View the dataframe `population`.\n",
    "\n",
    "You can refer to the previous worked example notebook."
   ]
  },
  {
   "cell_type": "markdown",
   "id": "5fb9fa06",
   "metadata": {
    "deletable": false,
    "editable": false
   },
   "source": [
    "### Import Pandas Library"
   ]
  },
  {
   "cell_type": "markdown",
   "id": "99abf7d8",
   "metadata": {
    "deletable": false,
    "editable": false
   },
   "source": [
    "- Create variable &nbsp;`pd`\n",
    "- `import pandas as pd`"
   ]
  },
  {
   "cell_type": "markdown",
   "id": "8de8e104",
   "metadata": {
    "deletable": false,
    "editable": false
   },
   "source": [
    "<br>\n",
    "<details>\n",
    "    <summary>Blockly Hints (Click to expand)</summary>\n",
    "    <ul>\n",
    "        <li>Blocks\n",
    "            <ul>\n",
    "                <li><code>import .. as ..</code>\n",
    "                    <ul>\n",
    "                        <li>The <code>import .. as ..</code> block is found under IMPORT.</li> \n",
    "                        <li>A variable must have been created before it will appear in the dropdown.</li>\n",
    "                    </ul>\n",
    "                </li>\n",
    "            </ul>\n",
    "        </li>\n",
    "    </ul>\n",
    "</details>"
   ]
  },
  {
   "cell_type": "code",
   "execution_count": null,
   "id": "1df91425",
   "metadata": {
    "datawhys": {
     "response_id": 1,
     "student_response": true
    },
    "deletable": false,
    "editable": true
   },
   "outputs": [],
   "source": []
  },
  {
   "cell_type": "markdown",
   "id": "d041bbac",
   "metadata": {
    "deletable": false,
    "editable": false
   },
   "source": [
    "### Read the CSV data into a dataframe"
   ]
  },
  {
   "cell_type": "markdown",
   "id": "46e1b484",
   "metadata": {
    "deletable": false,
    "editable": false
   },
   "source": [
    "- Create variable `population`\n",
    "- `set population to` : `with pd do read_csv using `<-` \" datasets/us_population.csv \"`"
   ]
  },
  {
   "cell_type": "markdown",
   "id": "77970b1d",
   "metadata": {
    "deletable": false,
    "editable": false
   },
   "source": [
    "<br><details><summary>Blockly Hints (Click triangle to expand)</summary><ul><li>Notation<ul><li><code>A</code> &nbsp;:&nbsp; <code>B</code>&nbsp; means snap blocks A and B together.</li><li><code>A</code> &nbsp;&lt;-&nbsp; <code>B</code>&nbsp; means insert block B into the hole in block A.</li></ul></li><li>Blocks<ul><li><code>set .. to</code><ul><li>The <code>set .. to</code> block is found under VARIABLES.</li> <li>A variable must have been created before it will appear in the dropdown.</li></ul></li><li><code>with .. do .. using ..</code><ul><li>The <code>with .. do .. using ..</code> block is found under VARIABLES.</li> <li>If <code>do</code> dropdown says \"!Not populated until you execute code\", click anywhere in the notebook tab, then click try \"Run All Above Selected Cell\" from the \"Run\" menu.</li> <li>If <code>with .. do .. using ..</code> block does not want to snap together nicely with the <code>set .. to</code> block, try dragging the <code>set .. to</code> block instead.</li></ul></li><li><code>\" .. \"</code><ul><li>The <code>\" .. \"</code> block is found under TEXT.</li></ul></li></ul></li></ul></details>"
   ]
  },
  {
   "cell_type": "code",
   "execution_count": null,
   "id": "7f539ab2",
   "metadata": {
    "datawhys": {
     "response_id": 2,
     "student_response": true
    },
    "deletable": false,
    "editable": true
   },
   "outputs": [],
   "source": []
  },
  {
   "cell_type": "markdown",
   "id": "539b251a",
   "metadata": {
    "deletable": false,
    "editable": false
   },
   "source": [
    "### View the dataframe "
   ]
  },
  {
   "cell_type": "markdown",
   "id": "4473477b",
   "metadata": {
    "deletable": false,
    "editable": false
   },
   "source": [
    "- variable &nbsp;`population`"
   ]
  },
  {
   "cell_type": "markdown",
   "id": "ad8194c8",
   "metadata": {
    "deletable": false,
    "editable": false
   },
   "source": [
    "<br>\n",
    "<details>\n",
    "    <summary>Blockly Hints (Click on triangle to expand)</summary>\n",
    "    <ul>\n",
    "        <li>Blocks\n",
    "            <ul>\n",
    "                <li>variable\n",
    "                    <ul>\n",
    "                        <li>After it is created, each variable has its own block at the end of the VARIABLES menu.</li>\n",
    "                    </ul>\n",
    "                </li>\n",
    "            </ul>\n",
    "        </li>\n",
    "    </ul>\n",
    "</details>\n"
   ]
  },
  {
   "cell_type": "code",
   "execution_count": null,
   "id": "4cb74f63",
   "metadata": {
    "datawhys": {
     "response_id": 3,
     "student_response": true
    },
    "deletable": false,
    "editable": true
   },
   "outputs": [],
   "source": []
  },
  {
   "cell_type": "markdown",
   "id": "c4781185",
   "metadata": {
    "deletable": false,
    "editable": false
   },
   "source": [
    "## What are the column names of the dataframe `population`?\n"
   ]
  },
  {
   "cell_type": "code",
   "execution_count": null,
   "id": "97604757-fb36-4f19-b6d4-6264f37b7569",
   "metadata": {
    "datawhys": {
     "response_id": 4,
     "student_response": true
    },
    "deletable": false,
    "editable": true
   },
   "outputs": [],
   "source": []
  },
  {
   "cell_type": "markdown",
   "id": "69c2e791",
   "metadata": {
    "deletable": false,
    "editable": false
   },
   "source": [
    "## How many rows of data are present in dataframe `population`?\n"
   ]
  },
  {
   "cell_type": "code",
   "execution_count": null,
   "id": "757aa15b-24ae-44ae-b8d4-b2195695e248",
   "metadata": {
    "datawhys": {
     "response_id": 5,
     "student_response": true
    },
    "deletable": false,
    "editable": true
   },
   "outputs": [],
   "source": []
  }
 ],
 "metadata": {
  "kernelspec": {
   "display_name": "Python 3 (ipykernel)",
   "language": "python",
   "name": "python3"
  },
  "language_info": {
   "codemirror_mode": {
    "name": "ipython",
    "version": 3
   },
   "file_extension": ".py",
   "mimetype": "text/x-python",
   "name": "python",
   "nbconvert_exporter": "python",
   "pygments_lexer": "ipython3",
   "version": "3.12.6"
  }
 },
 "nbformat": 4,
 "nbformat_minor": 5
}
