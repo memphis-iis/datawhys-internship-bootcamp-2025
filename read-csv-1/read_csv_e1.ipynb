{
 "cells": [
  {
   "cell_type": "markdown",
   "id": "6a3c947d",
   "metadata": {
    "deletable": false,
    "editable": false
   },
   "source": [
    "## Activity to read csv file (1)"
   ]
  },
  {
   "cell_type": "markdown",
   "id": "934c75c2",
   "metadata": {
    "deletable": false,
    "editable": false
   },
   "source": [
    "Lets suppose we have this dataset named COVID-19.csv . We want to analyze the data in this dataset for further evaluation.\n",
    "\n",
    "Now, complete the following tasks.\n",
    "- Import the `pandas` library.\n",
    "- Read the `COVID-19.csv` dataset into a dataframe named `coviddata`. \n",
    "- View the dataframe `coviddata`.\n",
    "\n",
    "You can refer to the previous worked example notebook."
   ]
  },
  {
   "cell_type": "markdown",
   "id": "0d2f5d15",
   "metadata": {
    "deletable": false,
    "editable": false
   },
   "source": [
    "### Import Pandas Library"
   ]
  },
  {
   "cell_type": "markdown",
   "id": "fcd385cc",
   "metadata": {
    "deletable": false,
    "editable": false
   },
   "source": [
    "- Create variable `pd`\n",
    "- `import pandas as pd`"
   ]
  },
  {
   "cell_type": "markdown",
   "id": "68714abd",
   "metadata": {
    "deletable": false,
    "editable": false
   },
   "source": [
    "<br>\n",
    "<details>\n",
    "    <summary>Blockly Hints (Click to expand)</summary>\n",
    "    <ul>\n",
    "        <li>Blocks\n",
    "            <ul>\n",
    "                <li><code>import pandas as pd</code>\n",
    "                    <ul>\n",
    "                        <li>The <code>import .. as ..</code> block is found under IMPORT.</li> \n",
    "                        <li>Variable <code>pd</code> must be created before it will appear in the dropdown.</li>\n",
    "                    </ul>\n",
    "                </li>\n",
    "            </ul>\n",
    "        </li>\n",
    "    </ul>\n",
    "</details>"
   ]
  },
  {
   "cell_type": "code",
   "execution_count": null,
   "id": "27207d2f",
   "metadata": {
    "datawhys": {
     "response_id": 1,
     "student_response": true
    },
    "deletable": false,
    "editable": true
   },
   "outputs": [],
   "source": []
  },
  {
   "cell_type": "markdown",
   "id": "7ab5cdad",
   "metadata": {
    "deletable": false,
    "editable": false
   },
   "source": [
    "### Read the CSV data into a dataframe"
   ]
  },
  {
   "cell_type": "markdown",
   "id": "e4a4412e",
   "metadata": {
    "deletable": false,
    "editable": false
   },
   "source": [
    "- Create variable &nbsp;`coviddata`\n",
    "- `set coviddata to` &nbsp;:&nbsp; `with pd do read_csv using` &nbsp;<-&nbsp; `\" datasets/covid19_data.csv \"`"
   ]
  },
  {
   "cell_type": "markdown",
   "id": "e4d3e238",
   "metadata": {
    "deletable": false,
    "editable": false
   },
   "source": [
    "<br><details><summary>Blockly Hints (Click triangle to expand)</summary><ul><li>Notation<ul><li><code>A</code> &nbsp;:&nbsp; <code>B</code>&nbsp; means snap blocks A and B together.</li><li><code>A</code> &nbsp;&lt;-&nbsp; <code>B</code>&nbsp; means insert block B into the hole in block A.</li></ul></li><li>Blocks<ul><li><code>set .. to</code><ul><li>The <code>set .. to</code> block is found under VARIABLES.</li> <li>A variable must have been created before it will appear in the dropdown.</li></ul></li><li><code>with .. do .. using ..</code><ul><li>The <code>with .. do .. using ..</code> block is found under VARIABLES.</li> <li>If <code>do</code> dropdown says \"!Not populated until you execute code\", click anywhere in the notebook tab, then click try \"Run All Above Selected Cell\" from the \"Run\" menu.</li> <li>If <code>with .. do .. using ..</code> block does not want to snap together nicely with the <code>set .. to</code> block, try dragging the <code>set .. to</code> block instead.</li></ul></li><li><code>\" .. \"</code><ul><li>The <code>\" .. \"</code> block is found under TEXT.</li></ul></li></ul></li></ul></details>"
   ]
  },
  {
   "cell_type": "code",
   "execution_count": null,
   "id": "823ec47f",
   "metadata": {
    "datawhys": {
     "response_id": 2,
     "student_response": true
    },
    "deletable": false,
    "editable": true
   },
   "outputs": [],
   "source": []
  },
  {
   "cell_type": "markdown",
   "id": "23a16006",
   "metadata": {
    "deletable": false,
    "editable": false
   },
   "source": [
    "### View the dataframe "
   ]
  },
  {
   "cell_type": "markdown",
   "id": "ee117b1a",
   "metadata": {
    "deletable": false,
    "editable": false
   },
   "source": [
    "- variable &nbsp;`coviddata`"
   ]
  },
  {
   "cell_type": "markdown",
   "id": "89164a45",
   "metadata": {
    "deletable": false,
    "editable": false
   },
   "source": [
    "<br>\n",
    "<details>\n",
    "    <summary>Blockly Hints (Click on triangle to expand)</summary>\n",
    "    <ul>\n",
    "        <li>Blocks\n",
    "            <ul>\n",
    "                <li>variable\n",
    "                    <ul>\n",
    "                        <li>After it is created, each variable has its own block at the end of the VARIABLES menu.</li>\n",
    "                    </ul>\n",
    "                </li>\n",
    "            </ul>\n",
    "        </li>\n",
    "    </ul>\n",
    "</details>\n"
   ]
  },
  {
   "cell_type": "code",
   "execution_count": null,
   "id": "96cf93dc",
   "metadata": {
    "datawhys": {
     "response_id": 3,
     "student_response": true
    },
    "deletable": false,
    "editable": true
   },
   "outputs": [],
   "source": []
  },
  {
   "cell_type": "code",
   "execution_count": null,
   "id": "48457dd9-8750-48d7-baf5-4221cdceb93e",
   "metadata": {
    "deletable": false,
    "editable": false
   },
   "outputs": [],
   "source": []
  }
 ],
 "metadata": {
  "kernelspec": {
   "display_name": "Python 3 (ipykernel)",
   "language": "python",
   "name": "python3"
  },
  "language_info": {
   "codemirror_mode": {
    "name": "ipython",
    "version": 3
   },
   "file_extension": ".py",
   "mimetype": "text/x-python",
   "name": "python",
   "nbconvert_exporter": "python",
   "pygments_lexer": "ipython3",
   "version": "3.12.6"
  }
 },
 "nbformat": 4,
 "nbformat_minor": 5
}
