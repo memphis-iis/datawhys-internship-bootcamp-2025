{
 "cells": [
  {
   "cell_type": "markdown",
   "id": "d1b23f0e",
   "metadata": {
    "deletable": false,
    "editable": false
   },
   "source": [
    "# User Activity 2 (Filtering 1)"
   ]
  },
  {
   "cell_type": "markdown",
   "id": "e5c4bd3d",
   "metadata": {
    "deletable": false,
    "editable": false
   },
   "source": [
    "## Question: Given a dataset about childern's nursuries, find the best nurseries suitable for a child"
   ]
  },
  {
   "cell_type": "markdown",
   "id": "3080d57f",
   "metadata": {
    "deletable": false,
    "editable": false
   },
   "source": [
    "We have this dataset named `nursery.csv` which has information about the quality of children's nurseries. We want to analyze this dataset to find the best nursery that is suitable for a child.\n",
    "\n",
    "**Dataset location:** datasets/nursery.csv"
   ]
  },
  {
   "cell_type": "markdown",
   "id": "18bd92d7",
   "metadata": {
    "deletable": false,
    "editable": false
   },
   "source": [
    "<span><h3>\n",
    " Step 1: Read CSV Data into Pandas Dataframe",
    "\n</h3></span>"
   ]
  },
  {
   "cell_type": "markdown",
   "id": "88629f38",
   "metadata": {
    "deletable": false,
    "editable": false
   },
   "source": [
    "#### Import Pandas Library"
   ]
  },
  {
   "cell_type": "markdown",
   "id": "fa1f4ef9",
   "metadata": {
    "deletable": false,
    "editable": false
   },
   "source": [
    "- Create variable &nbsp;`pd`\n",
    "- `import pandas as pd`"
   ]
  },
  {
   "cell_type": "markdown",
   "id": "26e75e04",
   "metadata": {
    "deletable": false,
    "editable": false
   },
   "source": [
    "<br>\n",
    "<details>\n",
    "    <summary>Blockly Hints (Click to expand)</summary>\n",
    "    <ul>\n",
    "        <li>Blocks\n",
    "            <ul>\n",
    "                <li><code>import .. as ..</code>\n",
    "                    <ul>\n",
    "                        <li>The <code>import .. as ..</code> block is found under IMPORT.</li> \n",
    "                        <li>A variable must have been created before it will appear in the dropdown.</li>\n",
    "                    </ul>\n",
    "                </li>\n",
    "            </ul>\n",
    "        </li>\n",
    "    </ul>\n",
    "</details>"
   ]
  },
  {
   "cell_type": "code",
   "execution_count": null,
   "id": "881fe11b",
   "metadata": {
    "datawhys": {
     "response_id": 1,
     "student_response": true
    },
    "deletable": false,
    "editable": true
   },
   "outputs": [],
   "source": []
  },
  {
   "cell_type": "markdown",
   "id": "b9065f72",
   "metadata": {
    "deletable": false,
    "editable": false
   },
   "source": [
    "#### Read CSV data and Save in Variable"
   ]
  },
  {
   "cell_type": "markdown",
   "id": "a5bdb4ff",
   "metadata": {
    "deletable": false,
    "editable": false
   },
   "source": [
    "- Create variable &nbsp;`nursery_data`\n",
    "- `set nursery_data to` &nbsp;:&nbsp; `with pd do read_csv using` &nbsp;<-&nbsp; `\" datasets/nursery.csv \"`"
   ]
  },
  {
   "cell_type": "markdown",
   "id": "4cf37a89",
   "metadata": {
    "deletable": false,
    "editable": false
   },
   "source": [
    "<br><details><summary>Blockly Hints (Click triangle to expand)</summary><ul><li>Notation<ul><li><code>A</code> &nbsp;:&nbsp; <code>B</code>&nbsp; means snap blocks A and B together.</li><li><code>A</code> &nbsp;&lt;-&nbsp; <code>B</code>&nbsp; means insert block B into the hole in block A.</li></ul></li><li>Blocks<ul><li><code>set .. to</code><ul><li>The <code>set .. to</code> block is found under VARIABLES.</li> <li>A variable must have been created before it will appear in the dropdown.</li></ul></li><li><code>with .. do .. using ..</code><ul><li>The <code>with .. do .. using ..</code> block is found under VARIABLES.</li> <li>If <code>do</code> dropdown says \"!Not populated until you execute code\", click anywhere in the notebook tab, then click try \"Run All Above Selected Cell\" from the \"Run\" menu.</li> <li>If <code>with .. do .. using ..</code> block does not want to snap together nicely with the <code>set .. to</code> block, try dragging the <code>set .. to</code> block instead.</li></ul></li><li><code>\" .. \"</code><ul><li>The <code>\" .. \"</code> block is found under TEXT.</li></ul></li></ul></li></ul></details>"
   ]
  },
  {
   "cell_type": "code",
   "execution_count": null,
   "id": "9db73308",
   "metadata": {
    "datawhys": {
     "response_id": 2,
     "student_response": true
    },
    "deletable": false,
    "editable": true
   },
   "outputs": [],
   "source": []
  },
  {
   "cell_type": "markdown",
   "id": "bda84c1f",
   "metadata": {
    "deletable": false,
    "editable": false
   },
   "source": [
    "#### Display nursery_data (dataframe content)"
   ]
  },
  {
   "cell_type": "markdown",
   "id": "18c7bb4d",
   "metadata": {
    "deletable": false,
    "editable": false
   },
   "source": [
    "- variable &nbsp;`nursery_data`"
   ]
  },
  {
   "cell_type": "markdown",
   "id": "e19ff411",
   "metadata": {
    "deletable": false,
    "editable": false
   },
   "source": [
    "<br>\n",
    "<details>\n",
    "    <summary>Blockly Hints (Click on triangle to expand)</summary>\n",
    "    <ul>\n",
    "        <li>Blocks\n",
    "            <ul>\n",
    "                <li>variable\n",
    "                    <ul>\n",
    "                        <li>After it is created, each variable has its own block at the end of the VARIABLES menu.</li>\n",
    "                    </ul>\n",
    "                </li>\n",
    "            </ul>\n",
    "        </li>\n",
    "    </ul>\n",
    "</details>\n"
   ]
  },
  {
   "cell_type": "code",
   "execution_count": null,
   "id": "0c944c64",
   "metadata": {
    "datawhys": {
     "response_id": 3,
     "student_response": true
    },
    "deletable": false,
    "editable": true
   },
   "outputs": [],
   "source": []
  },
  {
   "cell_type": "markdown",
   "id": "1a633f19",
   "metadata": {
    "deletable": false,
    "editable": false
   },
   "source": [
    "<span><h3>\n",
    " Step 2: Find the suitable nurseries",
    "\n</h3></span>"
   ]
  },
  {
   "cell_type": "markdown",
   "id": "bb26eeac",
   "metadata": {
    "deletable": false,
    "editable": false
   },
   "source": [
    "#### Get features (column names) of the dataframe"
   ]
  },
  {
   "cell_type": "markdown",
   "id": "5cecf3f2",
   "metadata": {
    "deletable": false,
    "editable": false
   },
   "source": [
    "- variable &nbsp;`from nursery_data get columns`"
   ]
  },
  {
   "cell_type": "markdown",
   "id": "83d38ffb",
   "metadata": {
    "deletable": false,
    "editable": false
   },
   "source": [
    "<details>\n",
    "<summary> Blockly Instructions(click triangle to expand) </summary>\n",
    "<br>\n",
    "                       \n",
    "- `from.. get..` block can be found in VARIABLES menu of Blockly palette.\n",
    "- A variable must have been created before it will appear in the dropdown.\n",
    "- If dropdown says \"!Not populated until you execute code\", click anywhere in the notebook tab, then click try \"Run All Above Selected Cell\" from the \"Run\" menu.\n",
    "\n",
    "</details>"
   ]
  },
  {
   "cell_type": "code",
   "execution_count": null,
   "id": "e297af90",
   "metadata": {
    "datawhys": {
     "response_id": 4,
     "student_response": true
    },
    "deletable": false,
    "editable": true
   },
   "outputs": [],
   "source": []
  },
  {
   "cell_type": "markdown",
   "id": "be78546c",
   "metadata": {
    "deletable": false,
    "editable": false
   },
   "source": [
    "#### Find the `convenient` nursuries based on `finance` feature"
   ]
  },
  {
   "cell_type": "markdown",
   "id": "784917e8",
   "metadata": {
    "deletable": false,
    "editable": false
   },
   "source": [
    "Lets look at the columns. From these features, first, we want to look at the nurseries which are affordable. So, we look at the `finance` column and find the ones which are `convenient`."
   ]
  },
  {
   "cell_type": "markdown",
   "id": "0fa87284",
   "metadata": {
    "deletable": false,
    "editable": false
   },
   "source": [
    "- create variable `convenient_places`\n",
    "- `Set convenient_places to` &nbsp;:&nbsp; `nursery_data [ .. ]` &nbsp;<-&nbsp; ` .. = .. ` &nbsp;<-\n",
    "  - `from nursery_data get finance`\n",
    "  - `convenient`\n",
    "- Will look like - `Set convenient_places to nursery_data [ from nursery_data get finance = convenient]`"
   ]
  },
  {
   "cell_type": "markdown",
   "id": "37d5c1fe",
   "metadata": {
    "deletable": false,
    "editable": false
   },
   "source": [
    "<br>\n",
    "<details>\n",
    "  <summary>Blockly Hints (Click on the triangle to expand)</summary>\n",
    "  <ul>\n",
    "    <li>Notation\n",
    "      <ul>\n",
    "        <li><code>A</code> &nbsp;:&nbsp; <code>B</code>&nbsp; means snap blocks A and B together.</li>\n",
    "        <li><code>A</code> &nbsp;&lt;-&nbsp;<code>B</code>&nbsp; means insert block B into the hole in block A.</li>\n",
    "      </ul>\n",
    "    </li>\n",
    "    <li>Blocks\n",
    "      <ul>\n",
    "        <li><code>set .. to</code>\n",
    "          <ul>\n",
    "            <li>The <code>set .. to</code> block is found under VARIABLES.</li>\n",
    "            <li>A variable must have been created before it will appear in the dropdown.</li>\n",
    "          </ul>\n",
    "        </li>\n",
    "        <li><code>{dictVariable} [ .. ]</code>\n",
    "          <ul>\n",
    "            <li>The <code>{dictVariable} [ .. ]</code> block is found under LISTS.</li>\n",
    "          </ul>\n",
    "        </li>\n",
    "        <li><code> .. = .. </code>\n",
    "          <ul>\n",
    "            <li>The <code> .. = .. </code> block is found under LOGIC.</li>\n",
    "            <li>Use the dropdown to get other comparison operators.</li>\n",
    "          </ul>\n",
    "        </li>\n",
    "        <li><code>from .. get ..</code>\n",
    "          <ul>\n",
    "            <li>The <code>from .. get ..</code> block is found under VARIABLES.</li>\n",
    "          </ul>\n",
    "        </li>\n",
    "      </ul>\n",
    "    </li>\n",
    "  </ul>\n",
    "</details>"
   ]
  },
  {
   "cell_type": "code",
   "execution_count": null,
   "id": "288dea54",
   "metadata": {
    "datawhys": {
     "response_id": 5,
     "student_response": true
    },
    "deletable": false,
    "editable": true
   },
   "outputs": [],
   "source": []
  },
  {
   "cell_type": "markdown",
   "id": "1de1f260",
   "metadata": {
    "deletable": false,
    "editable": false
   },
   "source": [
    "Now we want to display our variable in which we stored the convenient nursuries."
   ]
  },
  {
   "cell_type": "markdown",
   "id": "b89ce93b",
   "metadata": {
    "deletable": false,
    "editable": false
   },
   "source": [
    "- variable &nbsp;`convenient_places`"
   ]
  },
  {
   "cell_type": "markdown",
   "id": "b2c83427",
   "metadata": {
    "deletable": false,
    "editable": false
   },
   "source": [
    "<details>\n",
    "    <summary>Blockly Hints (Click on triangle to expand)</summary>\n",
    "    <ul>\n",
    "        <li>Blocks\n",
    "            <ul>\n",
    "                <li>variable\n",
    "                    <ul>\n",
    "                        <li>After it is created, each variable has its own block at the end of the VARIABLES menu.</li>\n",
    "                    </ul>\n",
    "                </li>\n",
    "            </ul>\n",
    "        </li>\n",
    "    </ul>\n",
    "</details>"
   ]
  },
  {
   "cell_type": "code",
   "execution_count": null,
   "id": "53207dca",
   "metadata": {
    "datawhys": {
     "response_id": 6,
     "student_response": true
    },
    "deletable": false,
    "editable": true
   },
   "outputs": [],
   "source": []
  },
  {
   "cell_type": "markdown",
   "id": "f6b5a643",
   "metadata": {
    "deletable": false,
    "editable": false
   },
   "source": [
    "#### Remove the `not_recom` nursuries based on `ranking` feature"
   ]
  },
  {
   "cell_type": "markdown",
   "id": "8876e499",
   "metadata": {
    "deletable": false,
    "editable": false
   },
   "source": [
    "Now we are concerned about the rank of the nurseries. We don't want the ones which are not recommended. So, we look into `ranking` column and filter out the not recommended `not_recom` ones from our list."
   ]
  },
  {
   "cell_type": "markdown",
   "id": "0f3af587",
   "metadata": {
    "deletable": false,
    "editable": false
   },
   "source": [
    "- create variable `ranked`\n",
    "- `Set ranked to` &nbsp;:&nbsp; `convenient_places [ .. ]` &nbsp;<-&nbsp; ` .. = .. ` &nbsp;<-\n",
    "  - `from convenient_places get ranking`\n",
    "  - `\"not_recom\"`\n",
    "- Will look like - `Set ranked to convenient_places [ from convenient_places get ranking ≠ \"not_recom\"]`"
   ]
  },
  {
   "cell_type": "markdown",
   "id": "b7e9ce74",
   "metadata": {
    "deletable": false,
    "editable": false
   },
   "source": [
    "<br>\n",
    "<details>\n",
    "  <summary>Blockly Hints (Click on the triangle to expand)</summary>\n",
    "  <ul>\n",
    "    <li>Notation\n",
    "      <ul>\n",
    "        <li><code>A</code> &nbsp;:&nbsp; <code>B</code>&nbsp; means snap blocks A and B together.</li>\n",
    "        <li><code>A</code>&nbsp;&lt;-&nbsp; <code>B</code>&nbsp; means insert block B into the hole in block A.</li>\n",
    "      </ul>\n",
    "    </li>\n",
    "    <li>Blocks\n",
    "      <ul>\n",
    "        <li><code>set .. to</code>\n",
    "          <ul>\n",
    "            <li>The <code>set .. to</code> block is found under VARIABLES.</li>\n",
    "            <li>A variable must have been created before it will appear in the dropdown.</li>\n",
    "          </ul>\n",
    "        </li>\n",
    "        <li><code>{dictVariable} [ .. ]</code>\n",
    "          <ul>\n",
    "            <li>The <code>{dictVariable} [ .. ]</code> block is found under LISTS.</li>\n",
    "          </ul>\n",
    "        </li>\n",
    "        <li><code> .. = .. </code>\n",
    "          <ul>\n",
    "            <li>The <code> .. = .. </code> block is found under LOGIC.</li>\n",
    "            <li>Use the dropdown to get `≠` comparison operators.</li>\n",
    "          </ul>\n",
    "        </li>\n",
    "        <li><code>from .. get ..</code>\n",
    "          <ul>\n",
    "            <li>The <code>from .. get ..</code> block is found under VARIABLES.</li>\n",
    "          </ul>\n",
    "        </li>\n",
    "      </ul>\n",
    "    </li>\n",
    "  </ul>\n",
    "</details>"
   ]
  },
  {
   "cell_type": "code",
   "execution_count": null,
   "id": "045d234c",
   "metadata": {
    "datawhys": {
     "response_id": 7,
     "student_response": true
    },
    "deletable": false,
    "editable": true
   },
   "outputs": [],
   "source": []
  },
  {
   "cell_type": "markdown",
   "id": "6a8208de",
   "metadata": {
    "deletable": false,
    "editable": false
   },
   "source": [
    "Now we want to display our `ranked` variable in which we stored the desired nurseries."
   ]
  },
  {
   "cell_type": "markdown",
   "id": "ea3ebf6f",
   "metadata": {
    "deletable": false,
    "editable": false
   },
   "source": [
    "- variable &nbsp;`ranked`"
   ]
  },
  {
   "cell_type": "markdown",
   "id": "c66eee58",
   "metadata": {
    "deletable": false,
    "editable": false
   },
   "source": [
    "<br>\n",
    "<details>\n",
    "    <summary>Blockly Hints (Click on triangle to expand)</summary>\n",
    "    <ul>\n",
    "        <li>Blocks\n",
    "            <ul>\n",
    "                <li>variable\n",
    "                    <ul>\n",
    "                        <li>After it is created, each variable has its own block at the end of the VARIABLES menu.</li>\n",
    "                    </ul>\n",
    "                </li>\n",
    "            </ul>\n",
    "        </li>\n",
    "    </ul>\n",
    "</details>"
   ]
  },
  {
   "cell_type": "code",
   "execution_count": null,
   "id": "eb48e6ba",
   "metadata": {
    "datawhys": {
     "response_id": 8,
     "student_response": true
    },
    "deletable": false,
    "editable": true
   },
   "outputs": [],
   "source": []
  },
  {
   "cell_type": "markdown",
   "id": "4a5a0855",
   "metadata": {
    "deletable": false,
    "editable": false
   },
   "source": [
    "#### Remove the `critical` nursuries based on `housing` feature"
   ]
  },
  {
   "cell_type": "markdown",
   "id": "04d07a12",
   "metadata": {
    "deletable": false,
    "editable": false
   },
   "source": [
    "Now, from our new list, we want nurseries with good housing qualities. But, there are some nurseries in `critical` condition, so we need to look into `housing` column and remove those `critical` nurseries from our list."
   ]
  },
  {
   "cell_type": "markdown",
   "id": "92924fd8",
   "metadata": {
    "deletable": false,
    "editable": false
   },
   "source": [
    "- create variable `good_housing`\n",
    "- `Set good_housing to` &nbsp;:&nbsp; `ranked [ .. ]` &nbsp;<-&nbsp; ` .. = .. ` &nbsp;<-\n",
    "  - `from ranked get housing`\n",
    "  - `\"critical\"`\n",
    "- Will look like - `Set good_housing to ranked [ from ranked get housing ≠ \"critical\"]`"
   ]
  },
  {
   "cell_type": "markdown",
   "id": "f2bf0f38",
   "metadata": {
    "deletable": false,
    "editable": false
   },
   "source": [
    "<br>\n",
    "<details>\n",
    "  <summary>Blockly Hints (Click on the triangle to expand)</summary>\n",
    "  <ul>\n",
    "    <li>Notation\n",
    "      <ul>\n",
    "        <li><code>A</code> &nbsp;:&nbsp; <code>B</code>&nbsp; means snap blocks A and B together.</li>\n",
    "        <li><code>A</code>&nbsp;&lt;-&nbsp; <code>B</code>&nbsp; means insert block B into the hole in block A.</li>\n",
    "      </ul>\n",
    "    </li>\n",
    "    <li>Blocks\n",
    "      <ul>\n",
    "        <li><code>set .. to</code>\n",
    "          <ul>\n",
    "            <li>The <code>set .. to</code> block is found under VARIABLES.</li>\n",
    "            <li>A variable must have been created before it will appear in the dropdown.</li>\n",
    "          </ul>\n",
    "        </li>\n",
    "        <li><code>{dictVariable} [ .. ]</code>\n",
    "          <ul>\n",
    "            <li>The <code>{dictVariable} [ .. ]</code> block is found under LISTS.</li>\n",
    "          </ul>\n",
    "        </li>\n",
    "        <li><code> .. = .. </code>\n",
    "          <ul>\n",
    "            <li>The <code> .. = .. </code> block is found under LOGIC.</li>\n",
    "            <li>Use the dropdown to get `≠` comparison operators.</li>\n",
    "          </ul>\n",
    "        </li>\n",
    "        <li><code>from .. get ..</code>\n",
    "          <ul>\n",
    "            <li>The <code>from .. get ..</code> block is found under VARIABLES.</li>\n",
    "          </ul>\n",
    "        </li>\n",
    "      </ul>\n",
    "    </li>\n",
    "  </ul>\n",
    "</details>"
   ]
  },
  {
   "cell_type": "code",
   "execution_count": null,
   "id": "16352ed8",
   "metadata": {
    "datawhys": {
     "response_id": 9,
     "student_response": true
    },
    "deletable": false,
    "editable": true
   },
   "outputs": [],
   "source": []
  },
  {
   "cell_type": "markdown",
   "id": "516c53ec",
   "metadata": {
    "deletable": false,
    "editable": false
   },
   "source": [
    "Now we want to display our `good_housing` variable in which we stored the desired nurseries."
   ]
  },
  {
   "cell_type": "markdown",
   "id": "a35f8d65",
   "metadata": {
    "deletable": false,
    "editable": false
   },
   "source": [
    "- variable &nbsp;`good_housing`"
   ]
  },
  {
   "cell_type": "markdown",
   "id": "68720b6a",
   "metadata": {
    "deletable": false,
    "editable": false
   },
   "source": [
    "<details>\n",
    "    <summary>Blockly Hints (Click on triangle to expand)</summary>\n",
    "    <ul>\n",
    "        <li>Blocks\n",
    "            <ul>\n",
    "                <li>variable\n",
    "                    <ul>\n",
    "                        <li>After it is created, each variable has its own block at the end of the VARIABLES menu.</li>\n",
    "                    </ul>\n",
    "                </li>\n",
    "            </ul>\n",
    "        </li>\n",
    "    </ul>\n",
    "</details>"
   ]
  },
  {
   "cell_type": "code",
   "execution_count": null,
   "id": "d1bd91c0",
   "metadata": {
    "datawhys": {
     "response_id": 10,
     "student_response": true
    },
    "deletable": false,
    "editable": true
   },
   "outputs": [],
   "source": []
  },
  {
   "cell_type": "markdown",
   "id": "01d3ca90",
   "metadata": {
    "deletable": false,
    "editable": false
   },
   "source": [
    "#### Find the `proper` care nursuries based on `has_nurs` feature"
   ]
  },
  {
   "cell_type": "markdown",
   "id": "2e048975",
   "metadata": {
    "deletable": false,
    "editable": false
   },
   "source": [
    "For our next step, choose the nurseries which have adequate nurses in them to ensure `proper` care. We will look into `has_nurs` column to find the nurseries with `proper` care.\n"
   ]
  },
  {
   "cell_type": "markdown",
   "id": "b4efcdc0",
   "metadata": {
    "deletable": false,
    "editable": false
   },
   "source": [
    "- create variable `proper_nurse`\n",
    "- `Set proper_nurse to` &nbsp;:&nbsp; `good_housing [ .. ]` &nbsp;<-&nbsp; ` .. = .. ` &nbsp;<-\n",
    "  - `from good_housing get has_nurs`\n",
    "  - `\"proper\"`\n",
    "- Will look like - `Set proper_nurse to good_housing [ from good_housing get has_nurs = \"proper\"]`"
   ]
  },
  {
   "cell_type": "markdown",
   "id": "1f1f47b6",
   "metadata": {
    "deletable": false,
    "editable": false
   },
   "source": [
    "<br>\n",
    "<details>\n",
    "  <summary>Blockly Hints (Click on the triangle to expand)</summary>\n",
    "  <ul>\n",
    "    <li>Notation\n",
    "      <ul>\n",
    "        <li><code>A</code> &nbsp;:&nbsp; <code>B</code>&nbsp; means snap blocks A and B together.</li>\n",
    "        <li><code>A</code>&nbsp;&lt;-&nbsp; <code>B</code>&nbsp; means insert block B into the hole in block A.</li>\n",
    "      </ul>\n",
    "    </li>\n",
    "    <li>Blocks\n",
    "      <ul>\n",
    "        <li><code>set .. to</code>\n",
    "          <ul>\n",
    "            <li>The <code>set .. to</code> block is found under VARIABLES.</li>\n",
    "            <li>A variable must have been created before it will appear in the dropdown.</li>\n",
    "          </ul>\n",
    "        </li>\n",
    "        <li><code>{dictVariable} [ .. ]</code>\n",
    "          <ul>\n",
    "            <li>The <code>{dictVariable} [ .. ]</code> block is found under LISTS.</li>\n",
    "          </ul>\n",
    "        </li>\n",
    "        <li><code> .. = .. </code>\n",
    "          <ul>\n",
    "            <li>The <code> .. = .. </code> block is found under LOGIC.</li>\n",
    "            <li>Use the dropdown to get other comparison operators.</li>\n",
    "          </ul>\n",
    "        </li>\n",
    "        <li><code>from .. get ..</code>\n",
    "          <ul>\n",
    "            <li>The <code>from .. get ..</code> block is found under VARIABLES.</li>\n",
    "          </ul>\n",
    "        </li>\n",
    "      </ul>\n",
    "    </li>\n",
    "  </ul>\n",
    "</details>"
   ]
  },
  {
   "cell_type": "code",
   "execution_count": null,
   "id": "1820977e",
   "metadata": {
    "datawhys": {
     "response_id": 11,
     "student_response": true
    },
    "deletable": false,
    "editable": true
   },
   "outputs": [],
   "source": []
  },
  {
   "cell_type": "markdown",
   "id": "017be7c7",
   "metadata": {
    "deletable": false,
    "editable": false
   },
   "source": [
    "Now we want to display our `proper_nurse` variable in which we stored the desired nurseries."
   ]
  },
  {
   "cell_type": "markdown",
   "id": "3d967495",
   "metadata": {
    "deletable": false,
    "editable": false
   },
   "source": [
    "- variable &nbsp;`proper_nurse`"
   ]
  },
  {
   "cell_type": "markdown",
   "id": "7f3fe4e4",
   "metadata": {
    "deletable": false,
    "editable": false
   },
   "source": [
    "<details>\n",
    "    <summary>Blockly Hints (Click on triangle to expand)</summary>\n",
    "    <ul>\n",
    "        <li>Blocks\n",
    "            <ul>\n",
    "                <li>variable\n",
    "                    <ul>\n",
    "                        <li>After it is created, each variable has its own block at the end of the VARIABLES menu.</li>\n",
    "                    </ul>\n",
    "                </li>\n",
    "            </ul>\n",
    "        </li>\n",
    "    </ul>\n",
    "</details>"
   ]
  },
  {
   "cell_type": "code",
   "execution_count": null,
   "id": "b29f9028",
   "metadata": {
    "datawhys": {
     "response_id": 12,
     "student_response": true
    },
    "deletable": false,
    "editable": true
   },
   "outputs": [],
   "source": []
  },
  {
   "cell_type": "markdown",
   "id": "2eba4c36",
   "metadata": {
    "deletable": false,
    "editable": false
   },
   "source": [
    "#### Find the nursuries where there are `more` children based on `children` feature"
   ]
  },
  {
   "cell_type": "markdown",
   "id": "eefe7d2f",
   "metadata": {
    "deletable": false,
    "editable": false
   },
   "source": [
    "Now, our final criteria is we want a nursery where there are more children which will help a child to get better at communication and also learn to share with each other. So, we will look into `children` cloumn and filter the nurseries which have `more` children."
   ]
  },
  {
   "cell_type": "markdown",
   "id": "ac17dc2e",
   "metadata": {
    "deletable": false,
    "editable": false
   },
   "source": [
    "- create variable `more_children`\n",
    "- `Set more_children to` &nbsp;:&nbsp; `proper_nurse [ .. ]` &nbsp;<-&nbsp; ` .. = .. ` &nbsp;<-\n",
    "  - `from proper_nurse get children`\n",
    "  - `\"more\"`\n",
    "- Will look like - `Set more_children to proper_nurse [ from proper_nurse get children = \"more\"]`"
   ]
  },
  {
   "cell_type": "markdown",
   "id": "3e9edeec",
   "metadata": {
    "deletable": false,
    "editable": false
   },
   "source": [
    "<br>\n",
    "<details>\n",
    "  <summary>Blockly Hints (Click on the triangle to expand)</summary>\n",
    "  <ul>\n",
    "    <li>Notation\n",
    "      <ul>\n",
    "        <li><code>A</code> &nbsp;:&nbsp; <code>B</code>&nbsp; means snap blocks A and B together.</li>\n",
    "        <li><code>A</code>&nbsp;&lt;-&nbsp; <code>B</code>&nbsp; means insert block B into the hole in block A.</li>\n",
    "      </ul>\n",
    "    </li>\n",
    "    <li>Blocks\n",
    "      <ul>\n",
    "        <li><code>set .. to</code>\n",
    "          <ul>\n",
    "            <li>The <code>set .. to</code> block is found under VARIABLES.</li>\n",
    "            <li>A variable must have been created before it will appear in the dropdown.</li>\n",
    "          </ul>\n",
    "        </li>\n",
    "        <li><code>{dictVariable} [ .. ]</code>\n",
    "          <ul>\n",
    "            <li>The <code>{dictVariable} [ .. ]</code> block is found under LISTS.</li>\n",
    "          </ul>\n",
    "        </li>\n",
    "        <li><code> .. = .. </code>\n",
    "          <ul>\n",
    "            <li>The <code> .. = .. </code> block is found under LOGIC.</li>\n",
    "            <li>Use the dropdown to get other comparison operators.</li>\n",
    "          </ul>\n",
    "        </li>\n",
    "        <li><code>from .. get ..</code>\n",
    "          <ul>\n",
    "            <li>The <code>from .. get ..</code> block is found under VARIABLES.</li>\n",
    "          </ul>\n",
    "        </li>\n",
    "      </ul>\n",
    "    </li>\n",
    "  </ul>\n",
    "</details>"
   ]
  },
  {
   "cell_type": "code",
   "execution_count": null,
   "id": "06d01351",
   "metadata": {
    "datawhys": {
     "response_id": 13,
     "student_response": true
    },
    "deletable": false,
    "editable": true
   },
   "outputs": [],
   "source": []
  },
  {
   "cell_type": "markdown",
   "id": "7f1119cc",
   "metadata": {
    "deletable": false,
    "editable": false
   },
   "source": [
    "Now we want to display our `more_children` variable in which we stored the desired nurseries."
   ]
  },
  {
   "cell_type": "markdown",
   "id": "c63d08e9",
   "metadata": {
    "deletable": false,
    "editable": false
   },
   "source": [
    "- variable &nbsp;`more_children`"
   ]
  },
  {
   "cell_type": "markdown",
   "id": "936b3b7c",
   "metadata": {
    "deletable": false,
    "editable": false
   },
   "source": [
    "<details>\n",
    "    <summary>Blockly Hints (Click on triangle to expand)</summary>\n",
    "    <ul>\n",
    "        <li>Blocks\n",
    "            <ul>\n",
    "                <li>variable\n",
    "                    <ul>\n",
    "                        <li>After it is created, each variable has its own block at the end of the VARIABLES menu.</li>\n",
    "                    </ul>\n",
    "                </li>\n",
    "            </ul>\n",
    "        </li>\n",
    "    </ul>\n",
    "</details>"
   ]
  },
  {
   "cell_type": "code",
   "execution_count": null,
   "id": "25655468",
   "metadata": {
    "datawhys": {
     "response_id": 14,
     "student_response": true
    },
    "deletable": false,
    "editable": true
   },
   "outputs": [],
   "source": []
  },
  {
   "cell_type": "markdown",
   "id": "0a34b0a1",
   "metadata": {
    "deletable": false,
    "editable": false
   },
   "source": [
    "### Get the final output row counts"
   ]
  },
  {
   "cell_type": "markdown",
   "id": "b2af93b5",
   "metadata": {
    "deletable": false,
    "editable": false
   },
   "source": [
    "We have filtered the nurseries based on our desired features and the final desired nurseries are stored in `more_children` variable. Now we want get the count of such desired nurseries."
   ]
  },
  {
   "cell_type": "markdown",
   "id": "c76ec1a1",
   "metadata": {
    "deletable": false,
    "editable": false
   },
   "source": [
    "- variable &nbsp;`from more_children get shape`"
   ]
  },
  {
   "cell_type": "markdown",
   "id": "4c91177d",
   "metadata": {
    "deletable": false,
    "editable": false
   },
   "source": [
    "\n",
    "<details>\n",
    "<summary> Blockly Instructions(click triangle to expand) </summary>\n",
    "<br>\n",
    "    \n",
    "- `from ...get...` can be found under `VARIABLE` menu.\n",
    "- A variable must have been created before it will appear in the dropdown.\n",
    "- If dropdown says \"!Not populated until you execute code\", click anywhere in the notebook tab, then click try \"Run All Above Selected Cell\" from the \"Run\" menu.\n",
    "\n",
    "</details>"
   ]
  },
  {
   "cell_type": "code",
   "execution_count": null,
   "id": "4ec0bfc5",
   "metadata": {
    "datawhys": {
     "response_id": 15,
     "student_response": true
    },
    "deletable": false,
    "editable": true
   },
   "outputs": [],
   "source": []
  },
  {
   "cell_type": "markdown",
   "id": "421eccd8",
   "metadata": {
    "deletable": false,
    "editable": false
   },
   "source": [
    "How many rows did we finally get in the final result?\n"
   ]
  },
  {
   "cell_type": "markdown",
   "id": "2d72ac47-0d6a-4053-9fb0-0694cb2e3007",
   "metadata": {
    "datawhys": {
     "response_id": 16,
     "student_response": true
    },
    "deletable": false,
    "editable": true
   },
   "source": [
    "<div class=\"alert alert-block alert-info\">\n",
    "<!-- YOUR ANSWER BEGIN -->\n",
    "\n",
    "\n",
    "\n",
    "\n",
    "\n",
    "<!-- YOUR ANSWER END -->\n",
    "</div>"
   ]
  }
 ],
 "metadata": {
  "kernelspec": {
   "display_name": "Python 3 (ipykernel)",
   "language": "python",
   "name": "python3"
  },
  "language_info": {
   "codemirror_mode": {
    "name": "ipython",
    "version": 3
   },
   "file_extension": ".py",
   "mimetype": "text/x-python",
   "name": "python",
   "nbconvert_exporter": "python",
   "pygments_lexer": "ipython3",
   "version": "3.12.6"
  }
 },
 "nbformat": 4,
 "nbformat_minor": 5
}
