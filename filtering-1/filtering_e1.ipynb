{
 "cells": [
  {
   "cell_type": "markdown",
   "id": "1e26294a",
   "metadata": {
    "deletable": false,
    "editable": false
   },
   "source": [
    "# User Activity (Filtering 1)"
   ]
  },
  {
   "cell_type": "markdown",
   "id": "ac919ec7",
   "metadata": {
    "deletable": false,
    "editable": false
   },
   "source": [
    "## Question: Given a dataset about Amazon employee salary, find employees who are Software Development Engineer and whose salary is greater than 1000000\n"
   ]
  },
  {
   "cell_type": "markdown",
   "id": "0f834bcf",
   "metadata": {
    "deletable": false,
    "editable": false
   },
   "source": [
    "Let us consider this dataset named `Salary_Dataset.csv`. We want to analyze this dataset and see the salary structure of a particular company."
   ]
  },
  {
   "cell_type": "markdown",
   "id": "d4a1dd18",
   "metadata": {
    "deletable": false,
    "editable": false
   },
   "source": [
    "For this task, let's find the salaries of `Amazon` employees who are `Software Development Engineer` and whose salary is greater than `1000000` ."
   ]
  },
  {
   "cell_type": "markdown",
   "id": "917d038a",
   "metadata": {
    "deletable": false,
    "editable": false
   },
   "source": [
    "**Dataset location:** datasets/Salary_Dataset.csv"
   ]
  },
  {
   "cell_type": "markdown",
   "id": "1f810d5e",
   "metadata": {
    "deletable": false,
    "editable": false
   },
   "source": [
    "<span><h3>\n",
    " Step 1: Read CSV Data into Pandas Dataframe",
    "\n</h3></span>"
   ]
  },
  {
   "cell_type": "markdown",
   "id": "097aa176",
   "metadata": {
    "deletable": false,
    "editable": false
   },
   "source": [
    "#### Import Pandas Library"
   ]
  },
  {
   "cell_type": "markdown",
   "id": "3bfdc61a",
   "metadata": {
    "deletable": false,
    "editable": false
   },
   "source": [
    "- Create variable &nbsp;`pd`\n",
    "- `import pandas as pd`"
   ]
  },
  {
   "cell_type": "markdown",
   "id": "30d765fc",
   "metadata": {
    "deletable": false,
    "editable": false
   },
   "source": [
    "<br>\n",
    "<details>\n",
    "    <summary>Blockly Hints (Click to expand)</summary>\n",
    "    <ul>\n",
    "        <li>Blocks\n",
    "            <ul>\n",
    "                <li><code>import .. as ..</code>\n",
    "                    <ul>\n",
    "                        <li>The <code>import .. as ..</code> block is found under IMPORT.</li> \n",
    "                        <li>A variable must have been created before it will appear in the dropdown.</li>\n",
    "                    </ul>\n",
    "                </li>\n",
    "            </ul>\n",
    "        </li>\n",
    "    </ul>\n",
    "</details>"
   ]
  },
  {
   "cell_type": "code",
   "execution_count": null,
   "id": "cdffa195-f7fe-4013-96ac-079524d6aa9e",
   "metadata": {
    "datawhys": {
     "response_id": 1,
     "student_response": true
    },
    "deletable": false,
    "editable": true
   },
   "outputs": [],
   "source": []
  },
  {
   "cell_type": "markdown",
   "id": "83e698a7",
   "metadata": {
    "deletable": false,
    "editable": false
   },
   "source": [
    "#### Read CSV data and Save in Variable"
   ]
  },
  {
   "cell_type": "markdown",
   "id": "72d9c6a3",
   "metadata": {
    "deletable": false,
    "editable": false
   },
   "source": [
    "- Create variable &nbsp;`salary_data`\n",
    "- `set salary_data to` &nbsp;:&nbsp; `with pd do read_csv using` &nbsp;<-&nbsp; `\" datasets/Salary_Dataset.csv \"`"
   ]
  },
  {
   "cell_type": "markdown",
   "id": "751bdcad",
   "metadata": {
    "deletable": false,
    "editable": false
   },
   "source": [
    "<br><details><summary>Blockly Hints (Click triangle to expand)</summary><ul><li>Notation<ul><li><code>A</code> &nbsp;:&nbsp; <code>B</code>&nbsp; means snap blocks A and B together.</li><li><code>A</code> &nbsp;&lt;-&nbsp; <code>B</code>&nbsp; means insert block B into the hole in block A.</li></ul></li><li>Blocks<ul><li><code>set .. to</code><ul><li>The <code>set .. to</code> block is found under VARIABLES.</li> <li>A variable must have been created before it will appear in the dropdown.</li></ul></li><li><code>with .. do .. using ..</code><ul><li>The <code>with .. do .. using ..</code> block is found under VARIABLES.</li> <li>If <code>do</code> dropdown says \"!Not populated until you execute code\", click anywhere in the notebook tab, then click try \"Run All Above Selected Cell\" from the \"Run\" menu.</li> <li>If <code>with .. do .. using ..</code> block does not want to snap together nicely with the <code>set .. to</code> block, try dragging the <code>set .. to</code> block instead.</li></ul></li><li><code>\" .. \"</code><ul><li>The <code>\" .. \"</code> block is found under TEXT.</li></ul></li></ul></li></ul></details>"
   ]
  },
  {
   "cell_type": "code",
   "execution_count": null,
   "id": "ee8a03da-b689-4af4-8906-adad83c1b68c",
   "metadata": {
    "datawhys": {
     "response_id": 2,
     "student_response": true
    },
    "deletable": false,
    "editable": true
   },
   "outputs": [],
   "source": []
  },
  {
   "cell_type": "markdown",
   "id": "79b451fd",
   "metadata": {
    "deletable": false,
    "editable": false
   },
   "source": [
    "#### Display Dataframe Contents\n"
   ]
  },
  {
   "cell_type": "markdown",
   "id": "bccc2173",
   "metadata": {
    "deletable": false,
    "editable": false
   },
   "source": [
    "- variable &nbsp;`salary_data`"
   ]
  },
  {
   "cell_type": "markdown",
   "id": "f3e4f7a7",
   "metadata": {
    "deletable": false,
    "editable": false
   },
   "source": [
    "<br>\n",
    "<details>\n",
    "    <summary>Blockly Hints (Click on triangle to expand)</summary>\n",
    "    <ul>\n",
    "        <li>Blocks\n",
    "            <ul>\n",
    "                <li>variable\n",
    "                    <ul>\n",
    "                        <li>After it is created, each variable has its own block at the end of the VARIABLES menu.</li>\n",
    "                    </ul>\n",
    "                </li>\n",
    "            </ul>\n",
    "        </li>\n",
    "    </ul>\n",
    "</details>\n"
   ]
  },
  {
   "cell_type": "code",
   "execution_count": null,
   "id": "f07c59f8-7cbd-46dd-8f1a-d4658336d021",
   "metadata": {
    "datawhys": {
     "response_id": 3,
     "student_response": true
    },
    "deletable": false,
    "editable": true
   },
   "outputs": [],
   "source": []
  },
  {
   "cell_type": "markdown",
   "id": "cf537e5a",
   "metadata": {
    "deletable": false,
    "editable": false
   },
   "source": [
    "<span><h3>\n",
    " Step 2: Find the employees with specific features",
    "\n</h3></span>"
   ]
  },
  {
   "cell_type": "markdown",
   "id": "978f814b",
   "metadata": {
    "deletable": false,
    "editable": false
   },
   "source": [
    "#### Look at the features in the dataset"
   ]
  },
  {
   "cell_type": "markdown",
   "id": "202d7d9b",
   "metadata": {
    "deletable": false,
    "editable": false
   },
   "source": [
    "- variable &nbsp;`from salary_data get columns`"
   ]
  },
  {
   "cell_type": "markdown",
   "id": "3ece3975",
   "metadata": {
    "deletable": false,
    "editable": false
   },
   "source": [
    "<details>\n",
    "<summary> Blockly Instructions(click triangle to expand) </summary>\n",
    "<br>\n",
    "                       \n",
    "- `from.. get..` block can be found in VARIABLES menu of Blockly palette.\n",
    "- A variable must have been created before it will appear in the dropdown.\n",
    "- If dropdown says \"!Not populated until you execute code\", click anywhere in the notebook tab, then click try \"Run All Above Selected Cell\" from the \"Run\" menu.\n",
    "\n",
    "</details>"
   ]
  },
  {
   "cell_type": "code",
   "execution_count": null,
   "id": "dd660d5f",
   "metadata": {
    "datawhys": {
     "response_id": 4,
     "student_response": true
    },
    "deletable": false,
    "editable": true
   },
   "outputs": [],
   "source": []
  },
  {
   "cell_type": "markdown",
   "id": "17600039",
   "metadata": {
    "deletable": false,
    "editable": false
   },
   "source": [
    "From the available features, we are only interested in the features `Rating`, `Company_Name`, `Job_Title`,`Salary`, `Job_Roles`. Let's get these features into a new dataframe `company_info`."
   ]
  },
  {
   "cell_type": "markdown",
   "id": "e251e509",
   "metadata": {
    "deletable": false,
    "editable": false
   },
   "source": [
    "#### Filter the required features from the dataset"
   ]
  },
  {
   "cell_type": "markdown",
   "id": "49b66819",
   "metadata": {
    "deletable": false,
    "editable": false
   },
   "source": [
    "`Set salary_data to` : `salary_data [ .. ]` &nbsp;<-&nbsp; `create list with` &nbsp;:\n",
    "  - `Rating`\n",
    "  - `Company_Name`\n",
    "  - `Job_Title`\n",
    "  - `Salary`\n",
    "  - `Job_Roles`"
   ]
  },
  {
   "cell_type": "markdown",
   "id": "3880acd0",
   "metadata": {
    "deletable": false,
    "editable": false
   },
   "source": [
    "<details><summary>Blockly Hints (Click the triangle to expand)</summary><ul><li>Notation<ul><li><code>A</code> &nbsp;:&nbsp; <code>B</code>&nbsp; means snap blocks A and B together.</li><li><code>A</code> &nbsp;&lt;-&nbsp; <code>B</code>&nbsp; means insert block B into the hole in block A.</li></ul></li><li>Blocks<ul><li><code>{dictVariable} [ .. ]</code><ul><li>The <code>{dictVariable} [ .. ]</code> block is found under LISTS.</li></ul></li><li><code>create list with</code><ul><li>The <code>create list with</code> block is found under LISTS.</li> <li>You can use the <code>+ -</code> controls on the block to change the number of notches. Unless specifically instructed, the block should not have any empty notches when you click Blocks to Code. </li></ul></li><li><code>\" .. \"</code><ul><li>The <code>\" .. \"</code> block is found under TEXT.</li></ul></li></ul></li></ul></details>"
   ]
  },
  {
   "cell_type": "code",
   "execution_count": null,
   "id": "153a33c4",
   "metadata": {
    "datawhys": {
     "response_id": 5,
     "student_response": true
    },
    "deletable": false,
    "editable": true
   },
   "outputs": [],
   "source": []
  },
  {
   "cell_type": "markdown",
   "id": "b6d01a60",
   "metadata": {
    "deletable": false,
    "editable": false
   },
   "source": [
    "#### Filter only the employees who work in Amazon"
   ]
  },
  {
   "cell_type": "markdown",
   "id": "40ee707f",
   "metadata": {
    "deletable": false,
    "editable": false
   },
   "source": [
    "Now that we have our required features, we want the data of `Amazon` employees only."
   ]
  },
  {
   "cell_type": "markdown",
   "id": "7ee495ab",
   "metadata": {
    "deletable": false,
    "editable": false
   },
   "source": [
    "- create variable `amazon_emp`\n",
    "- `Set amazon_emp to` &nbsp;:&nbsp; `salary_data [ .. ]` &nbsp;<-&nbsp; ` .. = .. ` &nbsp;<-\n",
    "  - `from salary_data get Company_Name`\n",
    "  - `Amazon`\n",
    "- Will look like - `Set amazon_emp to salary_data [ from salary_data get Company_Name = Amazon]`"
   ]
  },
  {
   "cell_type": "markdown",
   "id": "7c323b74",
   "metadata": {
    "deletable": false,
    "editable": false
   },
   "source": [
    "<br>\n",
    "<details>\n",
    "  <summary>Blockly Hints (Click on the triangle to expand)</summary>\n",
    "  <ul>\n",
    "    <li>Notation\n",
    "      <ul>\n",
    "        <li><code>A</code> &nbsp;:&nbsp; <code>B</code>&nbsp; means snap blocks A and B together.</li>\n",
    "        <li><code>A</code> &nbsp;&lt;-&nbsp;<code>B</code>&nbsp; means insert block B into the hole in block A.</li>\n",
    "      </ul>\n",
    "    </li>\n",
    "    <li>Blocks\n",
    "      <ul>\n",
    "        <li><code>set .. to</code>\n",
    "          <ul>\n",
    "            <li>The <code>set .. to</code> block is found under VARIABLES.</li>\n",
    "            <li>A variable must have been created before it will appear in the dropdown.</li>\n",
    "          </ul>\n",
    "        </li>\n",
    "        <li><code>{dictVariable} [ .. ]</code>\n",
    "          <ul>\n",
    "            <li>The <code>{dictVariable} [ .. ]</code> block is found under LISTS.</li>\n",
    "          </ul>\n",
    "        </li>\n",
    "        <li><code> .. = .. </code>\n",
    "          <ul>\n",
    "            <li>The <code> .. = .. </code> block is found under LOGIC.</li>\n",
    "            <li>Use the dropdown to get other comparison operators.</li>\n",
    "          </ul>\n",
    "        </li>\n",
    "        <li><code>from .. get ..</code>\n",
    "          <ul>\n",
    "            <li>The <code>from .. get ..</code> block is found under VARIABLES.</li>\n",
    "          </ul>\n",
    "        </li>\n",
    "      </ul>\n",
    "    </li>\n",
    "  </ul>\n",
    "</details>"
   ]
  },
  {
   "cell_type": "code",
   "execution_count": null,
   "id": "e3a41ccb",
   "metadata": {
    "datawhys": {
     "response_id": 6,
     "student_response": true
    },
    "deletable": false,
    "editable": true
   },
   "outputs": [],
   "source": []
  },
  {
   "cell_type": "markdown",
   "id": "bed20abb",
   "metadata": {
    "deletable": false,
    "editable": false
   },
   "source": [
    "Now we want to display our variable in which we stored the Amazon employees"
   ]
  },
  {
   "cell_type": "markdown",
   "id": "becac5d5",
   "metadata": {
    "deletable": false,
    "editable": false
   },
   "source": [
    "- variable &nbsp;`amazon_emp`"
   ]
  },
  {
   "cell_type": "markdown",
   "id": "84b8197e",
   "metadata": {
    "deletable": false,
    "editable": false
   },
   "source": [
    "<details>\n",
    "    <summary>Blockly Hints (Click on triangle to expand)</summary>\n",
    "    <ul>\n",
    "        <li>Blocks\n",
    "            <ul>\n",
    "                <li>variable\n",
    "                    <ul>\n",
    "                        <li>After it is created, each variable has its own block at the end of the VARIABLES menu.</li>\n",
    "                    </ul>\n",
    "                </li>\n",
    "            </ul>\n",
    "        </li>\n",
    "    </ul>\n",
    "</details>"
   ]
  },
  {
   "cell_type": "code",
   "execution_count": null,
   "id": "5f7ceb3e",
   "metadata": {
    "datawhys": {
     "response_id": 7,
     "student_response": true
    },
    "deletable": false,
    "editable": true
   },
   "outputs": [],
   "source": []
  },
  {
   "cell_type": "markdown",
   "id": "98c6821d",
   "metadata": {
    "deletable": false,
    "editable": false
   },
   "source": [
    "#### Among Amazon employees filter who works as \"Software Development Engineer (SDE)\""
   ]
  },
  {
   "cell_type": "markdown",
   "id": "9eb4b45e",
   "metadata": {
    "deletable": false,
    "editable": false
   },
   "source": [
    "From `amazon` employees data, we want to see the salaries of people working as `Software Development Engineer (SDE)`. So, choose only the people who has that `Job_Title` and store the new data into dataframe `software_dev`."
   ]
  },
  {
   "cell_type": "markdown",
   "id": "5ed58ab6",
   "metadata": {
    "deletable": false,
    "editable": false
   },
   "source": [
    "- create variable `software_dev`\n",
    "- `Set software_dev to` &nbsp;:&nbsp; `amazon_emp [ .. ]` &nbsp;<-&nbsp; ` .. = .. ` &nbsp;<-\n",
    "  - `from amazon_emp get Job_Title`\n",
    "  - `\"Software Development Engineer (SDE)\"`\n",
    "- Will look like - `Set software_dev to amazon_emp [ from amazon_emp get Job_Title = \"Software Development Engineer (SDE)\"]`"
   ]
  },
  {
   "cell_type": "markdown",
   "id": "c85d060a",
   "metadata": {
    "deletable": false,
    "editable": false
   },
   "source": [
    "<br>\n",
    "<details>\n",
    "  <summary>Blockly Hints (Click on the triangle to expand)</summary>\n",
    "  <ul>\n",
    "    <li>Notation\n",
    "      <ul>\n",
    "        <li><code>A</code> &nbsp;:&nbsp; <code>B</code>&nbsp; means snap blocks A and B together.</li>\n",
    "        <li><code>A</code>&nbsp;&lt;-&nbsp; <code>B</code>&nbsp; means insert block B into the hole in block A.</li>\n",
    "      </ul>\n",
    "    </li>\n",
    "    <li>Blocks\n",
    "      <ul>\n",
    "        <li><code>set .. to</code>\n",
    "          <ul>\n",
    "            <li>The <code>set .. to</code> block is found under VARIABLES.</li>\n",
    "            <li>A variable must have been created before it will appear in the dropdown.</li>\n",
    "          </ul>\n",
    "        </li>\n",
    "        <li><code>{dictVariable} [ .. ]</code>\n",
    "          <ul>\n",
    "            <li>The <code>{dictVariable} [ .. ]</code> block is found under LISTS.</li>\n",
    "          </ul>\n",
    "        </li>\n",
    "        <li><code> .. = .. </code>\n",
    "          <ul>\n",
    "            <li>The <code> .. = .. </code> block is found under LOGIC.</li>\n",
    "            <li>Use the dropdown to get other comparison operators.</li>\n",
    "          </ul>\n",
    "        </li>\n",
    "        <li><code>from .. get ..</code>\n",
    "          <ul>\n",
    "            <li>The <code>from .. get ..</code> block is found under VARIABLES.</li>\n",
    "          </ul>\n",
    "        </li>\n",
    "      </ul>\n",
    "    </li>\n",
    "  </ul>\n",
    "</details>"
   ]
  },
  {
   "cell_type": "code",
   "execution_count": null,
   "id": "90f25c57",
   "metadata": {
    "datawhys": {
     "response_id": 8,
     "student_response": true
    },
    "deletable": false,
    "editable": true
   },
   "outputs": [],
   "source": []
  },
  {
   "cell_type": "markdown",
   "id": "b2c169c6",
   "metadata": {
    "deletable": false,
    "editable": false
   },
   "source": [
    "Now we want to display our variable in which we stored the Software Development Engineer (SDE) employees"
   ]
  },
  {
   "cell_type": "markdown",
   "id": "be310379",
   "metadata": {
    "deletable": false,
    "editable": false
   },
   "source": [
    "- variable &nbsp;`software_dev`"
   ]
  },
  {
   "cell_type": "markdown",
   "id": "242097ac",
   "metadata": {
    "deletable": false,
    "editable": false
   },
   "source": [
    "<br>\n",
    "<details>\n",
    "    <summary>Blockly Hints (Click on triangle to expand)</summary>\n",
    "    <ul>\n",
    "        <li>Blocks\n",
    "            <ul>\n",
    "                <li>variable\n",
    "                    <ul>\n",
    "                        <li>After it is created, each variable has its own block at the end of the VARIABLES menu.</li>\n",
    "                    </ul>\n",
    "                </li>\n",
    "            </ul>\n",
    "        </li>\n",
    "    </ul>\n",
    "</details>"
   ]
  },
  {
   "cell_type": "code",
   "execution_count": null,
   "id": "1af7b33f",
   "metadata": {
    "datawhys": {
     "response_id": 9,
     "student_response": true
    },
    "deletable": false,
    "editable": true
   },
   "outputs": [],
   "source": []
  },
  {
   "cell_type": "markdown",
   "id": "851c0493",
   "metadata": {
    "deletable": false,
    "editable": false
   },
   "source": [
    "#### Among the of Amazon filter the Software Development Engineer (SDE) employees who have salary  greater than 1000000"
   ]
  },
  {
   "cell_type": "markdown",
   "id": "2056481b",
   "metadata": {
    "deletable": false,
    "editable": false
   },
   "source": [
    "We are almost close to our desired target. For our final step, since we want to see people who have a salary greater than `1000000`, filter out those people from `software_dev` and store the new data into `big_salary` dataframe. "
   ]
  },
  {
   "cell_type": "markdown",
   "id": "ecca267f",
   "metadata": {
    "deletable": false,
    "editable": false
   },
   "source": [
    "- Create variable `filtered_emp`\n",
    "- `Set filtered_emp to` &nbsp;:&nbsp; `software_dev [ .. ]` &nbsp;<-&nbsp; ` .. > .. ` &nbsp;<-\n",
    "  - `from software_dev get Salary`\n",
    "  - `1000000`"
   ]
  },
  {
   "cell_type": "markdown",
   "id": "d65de446",
   "metadata": {
    "deletable": false,
    "editable": false
   },
   "source": [
    "<br>\n",
    "<details>\n",
    "  <summary>Blockly Hints (Click on triangle to expand)</summary>\n",
    "  <ul>\n",
    "    <li>Notation\n",
    "      <ul>\n",
    "        <li><code>A</code> &nbsp;:&nbsp; <code>B</code>&nbsp; means snap blocks A and B together.</li>\n",
    "        <li><code>A</code>  &nbsp;&lt;-&nbsp; <code>B</code>&nbsp; means insert block B into the hole in block A.</li>\n",
    "      </ul>\n",
    "    </li>\n",
    "    <li>Blocks\n",
    "      <ul>\n",
    "        <li><code>set .. to</code>\n",
    "          <ul>\n",
    "            <li>The <code>set .. to</code> block is found under VARIABLES.</li>\n",
    "            <li>A variable must have been created before it will appear in the dropdown.</li>\n",
    "          </ul>\n",
    "        </li>\n",
    "        <li><code>{dictVariable} [ .. ]</code>\n",
    "          <ul>\n",
    "            <li>The <code>{dictVariable} [ .. ]</code> block is found under LISTS.</li>\n",
    "          </ul>\n",
    "        </li>\n",
    "        <li><code> .. = .. </code>\n",
    "          <ul>\n",
    "            <li>The <code> .. = .. </code> block is found under LOGIC.</li>\n",
    "            <li>Use the dropdown to get other comparison operators.Here you have to find the > </li>\n",
    "          </ul>\n",
    "        </li>\n",
    "        <li><code>from .. get ..</code>\n",
    "          <ul>\n",
    "            <li>The <code>from .. get ..</code> block is found under VARIABLES.</li>\n",
    "          </ul>\n",
    "        </li>\n",
    "      </ul>\n",
    "    </li>\n",
    "  </ul>\n",
    "</details>"
   ]
  },
  {
   "cell_type": "code",
   "execution_count": null,
   "id": "6813624c",
   "metadata": {
    "datawhys": {
     "response_id": 10,
     "student_response": true
    },
    "deletable": false,
    "editable": true
   },
   "outputs": [],
   "source": []
  },
  {
   "cell_type": "markdown",
   "id": "3d7b1549",
   "metadata": {
    "deletable": false,
    "editable": false
   },
   "source": [
    "Now we want to display the filtered employees"
   ]
  },
  {
   "cell_type": "markdown",
   "id": "d78f5520",
   "metadata": {
    "deletable": false,
    "editable": false
   },
   "source": [
    "- variable &nbsp;`filtered_emp`"
   ]
  },
  {
   "cell_type": "markdown",
   "id": "56a5db7a",
   "metadata": {
    "deletable": false,
    "editable": false
   },
   "source": [
    "<br>\n",
    "<details>\n",
    "    <summary>Blockly Hints (Click on triangle to expand)</summary>\n",
    "    <ul>\n",
    "        <li>Blocks\n",
    "            <ul>\n",
    "                <li>variable\n",
    "                    <ul>\n",
    "                        <li>After it is created, each variable has its own block at the end of the VARIABLES menu.</li>\n",
    "                    </ul>\n",
    "                </li>\n",
    "            </ul>\n",
    "        </li>\n",
    "    </ul>\n",
    "</details>"
   ]
  },
  {
   "cell_type": "code",
   "execution_count": null,
   "id": "52df9450",
   "metadata": {
    "datawhys": {
     "response_id": 11,
     "student_response": true
    },
    "deletable": false,
    "editable": true
   },
   "outputs": [],
   "source": []
  },
  {
   "cell_type": "markdown",
   "id": "dca5c0ac",
   "metadata": {
    "deletable": false,
    "editable": false
   },
   "source": [
    "How many rows did we finally get in the final result?\n"
   ]
  },
  {
   "cell_type": "markdown",
   "id": "e7b50a05",
   "metadata": {
    "deletable": false,
    "editable": false
   },
   "source": [
    "Ans: "
   ]
  },
  {
   "cell_type": "code",
   "execution_count": null,
   "id": "1b10b558-9e01-4926-bf52-2a657fcea3e0",
   "metadata": {
    "deletable": false,
    "editable": false
   },
   "outputs": [],
   "source": []
  }
 ],
 "metadata": {
  "kernelspec": {
   "display_name": "Python 3 (ipykernel)",
   "language": "python",
   "name": "python3"
  },
  "language_info": {
   "codemirror_mode": {
    "name": "ipython",
    "version": 3
   },
   "file_extension": ".py",
   "mimetype": "text/x-python",
   "name": "python",
   "nbconvert_exporter": "python",
   "pygments_lexer": "ipython3",
   "version": "3.12.6"
  }
 },
 "nbformat": 4,
 "nbformat_minor": 5
}
