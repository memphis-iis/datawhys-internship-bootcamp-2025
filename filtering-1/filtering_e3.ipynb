{
 "cells": [
  {
   "cell_type": "markdown",
   "id": "0b68254e",
   "metadata": {
    "deletable": false,
    "editable": false
   },
   "source": [
    "# Question: Given a dataset about cars, find the cars of some specific features.\n",
    "\n",
    "Suppose we have this dataset, named `mpg.csv`, where we have information about cars. First, we load the dataset into a dataframe and see its contents."
   ]
  },
  {
   "cell_type": "markdown",
   "id": "829a5741",
   "metadata": {
    "deletable": false,
    "editable": false
   },
   "source": [
    "<span><h2>\n",
    " Step 1: Read CSV Data into Pandas Dataframe",
    "\n</h2></span>"
   ]
  },
  {
   "cell_type": "markdown",
   "id": "6c9b6465",
   "metadata": {
    "deletable": false,
    "editable": false
   },
   "source": [
    "<span><h4>\n",
    " Substep. &nbsp;&nbsp; Import Pandas Library",
    "\n</h4></span>"
   ]
  },
  {
   "cell_type": "markdown",
   "id": "24f0a80b",
   "metadata": {
    "deletable": false,
    "editable": false
   },
   "source": [
    "- Create variable &nbsp;`pd`\n",
    "- `import pandas as pd`"
   ]
  },
  {
   "cell_type": "markdown",
   "id": "6850f69c",
   "metadata": {
    "deletable": false,
    "editable": false
   },
   "source": [
    "Here's how:\n",
    "\n",
    "1. From IMPORT, grab `import .. as ..`\n",
    "2. Replace text `some library` with `pandas`\n",
    "3. From VARIABLES, click `Create Variable...`, enter `pd`, click OK\n",
    "4. Select `pd` from `variable name` dropdown in `import .. as ..`\n",
    "5. Click Blocks to Code and run cell"
   ]
  },
  {
   "cell_type": "markdown",
   "id": "f250fc0f",
   "metadata": {
    "deletable": false,
    "editable": false
   },
   "source": [
    "<br>\n",
    "<details>\n",
    "    <summary>Blockly Hints (Click to expand)</summary>\n",
    "    <ul>\n",
    "        <li>Blocks\n",
    "            <ul>\n",
    "                <li><code>import .. as ..</code>\n",
    "                    <ul>\n",
    "                        <li>The <code>import .. as ..</code> block is found under IMPORT.</li> \n",
    "                        <li>A variable must have been created before it will appear in the dropdown.</li>\n",
    "                    </ul>\n",
    "                </li>\n",
    "            </ul>\n",
    "        </li>\n",
    "    </ul>\n",
    "</details>"
   ]
  },
  {
   "cell_type": "code",
   "execution_count": null,
   "id": "303703de",
   "metadata": {
    "datawhys": {
     "response_id": 1,
     "student_response": true
    },
    "deletable": false,
    "editable": true
   },
   "outputs": [],
   "source": []
  },
  {
   "cell_type": "markdown",
   "id": "f8b14a9f",
   "metadata": {
    "deletable": false,
    "editable": false
   },
   "source": [
    "<span><h4>\n",
    " Substep. &nbsp;&nbsp; Read CSV data and Save in Variable",
    "\n</h4></span>"
   ]
  },
  {
   "cell_type": "markdown",
   "id": "9c9c3700",
   "metadata": {
    "deletable": false,
    "editable": false
   },
   "source": [
    "- Create variable &nbsp;`car_data`\n",
    "- `set car_data to` &nbsp;:&nbsp; `with pd do read_csv using` &nbsp;<-&nbsp; `\" datasets/mpg.csv \"`"
   ]
  },
  {
   "cell_type": "markdown",
   "id": "beff03cd",
   "metadata": {
    "deletable": false,
    "editable": false
   },
   "source": [
    "Here's how:\n",
    "\n",
    "1. From VARIABLES, grab `with .. do .. using ..`\n",
    "2. Make sure `pd` is selected in dropdown after with\n",
    "3. Select `read_csv` from dropdown after do\n",
    "4. From TEXT, grab `\" .. \"`\n",
    "5. Type `datasets/mpg.csv` into `\" .. \"`\n",
    "6. Drag the `\" .. \"` into the space after using in `with .. do .. using ..`\n",
    "7. From VARIABLES, click `Create Variable...`, enter `car_data`, click OK\n",
    "8. From VARIABLES, grab `set .. to`\n",
    "9. Change dropdown after set to `car_data`\n",
    "10. Connect `set .. to` and `with .. do .. using ..`\n",
    "11. Click Blocks to Code and run cell"
   ]
  },
  {
   "cell_type": "markdown",
   "id": "47b11c2f",
   "metadata": {
    "deletable": false,
    "editable": false
   },
   "source": [
    "<br><details><summary>Blockly Hints (Click triangle to expand)</summary><ul><li>Notation<ul><li><code>A</code> &nbsp;:&nbsp; <code>B</code>&nbsp; means snap blocks A and B together.</li><li><code>A</code> &nbsp;&lt;-&nbsp; <code>B</code>&nbsp; means insert block B into the hole in block A.</li></ul></li><li>Blocks<ul><li><code>set .. to</code><ul><li>The <code>set .. to</code> block is found under VARIABLES.</li> <li>A variable must have been created before it will appear in the dropdown.</li></ul></li><li><code>with .. do .. using ..</code><ul><li>The <code>with .. do .. using ..</code> block is found under VARIABLES.</li> <li>If <code>do</code> dropdown says \"!Not populated until you execute code\", click anywhere in the notebook tab, then click try \"Run All Above Selected Cell\" from the \"Run\" menu.</li> <li>If <code>with .. do .. using ..</code> block does not want to snap together nicely with the <code>set .. to</code> block, try dragging the <code>set .. to</code> block instead.</li></ul></li><li><code>\" .. \"</code><ul><li>The <code>\" .. \"</code> block is found under TEXT.</li></ul></li></ul></li></ul></details>"
   ]
  },
  {
   "cell_type": "code",
   "execution_count": null,
   "id": "2794b5fa-f0a7-40b4-b39d-81f4934449cf",
   "metadata": {
    "datawhys": {
     "response_id": 2,
     "student_response": true
    },
    "deletable": false,
    "editable": true
   },
   "outputs": [],
   "source": []
  },
  {
   "cell_type": "markdown",
   "id": "4b5027fa",
   "metadata": {
    "deletable": false,
    "editable": false
   },
   "source": [
    "<span><h4>\n",
    " Substep. &nbsp;&nbsp; Display Dataframe Contents",
    "\n</h4></span>"
   ]
  },
  {
   "cell_type": "markdown",
   "id": "ba8c739f",
   "metadata": {
    "deletable": false,
    "editable": false
   },
   "source": [
    "- variable &nbsp;`car_data`"
   ]
  },
  {
   "cell_type": "markdown",
   "id": "e3d9b200",
   "metadata": {
    "deletable": false,
    "editable": false
   },
   "source": [
    "Here's how:\n",
    "\n",
    "1. From VARIABLES, grab `car_data`\n",
    "2. Click Blocks to Code and run cell"
   ]
  },
  {
   "cell_type": "markdown",
   "id": "84e5a48b",
   "metadata": {
    "deletable": false,
    "editable": false
   },
   "source": [
    "<br>\n",
    "<details>\n",
    "    <summary>Blockly Hints (Click on triangle to expand)</summary>\n",
    "    <ul>\n",
    "        <li>Blocks\n",
    "            <ul>\n",
    "                <li>variable\n",
    "                    <ul>\n",
    "                        <li>After it is created, each variable has its own block at the end of the VARIABLES menu.</li>\n",
    "                    </ul>\n",
    "                </li>\n",
    "            </ul>\n",
    "        </li>\n",
    "    </ul>\n",
    "</details>\n"
   ]
  },
  {
   "cell_type": "code",
   "execution_count": null,
   "id": "7b3aedc6-62aa-41c9-aff7-bee8e7b8586e",
   "metadata": {
    "datawhys": {
     "response_id": 3,
     "student_response": true
    },
    "deletable": false,
    "editable": true
   },
   "outputs": [],
   "source": []
  },
  {
   "cell_type": "markdown",
   "id": "1b37f777",
   "metadata": {
    "deletable": false,
    "editable": false
   },
   "source": [
    "<span><h2>\n",
    " Step 2: Find cars with specific features\n",
    "\n</h2></span>"
   ]
  },
  {
   "cell_type": "markdown",
   "id": "4b6bc3d5",
   "metadata": {
    "deletable": false,
    "editable": false
   },
   "source": [
    "#### Look at the features in the dataset"
   ]
  },
  {
   "cell_type": "markdown",
   "id": "508f8c36",
   "metadata": {
    "deletable": false,
    "editable": false
   },
   "source": [
    "- variable &nbsp;`from car_data get columns`"
   ]
  },
  {
   "cell_type": "markdown",
   "id": "20ad207a",
   "metadata": {
    "deletable": false,
    "editable": false
   },
   "source": [
    "Here's how:\n",
    "\n",
    "1. From VARIABLES, grab `from .. get .. `\n",
    "2. Make sure `car_edata` is selected in dropdown after `from`\n",
    "3. Select `columns` from dropdown after `get`\n",
    "4. Click on \"Blocks to Code\" at the bottom of the blockly palette.\n",
    "5. Run the python code cell."
   ]
  },
  {
   "cell_type": "markdown",
   "id": "aec0f80f",
   "metadata": {
    "deletable": false,
    "editable": false
   },
   "source": [
    "<details>\n",
    "<summary> Blockly Instructions(click triangle to expand) </summary>\n",
    "<br>\n",
    "                       \n",
    "- `from.. get..` block can be found in VARIABLES menu of Blockly palette.\n",
    "- A variable must have been created before it will appear in the dropdown.\n",
    "- If dropdown says \"!Not populated until you execute code\", click anywhere in the notebook tab, then click try \"Run All Above Selected Cell\" from the \"Run\" menu.\n",
    "\n",
    "</details>"
   ]
  },
  {
   "cell_type": "code",
   "execution_count": null,
   "id": "98ee43d1",
   "metadata": {
    "datawhys": {
     "response_id": 4,
     "student_response": true
    },
    "deletable": false,
    "editable": true
   },
   "outputs": [],
   "source": []
  },
  {
   "cell_type": "markdown",
   "id": "5a61f866",
   "metadata": {
    "deletable": false,
    "editable": false
   },
   "source": [
    "#### Filter the required features from the dataset\n",
    "After looking at the car_data and the features of car_data, let's suppose as a customer, we want to buy the cars which :\n",
    "- have only 4 cylinders\n",
    "- name is \"toyota corolla\"\n",
    "- model_year is after 1980"
   ]
  },
  {
   "cell_type": "markdown",
   "id": "26d6150d",
   "metadata": {
    "deletable": false,
    "editable": false
   },
   "source": [
    "There is lots of information shown about the car (mpg, cylinders, etc). But, we are interested in only a few of the variables here. We only want information about name, cylinders and model_year of the cars. So, we filter only those required information next."
   ]
  },
  {
   "cell_type": "markdown",
   "id": "764e21c6",
   "metadata": {
    "deletable": false,
    "editable": false
   },
   "source": [
    "`Set car_data to` : `car_data [ .. ]` &nbsp;<-&nbsp; `create list with` &nbsp;:\n",
    "  - `\"cylinders\"`\n",
    "  - `\"name\"`\n",
    "  - `\"model_year\"`"
   ]
  },
  {
   "cell_type": "markdown",
   "id": "78f36db5",
   "metadata": {
    "deletable": false,
    "editable": false
   },
   "source": [
    "Here's how:\n",
    "\n",
    "1. From `LISTS` block , click on `{dictVariable} [ ]` block. Put `car_data` in place of {dictVariable}. \n",
    "2. From `LISTS`, click on `create list with` block. It has 3 coonection point.\n",
    "3. Take 4 `\" \"` block from `TEXT` block. write `cylinders, name, model_year` in the text blocks. Drag them inside `create list with` block.\n",
    "4. Drag the `create list with` block inside `car_data`\n",
    "5. Click on `Set {dictVariable} to` block and change it to `set car_data to` and connect to the `car_data` block.\n",
    "6. From `VARIABLES` block, click the `car_data` block.     \n",
    "7. Click on \"Blocks to Code\" at the bottom of the blockly palette.\n",
    "8. Run the python code cell."
   ]
  },
  {
   "cell_type": "markdown",
   "id": "c73b9a7b",
   "metadata": {
    "deletable": false,
    "editable": false
   },
   "source": [
    "<details><summary>Blockly Hints (Click the triangle to expand)</summary><ul><li>Notation<ul><li><code>A</code> &nbsp;:&nbsp; <code>B</code>&nbsp; means snap blocks A and B together.</li><li><code>A</code> &nbsp;&lt;-&nbsp; <code>B</code>&nbsp; means insert block B into the hole in block A.</li></ul></li><li>Blocks<ul><li><code>\\{dictVariable\\} [ .. ]</code><ul><li>The <code>\\{dictVariable\\} [ .. ]</code> block is found under LISTS.</li></ul></li><li><code>create list with</code><ul><li>The <code>create list with</code> block is found under LISTS.</li> <li>You can use the <code>+ -</code> controls on the block to change the number of notches. Unless specifically instructed, the block should not have any empty notches when you click Blocks to Code. </li></ul></li><li><code>\" .. \"</code><ul><li>The <code>\" .. \"</code> block is found under TEXT.</li></ul></li></ul></li></ul></details>"
   ]
  },
  {
   "cell_type": "code",
   "execution_count": null,
   "id": "3a6bfebf",
   "metadata": {
    "datawhys": {
     "response_id": 5,
     "student_response": true
    },
    "deletable": false,
    "editable": true
   },
   "outputs": [],
   "source": []
  },
  {
   "cell_type": "markdown",
   "id": "3841629c",
   "metadata": {
    "deletable": false,
    "editable": false
   },
   "source": [
    "#### Filter cars with 4 cylinders\n",
    "\n",
    "We filter our car data by only keeping the cars having 4 cylinders and store them in a new variable."
   ]
  },
  {
   "cell_type": "markdown",
   "id": "4fe40126",
   "metadata": {
    "deletable": false,
    "editable": false
   },
   "source": [
    "- create variable `cylinder4`\n",
    "- `Set cylinder4 to` &nbsp;:&nbsp; `car_data [ .. ]` &nbsp;<-&nbsp; ` .. = .. ` &nbsp;<-\n",
    "  - `from car_data get cylinders`\n",
    "  - `4`\n",
    "- Will look like - `Set cylinder4 to car_data [ from car_data get cylinders = 4]`"
   ]
  },
  {
   "cell_type": "markdown",
   "id": "a28e12fe",
   "metadata": {
    "deletable": false,
    "editable": false
   },
   "source": [
    "Here's how:\n",
    "\n",
    "1. From `LISTS`, click on `{dictVariable}[..]`. place `car_data` inplace of `dictvariable`.\n",
    "2. From `LOGIC` block, grab `.. = ..` block and put it within `[..]` part of the `car_data[..]` block. Together the block will look like `car_data[.. = ..]`.\n",
    "3. From `VARIABLES` click on `from .. get ..` block.Then select `car_data` from the dropdown located after `from` and select `cylinders` from the dropdown located after `get`. The block will look like `from car_data get cylinders`.\n",
    "5. Grab the `from car_data get cylinders` block and put it on the left side of `=` which is located in the `car_data[.. = ..]` block. Together it will look like `car_data[from car_data get cylinders = ..]`\n",
    "6. From `MATH`, click on `123` block and change the `123` to `4`. It will look like `4`.\n",
    "7. Grab the `4` block and put it on the right side of `=` which is located in the `car_data[from car_data get cylinders = ..]`. Together the block will look like `car_data[from car_data get cylinders = 4]`\n",
    "7. In `VARIABLES`, click on `Create variable..` and create a variable named `cylinder4`.\n",
    "8. Again in `VARIABLES`, grab the `set cylinder4 to` and connect it at the start of `car_data[from car_data get cylinders = 4]` block. Together it will look like `set cylinder4 to car_data[from car_data get cylinders = 4]`\n",
    "9. Click on \"Blocks to Code\" at the bottom of the blockly palette.\n",
    "10. Run the code cell of the notebook"
   ]
  },
  {
   "cell_type": "markdown",
   "id": "88a3fab8",
   "metadata": {
    "deletable": false,
    "editable": false
   },
   "source": [
    "<br>\n",
    "<details>\n",
    "  <summary>Blockly Hints (Click on the triangle to expand)</summary>\n",
    "  <ul>\n",
    "    <li>Notation\n",
    "      <ul>\n",
    "        <li><code>A</code> &nbsp;:&nbsp; <code>B</code>&nbsp; means snap blocks A and B together.</li>\n",
    "        <li><code>A</code> &nbsp;&lt-&nbsp; <code>B</code>&nbsp; means insert block B into the hole in block A.</li>\n",
    "      </ul>\n",
    "    </li>\n",
    "    <li>Blocks\n",
    "      <ul>\n",
    "        <li><code>set .. to</code>\n",
    "          <ul>\n",
    "            <li>The <code>set .. to</code> block is found under VARIABLES.</li>\n",
    "            <li>A variable must have been created before it will appear in the dropdown.</li>\n",
    "          </ul>\n",
    "        </li>\n",
    "        <li><code>{dictVariable} [ .. ]</code>\n",
    "          <ul>\n",
    "            <li>The <code>{dictVariable} [ .. ]</code> block is found under LISTS.</li>\n",
    "          </ul>\n",
    "        </li>\n",
    "        <li><code> .. = .. </code>\n",
    "          <ul>\n",
    "            <li>The <code> .. = .. </code> block is found under LOGIC.</li>\n",
    "            <li>Use the dropdown to get other comparison operators.</li>\n",
    "          </ul>\n",
    "        </li>\n",
    "        <li><code>from .. get ..</code>\n",
    "          <ul>\n",
    "            <li>The <code>from .. get ..</code> block is found under VARIABLES.</li>\n",
    "          </ul>\n",
    "        </li>\n",
    "      </ul>\n",
    "    </li>\n",
    "  </ul>\n",
    "</details>"
   ]
  },
  {
   "cell_type": "code",
   "execution_count": null,
   "id": "202fd387",
   "metadata": {
    "datawhys": {
     "response_id": 6,
     "student_response": true
    },
    "deletable": false,
    "editable": true
   },
   "outputs": [],
   "source": []
  },
  {
   "cell_type": "markdown",
   "id": "92923de1",
   "metadata": {
    "deletable": false,
    "editable": false
   },
   "source": [
    "Now we want to display our variable in which we stored the filtered cars with 4 cylinders."
   ]
  },
  {
   "cell_type": "markdown",
   "id": "44a3abc8",
   "metadata": {
    "deletable": false,
    "editable": false
   },
   "source": [
    "- variable &nbsp;`cylinder4`"
   ]
  },
  {
   "cell_type": "markdown",
   "id": "a4f44013",
   "metadata": {
    "deletable": false,
    "editable": false
   },
   "source": [
    "Here's how:\n",
    "\n",
    "1. From VARIABLES, grab `cylinder4`\n",
    "2. Click Blocks to Code and run cell"
   ]
  },
  {
   "cell_type": "markdown",
   "id": "3d191779",
   "metadata": {
    "deletable": false,
    "editable": false
   },
   "source": [
    "<br>\n",
    "<details>\n",
    "    <summary>Blockly Hints (Click on triangle to expand)</summary>\n",
    "    <ul>\n",
    "        <li>Blocks\n",
    "            <ul>\n",
    "                <li>variable\n",
    "                    <ul>\n",
    "                        <li>After it is created, each variable has its own block at the end of the VARIABLES menu.</li>\n",
    "                    </ul>\n",
    "                </li>\n",
    "            </ul>\n",
    "        </li>\n",
    "    </ul>\n",
    "</details>"
   ]
  },
  {
   "cell_type": "code",
   "execution_count": null,
   "id": "00c45248",
   "metadata": {
    "datawhys": {
     "response_id": 7,
     "student_response": true
    },
    "deletable": false,
    "editable": true
   },
   "outputs": [],
   "source": []
  },
  {
   "cell_type": "markdown",
   "id": "4873a916",
   "metadata": {
    "deletable": false,
    "editable": false
   },
   "source": [
    "#### Among the 4 cylinder cars filter the \"toyota corolla\" cars"
   ]
  },
  {
   "cell_type": "markdown",
   "id": "6615643a",
   "metadata": {
    "deletable": false,
    "editable": false
   },
   "source": [
    "After getting all the 4 cylinder cars from the dataset, we are interested in buying a 'toyota corolla' car, which we are a huge fan of. So, from our 4 cylinder list, we filter out available 'toyota corolla' cars there and store them in a new variable. "
   ]
  },
  {
   "cell_type": "markdown",
   "id": "54b2f5eb",
   "metadata": {
    "deletable": false,
    "editable": false
   },
   "source": [
    "- create variable `toyota_cars`\n",
    "- `Set toyota_cars to` &nbsp;:&nbsp; `cylinder4 [ .. ]` &nbsp;<-&nbsp; ` .. = .. ` &nbsp;<-\n",
    "  - `from cylinder4 get name`\n",
    "  - `toyota corolla`\n",
    "- Will look like - `Set toyota_cars to cylinder4 [ from cylinder4 get name = toyota corolla]`"
   ]
  },
  {
   "cell_type": "markdown",
   "id": "c40893ec",
   "metadata": {
    "deletable": false,
    "editable": false
   },
   "source": [
    "Here's how:\n",
    "\n",
    "1. From `LISTS`, click on `{dictvariable}[..]`. place `cylinder4` inplace of `dictvariable`.\n",
    "2. From `LOGIC` block, grab `.. = ..` block and put it within `[..]` part of the `cylinder4[..]` block. Together the block will look like `cylinder4[.. = ..]`.\n",
    "3. From `VARIABLES` click on `from .. get ..` block.Then select `cylinder4` from the dropdown located after `from` and select `name` from the dropdown located after `get`. The block will look like `from cylinder4 get name`\n",
    "5. Grab the `from cylinder4 get name` block and put it on the left side of `=` which is located in the `cylinder4[.. = ..]` block. Together it will look like `cylinder4[from cylinder4 get name = ..]`\n",
    "6. From `TEXT`, click on `\"..\"` block and write `toyota corolla`. It will look like `toyota corolla`.\n",
    "7. Grab the `toyota corolla` block and put it on the right side of `=` which is located in the `cylinder4[from cylinder4 get name = ..]`. Together the block will look like `cylinder4[from cylinder4 get name = toyota corolla]`\n",
    "7. In `VARIABLES`, click on `Create variable..` and create a variable named `toyota_cars`.\n",
    "8. Again in `VARIABLES`, grab the `set toyota_cars to` and connect it at the start of `cylinder4[from cylinder4 get cylinders = 4]` block. Together it will look like `set toyota_cars to cylinder4[from cylinder4 get name = toyota corolla]`\n",
    "9. Click on \"Blocks to Code\" at the bottom of the blockly palette.\n",
    "10. Run the code cell of the notebook"
   ]
  },
  {
   "cell_type": "markdown",
   "id": "942b47bd",
   "metadata": {
    "deletable": false,
    "editable": false
   },
   "source": [
    "<br>\n",
    "<details>\n",
    "  <summary>Blockly Hints (Click on the triangle to expand)</summary>\n",
    "  <ul>\n",
    "    <li>Notation\n",
    "      <ul>\n",
    "        <li><code>A</code> &nbsp;:&nbsp; <code>B</code>&nbsp; means snap blocks A and B together.</li>\n",
    "        <li><code>A</code>  &nbsp;&lt;-&nbsp;<code>B</code> &nbsp; means insert block B into the hole in block A.</li>\n",
    "      </ul>\n",
    "    </li>\n",
    "    <li>Blocks\n",
    "      <ul>\n",
    "        <li><code>set .. to</code>\n",
    "          <ul>\n",
    "            <li>The <code>set .. to</code> block is found under VARIABLES.</li>\n",
    "            <li>A variable must have been created before it will appear in the dropdown.</li>\n",
    "          </ul>\n",
    "        </li>\n",
    "        <li><code>{dictVariable} [ .. ]</code>\n",
    "          <ul>\n",
    "            <li>The <code>{dictVariable} [ .. ]</code> block is found under LISTS.</li>\n",
    "          </ul>\n",
    "        </li>\n",
    "        <li><code> .. = .. </code>\n",
    "          <ul>\n",
    "            <li>The <code> .. = .. </code> block is found under LOGIC.</li>\n",
    "            <li>Use the dropdown to get other comparison operators.</li>\n",
    "          </ul>\n",
    "        </li>\n",
    "        <li><code>from .. get ..</code>\n",
    "          <ul>\n",
    "            <li>The <code>from .. get ..</code> block is found under VARIABLES.</li>\n",
    "          </ul>\n",
    "        </li>\n",
    "      </ul>\n",
    "    </li>\n",
    "  </ul>\n",
    "</details>"
   ]
  },
  {
   "cell_type": "code",
   "execution_count": null,
   "id": "28769cdf",
   "metadata": {
    "datawhys": {
     "response_id": 8,
     "student_response": true
    },
    "deletable": false,
    "editable": true
   },
   "outputs": [],
   "source": []
  },
  {
   "cell_type": "markdown",
   "id": "2db6590e",
   "metadata": {
    "deletable": false,
    "editable": false
   },
   "source": [
    "Now we want to display our variable in which we stored the filtered toyota corolla cars with 4 cylinders."
   ]
  },
  {
   "cell_type": "markdown",
   "id": "985b8a8d",
   "metadata": {
    "deletable": false,
    "editable": false
   },
   "source": [
    "- variable &nbsp;`toyota_cars`"
   ]
  },
  {
   "cell_type": "markdown",
   "id": "d9283bdc",
   "metadata": {
    "deletable": false,
    "editable": false
   },
   "source": [
    "Here's how:\n",
    "\n",
    "1. From VARIABLES, grab `toyota_cars`\n",
    "2. Click Blocks to Code and run cell"
   ]
  },
  {
   "cell_type": "markdown",
   "id": "c2610adf",
   "metadata": {
    "deletable": false,
    "editable": false
   },
   "source": [
    "<br>\n",
    "<details>\n",
    "    <summary>Blockly Hints (Click on triangle to expand)</summary>\n",
    "    <ul>\n",
    "        <li>Blocks\n",
    "            <ul>\n",
    "                <li>variable\n",
    "                    <ul>\n",
    "                        <li>After it is created, each variable has its own block at the end of the VARIABLES menu.</li>\n",
    "                    </ul>\n",
    "                </li>\n",
    "            </ul>\n",
    "        </li>\n",
    "    </ul>\n",
    "</details>"
   ]
  },
  {
   "cell_type": "code",
   "execution_count": null,
   "id": "9948b96d",
   "metadata": {
    "datawhys": {
     "response_id": 9,
     "student_response": true
    },
    "deletable": false,
    "editable": true
   },
   "outputs": [],
   "source": []
  },
  {
   "cell_type": "markdown",
   "id": "c3a14622",
   "metadata": {
    "deletable": false,
    "editable": false
   },
   "source": [
    "#### Among the 4 cylinder \"toyota corolla\" cars filter the cars which model_year is after 1980"
   ]
  },
  {
   "cell_type": "markdown",
   "id": "be5ad1ac",
   "metadata": {
    "deletable": false,
    "editable": false
   },
   "source": [
    "Now, we heard that cars with models made after 1980 are the most fuel efficient cars. So, from our new filtered data , we can find only the cars having those attributes."
   ]
  },
  {
   "cell_type": "markdown",
   "id": "9044a81d",
   "metadata": {
    "deletable": false,
    "editable": false
   },
   "source": [
    "- Create variable `filtered_cars`\n",
    "- `Set filtered_cars to` &nbsp;:&nbsp; `toyota_cars [ .. ]` &nbsp;<-&nbsp; ` .. > .. ` &nbsp;<-\n",
    "  - `from toyota_cars get model_year`\n",
    "  - `80`"
   ]
  },
  {
   "cell_type": "markdown",
   "id": "0611a0ff",
   "metadata": {
    "deletable": false,
    "editable": false
   },
   "source": [
    "Here's how:\n",
    "\n",
    "1. From `LISTS`, click on `{dictvariable}[..]`. place `toyota_cars` inplace of `dictvariable`.\n",
    "2. From `LOGIC` block, grab `.. = ..` block.\n",
    "and put it within `[..]` part of the `toyota_cars[..]` block. Together the block will look like `toyota_cars[.. = ..]`.\n",
    "3. From `VARIABLES` click on `from .. get ..` block.Then select `toyota_cars` from the dropdown located after `from` and select `name` from the dropdown located after `get`. The block will look like `from toyota_cars get model_year`\n",
    "5. Grab the `from toyota_cars get model_year` block and put it on the left side of `=` which is located in the `toyota_cars[.. = ..]` block. Together it will look like `toyota_cars[from toyota_cars get model_year = ..]`\n",
    "6. From `MATH`, click on `123` block and write `80`. It will look like `80`.\n",
    "7. Grab the `80` block and put it on the right side of `=` which is located in the `toyota_cars[from toyota_cars get model_year = ..]`. Together the block will look like `toyota_cars[from toyota_cars get model_year = 80]`\n",
    "7. Click on the dropdown right after `=` and change it to `>` so that the block looks like `toyota_cars[from toyota_cars get model_year > 80]`\n",
    "8. In `VARIABLES`, click on `Create variable..` and create a variable named `filtered_cars`.\n",
    "9. Again in `VARIABLES`, grab the `set filtered_cars to` and connect it at the start of `toyota_cars[from toyota_cars get model_year > 80]` block. Together it will look like `set filtered_cars to toyota_cars[from toyota_cars get model_year > 80]`\n",
    "10. Click on \"Blocks to Code\" at the bottom of the blockly palette.\n",
    "11. Run the code cell of the notebook"
   ]
  },
  {
   "cell_type": "markdown",
   "id": "eb1152cf",
   "metadata": {
    "deletable": false,
    "editable": false
   },
   "source": [
    "<br>\n",
    "<details>\n",
    "  <summary>Blockly Hints (Click on triangle to expand)</summary>\n",
    "  <ul>\n",
    "    <li>Notation\n",
    "      <ul>\n",
    "        <li><code>A</code> &nbsp;:&nbsp; <code>B</code>&nbsp; means snap blocks A and B together.</li>\n",
    "        <li><code>A</code>  &nbsp;&lt;-&nbsp; <code>B</code>&nbsp; means insert block B into the hole in block A.</li>\n",
    "      </ul>\n",
    "    </li>\n",
    "    <li>Blocks\n",
    "      <ul>\n",
    "        <li><code>set .. to</code>\n",
    "          <ul>\n",
    "            <li>The <code>set .. to</code> block is found under VARIABLES.</li>\n",
    "            <li>A variable must have been created before it will appear in the dropdown.</li>\n",
    "          </ul>\n",
    "        </li>\n",
    "        <li><code>{dictVariable} [ .. ]</code>\n",
    "          <ul>\n",
    "            <li>The <code>{dictVariable} [ .. ]</code> block is found under LISTS.</li>\n",
    "          </ul>\n",
    "        </li>\n",
    "        <li><code> .. = .. </code>\n",
    "          <ul>\n",
    "            <li>The <code> .. = .. </code> block is found under LOGIC.</li>\n",
    "            <li>Use the dropdown to get other comparison operators.Here you have to find the > </li>\n",
    "          </ul>\n",
    "        </li>\n",
    "        <li><code>from .. get ..</code>\n",
    "          <ul>\n",
    "            <li>The <code>from .. get ..</code> block is found under VARIABLES.</li>\n",
    "          </ul>\n",
    "        </li>\n",
    "      </ul>\n",
    "    </li>\n",
    "  </ul>\n",
    "</details>"
   ]
  },
  {
   "cell_type": "code",
   "execution_count": null,
   "id": "357af460",
   "metadata": {
    "datawhys": {
     "response_id": 10,
     "student_response": true
    },
    "deletable": false,
    "editable": true
   },
   "outputs": [],
   "source": []
  },
  {
   "cell_type": "markdown",
   "id": "258b2d3e",
   "metadata": {
    "deletable": false,
    "editable": false
   },
   "source": [
    "Now we want to display our final filtered cars"
   ]
  },
  {
   "cell_type": "markdown",
   "id": "5636f83d",
   "metadata": {
    "deletable": false,
    "editable": false
   },
   "source": [
    "- variable &nbsp;`filtered_cars`"
   ]
  },
  {
   "cell_type": "markdown",
   "id": "1c5e8f21",
   "metadata": {
    "deletable": false,
    "editable": false
   },
   "source": [
    "Here's how:\n",
    "\n",
    "1. From VARIABLES, grab `filtered_cars`\n",
    "2. Click Blocks to Code and run cell"
   ]
  },
  {
   "cell_type": "markdown",
   "id": "d2e26d4b",
   "metadata": {
    "deletable": false,
    "editable": false
   },
   "source": [
    "<br>\n",
    "<details>\n",
    "    <summary>Blockly Hints (Click on triangle to expand)</summary>\n",
    "    <ul>\n",
    "        <li>Blocks\n",
    "            <ul>\n",
    "                <li>variable\n",
    "                    <ul>\n",
    "                        <li>After it is created, each variable has its own block at the end of the VARIABLES menu.</li>\n",
    "                    </ul>\n",
    "                </li>\n",
    "            </ul>\n",
    "        </li>\n",
    "    </ul>\n",
    "</details>"
   ]
  },
  {
   "cell_type": "code",
   "execution_count": null,
   "id": "41d7e83e",
   "metadata": {
    "datawhys": {
     "response_id": 11,
     "student_response": true
    },
    "deletable": false,
    "editable": true
   },
   "outputs": [],
   "source": []
  },
  {
   "cell_type": "markdown",
   "id": "7f22dbad",
   "metadata": {
    "deletable": false,
    "editable": false
   },
   "source": [
    "### How many cars did we finally get after applying filtering?"
   ]
  },
  {
   "cell_type": "markdown",
   "id": "accd11f2-7a8d-4e5a-abf6-3cf1fea6ba6f",
   "metadata": {
    "datawhys": {
     "response_id": 12,
     "student_response": true
    },
    "deletable": false,
    "editable": true
   },
   "source": [
    "<div class=\"alert alert-block alert-info\">\n",
    "<!-- YOUR ANSWER BEGIN -->\n",
    "\n",
    "\n",
    "\n",
    "\n",
    "\n",
    "<!-- YOUR ANSWER END -->\n",
    "</div>"
   ]
  },
  {
   "cell_type": "code",
   "execution_count": null,
   "id": "6eea0fee-a317-4d3f-bb69-2e21830456db",
   "metadata": {
    "deletable": false,
    "editable": false
   },
   "outputs": [],
   "source": []
  }
 ],
 "metadata": {
  "kernelspec": {
   "display_name": "Python 3 (ipykernel)",
   "language": "python",
   "name": "python3"
  },
  "language_info": {
   "codemirror_mode": {
    "name": "ipython",
    "version": 3
   },
   "file_extension": ".py",
   "mimetype": "text/x-python",
   "name": "python",
   "nbconvert_exporter": "python",
   "pygments_lexer": "ipython3",
   "version": "3.12.6"
  },
  "vscode": {
   "interpreter": {
    "hash": "be14b4e913c6f2457a185c22af60a9db8729a2914b48dcc2c5e42fe4e4a2ce08"
   }
  }
 },
 "nbformat": 4,
 "nbformat_minor": 5
}
