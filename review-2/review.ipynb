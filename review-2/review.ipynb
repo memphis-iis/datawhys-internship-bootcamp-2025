{
 "cells": [
  {
   "attachments": {},
   "cell_type": "markdown",
   "id": "584e29a1",
   "metadata": {
    "deletable": false,
    "editable": false
   },
   "source": [
    "# Bootcamp Review\n",
    "\n"
   ]
  },
  {
   "attachments": {},
   "cell_type": "markdown",
   "id": "138cb149",
   "metadata": {
    "deletable": false,
    "editable": false
   },
   "source": [
    "## Introduction to Jupyterlab"
   ]
  },
  {
   "attachments": {},
   "cell_type": "markdown",
   "id": "d25d9ddb",
   "metadata": {
    "deletable": false,
    "editable": false
   },
   "source": [
    "### Q1. From the image below, describe which button we should click to upload a file."
   ]
  },
  {
   "attachments": {},
   "cell_type": "markdown",
   "id": "a9a475c6",
   "metadata": {
    "deletable": false,
    "editable": false
   },
   "source": [
    "<img src=\"images/upload.png\" alt=\"alt text\" width=\"300\"/>"
   ]
  },
  {
   "attachments": {},
   "cell_type": "markdown",
   "id": "a7bdecba",
   "metadata": {
    "datawhys": {
     "response_id": 1,
     "student_response": true
    },
    "deletable": false,
    "editable": true
   },
   "source": [
    "<div class=\"alert alert-block alert-info\">\n",
    "<!-- YOUR ANSWER BEGIN -->\n",
    "\n",
    "\n",
    "\n",
    "\n",
    "\n",
    "<!-- YOUR ANSWER END -->\n",
    "</div>"
   ]
  },
  {
   "attachments": {},
   "cell_type": "markdown",
   "id": "4e6777ce",
   "metadata": {
    "deletable": false,
    "editable": false
   },
   "source": [
    "### Q2. What action do we take to go to the \"home/newdata/\" folder if we are currently in the \"home/newdata/testing/\" folder?"
   ]
  },
  {
   "attachments": {},
   "cell_type": "markdown",
   "id": "42ac4ac6",
   "metadata": {
    "datawhys": {
     "response_id": 2,
     "student_response": true
    },
    "deletable": false,
    "editable": true
   },
   "source": [
    "<div class=\"alert alert-block alert-info\">\n",
    "<!-- YOUR ANSWER BEGIN -->\n",
    "\n",
    "\n",
    "\n",
    "\n",
    "\n",
    "<!-- YOUR ANSWER END -->\n",
    "</div>"
   ]
  },
  {
   "attachments": {},
   "cell_type": "markdown",
   "id": "32a86b59",
   "metadata": {
    "deletable": false,
    "editable": false
   },
   "source": [
    "### Q3. From the image below, describe which button we should click to open the File Browser."
   ]
  },
  {
   "attachments": {},
   "cell_type": "markdown",
   "id": "f3326a92",
   "metadata": {
    "deletable": false,
    "editable": false
   },
   "source": [
    "<img src=\"images/fileexplorer.png\" alt=\"alt text\" width=\"300\"/>"
   ]
  },
  {
   "attachments": {},
   "cell_type": "markdown",
   "id": "cf5b37ff",
   "metadata": {
    "datawhys": {
     "response_id": 3,
     "student_response": true
    },
    "deletable": false,
    "editable": true
   },
   "source": [
    "<div class=\"alert alert-block alert-info\">\n",
    "<!-- YOUR ANSWER BEGIN -->\n",
    "\n",
    "\n",
    "\n",
    "\n",
    "\n",
    "<!-- YOUR ANSWER END -->\n",
    "</div>"
   ]
  },
  {
   "attachments": {},
   "cell_type": "markdown",
   "id": "717c3de8",
   "metadata": {
    "deletable": false,
    "editable": false
   },
   "source": [
    "### Q4. Which file format is commonly used for Jupyter notebooks?\n",
    "\n",
    "- .csv\n",
    "- .ipynb\n",
    "- .txt\n",
    "- .py"
   ]
  },
  {
   "attachments": {},
   "cell_type": "markdown",
   "id": "d5323c59",
   "metadata": {
    "datawhys": {
     "response_id": 4,
     "student_response": true
    },
    "deletable": false,
    "editable": true
   },
   "source": [
    "<div class=\"alert alert-block alert-info\">\n",
    "<!-- YOUR ANSWER BEGIN -->\n",
    "\n",
    "\n",
    "\n",
    "\n",
    "\n",
    "<!-- YOUR ANSWER END -->\n",
    "</div>"
   ]
  },
  {
   "attachments": {},
   "cell_type": "markdown",
   "id": "f4dac357",
   "metadata": {
    "deletable": false,
    "editable": false
   },
   "source": [
    "### Q5. From the image below, describe which button we should click to open the Launcher."
   ]
  },
  {
   "attachments": {},
   "cell_type": "markdown",
   "id": "be3799a6",
   "metadata": {
    "deletable": false,
    "editable": false
   },
   "source": [
    "<img src=\"images/upload.png\" alt=\"alt text\" width=\"300\"/>"
   ]
  },
  {
   "attachments": {},
   "cell_type": "markdown",
   "id": "640b336a",
   "metadata": {
    "datawhys": {
     "response_id": 5,
     "student_response": true
    },
    "deletable": false,
    "editable": true
   },
   "source": [
    "<div class=\"alert alert-block alert-info\">\n",
    "<!-- YOUR ANSWER BEGIN -->\n",
    "\n",
    "\n",
    "\n",
    "\n",
    "\n",
    "<!-- YOUR ANSWER END -->\n",
    "</div>"
   ]
  },
  {
   "attachments": {},
   "cell_type": "markdown",
   "id": "3a16602a",
   "metadata": {
    "deletable": false,
    "editable": false
   },
   "source": [
    "## Introduction to Jupyter Notebooks"
   ]
  },
  {
   "attachments": {},
   "cell_type": "markdown",
   "id": "19ef5363",
   "metadata": {
    "deletable": false,
    "editable": false
   },
   "source": [
    "### Q6. Jupyter notebooks are made up of _______ which can contain markdown or Python code."
   ]
  },
  {
   "attachments": {},
   "cell_type": "markdown",
   "id": "f7c44c96",
   "metadata": {
    "datawhys": {
     "response_id": 6,
     "student_response": true
    },
    "deletable": false,
    "editable": true
   },
   "source": [
    "<div class=\"alert alert-block alert-info\">\n",
    "<!-- YOUR ANSWER BEGIN -->\n",
    "\n",
    "\n",
    "\n",
    "\n",
    "\n",
    "<!-- YOUR ANSWER END -->\n",
    "</div>"
   ]
  },
  {
   "attachments": {},
   "cell_type": "markdown",
   "id": "46848e9b",
   "metadata": {
    "deletable": false,
    "editable": false
   },
   "source": [
    "<img src=\"images/notebook_bar.png\" alt=\"alt text\" width=\"400\"/>"
   ]
  },
  {
   "attachments": {},
   "cell_type": "markdown",
   "id": "9d9b50d4",
   "metadata": {
    "deletable": false,
    "editable": false
   },
   "source": [
    "### Q7. From the image above, describe which button we should click to run the code."
   ]
  },
  {
   "attachments": {},
   "cell_type": "markdown",
   "id": "61f3871d",
   "metadata": {
    "datawhys": {
     "response_id": 7,
     "student_response": true
    },
    "deletable": false,
    "editable": true
   },
   "source": [
    "<div class=\"alert alert-block alert-info\">\n",
    "<!-- YOUR ANSWER BEGIN -->\n",
    "\n",
    "\n",
    "\n",
    "\n",
    "\n",
    "<!-- YOUR ANSWER END -->\n",
    "</div>"
   ]
  },
  {
   "attachments": {},
   "cell_type": "markdown",
   "id": "44999b37",
   "metadata": {
    "deletable": false,
    "editable": false
   },
   "source": [
    "### Q8. What is the purpose of *variables* in Blockly?\n",
    "- To store and manipulate data\n",
    "- To change the appearance of blocks\n",
    "- To control program execution speed"
   ]
  },
  {
   "attachments": {},
   "cell_type": "markdown",
   "id": "eba74a09",
   "metadata": {
    "datawhys": {
     "response_id": 8,
     "student_response": true
    },
    "deletable": false,
    "editable": true
   },
   "source": [
    "<div class=\"alert alert-block alert-info\">\n",
    "<!-- YOUR ANSWER BEGIN -->\n",
    "\n",
    "\n",
    "\n",
    "\n",
    "\n",
    "<!-- YOUR ANSWER END -->\n",
    "</div>"
   ]
  },
  {
   "attachments": {},
   "cell_type": "markdown",
   "id": "9350944c",
   "metadata": {
    "deletable": false,
    "editable": false
   },
   "source": [
    "## Reading CSV data"
   ]
  },
  {
   "attachments": {},
   "cell_type": "markdown",
   "id": "68ee5420",
   "metadata": {
    "deletable": false,
    "editable": false
   },
   "source": [
    "### Q9. Which of the following blocks is used to import the <code>pandas</code> library?"
   ]
  },
  {
   "attachments": {},
   "cell_type": "markdown",
   "id": "ed7d3c44",
   "metadata": {
    "deletable": false,
    "editable": false
   },
   "source": [
    "\n",
    "- `from .. import ..`\n",
    "- `with .. do .. using ..`\n",
    "- `import .. as ..`\n",
    "- `from .. get ..`\n"
   ]
  },
  {
   "attachments": {},
   "cell_type": "markdown",
   "id": "815df5d5",
   "metadata": {
    "datawhys": {
     "response_id": 9,
     "student_response": true
    },
    "deletable": false,
    "editable": true
   },
   "source": [
    "<div class=\"alert alert-block alert-info\">\n",
    "<!-- YOUR ANSWER BEGIN -->\n",
    "\n",
    "\n",
    "\n",
    "\n",
    "\n",
    "<!-- YOUR ANSWER END -->\n",
    "</div>"
   ]
  },
  {
   "attachments": {},
   "cell_type": "markdown",
   "id": "d3639b09",
   "metadata": {
    "deletable": false,
    "editable": false
   },
   "source": [
    "### Q10. Which of the following statements is true about CSV files?\n",
    "- CSV files contain data separated by tabs.\n",
    "- CSV files are a type of database format.\n",
    "- CSV files contain data separated by semicolons.\n",
    "- CSV files are plain text files with data separated by commas."
   ]
  },
  {
   "attachments": {},
   "cell_type": "markdown",
   "id": "c4552b6d",
   "metadata": {
    "deletable": false,
    "editable": false
   },
   "source": [
    "#!respones"
   ]
  },
  {
   "attachments": {},
   "cell_type": "markdown",
   "id": "4b2dd2b1",
   "metadata": {
    "deletable": false,
    "editable": false
   },
   "source": [
    "### Q11. After the reading in the dataset with <code>pandas</code> and storing it in a variable, what is the next thing we usually do?"
   ]
  },
  {
   "attachments": {},
   "cell_type": "markdown",
   "id": "09b7a07f",
   "metadata": {
    "datawhys": {
     "response_id": 10,
     "student_response": true
    },
    "deletable": false,
    "editable": true
   },
   "source": [
    "<div class=\"alert alert-block alert-info\">\n",
    "<!-- YOUR ANSWER BEGIN -->\n",
    "\n",
    "\n",
    "\n",
    "\n",
    "\n",
    "<!-- YOUR ANSWER END -->\n",
    "</div>"
   ]
  },
  {
   "attachments": {},
   "cell_type": "markdown",
   "id": "0ff14740",
   "metadata": {
    "deletable": false,
    "editable": false
   },
   "source": [
    "### Q12. What is the purpose of using dataframes?"
   ]
  },
  {
   "attachments": {},
   "cell_type": "markdown",
   "id": "b4fb0f8a",
   "metadata": {
    "datawhys": {
     "response_id": 11,
     "student_response": true
    },
    "deletable": false,
    "editable": true
   },
   "source": [
    "<div class=\"alert alert-block alert-info\">\n",
    "<!-- YOUR ANSWER BEGIN -->\n",
    "\n",
    "\n",
    "\n",
    "\n",
    "\n",
    "<!-- YOUR ANSWER END -->\n",
    "</div>"
   ]
  },
  {
   "attachments": {},
   "cell_type": "markdown",
   "id": "5cc2985f",
   "metadata": {
    "deletable": false,
    "editable": false
   },
   "source": [
    "### Q13. What block do we use to view the contents of a dataframe?"
   ]
  },
  {
   "attachments": {},
   "cell_type": "markdown",
   "id": "f494a126",
   "metadata": {
    "datawhys": {
     "response_id": 12,
     "student_response": true
    },
    "deletable": false,
    "editable": true
   },
   "source": [
    "<div class=\"alert alert-block alert-info\">\n",
    "<!-- YOUR ANSWER BEGIN -->\n",
    "\n",
    "\n",
    "\n",
    "\n",
    "\n",
    "<!-- YOUR ANSWER END -->\n",
    "</div>"
   ]
  },
  {
   "attachments": {},
   "cell_type": "markdown",
   "id": "a151c197",
   "metadata": {
    "deletable": false,
    "editable": false
   },
   "source": [
    "### Q14. Which method in Pandas can be used to check the basic statistics of a DataFrame after reading a CSV file?\n",
    "\n",
    "- info()\n",
    "- describe()\n",
    "- head()\n",
    "- shape()"
   ]
  },
  {
   "attachments": {},
   "cell_type": "markdown",
   "id": "e569407a",
   "metadata": {
    "datawhys": {
     "response_id": 13,
     "student_response": true
    },
    "deletable": false,
    "editable": true
   },
   "source": [
    "<div class=\"alert alert-block alert-info\">\n",
    "<!-- YOUR ANSWER BEGIN -->\n",
    "\n",
    "\n",
    "\n",
    "\n",
    "\n",
    "<!-- YOUR ANSWER END -->\n",
    "</div>"
   ]
  },
  {
   "attachments": {},
   "cell_type": "markdown",
   "id": "991536a0",
   "metadata": {
    "deletable": false,
    "editable": false
   },
   "source": [
    "<img src=\"images/datatype.png\" alt=\"alt text\" width=\"400\"/>"
   ]
  },
  {
   "attachments": {},
   "cell_type": "markdown",
   "id": "8a57f310",
   "metadata": {
    "deletable": false,
    "editable": false
   },
   "source": [
    "### Q15. In the picture above, what is the datatype of the column smoker, size and tip ?"
   ]
  },
  {
   "attachments": {},
   "cell_type": "markdown",
   "id": "58b0cbee",
   "metadata": {
    "datawhys": {
     "response_id": 14,
     "student_response": true
    },
    "deletable": false,
    "editable": true
   },
   "source": [
    "<div class=\"alert alert-block alert-info\">\n",
    "<!-- YOUR ANSWER BEGIN -->\n",
    "\n",
    "\n",
    "\n",
    "\n",
    "\n",
    "<!-- YOUR ANSWER END -->\n",
    "</div>"
   ]
  },
  {
   "attachments": {},
   "cell_type": "markdown",
   "id": "b9f98057",
   "metadata": {
    "deletable": false,
    "editable": false
   },
   "source": [
    "### Q16. Which of the following blocks should we use to get the column names of a dataframe?"
   ]
  },
  {
   "attachments": {},
   "cell_type": "markdown",
   "id": "ed67bdc4",
   "metadata": {
    "deletable": false,
    "editable": false
   },
   "source": [
    "- `with dataframe do .. using ..`\n",
    "- `dataframe [ .. ]`\n",
    "- `from dataframe get ..`\n",
    "- `set dataframe to`"
   ]
  },
  {
   "attachments": {},
   "cell_type": "markdown",
   "id": "04c60cdf",
   "metadata": {
    "datawhys": {
     "response_id": 15,
     "student_response": true
    },
    "deletable": false,
    "editable": true
   },
   "source": [
    "<div class=\"alert alert-block alert-info\">\n",
    "<!-- YOUR ANSWER BEGIN -->\n",
    "\n",
    "\n",
    "\n",
    "\n",
    "\n",
    "<!-- YOUR ANSWER END -->\n",
    "</div>"
   ]
  },
  {
   "attachments": {},
   "cell_type": "markdown",
   "id": "a1492b07",
   "metadata": {
    "deletable": false,
    "editable": false
   },
   "source": [
    "### Q17. Which of the following completed blocks will give us the number of rows and columns in a dataset?\n"
   ]
  },
  {
   "attachments": {},
   "cell_type": "markdown",
   "id": "82b74f34",
   "metadata": {
    "deletable": false,
    "editable": false
   },
   "source": [
    "- `from df get size`\n",
    "- `from df get shape`\n",
    "- `from df get len`\n",
    "- `from df get dimension`"
   ]
  },
  {
   "attachments": {},
   "cell_type": "markdown",
   "id": "177d2b4c",
   "metadata": {
    "datawhys": {
     "response_id": 16,
     "student_response": true
    },
    "deletable": false,
    "editable": true
   },
   "source": [
    "<div class=\"alert alert-block alert-info\">\n",
    "<!-- YOUR ANSWER BEGIN -->\n",
    "\n",
    "\n",
    "\n",
    "\n",
    "\n",
    "<!-- YOUR ANSWER END -->\n",
    "</div>"
   ]
  },
  {
   "attachments": {},
   "cell_type": "markdown",
   "id": "05bcf7e3",
   "metadata": {
    "deletable": false,
    "editable": false
   },
   "source": [
    "### Q18. Suppose we have a dataframe variable <code>df</code> with the columns <code>length</code>, <code>width</code>, and <code>diameter</code>. Which of the following completed blocks will give us a subset of the dataframe with only the <code>diameter</code> column? (There may be multiple correct answers.)\n"
   ]
  },
  {
   "attachments": {},
   "cell_type": "markdown",
   "id": "69a630d3",
   "metadata": {
    "deletable": false,
    "editable": false
   },
   "source": [
    "- `df [ .. ]` &nbsp;<-&nbsp; `\" diameter \"`\n",
    "- `set df to` &nbsp;:&nbsp; `\" diameter \"`\n",
    "- `\" diameter \"`\n",
    "- `from df get diameter`"
   ]
  },
  {
   "attachments": {},
   "cell_type": "markdown",
   "id": "2e4f3ad5",
   "metadata": {
    "datawhys": {
     "response_id": 17,
     "student_response": true
    },
    "deletable": false,
    "editable": true
   },
   "source": [
    "<div class=\"alert alert-block alert-info\">\n",
    "<!-- YOUR ANSWER BEGIN -->\n",
    "\n",
    "\n",
    "\n",
    "\n",
    "\n",
    "<!-- YOUR ANSWER END -->\n",
    "</div>"
   ]
  },
  {
   "attachments": {},
   "cell_type": "markdown",
   "id": "ee3e7570",
   "metadata": {
    "deletable": false,
    "editable": false
   },
   "source": [
    "## Plotting"
   ]
  },
  {
   "attachments": {},
   "cell_type": "markdown",
   "id": "70ff9875",
   "metadata": {
    "deletable": false,
    "editable": false
   },
   "source": [
    "### Q19. Which of the following is the name of the library we use for plotting?\n"
   ]
  },
  {
   "attachments": {},
   "cell_type": "markdown",
   "id": "f9b07f47",
   "metadata": {
    "deletable": false,
    "editable": false
   },
   "source": [
    "- pandas\n",
    "- px\n",
    "- plotly\n",
    "- plotly.express"
   ]
  },
  {
   "attachments": {},
   "cell_type": "markdown",
   "id": "e63bb32c",
   "metadata": {
    "datawhys": {
     "response_id": 18,
     "student_response": true
    },
    "deletable": false,
    "editable": true
   },
   "source": [
    "<div class=\"alert alert-block alert-info\">\n",
    "<!-- YOUR ANSWER BEGIN -->\n",
    "\n",
    "\n",
    "\n",
    "\n",
    "\n",
    "<!-- YOUR ANSWER END -->\n",
    "</div>"
   ]
  },
  {
   "attachments": {},
   "cell_type": "markdown",
   "id": "434c3ec0",
   "metadata": {
    "deletable": false,
    "editable": false
   },
   "source": [
    "### Q20. When plotting a function, what does the x-coordinate represent?\n",
    "\n",
    "- The dependent variable\n",
    "- The independent variable\n",
    "- The slope of the function\n",
    "- The intercept of the function"
   ]
  },
  {
   "attachments": {},
   "cell_type": "markdown",
   "id": "63a76bd3",
   "metadata": {
    "datawhys": {
     "response_id": 19,
     "student_response": true
    },
    "deletable": false,
    "editable": true
   },
   "source": [
    "<div class=\"alert alert-block alert-info\">\n",
    "<!-- YOUR ANSWER BEGIN -->\n",
    "\n",
    "\n",
    "\n",
    "\n",
    "\n",
    "<!-- YOUR ANSWER END -->\n",
    "</div>"
   ]
  },
  {
   "attachments": {},
   "cell_type": "markdown",
   "id": "10b6a29a",
   "metadata": {
    "deletable": false,
    "editable": false
   },
   "source": [
    "### Q21. Plotly Express is a library used for:\n",
    "- Analyzing data\n",
    "- Creating visualizations\n",
    "- Machine learning algorithms\n",
    "- Web development"
   ]
  },
  {
   "attachments": {},
   "cell_type": "markdown",
   "id": "adb910d7",
   "metadata": {
    "datawhys": {
     "response_id": 20,
     "student_response": true
    },
    "deletable": false,
    "editable": true
   },
   "source": [
    "<div class=\"alert alert-block alert-info\">\n",
    "<!-- YOUR ANSWER BEGIN -->\n",
    "\n",
    "\n",
    "\n",
    "\n",
    "\n",
    "<!-- YOUR ANSWER END -->\n",
    "</div>"
   ]
  },
  {
   "attachments": {},
   "cell_type": "markdown",
   "id": "e9b6dc22",
   "metadata": {
    "deletable": false,
    "editable": false
   },
   "source": [
    "### Q22. Which of the following types of plots can be created using Plotly Express?\n",
    "- Scatter plots\n",
    "- Bar charts\n",
    "- Line plots\n",
    "- All of the above"
   ]
  },
  {
   "attachments": {},
   "cell_type": "markdown",
   "id": "1677c3eb",
   "metadata": {
    "datawhys": {
     "response_id": 21,
     "student_response": true
    },
    "deletable": false,
    "editable": true
   },
   "source": [
    "<div class=\"alert alert-block alert-info\">\n",
    "<!-- YOUR ANSWER BEGIN -->\n",
    "\n",
    "\n",
    "\n",
    "\n",
    "\n",
    "<!-- YOUR ANSWER END -->\n",
    "</div>"
   ]
  },
  {
   "attachments": {},
   "cell_type": "markdown",
   "id": "96b8e86e",
   "metadata": {
    "deletable": false,
    "editable": false
   },
   "source": [
    "### Q23. Which of the following kinds of charts do we most often use for showing change in value over time?\n"
   ]
  },
  {
   "attachments": {},
   "cell_type": "markdown",
   "id": "d7497f8f",
   "metadata": {
    "deletable": false,
    "editable": false
   },
   "source": [
    "- bar chart\n",
    "- scatter plot\n",
    "- line graph\n",
    "- box plot"
   ]
  },
  {
   "attachments": {},
   "cell_type": "markdown",
   "id": "65a4e9d2",
   "metadata": {
    "datawhys": {
     "response_id": 22,
     "student_response": true
    },
    "deletable": false,
    "editable": true
   },
   "source": [
    "<div class=\"alert alert-block alert-info\">\n",
    "<!-- YOUR ANSWER BEGIN -->\n",
    "\n",
    "\n",
    "\n",
    "\n",
    "\n",
    "<!-- YOUR ANSWER END -->\n",
    "</div>"
   ]
  },
  {
   "attachments": {},
   "cell_type": "markdown",
   "id": "44d36346",
   "metadata": {
    "deletable": false,
    "editable": false
   },
   "source": [
    "### Q24. In a box plot, what does the box represent?\n",
    "\n",
    "- The median of the data\n",
    "- The range of the data\n",
    "- The inter-quartile range of the data\n",
    "- The mean of the data"
   ]
  },
  {
   "attachments": {},
   "cell_type": "markdown",
   "id": "6dff4795",
   "metadata": {
    "datawhys": {
     "response_id": 23,
     "student_response": true
    },
    "deletable": false,
    "editable": true
   },
   "source": [
    "<div class=\"alert alert-block alert-info\">\n",
    "<!-- YOUR ANSWER BEGIN -->\n",
    "\n",
    "\n",
    "\n",
    "\n",
    "\n",
    "<!-- YOUR ANSWER END -->\n",
    "</div>"
   ]
  },
  {
   "attachments": {},
   "cell_type": "markdown",
   "id": "42dbd8bc",
   "metadata": {
    "deletable": false,
    "editable": false
   },
   "source": [
    "### Q.25 What type of graph is used to show the distribution of a continuous variable?\n",
    "\n",
    "- Box plot\n",
    "- Line graph\n",
    "- Bar graph\n",
    "- Histogram"
   ]
  },
  {
   "attachments": {},
   "cell_type": "markdown",
   "id": "5e1a760b",
   "metadata": {
    "deletable": false,
    "editable": false
   },
   "source": [
    "<img src=\"images/scatter.png\" alt=\"alt text\" width=\"400\"/>"
   ]
  },
  {
   "attachments": {},
   "cell_type": "markdown",
   "id": "c602f8a8",
   "metadata": {
    "deletable": false,
    "editable": false
   },
   "source": [
    "### Q26. Which of the following kinds of charts is the one shown above?\n"
   ]
  },
  {
   "attachments": {},
   "cell_type": "markdown",
   "id": "dea20717",
   "metadata": {
    "deletable": false,
    "editable": false
   },
   "source": [
    "- bar chart\n",
    "- scatter plot\n",
    "- line graph\n",
    "- box plot"
   ]
  },
  {
   "attachments": {},
   "cell_type": "markdown",
   "id": "64465909",
   "metadata": {
    "datawhys": {
     "response_id": 24,
     "student_response": true
    },
    "deletable": false,
    "editable": true
   },
   "source": [
    "<div class=\"alert alert-block alert-info\">\n",
    "<!-- YOUR ANSWER BEGIN -->\n",
    "\n",
    "\n",
    "\n",
    "\n",
    "\n",
    "<!-- YOUR ANSWER END -->\n",
    "</div>"
   ]
  },
  {
   "attachments": {},
   "cell_type": "markdown",
   "id": "a1cbb50c",
   "metadata": {
    "deletable": false,
    "editable": false
   },
   "source": [
    "### Q.27 Which type of graph is best suited for comparing the proportions of different categories?\n",
    "\n",
    "- Scatter plot\n",
    "- Pie chart\n",
    "- Line graph\n",
    "- Histogram\n",
    "\n"
   ]
  },
  {
   "attachments": {},
   "cell_type": "markdown",
   "id": "7953d94e",
   "metadata": {
    "datawhys": {
     "response_id": 25,
     "student_response": true
    },
    "deletable": false,
    "editable": true
   },
   "source": [
    "<div class=\"alert alert-block alert-info\">\n",
    "<!-- YOUR ANSWER BEGIN -->\n",
    "\n",
    "\n",
    "\n",
    "\n",
    "\n",
    "<!-- YOUR ANSWER END -->\n",
    "</div>"
   ]
  },
  {
   "attachments": {},
   "cell_type": "markdown",
   "id": "83dd0620",
   "metadata": {
    "deletable": false,
    "editable": false
   },
   "source": [
    "### Q28. Which of the following blocks should we use to generate any of the charts?"
   ]
  },
  {
   "attachments": {},
   "cell_type": "markdown",
   "id": "3f3c05e5",
   "metadata": {
    "deletable": false,
    "editable": false
   },
   "source": [
    "- `df [ .. ]`\n",
    "- `from px get ..`\n",
    "- `with px do .. using ..`\n",
    "- `import .. as px`"
   ]
  },
  {
   "attachments": {},
   "cell_type": "markdown",
   "id": "e648cf7e",
   "metadata": {
    "datawhys": {
     "response_id": 26,
     "student_response": true
    },
    "deletable": false,
    "editable": true
   },
   "source": [
    "<div class=\"alert alert-block alert-info\">\n",
    "<!-- YOUR ANSWER BEGIN -->\n",
    "\n",
    "\n",
    "\n",
    "\n",
    "\n",
    "<!-- YOUR ANSWER END -->\n",
    "</div>"
   ]
  },
  {
   "attachments": {},
   "cell_type": "markdown",
   "id": "243be0a0",
   "metadata": {
    "deletable": false,
    "editable": false
   },
   "source": [
    "### Q29. In a scatter plot, the independent variable usually goes on the ____-axis and the dependent variable goes on the ____-axis?"
   ]
  },
  {
   "attachments": {},
   "cell_type": "markdown",
   "id": "ff9a7289",
   "metadata": {
    "datawhys": {
     "response_id": 27,
     "student_response": true
    },
    "deletable": false,
    "editable": true
   },
   "source": [
    "<div class=\"alert alert-block alert-info\">\n",
    "<!-- YOUR ANSWER BEGIN -->\n",
    "\n",
    "\n",
    "\n",
    "\n",
    "\n",
    "<!-- YOUR ANSWER END -->\n",
    "</div>"
   ]
  },
  {
   "attachments": {},
   "cell_type": "markdown",
   "id": "90c1ccd1",
   "metadata": {
    "deletable": false,
    "editable": false
   },
   "source": [
    "### Q30. Which of the following kinds of charts do we sometimes display with horizontal orientation? (There may be more than one answer.)"
   ]
  },
  {
   "attachments": {},
   "cell_type": "markdown",
   "id": "91194084",
   "metadata": {
    "deletable": false,
    "editable": false
   },
   "source": [
    "- bar chart\n",
    "- scatter plot\n",
    "- line graph\n",
    "- box plot"
   ]
  },
  {
   "attachments": {},
   "cell_type": "markdown",
   "id": "d1a3f792",
   "metadata": {
    "datawhys": {
     "response_id": 28,
     "student_response": true
    },
    "deletable": false,
    "editable": true
   },
   "source": [
    "<div class=\"alert alert-block alert-info\">\n",
    "<!-- YOUR ANSWER BEGIN -->\n",
    "\n",
    "\n",
    "\n",
    "\n",
    "\n",
    "<!-- YOUR ANSWER END -->\n",
    "</div>"
   ]
  },
  {
   "attachments": {},
   "cell_type": "markdown",
   "id": "805f6a75",
   "metadata": {
    "deletable": false,
    "editable": false
   },
   "source": [
    "### Q31. Describe how we use the chart options to change the orientation of a chart."
   ]
  },
  {
   "attachments": {},
   "cell_type": "markdown",
   "id": "a5d5cc54",
   "metadata": {
    "datawhys": {
     "response_id": 29,
     "student_response": true
    },
    "deletable": false,
    "editable": true
   },
   "source": [
    "<div class=\"alert alert-block alert-info\">\n",
    "<!-- YOUR ANSWER BEGIN -->\n",
    "\n",
    "\n",
    "\n",
    "\n",
    "\n",
    "<!-- YOUR ANSWER END -->\n",
    "</div>"
   ]
  },
  {
   "attachments": {},
   "cell_type": "markdown",
   "id": "44401baa",
   "metadata": {
    "deletable": false,
    "editable": false
   },
   "source": [
    "## Filtering"
   ]
  },
  {
   "attachments": {},
   "cell_type": "markdown",
   "id": "980df380",
   "metadata": {
    "deletable": false,
    "editable": false
   },
   "source": [
    "### Q32. What is the main purpose of filtering a dataset?\n"
   ]
  },
  {
   "attachments": {},
   "cell_type": "markdown",
   "id": "1def1011",
   "metadata": {
    "datawhys": {
     "response_id": 30,
     "student_response": true
    },
    "deletable": false,
    "editable": true
   },
   "source": [
    "<div class=\"alert alert-block alert-info\">\n",
    "<!-- YOUR ANSWER BEGIN -->\n",
    "\n",
    "\n",
    "\n",
    "\n",
    "\n",
    "<!-- YOUR ANSWER END -->\n",
    "</div>"
   ]
  },
  {
   "attachments": {},
   "cell_type": "markdown",
   "id": "afb69218",
   "metadata": {
    "deletable": false,
    "editable": false
   },
   "source": [
    "| GRE         | GPA         | Gender |\n",
    "| ----------- | ----------- | ------ |\n",
    "| 316         |  3.4        |    M   |\n",
    "| 308         |  3.1        |    M   |\n",
    "| 327         |  3.7        |    F   |\n",
    "| 310         |  3.33       |    F   |\n",
    "| 305         |  3.45       |    M   |\n",
    "| 322         |  3.18       |    F   |\n",
    "| 316         |  3.25       |    M   |\n",
    "| 300         |  3.4        |    F   |\n",
    "| 310         |  3.6        |    F   |\n"
   ]
  },
  {
   "attachments": {},
   "cell_type": "markdown",
   "id": "3d6586b1",
   "metadata": {
    "deletable": false,
    "editable": false
   },
   "source": [
    "### Q33. For the above dataset, which of the following might we do to calculate and compare the students' average GPA for each gender group?"
   ]
  },
  {
   "attachments": {},
   "cell_type": "markdown",
   "id": "19dd6a10",
   "metadata": {
    "deletable": false,
    "editable": false
   },
   "source": [
    "- We divide the student data by columns and compare their results.\n",
    "- We filter the student data by GPA only and get the mean to compare results.\n",
    "- We filter the data by Gender and calculate each gender group average GPA to compare their results.\n",
    "- We combine the GRE and GPA of the gender groups and compare their results."
   ]
  },
  {
   "attachments": {},
   "cell_type": "markdown",
   "id": "7b07fb1a",
   "metadata": {
    "datawhys": {
     "response_id": 31,
     "student_response": true
    },
    "deletable": false,
    "editable": true
   },
   "source": [
    "<div class=\"alert alert-block alert-info\">\n",
    "<!-- YOUR ANSWER BEGIN -->\n",
    "\n",
    "\n",
    "\n",
    "\n",
    "\n",
    "<!-- YOUR ANSWER END -->\n",
    "</div>"
   ]
  },
  {
   "attachments": {},
   "cell_type": "markdown",
   "id": "e8f8b583",
   "metadata": {
    "deletable": false,
    "editable": false
   },
   "source": [
    "### Q34. Look at the following Python code. What does it do? Explain your answer."
   ]
  },
  {
   "attachments": {},
   "cell_type": "markdown",
   "id": "e92cb982",
   "metadata": {
    "deletable": false,
    "editable": false
   },
   "source": [
    "```python\n",
    "\n",
    "gender_data = student_data[(student_data['gender'] == 'male')]\n",
    "\n",
    "```"
   ]
  },
  {
   "attachments": {},
   "cell_type": "markdown",
   "id": "7ddd2de7",
   "metadata": {
    "datawhys": {
     "response_id": 32,
     "student_response": true
    },
    "deletable": false,
    "editable": true
   },
   "source": [
    "<div class=\"alert alert-block alert-info\">\n",
    "<!-- YOUR ANSWER BEGIN -->\n",
    "\n",
    "\n",
    "\n",
    "\n",
    "\n",
    "<!-- YOUR ANSWER END -->\n",
    "</div>"
   ]
  },
  {
   "attachments": {},
   "cell_type": "markdown",
   "id": "a3c09da8",
   "metadata": {
    "deletable": false,
    "editable": false
   },
   "source": [
    "### Q35. Which pandas method is used to filter rows based on null or missing values in a DataFrame?\n",
    "\n",
    "- isnan()\n",
    "- isna()\n",
    "- null()\n",
    "- missing()"
   ]
  },
  {
   "attachments": {},
   "cell_type": "markdown",
   "id": "98c1d79f",
   "metadata": {
    "datawhys": {
     "response_id": 33,
     "student_response": true
    },
    "deletable": false,
    "editable": true
   },
   "source": [
    "<div class=\"alert alert-block alert-info\">\n",
    "<!-- YOUR ANSWER BEGIN -->\n",
    "\n",
    "\n",
    "\n",
    "\n",
    "\n",
    "<!-- YOUR ANSWER END -->\n",
    "</div>"
   ]
  },
  {
   "attachments": {},
   "cell_type": "markdown",
   "id": "dfe11f68",
   "metadata": {
    "deletable": false,
    "editable": false
   },
   "source": [
    "## Descriptive Stats"
   ]
  },
  {
   "attachments": {},
   "cell_type": "markdown",
   "id": "a88f8f03",
   "metadata": {
    "deletable": false,
    "editable": false
   },
   "source": [
    "### Q36. Which of the following functions could we use to get the average value of a column? (There may be more than one answer.)"
   ]
  },
  {
   "attachments": {},
   "cell_type": "markdown",
   "id": "e2c7f586",
   "metadata": {
    "deletable": false,
    "editable": false
   },
   "source": [
    "- median\n",
    "- mean\n",
    "- describe\n",
    "- mode"
   ]
  },
  {
   "attachments": {},
   "cell_type": "markdown",
   "id": "0fbc638d",
   "metadata": {
    "datawhys": {
     "response_id": 34,
     "student_response": true
    },
    "deletable": false,
    "editable": true
   },
   "source": [
    "<div class=\"alert alert-block alert-info\">\n",
    "<!-- YOUR ANSWER BEGIN -->\n",
    "\n",
    "\n",
    "\n",
    "\n",
    "\n",
    "<!-- YOUR ANSWER END -->\n",
    "</div>"
   ]
  },
  {
   "attachments": {},
   "cell_type": "markdown",
   "id": "9da0186d",
   "metadata": {
    "deletable": false,
    "editable": false
   },
   "source": [
    "### Q37. Which of the following functions could we use to get the most popular value in a column? (There may be more than one answer.)"
   ]
  },
  {
   "attachments": {},
   "cell_type": "markdown",
   "id": "91810520",
   "metadata": {
    "deletable": false,
    "editable": false
   },
   "source": [
    "- median\n",
    "- mean\n",
    "- describe\n",
    "- mode"
   ]
  },
  {
   "attachments": {},
   "cell_type": "markdown",
   "id": "4988fd30",
   "metadata": {
    "datawhys": {
     "response_id": 35,
     "student_response": true
    },
    "deletable": false,
    "editable": true
   },
   "source": [
    "<div class=\"alert alert-block alert-info\">\n",
    "<!-- YOUR ANSWER BEGIN -->\n",
    "\n",
    "\n",
    "\n",
    "\n",
    "\n",
    "<!-- YOUR ANSWER END -->\n",
    "</div>"
   ]
  },
  {
   "attachments": {},
   "cell_type": "markdown",
   "id": "d37b8f11",
   "metadata": {
    "deletable": false,
    "editable": false
   },
   "source": [
    "### Q38. Which of the following functions could we use to get the value of a column that would appear in the middle when the column's values are sorted? (There may be more than one answer.)"
   ]
  },
  {
   "attachments": {},
   "cell_type": "markdown",
   "id": "f04321ce",
   "metadata": {
    "deletable": false,
    "editable": false
   },
   "source": [
    "- median\n",
    "- mean\n",
    "- describe\n",
    "- mode"
   ]
  },
  {
   "attachments": {},
   "cell_type": "markdown",
   "id": "cfa7743c",
   "metadata": {
    "datawhys": {
     "response_id": 36,
     "student_response": true
    },
    "deletable": false,
    "editable": true
   },
   "source": [
    "<div class=\"alert alert-block alert-info\">\n",
    "<!-- YOUR ANSWER BEGIN -->\n",
    "\n",
    "\n",
    "\n",
    "\n",
    "\n",
    "<!-- YOUR ANSWER END -->\n",
    "</div>"
   ]
  },
  {
   "attachments": {},
   "cell_type": "markdown",
   "id": "193155bf",
   "metadata": {
    "deletable": false,
    "editable": false
   },
   "source": [
    "### Q39. Which measure of dispersion describes the spread of values around the mean?\n",
    "\n",
    "- Variance\n",
    "- Standard deviation\n",
    "- Skewness"
   ]
  },
  {
   "attachments": {},
   "cell_type": "markdown",
   "id": "a6877111",
   "metadata": {
    "datawhys": {
     "response_id": 37,
     "student_response": true
    },
    "deletable": false,
    "editable": true
   },
   "source": [
    "<div class=\"alert alert-block alert-info\">\n",
    "<!-- YOUR ANSWER BEGIN -->\n",
    "\n",
    "\n",
    "\n",
    "\n",
    "\n",
    "<!-- YOUR ANSWER END -->\n",
    "</div>"
   ]
  },
  {
   "attachments": {},
   "cell_type": "markdown",
   "id": "44f01e96",
   "metadata": {
    "deletable": false,
    "editable": false
   },
   "source": [
    "### Q40. Which of the following functions could we use to get the interquartile range of a column? (There may be more than one answer.)"
   ]
  },
  {
   "attachments": {},
   "cell_type": "markdown",
   "id": "177a6e15",
   "metadata": {
    "deletable": false,
    "editable": false
   },
   "source": [
    "- median\n",
    "- mean\n",
    "- describe\n",
    "- mode"
   ]
  },
  {
   "attachments": {},
   "cell_type": "markdown",
   "id": "dc5e7041",
   "metadata": {
    "datawhys": {
     "response_id": 38,
     "student_response": true
    },
    "deletable": false,
    "editable": true
   },
   "source": [
    "<div class=\"alert alert-block alert-info\">\n",
    "<!-- YOUR ANSWER BEGIN -->\n",
    "\n",
    "\n",
    "\n",
    "\n",
    "\n",
    "<!-- YOUR ANSWER END -->\n",
    "</div>"
   ]
  },
  {
   "attachments": {},
   "cell_type": "markdown",
   "id": "e3fab4b1",
   "metadata": {
    "deletable": false,
    "editable": false
   },
   "source": [
    "### Q41. Which measure of dispersion is calculated by subtracting the smallest value from the largest value in a dataset?\n",
    "\n",
    "- Variance\n",
    "- Standard deviation\n",
    "- Skewness\n",
    "- Range"
   ]
  },
  {
   "attachments": {},
   "cell_type": "markdown",
   "id": "2a0da917",
   "metadata": {
    "datawhys": {
     "response_id": 39,
     "student_response": true
    },
    "deletable": false,
    "editable": true
   },
   "source": [
    "<div class=\"alert alert-block alert-info\">\n",
    "<!-- YOUR ANSWER BEGIN -->\n",
    "\n",
    "\n",
    "\n",
    "\n",
    "\n",
    "<!-- YOUR ANSWER END -->\n",
    "</div>"
   ]
  },
  {
   "attachments": {},
   "cell_type": "markdown",
   "id": "aeacb774",
   "metadata": {
    "deletable": false,
    "editable": false
   },
   "source": [
    "### Q42. Which measure of central tendency is less affected by extreme values in a dataset?\n",
    "\n",
    "- Mean\n",
    "- Median\n",
    "- Mode\n",
    "- Range"
   ]
  },
  {
   "attachments": {},
   "cell_type": "markdown",
   "id": "5b681758",
   "metadata": {
    "datawhys": {
     "response_id": 40,
     "student_response": true
    },
    "deletable": false,
    "editable": true
   },
   "source": [
    "<div class=\"alert alert-block alert-info\">\n",
    "<!-- YOUR ANSWER BEGIN -->\n",
    "\n",
    "\n",
    "\n",
    "\n",
    "\n",
    "<!-- YOUR ANSWER END -->\n",
    "</div>"
   ]
  },
  {
   "attachments": {},
   "cell_type": "markdown",
   "id": "1586c756",
   "metadata": {
    "deletable": false,
    "editable": false
   },
   "source": [
    "### Q43. Which of the following blocks is to run the <code>mean</code>, <code>median</code>, <code>mode</code>, or <code>describe</code> functions on a dataframe?"
   ]
  },
  {
   "attachments": {},
   "cell_type": "markdown",
   "id": "23b1ddf9",
   "metadata": {
    "deletable": false,
    "editable": false
   },
   "source": [
    "\n",
    "- `from .. import ..`\n",
    "- `with .. do .. using ..`\n",
    "- `import .. as ..`\n",
    "- `from .. get ..`\n"
   ]
  },
  {
   "attachments": {},
   "cell_type": "markdown",
   "id": "36cc5e9d",
   "metadata": {
    "datawhys": {
     "response_id": 41,
     "student_response": true
    },
    "deletable": false,
    "editable": true
   },
   "source": [
    "<div class=\"alert alert-block alert-info\">\n",
    "<!-- YOUR ANSWER BEGIN -->\n",
    "\n",
    "\n",
    "\n",
    "\n",
    "\n",
    "<!-- YOUR ANSWER END -->\n",
    "</div>"
   ]
  },
  {
   "attachments": {},
   "cell_type": "markdown",
   "id": "13602329",
   "metadata": {
    "deletable": false,
    "editable": false
   },
   "source": [
    "### Q44. Which of the following types of charts could we use to look at the interquartile range of a column?"
   ]
  },
  {
   "attachments": {},
   "cell_type": "markdown",
   "id": "1b5d6247",
   "metadata": {
    "deletable": false,
    "editable": false
   },
   "source": [
    "- bar chart\n",
    "- scatter plot\n",
    "- line chart\n",
    "- box plot"
   ]
  },
  {
   "attachments": {},
   "cell_type": "markdown",
   "id": "21660646",
   "metadata": {
    "datawhys": {
     "response_id": 42,
     "student_response": true
    },
    "deletable": false,
    "editable": true
   },
   "source": [
    "<div class=\"alert alert-block alert-info\">\n",
    "<!-- YOUR ANSWER BEGIN -->\n",
    "\n",
    "\n",
    "\n",
    "\n",
    "\n",
    "<!-- YOUR ANSWER END -->\n",
    "</div>"
   ]
  },
  {
   "attachments": {},
   "cell_type": "markdown",
   "id": "fecffea1",
   "metadata": {
    "deletable": false,
    "editable": false
   },
   "source": [
    "<img src=\"images/box.png\" alt=\"alt text\" width=\"400\"/>"
   ]
  },
  {
   "attachments": {},
   "cell_type": "markdown",
   "id": "4237c484",
   "metadata": {
    "deletable": false,
    "editable": false
   },
   "source": [
    "### Q45. Using the above chart, what are the approximate median values for each species of iris? (To the nearest half number is fine.)"
   ]
  },
  {
   "attachments": {},
   "cell_type": "markdown",
   "id": "8e1cf903",
   "metadata": {
    "datawhys": {
     "response_id": 43,
     "student_response": true
    },
    "deletable": false,
    "editable": true
   },
   "source": [
    "<div class=\"alert alert-block alert-info\">\n",
    "<!-- YOUR ANSWER BEGIN -->\n",
    "\n",
    "\n",
    "\n",
    "\n",
    "\n",
    "<!-- YOUR ANSWER END -->\n",
    "</div>"
   ]
  },
  {
   "attachments": {},
   "cell_type": "markdown",
   "id": "d4d4a2e9",
   "metadata": {
    "deletable": false,
    "editable": false
   },
   "source": [
    "<img src=\"images/box.png\" alt=\"alt text\" width=\"400\"/>"
   ]
  },
  {
   "attachments": {},
   "cell_type": "markdown",
   "id": "348719d1",
   "metadata": {
    "deletable": false,
    "editable": false
   },
   "source": [
    "### Q46. In the chart above which species has the highest variation in the sepal length(cm)? "
   ]
  },
  {
   "attachments": {},
   "cell_type": "markdown",
   "id": "60f8e5f7",
   "metadata": {
    "datawhys": {
     "response_id": 44,
     "student_response": true
    },
    "deletable": false,
    "editable": true
   },
   "source": [
    "<div class=\"alert alert-block alert-info\">\n",
    "<!-- YOUR ANSWER BEGIN -->\n",
    "\n",
    "\n",
    "\n",
    "\n",
    "\n",
    "<!-- YOUR ANSWER END -->\n",
    "</div>"
   ]
  }
 ],
 "metadata": {
  "kernelspec": {
   "display_name": "Python 3 (ipykernel)",
   "language": "python",
   "name": "python3"
  },
  "language_info": {
   "file_extension": ".py",
   "mimetype": "text/x-python",
   "name": "python",
   "version": "3.7.6"
  }
 },
 "nbformat": 4,
 "nbformat_minor": 5
}
