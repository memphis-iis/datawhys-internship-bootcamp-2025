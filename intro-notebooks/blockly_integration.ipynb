{
 "cells": [
  {
   "cell_type": "markdown",
   "metadata": {
    "deletable": false,
    "editable": false
   },
   "source": [
    "<div class=\"alert alert-block alert-danger\">\n",
    "Copy the following Blockly XML tag. <br><b>Only copy the XML tag not the lines starting with ```.</b>",
    "\n</div>"
   ]
  },
  {
   "cell_type": "markdown",
   "metadata": {
    "deletable": false,
    "editable": false
   },
   "source": [
    "```python\n",
    "\n",
    "#<xml xmlns=\"https://developers.google.com/blockly/xml\"><variables><variable id=\"x|3ulY{W+`bz~QNtfz;j\">your_name</variable></variables><block type=\"variables_set\" id=\")0n86/2#t~gZF[D1rC;k\" x=\"106\" y=\"233\"><field name=\"VAR\" id=\"x|3ulY{W+`bz~QNtfz;j\">your_name</field><value name=\"VALUE\"><block type=\"text\" id=\"dfFK+l6D_+/1MOxns1k5\"><field name=\"TEXT\">Katie</field></block></value><next><block type=\"text_print\" id=\"nivIe{8F$_M}G-@}*y[t\"><value name=\"TEXT\"><shadow type=\"text\" id=\"Kk4u9`r()KrC^/@O4.C@\"><field name=\"TEXT\">abc</field></shadow><block type=\"variables_get\" id=\"2HfN7q(Y3ovR6Z=EuY#3\"><field name=\"VAR\" id=\"x|3ulY{W+`bz~QNtfz;j\">your_name</field></block></value></block></next></block></xml>\n",
    "\n",
    "```"
   ]
  },
  {
   "cell_type": "markdown",
   "metadata": {
    "deletable": false,
    "editable": false
   },
   "source": [
    "<div class=\"alert alert-block alert-danger\">\n",
    "Paste the copied XML tag into the following code cell.",
    "\n</div>"
   ]
  },
  {
   "cell_type": "code",
   "execution_count": null,
   "metadata": {
    "datawhys": {
     "response_id": 1,
     "student_response": true
    },
    "deletable": false,
    "editable": true
   },
   "outputs": [],
   "source": []
  }
 ],
 "metadata": {
  "interpreter": {
   "hash": "be14b4e913c6f2457a185c22af60a9db8729a2914b48dcc2c5e42fe4e4a2ce08"
  },
  "kernelspec": {
   "display_name": "Python 3 (ipykernel)",
   "language": "python",
   "name": "python3"
  },
  "language_info": {
   "codemirror_mode": {
    "name": "ipython",
    "version": 3
   },
   "file_extension": ".py",
   "mimetype": "text/x-python",
   "name": "python",
   "nbconvert_exporter": "python",
   "pygments_lexer": "ipython3",
   "version": "3.9.7"
  }
 },
 "nbformat": 4,
 "nbformat_minor": 2
}
