{
 "cells": [
  {
   "cell_type": "markdown",
   "id": "a1a71239",
   "metadata": {
    "deletable": false,
    "editable": false
   },
   "source": [
    "# Filtering & Plotting: Modifying Data Before Creating a Chart with Plotly (Exercise 3)"
   ]
  },
  {
   "cell_type": "markdown",
   "id": "e941864e",
   "metadata": {
    "deletable": false,
    "editable": false
   },
   "source": [
    "## Question. &nbsp;&nbsp; What is the relationship between number won titles and win rate for American tennis players?"
   ]
  },
  {
   "cell_type": "markdown",
   "id": "66587693",
   "metadata": {
    "deletable": false,
    "editable": false
   },
   "source": [
    "Dataset: This data-set has information on various statistical parameters on the former world number 1s tennis players from the last 2 decades.\n",
    "\n",
    "Columns:\n",
    "- Player (represents player's name)\n",
    "- Country (represents player's country)\n",
    "- Win (represents # of won matches in player's career)\n",
    "- Losses (represents # of won matches in player's career)\n",
    "- Win_Rate (represents win rate of player's career)\n",
    "- Titles (represents # of won titles in player's career)\n",
    "- Prize_Money (represents earned prize money in player's career)"
   ]
  },
  {
   "cell_type": "markdown",
   "id": "f71edc17",
   "metadata": {
    "deletable": false,
    "editable": false
   },
   "source": [
    "## Pre-programming Discussion"
   ]
  },
  {
   "cell_type": "markdown",
   "id": "02b3074d",
   "metadata": {
    "deletable": false,
    "editable": false
   },
   "source": [
    "<div class=\"alert alert-block alert-danger\">\n",
    "Q1. What column should we use for filtering the data? Why?",
    "\n</div>"
   ]
  },
  {
   "cell_type": "markdown",
   "id": "0a25fa78",
   "metadata": {
    "datawhys": {
     "response_id": 1,
     "student_response": true
    },
    "deletable": false,
    "editable": true
   },
   "source": [
    "<div class=\"alert alert-block alert-info\">\n",
    "<!-- YOUR ANSWER BEGIN -->\n",
    "\n",
    "\n",
    "\n",
    "\n",
    "\n",
    "<!-- YOUR ANSWER END -->\n",
    "</div>"
   ]
  },
  {
   "cell_type": "markdown",
   "id": "8f62a31a",
   "metadata": {
    "deletable": false,
    "editable": false
   },
   "source": [
    "<div class=\"alert alert-block alert-danger\">\n",
    "Q2. Which columns from the dataset will be used in the plot?",
    "\n</div>"
   ]
  },
  {
   "cell_type": "markdown",
   "id": "29c946cd",
   "metadata": {
    "datawhys": {
     "response_id": 2,
     "student_response": true
    },
    "deletable": false,
    "editable": true
   },
   "source": [
    "<div class=\"alert alert-block alert-info\">\n",
    "<!-- YOUR ANSWER BEGIN -->\n",
    "\n",
    "\n",
    "\n",
    "\n",
    "\n",
    "<!-- YOUR ANSWER END -->\n",
    "</div>"
   ]
  },
  {
   "cell_type": "markdown",
   "id": "c0a1bf52",
   "metadata": {
    "deletable": false,
    "editable": false
   },
   "source": [
    "<div class=\"alert alert-block alert-danger\">\n",
    "Q3. Which column will go on the x-axis?",
    "\n</div>"
   ]
  },
  {
   "cell_type": "markdown",
   "id": "e1719697",
   "metadata": {
    "datawhys": {
     "response_id": 3,
     "student_response": true
    },
    "deletable": false,
    "editable": true
   },
   "source": [
    "<div class=\"alert alert-block alert-info\">\n",
    "<!-- YOUR ANSWER BEGIN -->\n",
    "\n",
    "\n",
    "\n",
    "\n",
    "\n",
    "<!-- YOUR ANSWER END -->\n",
    "</div>"
   ]
  },
  {
   "cell_type": "markdown",
   "id": "c21b3ae0",
   "metadata": {
    "deletable": false,
    "editable": false
   },
   "source": [
    "<div class=\"alert alert-block alert-danger\">\n",
    "Q4. Which column will go on the y-axis?",
    "\n</div>"
   ]
  },
  {
   "cell_type": "markdown",
   "id": "9a95ee0f",
   "metadata": {
    "datawhys": {
     "response_id": 4,
     "student_response": true
    },
    "deletable": false,
    "editable": true
   },
   "source": [
    "<div class=\"alert alert-block alert-info\">\n",
    "<!-- YOUR ANSWER BEGIN -->\n",
    "\n",
    "\n",
    "\n",
    "\n",
    "\n",
    "<!-- YOUR ANSWER END -->\n",
    "</div>"
   ]
  },
  {
   "cell_type": "markdown",
   "id": "1b8d4143",
   "metadata": {
    "deletable": false,
    "editable": false
   },
   "source": [
    "<div class=\"alert alert-block alert-danger\">\n",
    "Screenshot your answers.",
    "\n</div>"
   ]
  },
  {
   "cell_type": "markdown",
   "id": "f9681bad",
   "metadata": {
    "deletable": false,
    "editable": false
   },
   "source": [
    "## Programming Activity: Creating a Scatter Plot Graph of Titles vs Win Rate of American Tennis Players"
   ]
  },
  {
   "cell_type": "markdown",
   "id": "4e3aa324",
   "metadata": {
    "deletable": false,
    "editable": false
   },
   "source": [
    "<span><h3>\n",
    " Step 1. &nbsp;&nbsp;&nbsp; Read CSV Data into Pandas Dataframe",
    "\n</h3></span>"
   ]
  },
  {
   "cell_type": "markdown",
   "id": "9835e393",
   "metadata": {
    "deletable": false,
    "editable": false
   },
   "source": [
    "<span><h4>\n",
    " Substep. &nbsp;&nbsp; Import Pandas Library",
    "\n</h4></span>"
   ]
  },
  {
   "cell_type": "markdown",
   "id": "1f718cf6",
   "metadata": {
    "deletable": false,
    "editable": false
   },
   "source": [
    "- Create variable &nbsp;`pd`\n",
    "- `import pandas as pd`"
   ]
  },
  {
   "cell_type": "markdown",
   "id": "c4e1f471",
   "metadata": {
    "deletable": false,
    "editable": false
   },
   "source": [
    "<details><summary>Blockly Hints</summary><ul><li>Blocks<ul><li><code>import .. as ..</code><ul><li>The <code>import .. as ..</code> block is found under IMPORT.</li> <li>A variable must have been created before it will appear in the dropdown.</li></ul></li></ul></li></ul></details>"
   ]
  },
  {
   "cell_type": "code",
   "execution_count": null,
   "id": "14ac002d",
   "metadata": {
    "datawhys": {
     "response_id": 5,
     "student_response": true
    },
    "deletable": false,
    "editable": true
   },
   "outputs": [],
   "source": []
  },
  {
   "cell_type": "markdown",
   "id": "7961d9cd",
   "metadata": {
    "deletable": false,
    "editable": false
   },
   "source": [
    "<span><h4>\n",
    " Substep. &nbsp;&nbsp; Read CSV data and Save in Variable",
    "\n</h4></span>"
   ]
  },
  {
   "cell_type": "markdown",
   "id": "888ef8f5",
   "metadata": {
    "deletable": false,
    "editable": false
   },
   "source": [
    "- Create variable &nbsp;`df`\n",
    "- `set df to` &nbsp;:&nbsp; `with pd do read_csv using` &nbsp;:&nbsp; `\" datasets/Tennis.csv \"`"
   ]
  },
  {
   "cell_type": "markdown",
   "id": "4d067c7e",
   "metadata": {
    "deletable": false,
    "editable": false
   },
   "source": [
    "<details><summary>Blockly Hints</summary><ul><li>Notation<ul><li><code>A</code> &nbsp;:&nbsp; <code>B</code>&nbsp; means snap blocks A and B together.</li></ul></li><li>Blocks<ul><li><code>set .. to</code><ul><li>The <code>set .. to</code> block is found under VARIABLES.</li> <li>A variable must have been created before it will appear in the dropdown.</li></ul></li><li><code>with .. do .. using ..</code><ul><li>The <code>with .. do .. using ..</code> block is found under VARIABLES.</li> <li>If <code>do</code> dropdown says \"!Not populated until you execute code\", click anywhere in the notebook tab, then click try \"Run All Above Selected Cell\" from the \"Run\" menu.</li> <li>If <code>with .. do .. using ..</code> block does not want to snap together nicely with the <code>set .. to</code> block, try dragging the <code>set .. to</code> block instead.</li> <li>You can use the <code>+ -</code> controls on the block to change the number of notches. Unless specifically instructed, the block should not have any empty notches when you click Blocks to Code. </li></ul></li><li><code>\" .. \"</code><ul><li>The <code>\" .. \"</code> block is found under TEXT.</li></ul></li></ul></li></ul></details>"
   ]
  },
  {
   "cell_type": "code",
   "execution_count": null,
   "id": "4815c771",
   "metadata": {
    "datawhys": {
     "response_id": 6,
     "student_response": true
    },
    "deletable": false,
    "editable": true
   },
   "outputs": [],
   "source": []
  },
  {
   "cell_type": "markdown",
   "id": "fc6256b4",
   "metadata": {
    "deletable": false,
    "editable": false
   },
   "source": [
    "<span><h4>\n",
    " Substep. &nbsp;&nbsp; Display Dataframe Contents",
    "\n</h4></span>"
   ]
  },
  {
   "cell_type": "markdown",
   "id": "4b9d6c08",
   "metadata": {
    "deletable": false,
    "editable": false
   },
   "source": [
    "- variable &nbsp;`df`"
   ]
  },
  {
   "cell_type": "markdown",
   "id": "c14027c8",
   "metadata": {
    "deletable": false,
    "editable": false
   },
   "source": [
    "<details><summary>Blockly Hints</summary><ul><li>Blocks<ul><li>variable<ul><li>After it is created, each variable has its own block at the end of the VARIABLES menu.</li></ul></li></ul></li></ul></details>"
   ]
  },
  {
   "cell_type": "code",
   "execution_count": null,
   "id": "2cffff0e",
   "metadata": {
    "datawhys": {
     "response_id": 7,
     "student_response": true
    },
    "deletable": false,
    "editable": true
   },
   "outputs": [],
   "source": []
  },
  {
   "cell_type": "markdown",
   "id": "021db161",
   "metadata": {
    "deletable": false,
    "editable": false
   },
   "source": [
    "<span><h3>\n",
    " Step 2. &nbsp;&nbsp;&nbsp; Data Modification",
    "\n</h3></span>"
   ]
  },
  {
   "cell_type": "markdown",
   "id": "19f13600",
   "metadata": {
    "deletable": false,
    "editable": false
   },
   "source": [
    "<span><h4>\n",
    " Substep. &nbsp;&nbsp; Filter Data",
    "\n</h4></span>"
   ]
  },
  {
   "cell_type": "markdown",
   "id": "0a243aae",
   "metadata": {
    "deletable": false,
    "editable": false
   },
   "source": [
    "- `set df to` &nbsp;:&nbsp; `df [ .. ]` &nbsp;<-&nbsp; ` .. = .. ` &nbsp;<-\n",
    "  - `from df get Country`\n",
    "  - `\" USA \"`"
   ]
  },
  {
   "cell_type": "markdown",
   "id": "0498c342",
   "metadata": {
    "deletable": false,
    "editable": false
   },
   "source": [
    "<details><summary>Blockly Hints</summary><ul><li>Notation<ul><li><code>A</code> &nbsp;:&nbsp; <code>B</code>&nbsp; means snap blocks A and B together.</li><li><code>A</code> &nbsp;&lt;-&nbsp; <code>B</code>&nbsp; means insert block B into the hole in block A.</li></ul></li><li>Blocks<ul><li><code>set .. to</code><ul><li>The <code>set .. to</code> block is found under VARIABLES.</li> <li>A variable must have been created before it will appear in the dropdown.</li></ul></li><li><code>\\{dictVariable\\} [ .. ]</code><ul><li>The <code>\\{dictVariable\\} [ .. ]</code> block is found under LISTS.</li></ul></li><li><code> .. = .. </code><ul><li>The <code> .. = .. </code> block is found under LOGIC.</li> <li>Use the dropdown to get other comparison operators.</li></ul></li><li><code>from .. get ..</code><ul><li>The <code>from .. get ..</code> block is found under VARIABLES.</li></ul></li><li><code>\" .. \"</code><ul><li>The <code>\" .. \"</code> block is found under TEXT.</li></ul></li></ul></li></ul></details>"
   ]
  },
  {
   "cell_type": "code",
   "execution_count": null,
   "id": "c497df01",
   "metadata": {
    "datawhys": {
     "response_id": 8,
     "student_response": true
    },
    "deletable": false,
    "editable": true
   },
   "outputs": [],
   "source": []
  },
  {
   "cell_type": "markdown",
   "id": "3f01d1ea",
   "metadata": {
    "deletable": false,
    "editable": false
   },
   "source": [
    "<span><h4>\n",
    " Substep. &nbsp;&nbsp; Display Dataframe Contents",
    "\n</h4></span>"
   ]
  },
  {
   "cell_type": "markdown",
   "id": "420fdd74",
   "metadata": {
    "deletable": false,
    "editable": false
   },
   "source": [
    "- variable &nbsp;`df`"
   ]
  },
  {
   "cell_type": "markdown",
   "id": "3c985f19",
   "metadata": {
    "deletable": false,
    "editable": false
   },
   "source": [
    "<details><summary>Blockly Hints</summary><ul><li>Blocks<ul><li>variable<ul><li>After it is created, each variable has its own block at the end of the VARIABLES menu.</li></ul></li></ul></li></ul></details>"
   ]
  },
  {
   "cell_type": "code",
   "execution_count": null,
   "id": "29e298d6",
   "metadata": {
    "datawhys": {
     "response_id": 9,
     "student_response": true
    },
    "deletable": false,
    "editable": true
   },
   "outputs": [],
   "source": []
  },
  {
   "cell_type": "markdown",
   "id": "d18257aa",
   "metadata": {
    "deletable": false,
    "editable": false
   },
   "source": [
    "<span><h3>\n",
    " Step 3. &nbsp;&nbsp;&nbsp; Generate Plotly Scatter Graph",
    "\n</h3></span>"
   ]
  },
  {
   "cell_type": "markdown",
   "id": "ae10824b",
   "metadata": {
    "deletable": false,
    "editable": false
   },
   "source": [
    "<span><h4>\n",
    " Substep. &nbsp;&nbsp; Import Plotly Express Library\n",
    "\n</h4></span>"
   ]
  },
  {
   "cell_type": "markdown",
   "id": "43f05f5c",
   "metadata": {
    "deletable": false,
    "editable": false
   },
   "source": [
    "- Create variable &nbsp;`px`\n",
    "- `import plotly.express as px`"
   ]
  },
  {
   "cell_type": "markdown",
   "id": "71da7006",
   "metadata": {
    "deletable": false,
    "editable": false
   },
   "source": [
    "<details><summary>Blockly Hints</summary><ul><li>Blocks<ul><li><code>import .. as ..</code><ul><li>The <code>import .. as ..</code> block is found under IMPORT.</li> <li>A variable must have been created before it will appear in the dropdown.</li></ul></li></ul></li></ul></details>"
   ]
  },
  {
   "cell_type": "code",
   "execution_count": null,
   "id": "8550fb88",
   "metadata": {
    "datawhys": {
     "response_id": 10,
     "student_response": true
    },
    "deletable": false,
    "editable": true
   },
   "outputs": [],
   "source": []
  },
  {
   "cell_type": "markdown",
   "id": "265c2e04",
   "metadata": {
    "deletable": false,
    "editable": false
   },
   "source": [
    "<span><h4>\n",
    " Substep. &nbsp;&nbsp; Set Columns as x and y\n",
    "\n</h4></span>"
   ]
  },
  {
   "cell_type": "markdown",
   "id": "0f109778",
   "metadata": {
    "deletable": false,
    "editable": false
   },
   "source": [
    "- Create variable &nbsp;`x`\n",
    "- `set x to` &nbsp;:&nbsp; `\" Titles \"`\n",
    "- Create variable &nbsp;`y`\n",
    "- `set y to` &nbsp;:&nbsp; `\" Win_Rate \"`"
   ]
  },
  {
   "cell_type": "markdown",
   "id": "65cf1f7f",
   "metadata": {
    "deletable": false,
    "editable": false
   },
   "source": [
    "<details><summary>Blockly Hints</summary><ul><li>Notation<ul><li><code>A</code> &nbsp;:&nbsp; <code>B</code>&nbsp; means snap blocks A and B together.</li></ul></li><li>Blocks<ul><li><code>set .. to</code><ul><li>The <code>set .. to</code> block is found under VARIABLES.</li> <li>A variable must have been created before it will appear in the dropdown.</li></ul></li><li><code>\" .. \"</code><ul><li>The <code>\" .. \"</code> block is found under TEXT.</li></ul></li></ul></li></ul></details>"
   ]
  },
  {
   "cell_type": "code",
   "execution_count": null,
   "id": "b6afae41",
   "metadata": {
    "datawhys": {
     "response_id": 11,
     "student_response": true
    },
    "deletable": false,
    "editable": true
   },
   "outputs": [],
   "source": []
  },
  {
   "cell_type": "markdown",
   "id": "a6f21409",
   "metadata": {
    "deletable": false,
    "editable": false
   },
   "source": [
    "<span><h4>\n",
    " Substep. &nbsp;&nbsp; Set Additional Plot Options",
    "\n</h4></span>"
   ]
  },
  {
   "cell_type": "markdown",
   "id": "9b848592",
   "metadata": {
    "deletable": false,
    "editable": false
   },
   "source": [
    "- Create variable &nbsp;`color`\n",
    "- `set color to` &nbsp;:&nbsp; `\" Player \"`"
   ]
  },
  {
   "cell_type": "markdown",
   "id": "5a3b37d0",
   "metadata": {
    "deletable": false,
    "editable": false
   },
   "source": [
    "<details><summary>Blockly Hints</summary><ul><li>Notation<ul><li><code>A</code> &nbsp;:&nbsp; <code>B</code>&nbsp; means snap blocks A and B together.</li></ul></li><li>Blocks<ul><li><code>set .. to</code><ul><li>The <code>set .. to</code> block is found under VARIABLES.</li> <li>A variable must have been created before it will appear in the dropdown.</li></ul></li><li><code>\" .. \"</code><ul><li>The <code>\" .. \"</code> block is found under TEXT.</li></ul></li></ul></li></ul></details>"
   ]
  },
  {
   "cell_type": "code",
   "execution_count": null,
   "id": "4e8fd251",
   "metadata": {
    "datawhys": {
     "response_id": 12,
     "student_response": true
    },
    "deletable": false,
    "editable": true
   },
   "outputs": [],
   "source": []
  },
  {
   "cell_type": "markdown",
   "id": "78f6f71b",
   "metadata": {
    "deletable": false,
    "editable": false
   },
   "source": [
    "- Create variable &nbsp;`title`\n",
    "- `set title to` &nbsp;:&nbsp; `\" Titles vs Win Rate of American Tennis Players \"`"
   ]
  },
  {
   "cell_type": "markdown",
   "id": "e1383dfd",
   "metadata": {
    "deletable": false,
    "editable": false
   },
   "source": [
    "<details><summary>Blockly Hints</summary><ul><li>Notation<ul><li><code>A</code> &nbsp;:&nbsp; <code>B</code>&nbsp; means snap blocks A and B together.</li></ul></li><li>Blocks<ul><li><code>set .. to</code><ul><li>The <code>set .. to</code> block is found under VARIABLES.</li> <li>A variable must have been created before it will appear in the dropdown.</li></ul></li><li><code>\" .. \"</code><ul><li>The <code>\" .. \"</code> block is found under TEXT.</li></ul></li></ul></li></ul></details>"
   ]
  },
  {
   "cell_type": "code",
   "execution_count": null,
   "id": "d6da3f45",
   "metadata": {
    "datawhys": {
     "response_id": 13,
     "student_response": true
    },
    "deletable": false,
    "editable": true
   },
   "outputs": [],
   "source": []
  },
  {
   "cell_type": "markdown",
   "id": "0ee95418",
   "metadata": {
    "deletable": false,
    "editable": false
   },
   "source": [
    "<span><h4>\n",
    " Substep. &nbsp;&nbsp; Generate Scatter Graph",
    "\n</h4></span>"
   ]
  },
  {
   "cell_type": "markdown",
   "id": "7cae6a7d",
   "metadata": {
    "deletable": false,
    "editable": false
   },
   "source": [
    "- Grab a freestyle block, type &nbsp;`x=x`\n",
    "- Grab a freestyle block, type &nbsp;`y=y`\n",
    "- Grab a freestyle block, type &nbsp;`color=color`\n",
    "- Grab a freestyle block, type &nbsp;`title=title`\n",
    "- `with px do scatter using` &nbsp;:\n",
    "    - variable &nbsp;`df`\n",
    "    - `x=x`\n",
    "    - `y=y`\n",
    "    - `color=color`\n",
    "    - `title=title`"
   ]
  },
  {
   "cell_type": "markdown",
   "id": "51fab5fd",
   "metadata": {
    "deletable": false,
    "editable": false
   },
   "source": [
    "<details><summary>Blockly Hints</summary><ul><li>Notation<ul><li><code>A</code> &nbsp;:&nbsp; <code>B</code>&nbsp; means snap blocks A and B together.</li></ul></li><li>Blocks<ul><li>freestyle<ul><li>Unless specifically instructed, use the first block from the FREESTYLE menu.</li></ul></li><li><code>with .. do .. using ..</code><ul><li>The <code>with .. do .. using ..</code> block is found under VARIABLES.</li> <li>If <code>do</code> dropdown says \"!Not populated until you execute code\", click anywhere in the notebook tab, then click try \"Run All Above Selected Cell\" from the \"Run\" menu.</li> <li>If <code>with .. do .. using ..</code> block does not want to snap together nicely with the <code>set .. to</code> block, try dragging the <code>set .. to</code> block instead.</li> <li>You can use the <code>+ -</code> controls on the block to change the number of notches. Unless specifically instructed, the block should not have any empty notches when you click Blocks to Code. </li></ul></li><li>variable<ul><li>After it is created, each variable has its own block at the end of the VARIABLES menu.</li></ul></li></ul></li></ul></details>"
   ]
  },
  {
   "cell_type": "code",
   "execution_count": null,
   "id": "9647cb0a",
   "metadata": {
    "datawhys": {
     "response_id": 14,
     "student_response": true
    },
    "deletable": false,
    "editable": true
   },
   "outputs": [],
   "source": []
  },
  {
   "cell_type": "markdown",
   "id": "f6b5cc96",
   "metadata": {
    "deletable": false,
    "editable": false
   },
   "source": [
    "<div class=\"alert alert-block alert-danger\">\n",
    "Screenshot the chart.",
    "\n</div>"
   ]
  }
 ],
 "metadata": {
  "kernelspec": {
   "display_name": "Python 3 (ipykernel)",
   "language": "python",
   "name": "python3"
  },
  "language_info": {
   "codemirror_mode": {
    "name": "ipython",
    "version": 3
   },
   "file_extension": ".py",
   "mimetype": "text/x-python",
   "name": "python",
   "nbconvert_exporter": "python",
   "pygments_lexer": "ipython3",
   "version": "3.9.13"
  }
 },
 "nbformat": 4,
 "nbformat_minor": 5
}
