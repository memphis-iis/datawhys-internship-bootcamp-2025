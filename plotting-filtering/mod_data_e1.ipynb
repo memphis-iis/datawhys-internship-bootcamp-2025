{
 "cells": [
  {
   "cell_type": "markdown",
   "metadata": {
    "deletable": false,
    "editable": false
   },
   "source": [
    "# Filtering & Plotting: Modifying Data Before Creating a Chart with Plotly (Exercise 1)"
   ]
  },
  {
   "cell_type": "markdown",
   "metadata": {
    "deletable": false,
    "editable": false
   },
   "source": [
    "## Question. &nbsp;&nbsp; How have the CO2 emissions from South American countries changed over time?"
   ]
  },
  {
   "cell_type": "markdown",
   "metadata": {
    "deletable": false,
    "editable": false
   },
   "source": [
    "Dataset: CO2 emissions data from all countries from 2008-2011.\n",
    "\n",
    "Columns:\n",
    "- Year\n",
    "- Country\n",
    "- Continent\n",
    "- Emission"
   ]
  },
  {
   "cell_type": "markdown",
   "metadata": {
    "deletable": false,
    "editable": false
   },
   "source": [
    "## Pre-programming Discussion"
   ]
  },
  {
   "cell_type": "markdown",
   "metadata": {
    "deletable": false,
    "editable": false
   },
   "source": [
    "<div class=\"alert alert-block alert-danger\">\n",
    "Q1. What column should we use for filtering the data? Why?",
    "\n</div>"
   ]
  },
  {
   "cell_type": "markdown",
   "metadata": {
    "datawhys": {
     "response_id": 1,
     "student_response": true
    },
    "deletable": false,
    "editable": true
   },
   "source": [
    "<div class=\"alert alert-block alert-info\">\n",
    "<!-- YOUR ANSWER BEGIN -->\n",
    "\n",
    "\n",
    "\n",
    "\n",
    "\n",
    "<!-- YOUR ANSWER END -->\n",
    "</div>"
   ]
  },
  {
   "cell_type": "markdown",
   "metadata": {
    "deletable": false,
    "editable": false
   },
   "source": [
    "<div class=\"alert alert-block alert-danger\">\n",
    "Q2. Which columns from the dataset will be used in the plot?",
    "\n</div>"
   ]
  },
  {
   "cell_type": "markdown",
   "metadata": {
    "datawhys": {
     "response_id": 2,
     "student_response": true
    },
    "deletable": false,
    "editable": true
   },
   "source": [
    "<div class=\"alert alert-block alert-info\">\n",
    "<!-- YOUR ANSWER BEGIN -->\n",
    "\n",
    "\n",
    "\n",
    "\n",
    "\n",
    "<!-- YOUR ANSWER END -->\n",
    "</div>"
   ]
  },
  {
   "cell_type": "markdown",
   "metadata": {
    "deletable": false,
    "editable": false
   },
   "source": [
    "<div class=\"alert alert-block alert-danger\">\n",
    "Q3. Which column will go on the x-axis?",
    "\n</div>"
   ]
  },
  {
   "cell_type": "markdown",
   "metadata": {
    "datawhys": {
     "response_id": 3,
     "student_response": true
    },
    "deletable": false,
    "editable": true
   },
   "source": [
    "<div class=\"alert alert-block alert-info\">\n",
    "<!-- YOUR ANSWER BEGIN -->\n",
    "\n",
    "\n",
    "\n",
    "\n",
    "\n",
    "<!-- YOUR ANSWER END -->\n",
    "</div>"
   ]
  },
  {
   "cell_type": "markdown",
   "metadata": {
    "deletable": false,
    "editable": false
   },
   "source": [
    "<div class=\"alert alert-block alert-danger\">\n",
    "Q4. Which column will go on the y-axis?",
    "\n</div>"
   ]
  },
  {
   "cell_type": "markdown",
   "metadata": {
    "datawhys": {
     "response_id": 4,
     "student_response": true
    },
    "deletable": false,
    "editable": true
   },
   "source": [
    "<div class=\"alert alert-block alert-info\">\n",
    "<!-- YOUR ANSWER BEGIN -->\n",
    "\n",
    "\n",
    "\n",
    "\n",
    "\n",
    "<!-- YOUR ANSWER END -->\n",
    "</div>"
   ]
  },
  {
   "cell_type": "markdown",
   "metadata": {
    "deletable": false,
    "editable": false
   },
   "source": [
    "<div class=\"alert alert-block alert-danger\">\n",
    "Q5. What column makes the most sense to sort by? Why?",
    "\n</div>"
   ]
  },
  {
   "cell_type": "markdown",
   "metadata": {
    "datawhys": {
     "response_id": 5,
     "student_response": true
    },
    "deletable": false,
    "editable": true
   },
   "source": [
    "<div class=\"alert alert-block alert-info\">\n",
    "<!-- YOUR ANSWER BEGIN -->\n",
    "\n",
    "\n",
    "\n",
    "\n",
    "\n",
    "<!-- YOUR ANSWER END -->\n",
    "</div>"
   ]
  },
  {
   "cell_type": "markdown",
   "metadata": {
    "deletable": false,
    "editable": false
   },
   "source": [
    "<div class=\"alert alert-block alert-danger\">\n",
    "Q6. Which column will be used for coloring the lines?",
    "\n</div>"
   ]
  },
  {
   "cell_type": "markdown",
   "metadata": {
    "datawhys": {
     "response_id": 6,
     "student_response": true
    },
    "deletable": false,
    "editable": true
   },
   "source": [
    "<div class=\"alert alert-block alert-info\">\n",
    "<!-- YOUR ANSWER BEGIN -->\n",
    "\n",
    "\n",
    "\n",
    "\n",
    "\n",
    "<!-- YOUR ANSWER END -->\n",
    "</div>"
   ]
  },
  {
   "cell_type": "markdown",
   "metadata": {
    "deletable": false,
    "editable": false
   },
   "source": [
    "<div class=\"alert alert-block alert-danger\">\n",
    "Screenshot your answers.",
    "\n</div>"
   ]
  },
  {
   "cell_type": "markdown",
   "metadata": {
    "deletable": false,
    "editable": false
   },
   "source": [
    "## Programming Activity: Creating a Line Graph of CO2 Emissions from South American Countries (2008-2011)"
   ]
  },
  {
   "cell_type": "markdown",
   "metadata": {
    "deletable": false,
    "editable": false
   },
   "source": [
    "<span><h3>\n",
    " Step 1. &nbsp;&nbsp;&nbsp; Read CSV Data into Pandas Dataframe",
    "\n</h3></span>"
   ]
  },
  {
   "cell_type": "markdown",
   "metadata": {
    "deletable": false,
    "editable": false
   },
   "source": [
    "<span><h4>\n",
    " Substep. &nbsp;&nbsp; Import Pandas Library (if Needed)",
    "\n</h4></span>"
   ]
  },
  {
   "cell_type": "markdown",
   "metadata": {
    "deletable": false,
    "editable": false
   },
   "source": [
    "- Create variable &nbsp;`pd`\n",
    "- `import pandas as pd`"
   ]
  },
  {
   "cell_type": "markdown",
   "metadata": {
    "deletable": false,
    "editable": false
   },
   "source": [
    "<details><summary>Blockly Hints</summary><ul><li>Blocks<ul><li><code>import .. as ..</code><ul><li>The <code>import .. as ..</code> block is found under IMPORT.</li> <li>A variable must have been created before it will appear in the dropdown.</li></ul></li></ul></li></ul></details>"
   ]
  },
  {
   "cell_type": "code",
   "execution_count": null,
   "metadata": {
    "datawhys": {
     "response_id": 7,
     "student_response": true
    },
    "deletable": false,
    "editable": true
   },
   "outputs": [],
   "source": []
  },
  {
   "cell_type": "markdown",
   "metadata": {
    "deletable": false,
    "editable": false
   },
   "source": [
    "<span><h4>\n",
    " Substep. &nbsp;&nbsp; Read CSV data and Save in Variable",
    "\n</h4></span>"
   ]
  },
  {
   "cell_type": "markdown",
   "metadata": {
    "deletable": false,
    "editable": false
   },
   "source": [
    "- Create variable &nbsp;`df`\n",
    "- `set df to` &nbsp;:&nbsp; `with pd do read_csv using` &nbsp;:&nbsp; `\" datasets/emissions.csv \"`"
   ]
  },
  {
   "cell_type": "markdown",
   "metadata": {
    "deletable": false,
    "editable": false
   },
   "source": [
    "<details><summary>Blockly Hints</summary><ul><li>Notation<ul><li><code>A</code> &nbsp;:&nbsp; <code>B</code>&nbsp; means snap blocks A and B together.</li></ul></li><li>Blocks<ul><li><code>set .. to</code><ul><li>The <code>set .. to</code> block is found under VARIABLES.</li> <li>A variable must have been created before it will appear in the dropdown.</li></ul></li><li><code>with .. do .. using ..</code><ul><li>The <code>with .. do .. using ..</code> block is found under VARIABLES.</li> <li>If <code>do</code> dropdown says \"!Not populated until you execute code\", click anywhere in the notebook tab, then click try \"Run All Above Selected Cell\" from the \"Run\" menu.</li> <li>If <code>with .. do .. using ..</code> block does not want to snap together nicely with the <code>set .. to</code> block, try dragging the <code>set .. to</code> block instead.</li> <li>You can use the <code>+ -</code> controls on the block to change the number of notches. Unless specifically instructed, the block should not have any empty notches when you click Blocks to Code. </li></ul></li><li><code>\" .. \"</code><ul><li>The <code>\" .. \"</code> block is found under TEXT.</li></ul></li></ul></li></ul></details>"
   ]
  },
  {
   "cell_type": "code",
   "execution_count": null,
   "metadata": {
    "datawhys": {
     "response_id": 8,
     "student_response": true
    },
    "deletable": false,
    "editable": true
   },
   "outputs": [],
   "source": []
  },
  {
   "cell_type": "markdown",
   "metadata": {
    "deletable": false,
    "editable": false
   },
   "source": [
    "<span><h4>\n",
    " Substep. &nbsp;&nbsp; Display Dataframe Contents",
    "\n</h4></span>"
   ]
  },
  {
   "cell_type": "markdown",
   "metadata": {
    "deletable": false,
    "editable": false
   },
   "source": [
    "- variable &nbsp;`df`"
   ]
  },
  {
   "cell_type": "markdown",
   "metadata": {
    "deletable": false,
    "editable": false
   },
   "source": [
    "<details><summary>Blockly Hints</summary><ul><li>Blocks<ul><li>variable<ul><li>After it is created, each variable has its own block at the end of the VARIABLES menu.</li></ul></li></ul></li></ul></details>"
   ]
  },
  {
   "cell_type": "code",
   "execution_count": null,
   "metadata": {
    "datawhys": {
     "response_id": 9,
     "student_response": true
    },
    "deletable": false,
    "editable": true
   },
   "outputs": [],
   "source": []
  },
  {
   "cell_type": "markdown",
   "metadata": {
    "deletable": false,
    "editable": false
   },
   "source": [
    "<span><h3>\n",
    " Step 2. &nbsp;&nbsp;&nbsp; Data Modification",
    "\n</h3></span>"
   ]
  },
  {
   "cell_type": "markdown",
   "metadata": {
    "deletable": false,
    "editable": false
   },
   "source": [
    "<span><h4>\n",
    " Substep. &nbsp;&nbsp; Filter Data",
    "\n</h4></span>"
   ]
  },
  {
   "cell_type": "markdown",
   "metadata": {
    "deletable": false,
    "editable": false
   },
   "source": [
    "- `set df to` &nbsp;:&nbsp; `df [ .. ]` &nbsp;<-&nbsp; ` .. = .. ` &nbsp;<-\n",
    "  - `from df get Continent`\n",
    "  - `\" South America \"`"
   ]
  },
  {
   "cell_type": "markdown",
   "metadata": {
    "deletable": false,
    "editable": false
   },
   "source": [
    "<details><summary>Blockly Hints</summary><ul><li>Notation<ul><li><code>A</code> &nbsp;:&nbsp; <code>B</code>&nbsp; means snap blocks A and B together.</li><li><code>A</code> &nbsp;&lt;-&nbsp; <code>B</code>&nbsp; means insert block B into the hole in block A.</li></ul></li><li>Blocks<ul><li><code>set .. to</code><ul><li>The <code>set .. to</code> block is found under VARIABLES.</li> <li>A variable must have been created before it will appear in the dropdown.</li></ul></li><li><code>\\{dictVariable\\} [ .. ]</code><ul><li>The <code>\\{dictVariable\\} [ .. ]</code> block is found under LISTS.</li></ul></li><li><code> .. = .. </code><ul><li>The <code> .. = .. </code> block is found under LOGIC.</li> <li>Use the dropdown to get other comparison operators.</li></ul></li><li><code>from .. get ..</code><ul><li>The <code>from .. get ..</code> block is found under VARIABLES.</li></ul></li><li><code>\" .. \"</code><ul><li>The <code>\" .. \"</code> block is found under TEXT.</li></ul></li></ul></li></ul></details>"
   ]
  },
  {
   "cell_type": "code",
   "execution_count": null,
   "metadata": {
    "datawhys": {
     "response_id": 10,
     "student_response": true
    },
    "deletable": false,
    "editable": true
   },
   "outputs": [],
   "source": []
  },
  {
   "cell_type": "markdown",
   "metadata": {
    "deletable": false,
    "editable": false
   },
   "source": [
    "<span><h4>\n",
    " Substep. &nbsp;&nbsp; Sort Data",
    "\n</h4></span>"
   ]
  },
  {
   "cell_type": "markdown",
   "metadata": {
    "deletable": false,
    "editable": false
   },
   "source": [
    "- Grab freestyle block, type &nbsp;`by='Year'`\n",
    "- `set df to` &nbsp;:&nbsp; `with df do sort_values using` &nbsp;:&nbsp; `by='Year'`"
   ]
  },
  {
   "cell_type": "markdown",
   "metadata": {
    "deletable": false,
    "editable": false
   },
   "source": [
    "<details><summary>Blockly Hints</summary><ul><li>Notation<ul><li><code>A</code> &nbsp;:&nbsp; <code>B</code>&nbsp; means snap blocks A and B together.</li></ul></li><li>Blocks<ul><li>freestyle<ul><li>Unless specifically instructed, use the first block from the FREESTYLE menu.</li></ul></li><li><code>set .. to</code><ul><li>The <code>set .. to</code> block is found under VARIABLES.</li> <li>A variable must have been created before it will appear in the dropdown.</li></ul></li><li><code>with .. do .. using ..</code><ul><li>The <code>with .. do .. using ..</code> block is found under VARIABLES.</li> <li>If <code>do</code> dropdown says \"!Not populated until you execute code\", click anywhere in the notebook tab, then click try \"Run All Above Selected Cell\" from the \"Run\" menu.</li> <li>If <code>with .. do .. using ..</code> block does not want to snap together nicely with the <code>set .. to</code> block, try dragging the <code>set .. to</code> block instead.</li> <li>You can use the <code>+ -</code> controls on the block to change the number of notches. Unless specifically instructed, the block should not have any empty notches when you click Blocks to Code. </li></ul></li></ul></li></ul></details>"
   ]
  },
  {
   "cell_type": "code",
   "execution_count": null,
   "metadata": {
    "datawhys": {
     "response_id": 11,
     "student_response": true
    },
    "deletable": false,
    "editable": true
   },
   "outputs": [],
   "source": []
  },
  {
   "cell_type": "markdown",
   "metadata": {
    "deletable": false,
    "editable": false
   },
   "source": [
    "<span><h4>\n",
    " Substep. &nbsp;&nbsp; Display Dataframe Contents",
    "\n</h4></span>"
   ]
  },
  {
   "cell_type": "markdown",
   "metadata": {
    "deletable": false,
    "editable": false
   },
   "source": [
    "- variable &nbsp;`df`"
   ]
  },
  {
   "cell_type": "markdown",
   "metadata": {
    "deletable": false,
    "editable": false
   },
   "source": [
    "<details><summary>Blockly Hints</summary><ul><li>Blocks<ul><li>variable<ul><li>After it is created, each variable has its own block at the end of the VARIABLES menu.</li></ul></li></ul></li></ul></details>"
   ]
  },
  {
   "cell_type": "code",
   "execution_count": null,
   "metadata": {
    "datawhys": {
     "response_id": 12,
     "student_response": true
    },
    "deletable": false,
    "editable": true
   },
   "outputs": [],
   "source": []
  },
  {
   "cell_type": "markdown",
   "metadata": {
    "deletable": false,
    "editable": false
   },
   "source": [
    "<span><h3>\n",
    " Step 3. &nbsp;&nbsp;&nbsp; Generate Plotly Line Graph",
    "\n</h3></span>"
   ]
  },
  {
   "cell_type": "markdown",
   "metadata": {
    "deletable": false,
    "editable": false
   },
   "source": [
    "<span><h4>\n",
    " Substep. &nbsp;&nbsp; Import Plotly Express Library\n",
    "\n</h4></span>"
   ]
  },
  {
   "cell_type": "markdown",
   "metadata": {
    "deletable": false,
    "editable": false
   },
   "source": [
    "- Create variable &nbsp;`px`\n",
    "- `import plotly.express as px`"
   ]
  },
  {
   "cell_type": "markdown",
   "metadata": {
    "deletable": false,
    "editable": false
   },
   "source": [
    "<details><summary>Blockly Hints</summary><ul><li>Blocks<ul><li><code>import .. as ..</code><ul><li>The <code>import .. as ..</code> block is found under IMPORT.</li> <li>A variable must have been created before it will appear in the dropdown.</li></ul></li></ul></li></ul></details>"
   ]
  },
  {
   "cell_type": "code",
   "execution_count": null,
   "metadata": {
    "datawhys": {
     "response_id": 13,
     "student_response": true
    },
    "deletable": false,
    "editable": true
   },
   "outputs": [],
   "source": []
  },
  {
   "cell_type": "markdown",
   "metadata": {
    "deletable": false,
    "editable": false
   },
   "source": [
    "<span><h4>\n",
    " Substep. &nbsp;&nbsp; Set Columns as x and y\n",
    "\n</h4></span>"
   ]
  },
  {
   "cell_type": "markdown",
   "metadata": {
    "deletable": false,
    "editable": false
   },
   "source": [
    "- Create variable &nbsp;`x`\n",
    "- `set x to` &nbsp;:&nbsp; `\" Year \"`\n",
    "- Create variable &nbsp;`y`\n",
    "- `set y to` &nbsp;:&nbsp; `\" Emission \"`"
   ]
  },
  {
   "cell_type": "markdown",
   "metadata": {
    "deletable": false,
    "editable": false
   },
   "source": [
    "<details><summary>Blockly Hints</summary><ul><li>Notation<ul><li><code>A</code> &nbsp;:&nbsp; <code>B</code>&nbsp; means snap blocks A and B together.</li></ul></li><li>Blocks<ul><li><code>set .. to</code><ul><li>The <code>set .. to</code> block is found under VARIABLES.</li> <li>A variable must have been created before it will appear in the dropdown.</li></ul></li><li><code>\" .. \"</code><ul><li>The <code>\" .. \"</code> block is found under TEXT.</li></ul></li></ul></li></ul></details>"
   ]
  },
  {
   "cell_type": "code",
   "execution_count": null,
   "metadata": {
    "datawhys": {
     "response_id": 14,
     "student_response": true
    },
    "deletable": false,
    "editable": true
   },
   "outputs": [],
   "source": []
  },
  {
   "cell_type": "markdown",
   "metadata": {
    "deletable": false,
    "editable": false
   },
   "source": [
    "<span><h4>\n",
    " Substep. &nbsp;&nbsp; Set Additional Plot Options",
    "\n</h4></span>"
   ]
  },
  {
   "cell_type": "markdown",
   "metadata": {
    "deletable": false,
    "editable": false
   },
   "source": [
    "- Create variable &nbsp;`color`\n",
    "- `set color to` &nbsp;:&nbsp; `\" Country \"`"
   ]
  },
  {
   "cell_type": "markdown",
   "metadata": {
    "deletable": false,
    "editable": false
   },
   "source": [
    "<details><summary>Blockly Hints</summary><ul><li>Notation<ul><li><code>A</code> &nbsp;:&nbsp; <code>B</code>&nbsp; means snap blocks A and B together.</li></ul></li><li>Blocks<ul><li><code>set .. to</code><ul><li>The <code>set .. to</code> block is found under VARIABLES.</li> <li>A variable must have been created before it will appear in the dropdown.</li></ul></li><li><code>\" .. \"</code><ul><li>The <code>\" .. \"</code> block is found under TEXT.</li></ul></li></ul></li></ul></details>"
   ]
  },
  {
   "cell_type": "code",
   "execution_count": null,
   "metadata": {
    "datawhys": {
     "response_id": 15,
     "student_response": true
    },
    "deletable": false,
    "editable": true
   },
   "outputs": [],
   "source": []
  },
  {
   "cell_type": "markdown",
   "metadata": {
    "deletable": false,
    "editable": false
   },
   "source": [
    "- Create variable &nbsp;`title`\n",
    "- `set title to` &nbsp;:&nbsp; `\" CO2 Emissions from South American Countries (2008-2011) \"`"
   ]
  },
  {
   "cell_type": "markdown",
   "metadata": {
    "deletable": false,
    "editable": false
   },
   "source": [
    "<details><summary>Blockly Hints</summary><ul><li>Notation<ul><li><code>A</code> &nbsp;:&nbsp; <code>B</code>&nbsp; means snap blocks A and B together.</li></ul></li><li>Blocks<ul><li><code>set .. to</code><ul><li>The <code>set .. to</code> block is found under VARIABLES.</li> <li>A variable must have been created before it will appear in the dropdown.</li></ul></li><li><code>\" .. \"</code><ul><li>The <code>\" .. \"</code> block is found under TEXT.</li></ul></li></ul></li></ul></details>"
   ]
  },
  {
   "cell_type": "code",
   "execution_count": null,
   "metadata": {
    "datawhys": {
     "response_id": 16,
     "student_response": true
    },
    "deletable": false,
    "editable": true
   },
   "outputs": [],
   "source": []
  },
  {
   "cell_type": "markdown",
   "metadata": {
    "deletable": false,
    "editable": false
   },
   "source": [
    "- Create variable &nbsp;`markers`\n",
    "- `set markers to` &nbsp;:&nbsp; `true`"
   ]
  },
  {
   "cell_type": "markdown",
   "metadata": {
    "deletable": false,
    "editable": false
   },
   "source": [
    "<details><summary>Blockly Hints</summary><ul><li>Notation<ul><li><code>A</code> &nbsp;:&nbsp; <code>B</code>&nbsp; means snap blocks A and B together.</li></ul></li><li>Blocks<ul><li><code>set .. to</code><ul><li>The <code>set .. to</code> block is found under VARIABLES.</li> <li>A variable must have been created before it will appear in the dropdown.</li></ul></li><li><code>true</code><ul><li>The <code>true</code> block is found under LOGIC.</li> <li>Click the dropdown on the <code>true</code> block to make a <code>false</code> block.</li></ul></li></ul></li></ul></details>"
   ]
  },
  {
   "cell_type": "code",
   "execution_count": null,
   "metadata": {
    "datawhys": {
     "response_id": 17,
     "student_response": true
    },
    "deletable": false,
    "editable": true
   },
   "outputs": [],
   "source": []
  },
  {
   "cell_type": "markdown",
   "metadata": {
    "deletable": false,
    "editable": false
   },
   "source": [
    "<span><h4>\n",
    " Substep. &nbsp;&nbsp; Generate Line Graph",
    "\n</h4></span>"
   ]
  },
  {
   "cell_type": "markdown",
   "metadata": {
    "deletable": false,
    "editable": false
   },
   "source": [
    "- Grab a freestyle block, type &nbsp;`x=x`\n",
    "- Grab a freestyle block, type &nbsp;`y=y`\n",
    "- Grab a freestyle block, type &nbsp;`color=color`\n",
    "- Grab a freestyle block, type &nbsp;`title=title`\n",
    "- Grab a freestyle block, type &nbsp;`markers=markers`\n",
    "- `with px do line using` &nbsp;:\n",
    "    - variable &nbsp;`df`\n",
    "    - `x=x`\n",
    "    - `y=y`\n",
    "    - `color=color`\n",
    "    - `title=title`\n",
    "    - `markers=markers`"
   ]
  },
  {
   "cell_type": "markdown",
   "metadata": {
    "deletable": false,
    "editable": false
   },
   "source": [
    "<details><summary>Blockly Hints</summary><ul><li>Notation<ul><li><code>A</code> &nbsp;:&nbsp; <code>B</code>&nbsp; means snap blocks A and B together.</li></ul></li><li>Blocks<ul><li>freestyle<ul><li>Unless specifically instructed, use the first block from the FREESTYLE menu.</li></ul></li><li><code>with .. do .. using ..</code><ul><li>The <code>with .. do .. using ..</code> block is found under VARIABLES.</li> <li>If <code>do</code> dropdown says \"!Not populated until you execute code\", click anywhere in the notebook tab, then click try \"Run All Above Selected Cell\" from the \"Run\" menu.</li> <li>If <code>with .. do .. using ..</code> block does not want to snap together nicely with the <code>set .. to</code> block, try dragging the <code>set .. to</code> block instead.</li> <li>You can use the <code>+ -</code> controls on the block to change the number of notches. Unless specifically instructed, the block should not have any empty notches when you click Blocks to Code. </li></ul></li><li>variable<ul><li>After it is created, each variable has its own block at the end of the VARIABLES menu.</li></ul></li></ul></li></ul></details>"
   ]
  },
  {
   "cell_type": "code",
   "execution_count": null,
   "metadata": {
    "datawhys": {
     "response_id": 18,
     "student_response": true
    },
    "deletable": false,
    "editable": true
   },
   "outputs": [],
   "source": []
  },
  {
   "cell_type": "markdown",
   "metadata": {
    "deletable": false,
    "editable": false
   },
   "source": [
    "<div class=\"alert alert-block alert-danger\">\n",
    "Screenshot the chart.",
    "\n</div>"
   ]
  }
 ],
 "metadata": {
  "interpreter": {
   "hash": "be14b4e913c6f2457a185c22af60a9db8729a2914b48dcc2c5e42fe4e4a2ce08"
  },
  "kernelspec": {
   "display_name": "Python 3 (ipykernel)",
   "language": "python",
   "name": "python3"
  },
  "language_info": {
   "codemirror_mode": {
    "name": "ipython",
    "version": 3
   },
   "file_extension": ".py",
   "mimetype": "text/x-python",
   "name": "python",
   "nbconvert_exporter": "python",
   "pygments_lexer": "ipython3",
   "version": "3.9.13"
  }
 },
 "nbformat": 4,
 "nbformat_minor": 4
}
