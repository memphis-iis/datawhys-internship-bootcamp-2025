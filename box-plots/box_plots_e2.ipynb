{
 "cells": [
  {
   "attachments": {},
   "cell_type": "markdown",
   "metadata": {
    "deletable": false,
    "editable": false
   },
   "source": [
    "# Box Plots: Creating Box Plots with Plotly (Exercise 2)"
   ]
  },
  {
   "attachments": {},
   "cell_type": "markdown",
   "metadata": {
    "deletable": false,
    "editable": false
   },
   "source": [
    "## Question. &nbsp;&nbsp; In Amazon product reviews, how does the distribution of review ratings change for spam vs not spam?"
   ]
  },
  {
   "attachments": {},
   "cell_type": "markdown",
   "metadata": {
    "deletable": false,
    "editable": false
   },
   "source": [
    "Dataset: Subset of Amazon Product Reviews (Spam and Non Spam), Toys and Games category dataset\n",
    "\n",
    "Data Source: Naveed Hussain, Hamid Turab Mirza, Ibrar Hussain, Faiza Iqbal, and Imran Memon, “Spam Review Detection using the Linguistic and Spammer Behavioral Methods,” IEEE Access (2020), United States, pp: 53801-53816, Vol: 8, Standard: 2169-3536.\n",
    "\n",
    "Columns:\n",
    " - reviewerID\n",
    " - reviewerName\n",
    " - productID\n",
    " - rating (stars, 1-5)\n",
    " - summary (review title)\n",
    " - reviewText (review content)\n",
    " - reviewLength (character length of reviewText)\n",
    " - label (spam, not spam)"
   ]
  },
  {
   "attachments": {},
   "cell_type": "markdown",
   "metadata": {
    "deletable": false,
    "editable": false
   },
   "source": [
    "## Pre-programming Discussion"
   ]
  },
  {
   "attachments": {},
   "cell_type": "markdown",
   "metadata": {
    "deletable": false,
    "editable": false
   },
   "source": [
    "<div class=\"alert alert-block alert-danger\">\n",
    "Q1. Which columns from the dataset will be used in the plot?",
    "\n</div>"
   ]
  },
  {
   "attachments": {},
   "cell_type": "markdown",
   "metadata": {
    "datawhys": {
     "response_id": 1,
     "student_response": true
    },
    "deletable": false,
    "editable": true
   },
   "source": [
    "<div class=\"alert alert-block alert-info\">\n",
    "<!-- YOUR ANSWER BEGIN -->\n",
    "\n",
    "\n",
    "\n",
    "\n",
    "\n",
    "<!-- YOUR ANSWER END -->\n",
    "</div>"
   ]
  },
  {
   "attachments": {},
   "cell_type": "markdown",
   "metadata": {
    "deletable": false,
    "editable": false
   },
   "source": [
    "<div class=\"alert alert-block alert-danger\">\n",
    "Q2. Which column will go on the x-axis?",
    "\n</div>"
   ]
  },
  {
   "attachments": {},
   "cell_type": "markdown",
   "metadata": {
    "datawhys": {
     "response_id": 2,
     "student_response": true
    },
    "deletable": false,
    "editable": true
   },
   "source": [
    "<div class=\"alert alert-block alert-info\">\n",
    "<!-- YOUR ANSWER BEGIN -->\n",
    "\n",
    "\n",
    "\n",
    "\n",
    "\n",
    "<!-- YOUR ANSWER END -->\n",
    "</div>"
   ]
  },
  {
   "attachments": {},
   "cell_type": "markdown",
   "metadata": {
    "deletable": false,
    "editable": false
   },
   "source": [
    "<div class=\"alert alert-block alert-danger\">\n",
    "Q3. Which column will go on the y-axis?",
    "\n</div>"
   ]
  },
  {
   "attachments": {},
   "cell_type": "markdown",
   "metadata": {
    "datawhys": {
     "response_id": 3,
     "student_response": true
    },
    "deletable": false,
    "editable": true
   },
   "source": [
    "<div class=\"alert alert-block alert-info\">\n",
    "<!-- YOUR ANSWER BEGIN -->\n",
    "\n",
    "\n",
    "\n",
    "\n",
    "\n",
    "<!-- YOUR ANSWER END -->\n",
    "</div>"
   ]
  },
  {
   "attachments": {},
   "cell_type": "markdown",
   "metadata": {
    "deletable": false,
    "editable": false
   },
   "source": [
    "## Programming Activity: Creating a Box Plot of Amazon Review Ratings by Spam Categorization"
   ]
  },
  {
   "attachments": {},
   "cell_type": "markdown",
   "metadata": {
    "deletable": false,
    "editable": false
   },
   "source": [
    "<span><h3>\n",
    " Step 1. &nbsp;&nbsp;&nbsp; Read CSV Data into Pandas Dataframe",
    "\n</h3></span>"
   ]
  },
  {
   "attachments": {},
   "cell_type": "markdown",
   "metadata": {
    "deletable": false,
    "editable": false
   },
   "source": [
    "<span><h4>\n",
    " Substep. &nbsp;&nbsp; Import Pandas Library (if Needed)",
    "\n</h4></span>"
   ]
  },
  {
   "attachments": {},
   "cell_type": "markdown",
   "metadata": {
    "deletable": false,
    "editable": false
   },
   "source": [
    "- Create variable &nbsp;`pd`\n",
    "- `import pandas as pd`"
   ]
  },
  {
   "attachments": {},
   "cell_type": "markdown",
   "metadata": {
    "deletable": false,
    "editable": false
   },
   "source": [
    "<details><summary>Blockly Hints</summary><ul><li>Blocks<ul><li><code>import .. as ..</code><ul><li>The <code>import .. as ..</code> block is found under IMPORT.</li> <li>A variable must have been created before it will appear in the dropdown.</li></ul></li></ul></li></ul></details>"
   ]
  },
  {
   "cell_type": "code",
   "execution_count": null,
   "metadata": {
    "datawhys": {
     "response_id": 4,
     "student_response": true
    },
    "deletable": false,
    "editable": true
   },
   "outputs": [],
   "source": []
  },
  {
   "attachments": {},
   "cell_type": "markdown",
   "metadata": {
    "deletable": false,
    "editable": false
   },
   "source": [
    "<span><h4>\n",
    " Substep. &nbsp;&nbsp; Read CSV data and Save in Variable",
    "\n</h4></span>"
   ]
  },
  {
   "attachments": {},
   "cell_type": "markdown",
   "metadata": {
    "deletable": false,
    "editable": false
   },
   "source": [
    "- Create variable &nbsp;`df`\n",
    "- `set df to` &nbsp;:&nbsp; `with pd do read_csv using` &nbsp;<-&nbsp; `\" datasets/amazon_reviews_spam_toys.csv \"`"
   ]
  },
  {
   "attachments": {},
   "cell_type": "markdown",
   "metadata": {
    "deletable": false,
    "editable": false
   },
   "source": [
    "<details><summary>Blockly Hints</summary><ul><li>Notation<ul><li><code>A</code> &nbsp;:&nbsp; <code>B</code>&nbsp; means snap blocks A and B together.</li><li><code>A</code> &nbsp;&lt;-&nbsp; <code>B</code>&nbsp; means insert block B into the hole in block A.</li></ul></li><li>Blocks<ul><li><code>set .. to</code><ul><li>The <code>set .. to</code> block is found under VARIABLES.</li> <li>A variable must have been created before it will appear in the dropdown.</li></ul></li><li><code>with .. do .. using ..</code><ul><li>The <code>with .. do .. using ..</code> block is found under VARIABLES.</li> <li>If <code>do</code> dropdown says \"!Not populated until you execute code\", click anywhere in the notebook tab, then click try \"Run All Above Selected Cell\" from the \"Run\" menu.</li> <li>If <code>with .. do .. using ..</code> block does not want to snap together nicely with the <code>set .. to</code> block, try dragging the <code>set .. to</code> block instead.</li></ul></li><li><code>\" .. \"</code><ul><li>The <code>\" .. \"</code> block is found under TEXT.</li></ul></li></ul></li></ul></details>"
   ]
  },
  {
   "cell_type": "code",
   "execution_count": null,
   "metadata": {
    "datawhys": {
     "response_id": 5,
     "student_response": true
    },
    "deletable": false,
    "editable": true
   },
   "outputs": [],
   "source": []
  },
  {
   "attachments": {},
   "cell_type": "markdown",
   "metadata": {
    "deletable": false,
    "editable": false
   },
   "source": [
    "<span><h4>\n",
    " Substep. &nbsp;&nbsp; Display Dataframe Contents",
    "\n</h4></span>"
   ]
  },
  {
   "attachments": {},
   "cell_type": "markdown",
   "metadata": {
    "deletable": false,
    "editable": false
   },
   "source": [
    "- variable &nbsp;`df`"
   ]
  },
  {
   "attachments": {},
   "cell_type": "markdown",
   "metadata": {
    "deletable": false,
    "editable": false
   },
   "source": [
    "<details><summary>Blockly Hints</summary><ul><li>Blocks<ul><li>variable<ul><li>After it is created, each variable has its own block at the end of the VARIABLES menu.</li></ul></li></ul></li></ul></details>"
   ]
  },
  {
   "cell_type": "code",
   "execution_count": null,
   "metadata": {
    "datawhys": {
     "response_id": 6,
     "student_response": true
    },
    "deletable": false,
    "editable": true
   },
   "outputs": [],
   "source": []
  },
  {
   "attachments": {},
   "cell_type": "markdown",
   "metadata": {
    "deletable": false,
    "editable": false
   },
   "source": [
    "<span><h3>\n",
    " Step 2. &nbsp;&nbsp;&nbsp; Generate Plotly Box Plot",
    "\n</h3></span>"
   ]
  },
  {
   "attachments": {},
   "cell_type": "markdown",
   "metadata": {
    "deletable": false,
    "editable": false
   },
   "source": [
    "<span><h4>\n",
    " Substep. &nbsp;&nbsp; Import Plotly Express Library\n",
    "\n</h4></span>"
   ]
  },
  {
   "attachments": {},
   "cell_type": "markdown",
   "metadata": {
    "deletable": false,
    "editable": false
   },
   "source": [
    "- Create variable &nbsp;`px`\n",
    "- `import plotly.express as px`"
   ]
  },
  {
   "attachments": {},
   "cell_type": "markdown",
   "metadata": {
    "deletable": false,
    "editable": false
   },
   "source": [
    "<details><summary>Blockly Hints</summary><ul><li>Blocks<ul><li><code>import .. as ..</code><ul><li>The <code>import .. as ..</code> block is found under IMPORT.</li> <li>A variable must have been created before it will appear in the dropdown.</li></ul></li></ul></li></ul></details>"
   ]
  },
  {
   "cell_type": "code",
   "execution_count": null,
   "metadata": {
    "datawhys": {
     "response_id": 7,
     "student_response": true
    },
    "deletable": false,
    "editable": true
   },
   "outputs": [],
   "source": []
  },
  {
   "attachments": {},
   "cell_type": "markdown",
   "metadata": {
    "deletable": false,
    "editable": false
   },
   "source": [
    "<span><h4>\n",
    " Substep. &nbsp;&nbsp; Set Columns as x and y\n",
    "\n</h4></span>"
   ]
  },
  {
   "attachments": {},
   "cell_type": "markdown",
   "metadata": {
    "deletable": false,
    "editable": false
   },
   "source": [
    "- Create variable &nbsp;`x`\n",
    "- `set x to` &nbsp;:&nbsp; `\" label \"`\n",
    "- Create variable &nbsp;`y`\n",
    "- `set y to` &nbsp;:&nbsp; `\" rating \"`"
   ]
  },
  {
   "attachments": {},
   "cell_type": "markdown",
   "metadata": {
    "deletable": false,
    "editable": false
   },
   "source": [
    "<details><summary>Blockly Hints</summary><ul><li>Notation<ul><li><code>A</code> &nbsp;:&nbsp; <code>B</code>&nbsp; means snap blocks A and B together.</li></ul></li><li>Blocks<ul><li><code>set .. to</code><ul><li>The <code>set .. to</code> block is found under VARIABLES.</li> <li>A variable must have been created before it will appear in the dropdown.</li></ul></li><li><code>\" .. \"</code><ul><li>The <code>\" .. \"</code> block is found under TEXT.</li></ul></li></ul></li></ul></details>"
   ]
  },
  {
   "cell_type": "code",
   "execution_count": null,
   "metadata": {
    "datawhys": {
     "response_id": 8,
     "student_response": true
    },
    "deletable": false,
    "editable": true
   },
   "outputs": [],
   "source": []
  },
  {
   "attachments": {},
   "cell_type": "markdown",
   "metadata": {
    "deletable": false,
    "editable": false
   },
   "source": [
    "<span><h4>\n",
    " Substep. &nbsp;&nbsp; Set Additional Plot Options",
    "\n</h4></span>"
   ]
  },
  {
   "attachments": {},
   "cell_type": "markdown",
   "metadata": {
    "deletable": false,
    "editable": false
   },
   "source": [
    "- Create variable &nbsp;`label_orders`\n",
    "- `set label_orders to` &nbsp;:&nbsp; `dict ..` &nbsp;<-\n",
    "  - `create list with` &nbsp;:\n",
    "      - `( .. , .. )` &nbsp;<-\n",
    "        - variable &nbsp;`x`\n",
    "        - a freestyle block with &nbsp;`df.groupby(x)[y].median().sort_values().index.to_list()`&nbsp; in it"
   ]
  },
  {
   "attachments": {},
   "cell_type": "markdown",
   "metadata": {
    "deletable": false,
    "editable": false
   },
   "source": [
    "<details><summary>Blockly Hints</summary><ul><li>Notation<ul><li><code>A</code> &nbsp;:&nbsp; <code>B</code>&nbsp; means snap blocks A and B together.</li><li><code>A</code> &nbsp;&lt;-&nbsp; <code>B</code>&nbsp; means insert block B into the hole in block A.</li></ul></li><li>Blocks<ul><li><code>set .. to</code><ul><li>The <code>set .. to</code> block is found under VARIABLES.</li> <li>A variable must have been created before it will appear in the dropdown.</li></ul></li><li><code>dict ..</code><ul><li>The <code>dict ..</code> block is found under LISTS.</li></ul></li><li><code>create list with</code><ul><li>The <code>create list with</code> block is found under LISTS.</li> <li>You can use the <code>+ -</code> controls on the block to change the number of notches. Unless specifically instructed, the block should not have any empty notches when you click Blocks to Code. </li></ul></li><li><code>( .. , .. )</code><ul><li>The <code>( .. , .. )</code> block is found under LISTS.</li></ul></li><li>variable<ul><li>After it is created, each variable has its own block at the end of the VARIABLES menu.</li></ul></li><li>freestyle<ul><li>Unless specifically instructed, use the first block from the FREESTYLE menu.</li></ul></li></ul></li></ul></details>"
   ]
  },
  {
   "cell_type": "code",
   "execution_count": null,
   "metadata": {
    "datawhys": {
     "response_id": 9,
     "student_response": true
    },
    "deletable": false,
    "editable": true
   },
   "outputs": [],
   "source": []
  },
  {
   "attachments": {},
   "cell_type": "markdown",
   "metadata": {
    "deletable": false,
    "editable": false
   },
   "source": [
    "- Create variable &nbsp;`labels`\n",
    "- `set labels to` &nbsp;:&nbsp; `dict ..` &nbsp;<-\n",
    "  - `create list with` &nbsp;:\n",
    "    - `create list with` &nbsp;:\n",
    "      - `( .. , .. )` &nbsp;<-\n",
    "        - `\" label \"`\n",
    "        - `\" Label \"`\n",
    "        - an empty `\" \"` block\n",
    "      - `( .. , .. )` &nbsp;<-\n",
    "        - `\" rating \"`\n",
    "        - `\" Star Rating \"`"
   ]
  },
  {
   "attachments": {},
   "cell_type": "markdown",
   "metadata": {
    "deletable": false,
    "editable": false
   },
   "source": [
    "<details><summary>Blockly Hints</summary><ul><li>Notation<ul><li><code>A</code> &nbsp;:&nbsp; <code>B</code>&nbsp; means snap blocks A and B together.</li><li><code>A</code> &nbsp;&lt;-&nbsp; <code>B</code>&nbsp; means insert block B into the hole in block A.</li></ul></li><li>Blocks<ul><li><code>set .. to</code><ul><li>The <code>set .. to</code> block is found under VARIABLES.</li> <li>A variable must have been created before it will appear in the dropdown.</li></ul></li><li><code>dict ..</code><ul><li>The <code>dict ..</code> block is found under LISTS.</li></ul></li><li><code>create list with</code><ul><li>The <code>create list with</code> block is found under LISTS.</li> <li>You can use the <code>+ -</code> controls on the block to change the number of notches. Unless specifically instructed, the block should not have any empty notches when you click Blocks to Code. </li></ul></li><li><code>( .. , .. )</code><ul><li>The <code>( .. , .. )</code> block is found under LISTS.</li></ul></li><li><code>\" .. \"</code><ul><li>The <code>\" .. \"</code> block is found under TEXT.</li></ul></li></ul></li></ul></details>"
   ]
  },
  {
   "cell_type": "code",
   "execution_count": null,
   "metadata": {
    "datawhys": {
     "response_id": 10,
     "student_response": true
    },
    "deletable": false,
    "editable": true
   },
   "outputs": [],
   "source": []
  },
  {
   "attachments": {},
   "cell_type": "markdown",
   "metadata": {
    "deletable": false,
    "editable": false
   },
   "source": [
    "- Create variable &nbsp;`title`\n",
    "- `set title to` &nbsp;:&nbsp; `\" Distribution of Review Ratings by Spam Categorization \"`"
   ]
  },
  {
   "attachments": {},
   "cell_type": "markdown",
   "metadata": {
    "deletable": false,
    "editable": false
   },
   "source": [
    "<details><summary>Blockly Hints</summary><ul><li>Notation<ul><li><code>A</code> &nbsp;:&nbsp; <code>B</code>&nbsp; means snap blocks A and B together.</li></ul></li><li>Blocks<ul><li><code>set .. to</code><ul><li>The <code>set .. to</code> block is found under VARIABLES.</li> <li>A variable must have been created before it will appear in the dropdown.</li></ul></li><li><code>\" .. \"</code><ul><li>The <code>\" .. \"</code> block is found under TEXT.</li></ul></li></ul></li></ul></details>"
   ]
  },
  {
   "cell_type": "code",
   "execution_count": null,
   "metadata": {
    "datawhys": {
     "response_id": 11,
     "student_response": true
    },
    "deletable": false,
    "editable": true
   },
   "outputs": [],
   "source": []
  },
  {
   "attachments": {},
   "cell_type": "markdown",
   "metadata": {
    "deletable": false,
    "editable": false
   },
   "source": [
    "<span><h4>\n",
    " Substep. &nbsp;&nbsp; Generate Box Plot with Means",
    "\n</h4></span>"
   ]
  },
  {
   "attachments": {},
   "cell_type": "markdown",
   "metadata": {
    "deletable": false,
    "editable": false
   },
   "source": [
    "- Create variable &nbsp;`fig`\n",
    "- `set fig to` &nbsp;:&nbsp; `with px do box using` &nbsp;<-\n",
    "    - variable &nbsp;`df`\n",
    "    - a freestyle block with &nbsp;`x=x`&nbsp; in it\n",
    "    - a freestyle block with &nbsp;`y=y`&nbsp; in it\n",
    "    - a freestyle block with &nbsp;`category_orders=label_orders`&nbsp; in it\n",
    "    - a freestyle block with &nbsp;`labels=labels`&nbsp; in it\n",
    "    - a freestyle block with &nbsp;`title=title`&nbsp; in it"
   ]
  },
  {
   "attachments": {},
   "cell_type": "markdown",
   "metadata": {
    "deletable": false,
    "editable": false
   },
   "source": [
    "<details><summary>Blockly Hints</summary><ul><li>Notation<ul><li><code>A</code> &nbsp;:&nbsp; <code>B</code>&nbsp; means snap blocks A and B together.</li><li><code>A</code> &nbsp;&lt;-&nbsp; <code>B</code>&nbsp; means insert block B into the hole in block A.</li></ul></li><li>Blocks<ul><li><code>set .. to</code><ul><li>The <code>set .. to</code> block is found under VARIABLES.</li> <li>A variable must have been created before it will appear in the dropdown.</li></ul></li><li><code>with .. do .. using ..</code><ul><li>The <code>with .. do .. using ..</code> block is found under VARIABLES.</li> <li>If <code>do</code> dropdown says \"!Not populated until you execute code\", click anywhere in the notebook tab, then click try \"Run All Above Selected Cell\" from the \"Run\" menu.</li> <li>If <code>with .. do .. using ..</code> block does not want to snap together nicely with the <code>set .. to</code> block, try dragging the <code>set .. to</code> block instead.</li></ul></li><li><code>create list with</code><ul><li>The <code>create list with</code> block is found under LISTS.</li> <li>You can use the <code>+ -</code> controls on the block to change the number of notches. Unless specifically instructed, the block should not have any empty notches when you click Blocks to Code. </li></ul></li><li>variable<ul><li>After it is created, each variable has its own block at the end of the VARIABLES menu.</li></ul></li><li>freestyle<ul><li>Unless specifically instructed, use the first block from the FREESTYLE menu.</li></ul></li></ul></li></ul></details>"
   ]
  },
  {
   "cell_type": "code",
   "execution_count": null,
   "metadata": {
    "datawhys": {
     "response_id": 12,
     "student_response": true
    },
    "deletable": false,
    "editable": true
   },
   "outputs": [],
   "source": []
  },
  {
   "attachments": {},
   "cell_type": "markdown",
   "metadata": {
    "deletable": false,
    "editable": false
   },
   "source": [
    "- `with fig do update_traces using` &nbsp;<-\n",
    "    - a freestyle block with &nbsp;`boxmean=True`&nbsp; in it\n",
    "- `with fig do show using`"
   ]
  },
  {
   "attachments": {},
   "cell_type": "markdown",
   "metadata": {
    "deletable": false,
    "editable": false
   },
   "source": [
    "<details><summary>Blockly Hints</summary><ul><li>Notation<ul><li><code>A</code> &nbsp;:&nbsp; <code>B</code>&nbsp; means snap blocks A and B together.</li><li><code>A</code> &nbsp;&lt;-&nbsp; <code>B</code>&nbsp; means insert block B into the hole in block A.</li></ul></li><li>Blocks<ul><li><code>with .. do .. using ..</code><ul><li>The <code>with .. do .. using ..</code> block is found under VARIABLES.</li> <li>If <code>do</code> dropdown says \"!Not populated until you execute code\", click anywhere in the notebook tab, then click try \"Run All Above Selected Cell\" from the \"Run\" menu.</li> <li>If <code>with .. do .. using ..</code> block does not want to snap together nicely with the <code>set .. to</code> block, try dragging the <code>set .. to</code> block instead.</li></ul></li><li><code>create list with</code><ul><li>The <code>create list with</code> block is found under LISTS.</li> <li>You can use the <code>+ -</code> controls on the block to change the number of notches. Unless specifically instructed, the block should not have any empty notches when you click Blocks to Code. </li></ul></li><li>freestyle<ul><li>Unless specifically instructed, use the first block from the FREESTYLE menu.</li></ul></li></ul></li></ul></details>"
   ]
  },
  {
   "cell_type": "code",
   "execution_count": null,
   "metadata": {
    "datawhys": {
     "response_id": 13,
     "student_response": true
    },
    "deletable": false,
    "editable": true
   },
   "outputs": [],
   "source": []
  },
  {
   "attachments": {},
   "cell_type": "markdown",
   "metadata": {
    "deletable": false,
    "editable": false
   },
   "source": [
    "## Post-programming Discussion"
   ]
  },
  {
   "attachments": {},
   "cell_type": "markdown",
   "metadata": {
    "deletable": false,
    "editable": false
   },
   "source": [
    "<div class=\"alert alert-block alert-danger\">\n",
    "Q1. For each spam category, what is the median rating?",
    "\n</div>"
   ]
  },
  {
   "attachments": {},
   "cell_type": "markdown",
   "metadata": {
    "datawhys": {
     "response_id": 14,
     "student_response": true
    },
    "deletable": false,
    "editable": true
   },
   "source": [
    "<div class=\"alert alert-block alert-info\">\n",
    "<!-- YOUR ANSWER BEGIN -->\n",
    "\n",
    "\n",
    "\n",
    "\n",
    "\n",
    "<!-- YOUR ANSWER END -->\n",
    "</div>"
   ]
  },
  {
   "attachments": {},
   "cell_type": "markdown",
   "metadata": {
    "deletable": false,
    "editable": false
   },
   "source": [
    "<div class=\"alert alert-block alert-danger\">\n",
    "Q2. For each spam category, what is the mean rating?",
    "\n</div>"
   ]
  },
  {
   "attachments": {},
   "cell_type": "markdown",
   "metadata": {
    "datawhys": {
     "response_id": 15,
     "student_response": true
    },
    "deletable": false,
    "editable": true
   },
   "source": [
    "<div class=\"alert alert-block alert-info\">\n",
    "<!-- YOUR ANSWER BEGIN -->\n",
    "\n",
    "\n",
    "\n",
    "\n",
    "\n",
    "<!-- YOUR ANSWER END -->\n",
    "</div>"
   ]
  },
  {
   "attachments": {},
   "cell_type": "markdown",
   "metadata": {
    "deletable": false,
    "editable": false
   },
   "source": [
    "<div class=\"alert alert-block alert-danger\">\n",
    "Q3. Which spam categories have outliers?",
    "\n</div>"
   ]
  },
  {
   "attachments": {},
   "cell_type": "markdown",
   "metadata": {
    "datawhys": {
     "response_id": 16,
     "student_response": true
    },
    "deletable": false,
    "editable": true
   },
   "source": [
    "<div class=\"alert alert-block alert-info\">\n",
    "<!-- YOUR ANSWER BEGIN -->\n",
    "\n",
    "\n",
    "\n",
    "\n",
    "\n",
    "<!-- YOUR ANSWER END -->\n",
    "</div>"
   ]
  },
  {
   "attachments": {},
   "cell_type": "markdown",
   "metadata": {
    "deletable": false,
    "editable": false
   },
   "source": [
    "<div class=\"alert alert-block alert-danger\">\n",
    "Q4. Which spam categories approximate a normal distribution? How do you know?",
    "\n</div>"
   ]
  },
  {
   "attachments": {},
   "cell_type": "markdown",
   "metadata": {
    "datawhys": {
     "response_id": 17,
     "student_response": true
    },
    "deletable": false,
    "editable": true
   },
   "source": [
    "<div class=\"alert alert-block alert-info\">\n",
    "<!-- YOUR ANSWER BEGIN -->\n",
    "\n",
    "\n",
    "\n",
    "\n",
    "\n",
    "<!-- YOUR ANSWER END -->\n",
    "</div>"
   ]
  },
  {
   "attachments": {},
   "cell_type": "markdown",
   "metadata": {
    "deletable": false,
    "editable": false
   },
   "source": [
    "<div class=\"alert alert-block alert-danger\">\n",
    "Q5. Which spam category has a skewed distribution? Is it negatively-skewed (left-skewed) or positively-skewed (right-skewed)? How do you know?",
    "\n</div>"
   ]
  },
  {
   "attachments": {},
   "cell_type": "markdown",
   "metadata": {
    "datawhys": {
     "response_id": 18,
     "student_response": true
    },
    "deletable": false,
    "editable": true
   },
   "source": [
    "<div class=\"alert alert-block alert-info\">\n",
    "<!-- YOUR ANSWER BEGIN -->\n",
    "\n",
    "\n",
    "\n",
    "\n",
    "\n",
    "<!-- YOUR ANSWER END -->\n",
    "</div>"
   ]
  }
 ],
 "metadata": {
  "interpreter": {
   "hash": "be14b4e913c6f2457a185c22af60a9db8729a2914b48dcc2c5e42fe4e4a2ce08"
  },
  "kernelspec": {
   "display_name": "Python 3 (ipykernel)",
   "language": "python",
   "name": "python3"
  },
  "language_info": {
   "codemirror_mode": {
    "name": "ipython",
    "version": 3
   },
   "file_extension": ".py",
   "mimetype": "text/x-python",
   "name": "python",
   "nbconvert_exporter": "python",
   "pygments_lexer": "ipython3",
   "version": "3.10.10"
  }
 },
 "nbformat": 4,
 "nbformat_minor": 4
}
